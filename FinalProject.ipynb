{
  "nbformat": 4,
  "nbformat_minor": 0,
  "metadata": {
    "colab": {
      "provenance": []
    },
    "kernelspec": {
      "name": "python3",
      "display_name": "Python 3"
    },
    "language_info": {
      "name": "python"
    }
  },
  "cells": [
    {
      "cell_type": "markdown",
      "source": [
        "#**Thông tin nhóm**\n",
        "##Mã nhóm: 20CQ.PTDL.05\n",
        "##Danh sách thành viên:\n",
        "*   20120466 - Trần Thị Thu Hà\n",
        "*   20120592 - Lê Minh Tiến\n",
        "*   20120595 - Phạm Minh Tiến\n",
        "*   20120624 - Mai Quyết Vang\n",
        "\n"
      ],
      "metadata": {
        "id": "sJPyJasjhvPu"
      }
    },
    {
      "cell_type": "markdown",
      "source": [
        "#Thêm thư viện cần thiết"
      ],
      "metadata": {
        "id": "xmmwOqTqiUsP"
      }
    },
    {
      "cell_type": "code",
      "source": [
        "import pandas as pd\n",
        "import matplotlib.pyplot as plt\n",
        "import seaborn as sns\n",
        "from datetime import timedelta"
      ],
      "metadata": {
        "id": "Yn648mWciUV3"
      },
      "execution_count": 109,
      "outputs": []
    },
    {
      "cell_type": "markdown",
      "source": [
        "Load dữ liệu"
      ],
      "metadata": {
        "id": "aQfzbAAYiaFa"
      }
    },
    {
      "cell_type": "code",
      "source": [
        "link_p1 = \"https://raw.githubusercontent.com/Vanniee007/ADA-Final-Project-20CQ.PTDL.05/main/data/Data_Train_p1.xlsx\"\n",
        "link_p2 = \"https://raw.githubusercontent.com/Vanniee007/ADA-Final-Project-20CQ.PTDL.05/main/data/Data_Train_p2.xlsx\"\n"
      ],
      "metadata": {
        "id": "2x-m0OgQiZYZ"
      },
      "execution_count": 110,
      "outputs": []
    },
    {
      "cell_type": "code",
      "source": [
        "# Đọc dữ liệu từ file Excel\n",
        "Data_Train_p1 = pd.read_excel(link_p1)\n",
        "Data_Train_p2 = pd.read_excel(link_p2)\n",
        "\n",
        "# Ghép nối hai DataFrame\n",
        "merged_data = pd.concat([Data_Train_p1, Data_Train_p2], ignore_index=True)"
      ],
      "metadata": {
        "id": "ExOwxc46ijXC"
      },
      "execution_count": 111,
      "outputs": []
    },
    {
      "cell_type": "markdown",
      "source": [
        "#Quan sát và phân tích tập dữ liệu (EDA)\n"
      ],
      "metadata": {
        "id": "bu1MvQZViMbq"
      }
    },
    {
      "cell_type": "markdown",
      "source": [
        "##1. Cho biết kiểu dữ liệu của các thuộc tính\n"
      ],
      "metadata": {
        "id": "Jxj0fMjVjPkx"
      }
    },
    {
      "cell_type": "code",
      "source": [
        "# Hiển thị thông tin về DataFrame\n",
        "merged_data.info()"
      ],
      "metadata": {
        "id": "vmISeFXniMNF",
        "colab": {
          "base_uri": "https://localhost:8080/"
        },
        "outputId": "450aa317-3320-4539-f02a-142c435370eb"
      },
      "execution_count": 112,
      "outputs": [
        {
          "output_type": "stream",
          "name": "stdout",
          "text": [
            "<class 'pandas.core.frame.DataFrame'>\n",
            "RangeIndex: 10684 entries, 0 to 10683\n",
            "Data columns (total 11 columns):\n",
            " #   Column           Non-Null Count  Dtype \n",
            "---  ------           --------------  ----- \n",
            " 0   Airline          10684 non-null  object\n",
            " 1   Date_of_Journey  10684 non-null  object\n",
            " 2   Source           10684 non-null  object\n",
            " 3   Destination      10684 non-null  object\n",
            " 4   Route            10683 non-null  object\n",
            " 5   Dep_Time         10684 non-null  object\n",
            " 6   Arrival_Time     10684 non-null  object\n",
            " 7   Duration         10684 non-null  object\n",
            " 8   Total_Stops      10683 non-null  object\n",
            " 9   Additional_Info  10684 non-null  object\n",
            " 10  Price            10684 non-null  int64 \n",
            "dtypes: int64(1), object(10)\n",
            "memory usage: 918.3+ KB\n"
          ]
        }
      ]
    },
    {
      "cell_type": "markdown",
      "source": [
        "##2. Đối với cột Price, cho biết:\n",
        "\n",
        "\n",
        "*   Giá cao nhất, thấp nhất, giá trung bình, mức giá xuất hiện nhiều\n",
        "*   Độ lệch chuẩn của cột price?\n",
        "*   Cho biết giá phân phối xung quanh trung tâm hay cách xa trung tâm?\n",
        "Nhận xét về giá trị mean và median của tập dữ liệu.\n",
        "*   Vẽ đồ thị histogram để nhận xét dữ liệu có bị lệch không?\n",
        "List item\n",
        "\n",
        "\n",
        "\n"
      ],
      "metadata": {
        "id": "w7cO6qzbjRjD"
      }
    },
    {
      "cell_type": "code",
      "execution_count": 112,
      "metadata": {
        "id": "WQVwrfsjhSCt"
      },
      "outputs": [],
      "source": []
    },
    {
      "cell_type": "markdown",
      "source": [
        "##3. Mô tả số lượng missing value của mỗi thuộc tính\n"
      ],
      "metadata": {
        "id": "DKUyi_sejbzM"
      }
    },
    {
      "cell_type": "code",
      "source": [
        "# 3. Mô tả số lượng missing value của mỗi thuộc tính\n",
        "missing_values = merged_data.isnull().sum()\n",
        "print(\"Số lượng missing value của mỗi thuộc tính:\")\n",
        "print(missing_values)"
      ],
      "metadata": {
        "id": "usdDtNQJjiw4",
        "colab": {
          "base_uri": "https://localhost:8080/"
        },
        "outputId": "b248f5b2-7d24-474d-aab4-9ce26fd499bc"
      },
      "execution_count": 113,
      "outputs": [
        {
          "output_type": "stream",
          "name": "stdout",
          "text": [
            "Số lượng missing value của mỗi thuộc tính:\n",
            "Airline            0\n",
            "Date_of_Journey    0\n",
            "Source             0\n",
            "Destination        0\n",
            "Route              1\n",
            "Dep_Time           0\n",
            "Arrival_Time       0\n",
            "Duration           0\n",
            "Total_Stops        1\n",
            "Additional_Info    0\n",
            "Price              0\n",
            "dtype: int64\n"
          ]
        }
      ]
    },
    {
      "cell_type": "markdown",
      "source": [
        "##4. Tính tỷ lệ % missing value của mỗi thuộc tính\n"
      ],
      "metadata": {
        "id": "2PSCkjffjiql"
      }
    },
    {
      "cell_type": "code",
      "source": [
        "# 4. Tính tỷ lệ % missing value của mỗi thuộc tính\n",
        "missing_percentage = (missing_values / len(merged_data)) * 100\n",
        "print(\"Tỷ lệ % missing value của mỗi thuộc tính:\")\n",
        "print(missing_percentage)"
      ],
      "metadata": {
        "id": "7O1Hxw_Ujilf",
        "colab": {
          "base_uri": "https://localhost:8080/"
        },
        "outputId": "6a2d6729-ffd8-42b4-8205-207cd38b5edb"
      },
      "execution_count": 114,
      "outputs": [
        {
          "output_type": "stream",
          "name": "stdout",
          "text": [
            "Tỷ lệ % missing value của mỗi thuộc tính:\n",
            "Airline            0.00000\n",
            "Date_of_Journey    0.00000\n",
            "Source             0.00000\n",
            "Destination        0.00000\n",
            "Route              0.00936\n",
            "Dep_Time           0.00000\n",
            "Arrival_Time       0.00000\n",
            "Duration           0.00000\n",
            "Total_Stops        0.00936\n",
            "Additional_Info    0.00000\n",
            "Price              0.00000\n",
            "dtype: float64\n"
          ]
        }
      ]
    },
    {
      "cell_type": "markdown",
      "source": [
        "##5. Xử lý dữ liệu missing\n"
      ],
      "metadata": {
        "id": "6IGs1CNxjiey"
      }
    },
    {
      "cell_type": "code",
      "source": [
        "# 5. Xử lý dữ liệu missing ( xóa các dòng có missing value)\n",
        "merged_data.dropna(subset=['Total_Stops'], inplace=True)"
      ],
      "metadata": {
        "id": "O0Q-3ptmjjve"
      },
      "execution_count": 115,
      "outputs": []
    },
    {
      "cell_type": "markdown",
      "source": [
        "##6. Outlier: sử dụng đồ thị boxplot để quan sát cột Price có tồn tại outlier không?"
      ],
      "metadata": {
        "id": "sx0Rpg49jfu_"
      }
    },
    {
      "cell_type": "code",
      "source": [],
      "metadata": {
        "id": "cTZ1IeMWjgKM"
      },
      "execution_count": 115,
      "outputs": []
    },
    {
      "cell_type": "markdown",
      "source": [
        "Xử lí cột Date_of_Journey: xử lí thành cùng định dạng (dd/mm/yyyy)"
      ],
      "metadata": {
        "id": "BN6FE2PUYaqI"
      }
    },
    {
      "cell_type": "code",
      "source": [
        "merged_data['Date_of_Journey'] = pd.to_datetime(merged_data['Date_of_Journey'], format='%d/%m/%Y', errors='coerce').dt.strftime('%d/%m/%Y')\n",
        "merged_data.head()"
      ],
      "metadata": {
        "id": "c1SAOmIGYdXs",
        "colab": {
          "base_uri": "https://localhost:8080/",
          "height": 206
        },
        "outputId": "c43c85e3-4759-40fa-ef73-808ec1bd336d"
      },
      "execution_count": 116,
      "outputs": [
        {
          "output_type": "execute_result",
          "data": {
            "text/plain": [
              "       Airline Date_of_Journey    Source Destination                  Route  \\\n",
              "0       IndiGo      24/03/2019  Banglore   New Delhi              BLR → DEL   \n",
              "1    Air India      01/05/2019   Kolkata    Banglore  CCU → IXR → BBI → BLR   \n",
              "2  Jet Airways      09/06/2019     Delhi      Cochin  DEL → LKO → BOM → COK   \n",
              "3       IndiGo      12/05/2019   Kolkata    Banglore        CCU → NAG → BLR   \n",
              "4       IndiGo      01/03/2019  Banglore   New Delhi        BLR → NAG → DEL   \n",
              "\n",
              "  Dep_Time  Arrival_Time Duration Total_Stops Additional_Info  Price  \n",
              "0    22:20  01:10 22 Mar   2h 50m    non-stop         No info   3897  \n",
              "1    05:50         13:15   7h 25m     2 stops         No info   7662  \n",
              "2    09:25  04:25 10 Jun      19h     2 stops         No info  13882  \n",
              "3    18:05         23:30   5h 25m      1 stop         No info   6218  \n",
              "4    16:50         21:35   4h 45m      1 stop         No info  13302  "
            ],
            "text/html": [
              "\n",
              "  <div id=\"df-2cf952ea-e868-4b29-a2aa-9e9f60cd9f5a\" class=\"colab-df-container\">\n",
              "    <div>\n",
              "<style scoped>\n",
              "    .dataframe tbody tr th:only-of-type {\n",
              "        vertical-align: middle;\n",
              "    }\n",
              "\n",
              "    .dataframe tbody tr th {\n",
              "        vertical-align: top;\n",
              "    }\n",
              "\n",
              "    .dataframe thead th {\n",
              "        text-align: right;\n",
              "    }\n",
              "</style>\n",
              "<table border=\"1\" class=\"dataframe\">\n",
              "  <thead>\n",
              "    <tr style=\"text-align: right;\">\n",
              "      <th></th>\n",
              "      <th>Airline</th>\n",
              "      <th>Date_of_Journey</th>\n",
              "      <th>Source</th>\n",
              "      <th>Destination</th>\n",
              "      <th>Route</th>\n",
              "      <th>Dep_Time</th>\n",
              "      <th>Arrival_Time</th>\n",
              "      <th>Duration</th>\n",
              "      <th>Total_Stops</th>\n",
              "      <th>Additional_Info</th>\n",
              "      <th>Price</th>\n",
              "    </tr>\n",
              "  </thead>\n",
              "  <tbody>\n",
              "    <tr>\n",
              "      <th>0</th>\n",
              "      <td>IndiGo</td>\n",
              "      <td>24/03/2019</td>\n",
              "      <td>Banglore</td>\n",
              "      <td>New Delhi</td>\n",
              "      <td>BLR → DEL</td>\n",
              "      <td>22:20</td>\n",
              "      <td>01:10 22 Mar</td>\n",
              "      <td>2h 50m</td>\n",
              "      <td>non-stop</td>\n",
              "      <td>No info</td>\n",
              "      <td>3897</td>\n",
              "    </tr>\n",
              "    <tr>\n",
              "      <th>1</th>\n",
              "      <td>Air India</td>\n",
              "      <td>01/05/2019</td>\n",
              "      <td>Kolkata</td>\n",
              "      <td>Banglore</td>\n",
              "      <td>CCU → IXR → BBI → BLR</td>\n",
              "      <td>05:50</td>\n",
              "      <td>13:15</td>\n",
              "      <td>7h 25m</td>\n",
              "      <td>2 stops</td>\n",
              "      <td>No info</td>\n",
              "      <td>7662</td>\n",
              "    </tr>\n",
              "    <tr>\n",
              "      <th>2</th>\n",
              "      <td>Jet Airways</td>\n",
              "      <td>09/06/2019</td>\n",
              "      <td>Delhi</td>\n",
              "      <td>Cochin</td>\n",
              "      <td>DEL → LKO → BOM → COK</td>\n",
              "      <td>09:25</td>\n",
              "      <td>04:25 10 Jun</td>\n",
              "      <td>19h</td>\n",
              "      <td>2 stops</td>\n",
              "      <td>No info</td>\n",
              "      <td>13882</td>\n",
              "    </tr>\n",
              "    <tr>\n",
              "      <th>3</th>\n",
              "      <td>IndiGo</td>\n",
              "      <td>12/05/2019</td>\n",
              "      <td>Kolkata</td>\n",
              "      <td>Banglore</td>\n",
              "      <td>CCU → NAG → BLR</td>\n",
              "      <td>18:05</td>\n",
              "      <td>23:30</td>\n",
              "      <td>5h 25m</td>\n",
              "      <td>1 stop</td>\n",
              "      <td>No info</td>\n",
              "      <td>6218</td>\n",
              "    </tr>\n",
              "    <tr>\n",
              "      <th>4</th>\n",
              "      <td>IndiGo</td>\n",
              "      <td>01/03/2019</td>\n",
              "      <td>Banglore</td>\n",
              "      <td>New Delhi</td>\n",
              "      <td>BLR → NAG → DEL</td>\n",
              "      <td>16:50</td>\n",
              "      <td>21:35</td>\n",
              "      <td>4h 45m</td>\n",
              "      <td>1 stop</td>\n",
              "      <td>No info</td>\n",
              "      <td>13302</td>\n",
              "    </tr>\n",
              "  </tbody>\n",
              "</table>\n",
              "</div>\n",
              "    <div class=\"colab-df-buttons\">\n",
              "\n",
              "  <div class=\"colab-df-container\">\n",
              "    <button class=\"colab-df-convert\" onclick=\"convertToInteractive('df-2cf952ea-e868-4b29-a2aa-9e9f60cd9f5a')\"\n",
              "            title=\"Convert this dataframe to an interactive table.\"\n",
              "            style=\"display:none;\">\n",
              "\n",
              "  <svg xmlns=\"http://www.w3.org/2000/svg\" height=\"24px\" viewBox=\"0 -960 960 960\">\n",
              "    <path d=\"M120-120v-720h720v720H120Zm60-500h600v-160H180v160Zm220 220h160v-160H400v160Zm0 220h160v-160H400v160ZM180-400h160v-160H180v160Zm440 0h160v-160H620v160ZM180-180h160v-160H180v160Zm440 0h160v-160H620v160Z\"/>\n",
              "  </svg>\n",
              "    </button>\n",
              "\n",
              "  <style>\n",
              "    .colab-df-container {\n",
              "      display:flex;\n",
              "      gap: 12px;\n",
              "    }\n",
              "\n",
              "    .colab-df-convert {\n",
              "      background-color: #E8F0FE;\n",
              "      border: none;\n",
              "      border-radius: 50%;\n",
              "      cursor: pointer;\n",
              "      display: none;\n",
              "      fill: #1967D2;\n",
              "      height: 32px;\n",
              "      padding: 0 0 0 0;\n",
              "      width: 32px;\n",
              "    }\n",
              "\n",
              "    .colab-df-convert:hover {\n",
              "      background-color: #E2EBFA;\n",
              "      box-shadow: 0px 1px 2px rgba(60, 64, 67, 0.3), 0px 1px 3px 1px rgba(60, 64, 67, 0.15);\n",
              "      fill: #174EA6;\n",
              "    }\n",
              "\n",
              "    .colab-df-buttons div {\n",
              "      margin-bottom: 4px;\n",
              "    }\n",
              "\n",
              "    [theme=dark] .colab-df-convert {\n",
              "      background-color: #3B4455;\n",
              "      fill: #D2E3FC;\n",
              "    }\n",
              "\n",
              "    [theme=dark] .colab-df-convert:hover {\n",
              "      background-color: #434B5C;\n",
              "      box-shadow: 0px 1px 3px 1px rgba(0, 0, 0, 0.15);\n",
              "      filter: drop-shadow(0px 1px 2px rgba(0, 0, 0, 0.3));\n",
              "      fill: #FFFFFF;\n",
              "    }\n",
              "  </style>\n",
              "\n",
              "    <script>\n",
              "      const buttonEl =\n",
              "        document.querySelector('#df-2cf952ea-e868-4b29-a2aa-9e9f60cd9f5a button.colab-df-convert');\n",
              "      buttonEl.style.display =\n",
              "        google.colab.kernel.accessAllowed ? 'block' : 'none';\n",
              "\n",
              "      async function convertToInteractive(key) {\n",
              "        const element = document.querySelector('#df-2cf952ea-e868-4b29-a2aa-9e9f60cd9f5a');\n",
              "        const dataTable =\n",
              "          await google.colab.kernel.invokeFunction('convertToInteractive',\n",
              "                                                    [key], {});\n",
              "        if (!dataTable) return;\n",
              "\n",
              "        const docLinkHtml = 'Like what you see? Visit the ' +\n",
              "          '<a target=\"_blank\" href=https://colab.research.google.com/notebooks/data_table.ipynb>data table notebook</a>'\n",
              "          + ' to learn more about interactive tables.';\n",
              "        element.innerHTML = '';\n",
              "        dataTable['output_type'] = 'display_data';\n",
              "        await google.colab.output.renderOutput(dataTable, element);\n",
              "        const docLink = document.createElement('div');\n",
              "        docLink.innerHTML = docLinkHtml;\n",
              "        element.appendChild(docLink);\n",
              "      }\n",
              "    </script>\n",
              "  </div>\n",
              "\n",
              "\n",
              "<div id=\"df-8307449d-30c6-4100-a6a7-2410237813ca\">\n",
              "  <button class=\"colab-df-quickchart\" onclick=\"quickchart('df-8307449d-30c6-4100-a6a7-2410237813ca')\"\n",
              "            title=\"Suggest charts\"\n",
              "            style=\"display:none;\">\n",
              "\n",
              "<svg xmlns=\"http://www.w3.org/2000/svg\" height=\"24px\"viewBox=\"0 0 24 24\"\n",
              "     width=\"24px\">\n",
              "    <g>\n",
              "        <path d=\"M19 3H5c-1.1 0-2 .9-2 2v14c0 1.1.9 2 2 2h14c1.1 0 2-.9 2-2V5c0-1.1-.9-2-2-2zM9 17H7v-7h2v7zm4 0h-2V7h2v10zm4 0h-2v-4h2v4z\"/>\n",
              "    </g>\n",
              "</svg>\n",
              "  </button>\n",
              "\n",
              "<style>\n",
              "  .colab-df-quickchart {\n",
              "      --bg-color: #E8F0FE;\n",
              "      --fill-color: #1967D2;\n",
              "      --hover-bg-color: #E2EBFA;\n",
              "      --hover-fill-color: #174EA6;\n",
              "      --disabled-fill-color: #AAA;\n",
              "      --disabled-bg-color: #DDD;\n",
              "  }\n",
              "\n",
              "  [theme=dark] .colab-df-quickchart {\n",
              "      --bg-color: #3B4455;\n",
              "      --fill-color: #D2E3FC;\n",
              "      --hover-bg-color: #434B5C;\n",
              "      --hover-fill-color: #FFFFFF;\n",
              "      --disabled-bg-color: #3B4455;\n",
              "      --disabled-fill-color: #666;\n",
              "  }\n",
              "\n",
              "  .colab-df-quickchart {\n",
              "    background-color: var(--bg-color);\n",
              "    border: none;\n",
              "    border-radius: 50%;\n",
              "    cursor: pointer;\n",
              "    display: none;\n",
              "    fill: var(--fill-color);\n",
              "    height: 32px;\n",
              "    padding: 0;\n",
              "    width: 32px;\n",
              "  }\n",
              "\n",
              "  .colab-df-quickchart:hover {\n",
              "    background-color: var(--hover-bg-color);\n",
              "    box-shadow: 0 1px 2px rgba(60, 64, 67, 0.3), 0 1px 3px 1px rgba(60, 64, 67, 0.15);\n",
              "    fill: var(--button-hover-fill-color);\n",
              "  }\n",
              "\n",
              "  .colab-df-quickchart-complete:disabled,\n",
              "  .colab-df-quickchart-complete:disabled:hover {\n",
              "    background-color: var(--disabled-bg-color);\n",
              "    fill: var(--disabled-fill-color);\n",
              "    box-shadow: none;\n",
              "  }\n",
              "\n",
              "  .colab-df-spinner {\n",
              "    border: 2px solid var(--fill-color);\n",
              "    border-color: transparent;\n",
              "    border-bottom-color: var(--fill-color);\n",
              "    animation:\n",
              "      spin 1s steps(1) infinite;\n",
              "  }\n",
              "\n",
              "  @keyframes spin {\n",
              "    0% {\n",
              "      border-color: transparent;\n",
              "      border-bottom-color: var(--fill-color);\n",
              "      border-left-color: var(--fill-color);\n",
              "    }\n",
              "    20% {\n",
              "      border-color: transparent;\n",
              "      border-left-color: var(--fill-color);\n",
              "      border-top-color: var(--fill-color);\n",
              "    }\n",
              "    30% {\n",
              "      border-color: transparent;\n",
              "      border-left-color: var(--fill-color);\n",
              "      border-top-color: var(--fill-color);\n",
              "      border-right-color: var(--fill-color);\n",
              "    }\n",
              "    40% {\n",
              "      border-color: transparent;\n",
              "      border-right-color: var(--fill-color);\n",
              "      border-top-color: var(--fill-color);\n",
              "    }\n",
              "    60% {\n",
              "      border-color: transparent;\n",
              "      border-right-color: var(--fill-color);\n",
              "    }\n",
              "    80% {\n",
              "      border-color: transparent;\n",
              "      border-right-color: var(--fill-color);\n",
              "      border-bottom-color: var(--fill-color);\n",
              "    }\n",
              "    90% {\n",
              "      border-color: transparent;\n",
              "      border-bottom-color: var(--fill-color);\n",
              "    }\n",
              "  }\n",
              "</style>\n",
              "\n",
              "  <script>\n",
              "    async function quickchart(key) {\n",
              "      const quickchartButtonEl =\n",
              "        document.querySelector('#' + key + ' button');\n",
              "      quickchartButtonEl.disabled = true;  // To prevent multiple clicks.\n",
              "      quickchartButtonEl.classList.add('colab-df-spinner');\n",
              "      try {\n",
              "        const charts = await google.colab.kernel.invokeFunction(\n",
              "            'suggestCharts', [key], {});\n",
              "      } catch (error) {\n",
              "        console.error('Error during call to suggestCharts:', error);\n",
              "      }\n",
              "      quickchartButtonEl.classList.remove('colab-df-spinner');\n",
              "      quickchartButtonEl.classList.add('colab-df-quickchart-complete');\n",
              "    }\n",
              "    (() => {\n",
              "      let quickchartButtonEl =\n",
              "        document.querySelector('#df-8307449d-30c6-4100-a6a7-2410237813ca button');\n",
              "      quickchartButtonEl.style.display =\n",
              "        google.colab.kernel.accessAllowed ? 'block' : 'none';\n",
              "    })();\n",
              "  </script>\n",
              "</div>\n",
              "\n",
              "    </div>\n",
              "  </div>\n"
            ]
          },
          "metadata": {},
          "execution_count": 116
        }
      ]
    },
    {
      "cell_type": "markdown",
      "source": [
        "## Xử lí cột Duration: xử lí thành phút (int)\n"
      ],
      "metadata": {
        "id": "LPau0L2noTb-"
      }
    },
    {
      "cell_type": "code",
      "source": [
        "# Chuyển đổi cột 'Duration' về đơn vị phút\n",
        "def convert_duration(duration):\n",
        "    if 'h' in duration and 'm' in duration:\n",
        "        return int(duration.split('h')[0]) * 60 + int(duration.split('h')[1].split('m')[0])\n",
        "    elif 'h' in duration:\n",
        "        return int(duration.split('h')[0]) * 60\n",
        "    elif 'm' in duration:\n",
        "        return int(duration.split('m')[0])\n",
        "    else:\n",
        "        return 0\n",
        "\n",
        "merged_data['Duration'] = merged_data['Duration'].apply(convert_duration)\n"
      ],
      "metadata": {
        "id": "OBoHdT2yonCF"
      },
      "execution_count": 117,
      "outputs": []
    },
    {
      "cell_type": "markdown",
      "source": [
        "## Xử lí Arrival-Time thành Arrival-Time (định dạng giờ) và Arrival-Date (định dạng ngày)"
      ],
      "metadata": {
        "id": "BbeW51Tio1pr"
      }
    },
    {
      "cell_type": "code",
      "source": [
        "# Hàm tùy chỉnh để xử lý ngày trong 'Arrival_Time'\n",
        "def extract_arrival_day(row):\n",
        "    arrival_time = row['Arrival_Time']\n",
        "    date_of_journey = pd.to_datetime(row['Date_of_Journey'], format='%d/%m/%Y')\n",
        "\n",
        "    if len(arrival_time) > 5:\n",
        "        if int(str(arrival_time)[:2]) > int(str(date_of_journey)[:2]):\n",
        "          return pd.to_datetime(arrival_time).strftime('%d/%m') + '/2019'\n",
        "        else:\n",
        "          return (date_of_journey + timedelta(days=1)).strftime('%d/%m/%Y')\n",
        "    else:\n",
        "        return date_of_journey.strftime('%d/%m/%Y')\n",
        "\n",
        "# Áp dụng hàm cho cột 'Arrival_Day'\n",
        "merged_data['Arrival_Date'] = merged_data.apply(extract_arrival_day, axis=1)\n",
        "\n",
        "merged_data['Arrival_Time'] = pd.to_datetime(merged_data['Arrival_Time']).dt.strftime('%H:%M')\n",
        "\n",
        "merged_data.head()"
      ],
      "metadata": {
        "id": "bCclsGIIo8-8",
        "colab": {
          "base_uri": "https://localhost:8080/",
          "height": 206
        },
        "outputId": "3ab26231-e7ea-4c46-c7c0-86308121e886"
      },
      "execution_count": 118,
      "outputs": [
        {
          "output_type": "execute_result",
          "data": {
            "text/plain": [
              "       Airline Date_of_Journey    Source Destination                  Route  \\\n",
              "0       IndiGo      24/03/2019  Banglore   New Delhi              BLR → DEL   \n",
              "1    Air India      01/05/2019   Kolkata    Banglore  CCU → IXR → BBI → BLR   \n",
              "2  Jet Airways      09/06/2019     Delhi      Cochin  DEL → LKO → BOM → COK   \n",
              "3       IndiGo      12/05/2019   Kolkata    Banglore        CCU → NAG → BLR   \n",
              "4       IndiGo      01/03/2019  Banglore   New Delhi        BLR → NAG → DEL   \n",
              "\n",
              "  Dep_Time Arrival_Time  Duration Total_Stops Additional_Info  Price  \\\n",
              "0    22:20        01:10       170    non-stop         No info   3897   \n",
              "1    05:50        13:15       445     2 stops         No info   7662   \n",
              "2    09:25        04:25      1140     2 stops         No info  13882   \n",
              "3    18:05        23:30       325      1 stop         No info   6218   \n",
              "4    16:50        21:35       285      1 stop         No info  13302   \n",
              "\n",
              "  Arrival_Date  \n",
              "0   25/03/2019  \n",
              "1   01/05/2019  \n",
              "2   10/06/2019  \n",
              "3   12/05/2019  \n",
              "4   01/03/2019  "
            ],
            "text/html": [
              "\n",
              "  <div id=\"df-40406ba6-96ba-46cc-b2b0-e97827c90de3\" class=\"colab-df-container\">\n",
              "    <div>\n",
              "<style scoped>\n",
              "    .dataframe tbody tr th:only-of-type {\n",
              "        vertical-align: middle;\n",
              "    }\n",
              "\n",
              "    .dataframe tbody tr th {\n",
              "        vertical-align: top;\n",
              "    }\n",
              "\n",
              "    .dataframe thead th {\n",
              "        text-align: right;\n",
              "    }\n",
              "</style>\n",
              "<table border=\"1\" class=\"dataframe\">\n",
              "  <thead>\n",
              "    <tr style=\"text-align: right;\">\n",
              "      <th></th>\n",
              "      <th>Airline</th>\n",
              "      <th>Date_of_Journey</th>\n",
              "      <th>Source</th>\n",
              "      <th>Destination</th>\n",
              "      <th>Route</th>\n",
              "      <th>Dep_Time</th>\n",
              "      <th>Arrival_Time</th>\n",
              "      <th>Duration</th>\n",
              "      <th>Total_Stops</th>\n",
              "      <th>Additional_Info</th>\n",
              "      <th>Price</th>\n",
              "      <th>Arrival_Date</th>\n",
              "    </tr>\n",
              "  </thead>\n",
              "  <tbody>\n",
              "    <tr>\n",
              "      <th>0</th>\n",
              "      <td>IndiGo</td>\n",
              "      <td>24/03/2019</td>\n",
              "      <td>Banglore</td>\n",
              "      <td>New Delhi</td>\n",
              "      <td>BLR → DEL</td>\n",
              "      <td>22:20</td>\n",
              "      <td>01:10</td>\n",
              "      <td>170</td>\n",
              "      <td>non-stop</td>\n",
              "      <td>No info</td>\n",
              "      <td>3897</td>\n",
              "      <td>25/03/2019</td>\n",
              "    </tr>\n",
              "    <tr>\n",
              "      <th>1</th>\n",
              "      <td>Air India</td>\n",
              "      <td>01/05/2019</td>\n",
              "      <td>Kolkata</td>\n",
              "      <td>Banglore</td>\n",
              "      <td>CCU → IXR → BBI → BLR</td>\n",
              "      <td>05:50</td>\n",
              "      <td>13:15</td>\n",
              "      <td>445</td>\n",
              "      <td>2 stops</td>\n",
              "      <td>No info</td>\n",
              "      <td>7662</td>\n",
              "      <td>01/05/2019</td>\n",
              "    </tr>\n",
              "    <tr>\n",
              "      <th>2</th>\n",
              "      <td>Jet Airways</td>\n",
              "      <td>09/06/2019</td>\n",
              "      <td>Delhi</td>\n",
              "      <td>Cochin</td>\n",
              "      <td>DEL → LKO → BOM → COK</td>\n",
              "      <td>09:25</td>\n",
              "      <td>04:25</td>\n",
              "      <td>1140</td>\n",
              "      <td>2 stops</td>\n",
              "      <td>No info</td>\n",
              "      <td>13882</td>\n",
              "      <td>10/06/2019</td>\n",
              "    </tr>\n",
              "    <tr>\n",
              "      <th>3</th>\n",
              "      <td>IndiGo</td>\n",
              "      <td>12/05/2019</td>\n",
              "      <td>Kolkata</td>\n",
              "      <td>Banglore</td>\n",
              "      <td>CCU → NAG → BLR</td>\n",
              "      <td>18:05</td>\n",
              "      <td>23:30</td>\n",
              "      <td>325</td>\n",
              "      <td>1 stop</td>\n",
              "      <td>No info</td>\n",
              "      <td>6218</td>\n",
              "      <td>12/05/2019</td>\n",
              "    </tr>\n",
              "    <tr>\n",
              "      <th>4</th>\n",
              "      <td>IndiGo</td>\n",
              "      <td>01/03/2019</td>\n",
              "      <td>Banglore</td>\n",
              "      <td>New Delhi</td>\n",
              "      <td>BLR → NAG → DEL</td>\n",
              "      <td>16:50</td>\n",
              "      <td>21:35</td>\n",
              "      <td>285</td>\n",
              "      <td>1 stop</td>\n",
              "      <td>No info</td>\n",
              "      <td>13302</td>\n",
              "      <td>01/03/2019</td>\n",
              "    </tr>\n",
              "  </tbody>\n",
              "</table>\n",
              "</div>\n",
              "    <div class=\"colab-df-buttons\">\n",
              "\n",
              "  <div class=\"colab-df-container\">\n",
              "    <button class=\"colab-df-convert\" onclick=\"convertToInteractive('df-40406ba6-96ba-46cc-b2b0-e97827c90de3')\"\n",
              "            title=\"Convert this dataframe to an interactive table.\"\n",
              "            style=\"display:none;\">\n",
              "\n",
              "  <svg xmlns=\"http://www.w3.org/2000/svg\" height=\"24px\" viewBox=\"0 -960 960 960\">\n",
              "    <path d=\"M120-120v-720h720v720H120Zm60-500h600v-160H180v160Zm220 220h160v-160H400v160Zm0 220h160v-160H400v160ZM180-400h160v-160H180v160Zm440 0h160v-160H620v160ZM180-180h160v-160H180v160Zm440 0h160v-160H620v160Z\"/>\n",
              "  </svg>\n",
              "    </button>\n",
              "\n",
              "  <style>\n",
              "    .colab-df-container {\n",
              "      display:flex;\n",
              "      gap: 12px;\n",
              "    }\n",
              "\n",
              "    .colab-df-convert {\n",
              "      background-color: #E8F0FE;\n",
              "      border: none;\n",
              "      border-radius: 50%;\n",
              "      cursor: pointer;\n",
              "      display: none;\n",
              "      fill: #1967D2;\n",
              "      height: 32px;\n",
              "      padding: 0 0 0 0;\n",
              "      width: 32px;\n",
              "    }\n",
              "\n",
              "    .colab-df-convert:hover {\n",
              "      background-color: #E2EBFA;\n",
              "      box-shadow: 0px 1px 2px rgba(60, 64, 67, 0.3), 0px 1px 3px 1px rgba(60, 64, 67, 0.15);\n",
              "      fill: #174EA6;\n",
              "    }\n",
              "\n",
              "    .colab-df-buttons div {\n",
              "      margin-bottom: 4px;\n",
              "    }\n",
              "\n",
              "    [theme=dark] .colab-df-convert {\n",
              "      background-color: #3B4455;\n",
              "      fill: #D2E3FC;\n",
              "    }\n",
              "\n",
              "    [theme=dark] .colab-df-convert:hover {\n",
              "      background-color: #434B5C;\n",
              "      box-shadow: 0px 1px 3px 1px rgba(0, 0, 0, 0.15);\n",
              "      filter: drop-shadow(0px 1px 2px rgba(0, 0, 0, 0.3));\n",
              "      fill: #FFFFFF;\n",
              "    }\n",
              "  </style>\n",
              "\n",
              "    <script>\n",
              "      const buttonEl =\n",
              "        document.querySelector('#df-40406ba6-96ba-46cc-b2b0-e97827c90de3 button.colab-df-convert');\n",
              "      buttonEl.style.display =\n",
              "        google.colab.kernel.accessAllowed ? 'block' : 'none';\n",
              "\n",
              "      async function convertToInteractive(key) {\n",
              "        const element = document.querySelector('#df-40406ba6-96ba-46cc-b2b0-e97827c90de3');\n",
              "        const dataTable =\n",
              "          await google.colab.kernel.invokeFunction('convertToInteractive',\n",
              "                                                    [key], {});\n",
              "        if (!dataTable) return;\n",
              "\n",
              "        const docLinkHtml = 'Like what you see? Visit the ' +\n",
              "          '<a target=\"_blank\" href=https://colab.research.google.com/notebooks/data_table.ipynb>data table notebook</a>'\n",
              "          + ' to learn more about interactive tables.';\n",
              "        element.innerHTML = '';\n",
              "        dataTable['output_type'] = 'display_data';\n",
              "        await google.colab.output.renderOutput(dataTable, element);\n",
              "        const docLink = document.createElement('div');\n",
              "        docLink.innerHTML = docLinkHtml;\n",
              "        element.appendChild(docLink);\n",
              "      }\n",
              "    </script>\n",
              "  </div>\n",
              "\n",
              "\n",
              "<div id=\"df-f6a2f45a-2d78-404a-935e-2f6e834251a6\">\n",
              "  <button class=\"colab-df-quickchart\" onclick=\"quickchart('df-f6a2f45a-2d78-404a-935e-2f6e834251a6')\"\n",
              "            title=\"Suggest charts\"\n",
              "            style=\"display:none;\">\n",
              "\n",
              "<svg xmlns=\"http://www.w3.org/2000/svg\" height=\"24px\"viewBox=\"0 0 24 24\"\n",
              "     width=\"24px\">\n",
              "    <g>\n",
              "        <path d=\"M19 3H5c-1.1 0-2 .9-2 2v14c0 1.1.9 2 2 2h14c1.1 0 2-.9 2-2V5c0-1.1-.9-2-2-2zM9 17H7v-7h2v7zm4 0h-2V7h2v10zm4 0h-2v-4h2v4z\"/>\n",
              "    </g>\n",
              "</svg>\n",
              "  </button>\n",
              "\n",
              "<style>\n",
              "  .colab-df-quickchart {\n",
              "      --bg-color: #E8F0FE;\n",
              "      --fill-color: #1967D2;\n",
              "      --hover-bg-color: #E2EBFA;\n",
              "      --hover-fill-color: #174EA6;\n",
              "      --disabled-fill-color: #AAA;\n",
              "      --disabled-bg-color: #DDD;\n",
              "  }\n",
              "\n",
              "  [theme=dark] .colab-df-quickchart {\n",
              "      --bg-color: #3B4455;\n",
              "      --fill-color: #D2E3FC;\n",
              "      --hover-bg-color: #434B5C;\n",
              "      --hover-fill-color: #FFFFFF;\n",
              "      --disabled-bg-color: #3B4455;\n",
              "      --disabled-fill-color: #666;\n",
              "  }\n",
              "\n",
              "  .colab-df-quickchart {\n",
              "    background-color: var(--bg-color);\n",
              "    border: none;\n",
              "    border-radius: 50%;\n",
              "    cursor: pointer;\n",
              "    display: none;\n",
              "    fill: var(--fill-color);\n",
              "    height: 32px;\n",
              "    padding: 0;\n",
              "    width: 32px;\n",
              "  }\n",
              "\n",
              "  .colab-df-quickchart:hover {\n",
              "    background-color: var(--hover-bg-color);\n",
              "    box-shadow: 0 1px 2px rgba(60, 64, 67, 0.3), 0 1px 3px 1px rgba(60, 64, 67, 0.15);\n",
              "    fill: var(--button-hover-fill-color);\n",
              "  }\n",
              "\n",
              "  .colab-df-quickchart-complete:disabled,\n",
              "  .colab-df-quickchart-complete:disabled:hover {\n",
              "    background-color: var(--disabled-bg-color);\n",
              "    fill: var(--disabled-fill-color);\n",
              "    box-shadow: none;\n",
              "  }\n",
              "\n",
              "  .colab-df-spinner {\n",
              "    border: 2px solid var(--fill-color);\n",
              "    border-color: transparent;\n",
              "    border-bottom-color: var(--fill-color);\n",
              "    animation:\n",
              "      spin 1s steps(1) infinite;\n",
              "  }\n",
              "\n",
              "  @keyframes spin {\n",
              "    0% {\n",
              "      border-color: transparent;\n",
              "      border-bottom-color: var(--fill-color);\n",
              "      border-left-color: var(--fill-color);\n",
              "    }\n",
              "    20% {\n",
              "      border-color: transparent;\n",
              "      border-left-color: var(--fill-color);\n",
              "      border-top-color: var(--fill-color);\n",
              "    }\n",
              "    30% {\n",
              "      border-color: transparent;\n",
              "      border-left-color: var(--fill-color);\n",
              "      border-top-color: var(--fill-color);\n",
              "      border-right-color: var(--fill-color);\n",
              "    }\n",
              "    40% {\n",
              "      border-color: transparent;\n",
              "      border-right-color: var(--fill-color);\n",
              "      border-top-color: var(--fill-color);\n",
              "    }\n",
              "    60% {\n",
              "      border-color: transparent;\n",
              "      border-right-color: var(--fill-color);\n",
              "    }\n",
              "    80% {\n",
              "      border-color: transparent;\n",
              "      border-right-color: var(--fill-color);\n",
              "      border-bottom-color: var(--fill-color);\n",
              "    }\n",
              "    90% {\n",
              "      border-color: transparent;\n",
              "      border-bottom-color: var(--fill-color);\n",
              "    }\n",
              "  }\n",
              "</style>\n",
              "\n",
              "  <script>\n",
              "    async function quickchart(key) {\n",
              "      const quickchartButtonEl =\n",
              "        document.querySelector('#' + key + ' button');\n",
              "      quickchartButtonEl.disabled = true;  // To prevent multiple clicks.\n",
              "      quickchartButtonEl.classList.add('colab-df-spinner');\n",
              "      try {\n",
              "        const charts = await google.colab.kernel.invokeFunction(\n",
              "            'suggestCharts', [key], {});\n",
              "      } catch (error) {\n",
              "        console.error('Error during call to suggestCharts:', error);\n",
              "      }\n",
              "      quickchartButtonEl.classList.remove('colab-df-spinner');\n",
              "      quickchartButtonEl.classList.add('colab-df-quickchart-complete');\n",
              "    }\n",
              "    (() => {\n",
              "      let quickchartButtonEl =\n",
              "        document.querySelector('#df-f6a2f45a-2d78-404a-935e-2f6e834251a6 button');\n",
              "      quickchartButtonEl.style.display =\n",
              "        google.colab.kernel.accessAllowed ? 'block' : 'none';\n",
              "    })();\n",
              "  </script>\n",
              "</div>\n",
              "\n",
              "    </div>\n",
              "  </div>\n"
            ]
          },
          "metadata": {},
          "execution_count": 118
        }
      ]
    },
    {
      "cell_type": "markdown",
      "source": [
        "#Visualize dữ liệu dạng bảng hoặc đồ thị:"
      ],
      "metadata": {
        "id": "CKid8wx1jh5i"
      }
    },
    {
      "cell_type": "markdown",
      "source": [
        "##1. Giá vé tăng khi nào?"
      ],
      "metadata": {
        "id": "U_J3L4lhj3uA"
      }
    },
    {
      "cell_type": "code",
      "source": [],
      "metadata": {
        "id": "qtZwzjbljg7v"
      },
      "execution_count": 118,
      "outputs": []
    },
    {
      "cell_type": "markdown",
      "source": [
        "\n",
        "##2. So sánh tỷ lệ các chuyến bay thẳng và trung chuyển (có dừng)"
      ],
      "metadata": {
        "id": "Bh9xEu8gjg2S"
      }
    },
    {
      "cell_type": "code",
      "source": [],
      "metadata": {
        "id": "jd35QbgAj4g1"
      },
      "execution_count": 118,
      "outputs": []
    },
    {
      "cell_type": "markdown",
      "source": [
        "\n",
        "##3. Nước nào có lượng chuyến bay nhiều nhất?"
      ],
      "metadata": {
        "id": "nEHNxMrMj6eh"
      }
    },
    {
      "cell_type": "code",
      "source": [],
      "metadata": {
        "id": "kCxj2oSUjgwq"
      },
      "execution_count": 118,
      "outputs": []
    },
    {
      "cell_type": "markdown",
      "source": [
        "\n",
        "##4. Hãng máy bay nào được khách đặt vé nhiều/thấp nhất?"
      ],
      "metadata": {
        "id": "0H-Bz7iyjgqn"
      }
    },
    {
      "cell_type": "code",
      "source": [],
      "metadata": {
        "id": "oS3tS04fjgfu"
      },
      "execution_count": 118,
      "outputs": []
    },
    {
      "cell_type": "markdown",
      "source": [
        "\n",
        "##5. Tháng nào là tháng cao điểm"
      ],
      "metadata": {
        "id": "-fyOynarjgWd"
      }
    },
    {
      "cell_type": "code",
      "source": [],
      "metadata": {
        "id": "v9qoLUX-j9tQ"
      },
      "execution_count": 118,
      "outputs": []
    },
    {
      "cell_type": "markdown",
      "source": [
        "\n",
        "##6. Giá có thay đổi tùy theo hãng hàng không hay không?"
      ],
      "metadata": {
        "id": "H2UC1q6gjrw8"
      }
    },
    {
      "cell_type": "code",
      "source": [],
      "metadata": {
        "id": "AoZ7njXTj-Id"
      },
      "execution_count": 118,
      "outputs": []
    },
    {
      "cell_type": "markdown",
      "source": [
        "\n",
        "##7. Giá vé bị ảnh hưởng như thế nào khi mua vé chỉ 1 hoặc 2 ngày trước ngày khởi hành?"
      ],
      "metadata": {
        "id": "Cam1c1NEjs7f"
      }
    },
    {
      "cell_type": "code",
      "source": [],
      "metadata": {
        "id": "OVEYqVmIkAv7"
      },
      "execution_count": 118,
      "outputs": []
    },
    {
      "cell_type": "markdown",
      "source": [
        "\n",
        "##8. Giá vé có thay đổi theo thời gian đi và đến không?"
      ],
      "metadata": {
        "id": "lTSJgekIkBK5"
      }
    },
    {
      "cell_type": "code",
      "source": [
        "# ReplReplace 'Jet Airways' with the desired airline\n",
        "airline = 'Air Asia'\n",
        "# Replace '01/05/2019' with the specific date you want to filter\n",
        "specific_date = '01/03/2019'\n",
        "specific_date = pd.to_datetime(specific_date, format='%d/%m/%Y')\n",
        "\n",
        "source = 'Banglore'\n",
        "des = 'New Delhi'\n",
        "merged_data['Departure_Hour'] = pd.to_datetime(merged_data['Dep_Time'], format='%H:%M').dt.hour\n",
        "merged_data['Date_of_Journey'] = pd.to_datetime(merged_data['Date_of_Journey'], format='%d/%m/%Y')\n",
        "# Create a new column for the time of day\n",
        "merged_data['Departure_TimeOfDay'] = pd.cut(merged_data['Departure_Hour'], bins=[0, 6, 12, 18, 24], labels=['Night', 'Morning', 'Afternoon', 'Evening'])\n",
        "# Filter data for the specific airline and specific date\n",
        "filtered_data = merged_data[(merged_data['Airline'] == airline) & (merged_data['Date_of_Journey'] == specific_date) & (merged_data['Source'] == source)\n",
        "                     & (merged_data['Destination'] == des)]\n",
        "\n",
        "# Biểu đồ giá vé trung bình theo khung giờ khởi hành\n",
        "plt.figure(figsize=(12, 6))\n",
        "sns.barplot(x='Departure_TimeOfDay', y='Price', data=filtered_data)\n",
        "plt.title(f'Giá vé trung bình theo khung giờ khởi hành cho {airline}')\n",
        "plt.show()\n",
        "\n",
        "# Convert Arrival_Time to datetime\n",
        "merged_data['Arrival_Hour'] = pd.to_datetime(merged_data['Arrival_Time'], format='%H:%M').dt.hour\n",
        "merged_data['Arrival_Date'] = pd.to_datetime(merged_data['Date_of_Journey'], format='%d/%m/%Y')\n",
        "# Create a new column for the time of day for arrival\n",
        "merged_data['Arrival_TimeOfDay'] = pd.cut(merged_data['Arrival_Hour'], bins=[0, 6, 12, 18, 24], labels=['Night', 'Morning', 'Afternoon', 'Evening'])\n",
        "\n",
        "# Filter data for the specific airline and specific date\n",
        "filtered_data_arrival = merged_data[(merged_data['Airline'] == airline) & (merged_data['Arrival_Date'] == specific_date) & (merged_data['Source'] == source)\n",
        "                              & (merged_data['Destination'] == des)]\n",
        "\n",
        "#Biểu đồ giá vé trung bình theo khung giờ đến\n",
        "plt.figure(figsize=(12, 6))\n",
        "sns.barplot(x='Arrival_TimeOfDay', y='Price', data=filtered_data_arrival)\n",
        "plt.title(f'Giá vé trung bình theo khung giờ đến cho {airline}')\n",
        "plt.show()"
      ],
      "metadata": {
        "id": "MKMro1MXkDSn",
        "colab": {
          "base_uri": "https://localhost:8080/",
          "height": 1000
        },
        "outputId": "43dc3abb-6dc3-46d2-afd0-c393d78143b6"
      },
      "execution_count": 134,
      "outputs": [
        {
          "output_type": "display_data",
          "data": {
            "text/plain": [
              "<Figure size 1200x600 with 1 Axes>"
            ],
            "image/png": "[encoded data removed]"
          },
          "metadata": {}
        },
        {
          "output_type": "display_data",
          "data": {
            "text/plain": [
              "<Figure size 1200x600 with 1 Axes>"
            ],
            "image/png": "[encoded data removed]"
          },
          "metadata": {}
        }
      ]
    },
    {
      "cell_type": "markdown",
      "source": [
        "\n",
        "##9. Giá thay đổi như thế nào khi thay đổi Nguồn và Điểm đến?"
      ],
      "metadata": {
        "id": "OFsEYbJKkCt-"
      }
    },
    {
      "cell_type": "code",
      "source": [],
      "metadata": {
        "id": "sjUEr8N0kD2G"
      },
      "execution_count": null,
      "outputs": []
    },
    {
      "cell_type": "markdown",
      "source": [
        "#Kết luận các điểm chính quan sát được từ dữ liệu từ các gợi ý trên\n"
      ],
      "metadata": {
        "id": "81TSM4H2kRd_"
      }
    },
    {
      "cell_type": "code",
      "source": [],
      "metadata": {
        "id": "TRszty31kUaU"
      },
      "execution_count": null,
      "outputs": []
    },
    {
      "cell_type": "markdown",
      "source": [
        "#Ngoài các đặc trưng trong tập dữ liệu, các yếu tố nào có khả năng ảnh hưởng đến giá vé chuyến bay?\n",
        "\n"
      ],
      "metadata": {
        "id": "1EcepcBgkUrV"
      }
    },
    {
      "cell_type": "markdown",
      "source": [],
      "metadata": {
        "id": "okje49idkdyy"
      }
    },
    {
      "cell_type": "markdown",
      "source": [
        "#Dự đoán giá vé"
      ],
      "metadata": {
        "id": "SG774ceGkWfN"
      }
    },
    {
      "cell_type": "markdown",
      "source": [],
      "metadata": {
        "id": "u6zxfmMrkebS"
      }
    }
  ]
}