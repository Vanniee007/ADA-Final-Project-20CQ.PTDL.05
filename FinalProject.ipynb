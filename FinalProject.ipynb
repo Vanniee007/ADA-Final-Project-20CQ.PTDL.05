{
  "cells": [
    {
      "cell_type": "markdown",
      "metadata": {
        "id": "sJPyJasjhvPu"
      },
      "source": [
        "# **Thông tin nhóm**\n",
        "## Mã nhóm: 20CQ.PTDL.05\n",
        "## Danh sách thành viên:\n",
        "*   20120466 - Trần Thị Thu Hà\n",
        "*   20120592 - Lê Minh Tiến\n",
        "*   20120595 - Phạm Minh Tiến\n",
        "*   20120624 - Mai Quyết Vang\n",
        "\n"
      ]
    },
    {
      "cell_type": "markdown",
      "metadata": {
        "id": "xmmwOqTqiUsP"
      },
      "source": [
        "# Thêm thư viện cần thiết"
      ]
    },
    {
      "cell_type": "code",
      "execution_count": 4,
      "metadata": {
        "id": "Yn648mWciUV3"
      },
      "outputs": [],
      "source": [
        "import pandas as pd\n",
        "import numpy as np\n",
        "import seaborn as sns\n",
        "import matplotlib.pyplot as plt\n",
        "from datetime import datetime, timedelta"
      ]
    },
    {
      "cell_type": "markdown",
      "metadata": {
        "id": "aQfzbAAYiaFa"
      },
      "source": [
        "Load dữ liệu"
      ]
    },
    {
      "cell_type": "code",
      "execution_count": 5,
      "metadata": {
        "id": "2x-m0OgQiZYZ"
      },
      "outputs": [],
      "source": [
        "link_p1 = \"https://raw.githubusercontent.com/Vanniee007/ADA-Final-Project-20CQ.PTDL.05/main/data/Data_Train_p1.xlsx\"\n",
        "link_p2 = \"https://raw.githubusercontent.com/Vanniee007/ADA-Final-Project-20CQ.PTDL.05/main/data/Data_Train_p2.xlsx\"\n"
      ]
    },
    {
      "cell_type": "code",
      "execution_count": 6,
      "metadata": {
        "id": "ExOwxc46ijXC"
      },
      "outputs": [],
      "source": [
        "# Đọc dữ liệu từ file Excel\n",
        "Data_Train_p1 = pd.read_excel(link_p1)\n",
        "Data_Train_p2 = pd.read_excel(link_p2)\n",
        "\n",
        "# Ghép nối hai DataFrame\n",
        "merged_data = pd.concat([Data_Train_p1, Data_Train_p2], ignore_index=True)\n"
      ]
    },
    {
      "cell_type": "markdown",
      "metadata": {
        "id": "UKfhR5bNC5-A"
      },
      "source": [
        "# **Preprocessing**"
      ]
    },
    {
      "cell_type": "markdown",
      "metadata": {
        "id": "2sa5ZzQcDMAX"
      },
      "source": [
        "## Xử lí duplicate: Xóa các dòng bị trùng lặp"
      ]
    },
    {
      "cell_type": "code",
      "execution_count": 7,
      "metadata": {
        "colab": {
          "base_uri": "https://localhost:8080/"
        },
        "id": "twpaR6CGDN8l",
        "outputId": "37f3a3ff-e449-4f30-9f94-5e1085c4f2f5"
      },
      "outputs": [
        {
          "name": "stdout",
          "output_type": "stream",
          "text": [
            "Có 417 dòng dữ liệu bị trùng lặp.\n",
            "Số dòng dữ liệu trước khi xóa các dòng trùng lặp:\n",
            "10684\n",
            "Số dòng dữ liệu sau khi xóa các dòng trùng lặp:\n",
            "10463\n"
          ]
        }
      ],
      "source": [
        "# Kiểm tra duplicate data và sắp xếp theo cột để dòng trùng lặp gần nhau\n",
        "duplicates = merged_data[merged_data.duplicated(keep=False)].sort_values(by=merged_data.columns.tolist())\n",
        "\n",
        "if len(duplicates) > 0:\n",
        "    print(\"Có {} dòng dữ liệu bị trùng lặp.\".format(len(duplicates)))\n",
        "    duplicates.to_excel('duplicate_data.xlsx', index=False)\n",
        "else:\n",
        "    print(\"Không có dòng dữ liệu trùng lặp.\")\n",
        "print(\"Số dòng dữ liệu trước khi xóa các dòng trùng lặp:\")\n",
        "print(merged_data.shape[0])\n",
        "\n",
        "\n",
        "# Xóa các dòng dữ liệu bị trùng, chỉ giữ lại dòng có index nhỏ hơn (bên trên)\n",
        "merged_data = merged_data.drop_duplicates(keep='first')\n",
        "print(\"Số dòng dữ liệu sau khi xóa các dòng trùng lặp:\")\n",
        "print(merged_data.shape[0])"
      ]
    },
    {
      "cell_type": "markdown",
      "metadata": {
        "id": "fhFIimn6Drlq"
      },
      "source": [
        "## Chuyển Duration thành phút (int): Chuyển đổi từ kiểu giờ-phút về kiểu int để tiện cho các tính toán bên dưới.\n"
      ]
    },
    {
      "cell_type": "code",
      "execution_count": 8,
      "metadata": {
        "colab": {
          "base_uri": "https://localhost:8080/"
        },
        "id": "wN6tf8bjDxH5",
        "outputId": "8ea56dae-7bb3-4a7c-d3d3-4305e14b8ddc"
      },
      "outputs": [],
      "source": [
        "# Chuyển đổi cột 'Duration' về đơn vị phút\n",
        "def convert_duration(duration):\n",
        "    if 'h' in duration and 'm' in duration:\n",
        "        return int(duration.split('h')[0]) * 60 + int(duration.split('h')[1].split('m')[0])\n",
        "    elif 'h' in duration:\n",
        "        return int(duration.split('h')[0]) * 60\n",
        "    elif 'm' in duration:\n",
        "        return int(duration.split('m')[0])\n",
        "    else:\n",
        "        return 0\n",
        "\n",
        "merged_data['Duration'] = merged_data['Duration'].apply(convert_duration)\n"
      ]
    },
    {
      "cell_type": "markdown",
      "metadata": {
        "id": "0IuR86_dD9ib"
      },
      "source": [
        "## Chuyển Total_stop thành kiểu int"
      ]
    },
    {
      "cell_type": "code",
      "execution_count": 9,
      "metadata": {
        "colab": {
          "base_uri": "https://localhost:8080/"
        },
        "id": "7kvUhg9YEDJu",
        "outputId": "52f5225c-a219-496d-92bc-7be31e7d50ec"
      },
      "outputs": [],
      "source": [
        "# Chuyển Total_Stops về kiểu int, giữ lại giá trị null\n",
        "merged_data['Total_Stops'] = merged_data['Total_Stops'].replace({'non-stop': 0, '1 stop': 1, '2 stops': 2, '3 stops': 3, '4 stops': 4, '': np.nan}).fillna('Blanks')"
      ]
    },
    {
      "cell_type": "markdown",
      "metadata": {
        "id": "H7qx5m_aERBX"
      },
      "source": [
        "## Tính lại Arrival_Time, do có một vài Arrival_Time chưa chính xác, vì Arrival_Time phải bằng Dep_Time+ Duration (và còn phụ thuộc vào Date of Journey), nên tính lại Arrival_Time dựa vào 3 cột đó"
      ]
    },
    {
      "cell_type": "code",
      "execution_count": 10,
      "metadata": {
        "colab": {
          "base_uri": "https://localhost:8080/",
          "height": 691
        },
        "id": "6TEPs-_5ET6Y",
        "outputId": "4a13a1c8-f787-44e0-e25e-ca38a96058f5"
      },
      "outputs": [
        {
          "data": {
            "text/html": [
              "<div>\n",
              "<style scoped>\n",
              "    .dataframe tbody tr th:only-of-type {\n",
              "        vertical-align: middle;\n",
              "    }\n",
              "\n",
              "    .dataframe tbody tr th {\n",
              "        vertical-align: top;\n",
              "    }\n",
              "\n",
              "    .dataframe thead th {\n",
              "        text-align: right;\n",
              "    }\n",
              "</style>\n",
              "<table border=\"1\" class=\"dataframe\">\n",
              "  <thead>\n",
              "    <tr style=\"text-align: right;\">\n",
              "      <th></th>\n",
              "      <th>Airline</th>\n",
              "      <th>Date_of_Journey</th>\n",
              "      <th>Month_of_Journey</th>\n",
              "      <th>Source</th>\n",
              "      <th>Destination</th>\n",
              "      <th>Route</th>\n",
              "      <th>Dep_Time</th>\n",
              "      <th>Arrival_Time_new</th>\n",
              "      <th>Arrival_Date</th>\n",
              "      <th>Duration</th>\n",
              "      <th>Total_Stops</th>\n",
              "      <th>Additional_Info</th>\n",
              "      <th>Price</th>\n",
              "    </tr>\n",
              "  </thead>\n",
              "  <tbody>\n",
              "    <tr>\n",
              "      <th>0</th>\n",
              "      <td>IndiGo</td>\n",
              "      <td>2019-03-24</td>\n",
              "      <td>3</td>\n",
              "      <td>Banglore</td>\n",
              "      <td>New Delhi</td>\n",
              "      <td>BLR → DEL</td>\n",
              "      <td>22:20:00</td>\n",
              "      <td>01:10:00</td>\n",
              "      <td>2019-03-25</td>\n",
              "      <td>170</td>\n",
              "      <td>0.0</td>\n",
              "      <td>No info</td>\n",
              "      <td>3897</td>\n",
              "    </tr>\n",
              "    <tr>\n",
              "      <th>1</th>\n",
              "      <td>Air India</td>\n",
              "      <td>2019-05-01</td>\n",
              "      <td>5</td>\n",
              "      <td>Kolkata</td>\n",
              "      <td>Banglore</td>\n",
              "      <td>CCU → IXR → BBI → BLR</td>\n",
              "      <td>05:50:00</td>\n",
              "      <td>13:15:00</td>\n",
              "      <td>2019-05-01</td>\n",
              "      <td>445</td>\n",
              "      <td>2.0</td>\n",
              "      <td>No info</td>\n",
              "      <td>7662</td>\n",
              "    </tr>\n",
              "    <tr>\n",
              "      <th>2</th>\n",
              "      <td>Jet Airways</td>\n",
              "      <td>2019-06-09</td>\n",
              "      <td>6</td>\n",
              "      <td>Delhi</td>\n",
              "      <td>Cochin</td>\n",
              "      <td>DEL → LKO → BOM → COK</td>\n",
              "      <td>09:25:00</td>\n",
              "      <td>04:25:00</td>\n",
              "      <td>2019-06-10</td>\n",
              "      <td>1140</td>\n",
              "      <td>2.0</td>\n",
              "      <td>No info</td>\n",
              "      <td>13882</td>\n",
              "    </tr>\n",
              "    <tr>\n",
              "      <th>3</th>\n",
              "      <td>IndiGo</td>\n",
              "      <td>2019-05-12</td>\n",
              "      <td>5</td>\n",
              "      <td>Kolkata</td>\n",
              "      <td>Banglore</td>\n",
              "      <td>CCU → NAG → BLR</td>\n",
              "      <td>18:05:00</td>\n",
              "      <td>23:30:00</td>\n",
              "      <td>2019-05-12</td>\n",
              "      <td>325</td>\n",
              "      <td>1.0</td>\n",
              "      <td>No info</td>\n",
              "      <td>6218</td>\n",
              "    </tr>\n",
              "    <tr>\n",
              "      <th>4</th>\n",
              "      <td>IndiGo</td>\n",
              "      <td>2019-03-01</td>\n",
              "      <td>3</td>\n",
              "      <td>Banglore</td>\n",
              "      <td>New Delhi</td>\n",
              "      <td>BLR → NAG → DEL</td>\n",
              "      <td>16:50:00</td>\n",
              "      <td>21:35:00</td>\n",
              "      <td>2019-03-01</td>\n",
              "      <td>285</td>\n",
              "      <td>1.0</td>\n",
              "      <td>No info</td>\n",
              "      <td>13302</td>\n",
              "    </tr>\n",
              "    <tr>\n",
              "      <th>5</th>\n",
              "      <td>SpiceJet</td>\n",
              "      <td>2019-06-24</td>\n",
              "      <td>6</td>\n",
              "      <td>Kolkata</td>\n",
              "      <td>Banglore</td>\n",
              "      <td>CCU → BLR</td>\n",
              "      <td>09:00:00</td>\n",
              "      <td>11:25:00</td>\n",
              "      <td>2019-06-24</td>\n",
              "      <td>145</td>\n",
              "      <td>0.0</td>\n",
              "      <td>No info</td>\n",
              "      <td>3873</td>\n",
              "    </tr>\n",
              "    <tr>\n",
              "      <th>6</th>\n",
              "      <td>Jet Airways</td>\n",
              "      <td>2019-03-12</td>\n",
              "      <td>3</td>\n",
              "      <td>Banglore</td>\n",
              "      <td>New Delhi</td>\n",
              "      <td>BLR → BOM → DEL</td>\n",
              "      <td>18:55:00</td>\n",
              "      <td>10:25:00</td>\n",
              "      <td>2019-03-13</td>\n",
              "      <td>930</td>\n",
              "      <td>1.0</td>\n",
              "      <td>In-flight meal not included</td>\n",
              "      <td>11087</td>\n",
              "    </tr>\n",
              "    <tr>\n",
              "      <th>7</th>\n",
              "      <td>Jet Airways</td>\n",
              "      <td>2019-03-01</td>\n",
              "      <td>3</td>\n",
              "      <td>Banglore</td>\n",
              "      <td>New Delhi</td>\n",
              "      <td>BLR → BOM → DEL</td>\n",
              "      <td>08:00:00</td>\n",
              "      <td>05:05:00</td>\n",
              "      <td>2019-03-02</td>\n",
              "      <td>1265</td>\n",
              "      <td>1.0</td>\n",
              "      <td>No info</td>\n",
              "      <td>22270</td>\n",
              "    </tr>\n",
              "    <tr>\n",
              "      <th>8</th>\n",
              "      <td>Jet Airways</td>\n",
              "      <td>2019-03-12</td>\n",
              "      <td>3</td>\n",
              "      <td>Banglore</td>\n",
              "      <td>New Delhi</td>\n",
              "      <td>BLR → BOM → DEL</td>\n",
              "      <td>08:55:00</td>\n",
              "      <td>10:25:00</td>\n",
              "      <td>2019-03-13</td>\n",
              "      <td>1530</td>\n",
              "      <td>1.0</td>\n",
              "      <td>In-flight meal not included</td>\n",
              "      <td>11087</td>\n",
              "    </tr>\n",
              "    <tr>\n",
              "      <th>9</th>\n",
              "      <td>Multiple carriers</td>\n",
              "      <td>2019-05-27</td>\n",
              "      <td>5</td>\n",
              "      <td>Delhi</td>\n",
              "      <td>Cochin</td>\n",
              "      <td>DEL → BOM → COK</td>\n",
              "      <td>11:25:00</td>\n",
              "      <td>19:15:00</td>\n",
              "      <td>2019-05-27</td>\n",
              "      <td>470</td>\n",
              "      <td>1.0</td>\n",
              "      <td>No info</td>\n",
              "      <td>8625</td>\n",
              "    </tr>\n",
              "  </tbody>\n",
              "</table>\n",
              "</div>"
            ],
            "text/plain": [
              "             Airline Date_of_Journey  Month_of_Journey    Source Destination  \\\n",
              "0             IndiGo      2019-03-24                 3  Banglore   New Delhi   \n",
              "1          Air India      2019-05-01                 5   Kolkata    Banglore   \n",
              "2        Jet Airways      2019-06-09                 6     Delhi      Cochin   \n",
              "3             IndiGo      2019-05-12                 5   Kolkata    Banglore   \n",
              "4             IndiGo      2019-03-01                 3  Banglore   New Delhi   \n",
              "5           SpiceJet      2019-06-24                 6   Kolkata    Banglore   \n",
              "6        Jet Airways      2019-03-12                 3  Banglore   New Delhi   \n",
              "7        Jet Airways      2019-03-01                 3  Banglore   New Delhi   \n",
              "8        Jet Airways      2019-03-12                 3  Banglore   New Delhi   \n",
              "9  Multiple carriers      2019-05-27                 5     Delhi      Cochin   \n",
              "\n",
              "                   Route  Dep_Time Arrival_Time_new Arrival_Date  Duration  \\\n",
              "0              BLR → DEL  22:20:00         01:10:00   2019-03-25       170   \n",
              "1  CCU → IXR → BBI → BLR  05:50:00         13:15:00   2019-05-01       445   \n",
              "2  DEL → LKO → BOM → COK  09:25:00         04:25:00   2019-06-10      1140   \n",
              "3        CCU → NAG → BLR  18:05:00         23:30:00   2019-05-12       325   \n",
              "4        BLR → NAG → DEL  16:50:00         21:35:00   2019-03-01       285   \n",
              "5              CCU → BLR  09:00:00         11:25:00   2019-06-24       145   \n",
              "6        BLR → BOM → DEL  18:55:00         10:25:00   2019-03-13       930   \n",
              "7        BLR → BOM → DEL  08:00:00         05:05:00   2019-03-02      1265   \n",
              "8        BLR → BOM → DEL  08:55:00         10:25:00   2019-03-13      1530   \n",
              "9        DEL → BOM → COK  11:25:00         19:15:00   2019-05-27       470   \n",
              "\n",
              "  Total_Stops              Additional_Info  Price  \n",
              "0         0.0                      No info   3897  \n",
              "1         2.0                      No info   7662  \n",
              "2         2.0                      No info  13882  \n",
              "3         1.0                      No info   6218  \n",
              "4         1.0                      No info  13302  \n",
              "5         0.0                      No info   3873  \n",
              "6         1.0  In-flight meal not included  11087  \n",
              "7         1.0                      No info  22270  \n",
              "8         1.0  In-flight meal not included  11087  \n",
              "9         1.0                      No info   8625  "
            ]
          },
          "execution_count": 10,
          "metadata": {},
          "output_type": "execute_result"
        }
      ],
      "source": [
        "# Chuyển đổi kiểu dữ liệu của cột 'Date_of_Journey'\n",
        "merged_data['Date_of_Journey'] = pd.to_datetime(merged_data['Date_of_Journey'], format='%d/%m/%Y')\n",
        "\n",
        "# Chuyển đổi cột 'Dep_Time' thành kiểu datetime chỉ chứa giờ và phút\n",
        "merged_data['Dep_Time'] = pd.to_datetime(merged_data['Dep_Time'], format='%H:%M').dt.time\n",
        "\n",
        "# Kiểm tra và chuyển đổi giá trị trong cột 'Duration'\n",
        "merged_data['Duration'] = merged_data['Duration'].apply(lambda x: int(x.split('h')[0]) * 60 + int(x.split(' ')[-1][0]) if isinstance(x, str) else x)\n",
        "\n",
        "# Tính cột 'Arrival_Time' dựa trên 'Date_of_Journey', 'Dep_Time', và 'Duration'\n",
        "merged_data['Arrival_Time'] = merged_data.apply(lambda row: datetime.combine(row['Date_of_Journey'].date(), row['Dep_Time']) + timedelta(minutes=row['Duration']), axis=1)\n",
        "\n",
        "# Chuyển đổi kiểu dữ liệu của cột 'Arrival_Time' thành kiểu datetime\n",
        "merged_data['Arrival_Time'] = pd.to_datetime(merged_data['Arrival_Time'])\n",
        "\n",
        "# Tách thành cột 'Arrival_Hour' (chỉ chứa giờ:phút:giây) và 'Arrival_Date' (chứa ngày-tháng-năm)\n",
        "merged_data['Arrival_Time_new'] = merged_data['Arrival_Time'].dt.time\n",
        "merged_data['Arrival_Date'] = merged_data['Arrival_Time'].dt.date\n",
        "\n",
        "# Thêm cột 'Month_of_Journey' là tháng từ 'Date_of_Journey'\n",
        "merged_data['Month_of_Journey'] = merged_data['Date_of_Journey'].apply(lambda x: x.month)\n",
        "\n",
        "# Di chuyển cột mới lên đứng ngay sau cột 'Arrival_Time'\n",
        "merged_data = merged_data[['Airline', 'Date_of_Journey', 'Month_of_Journey', 'Source', 'Destination', 'Route', 'Dep_Time', 'Arrival_Time', 'Arrival_Time_new', 'Arrival_Date', 'Duration', 'Total_Stops', 'Additional_Info', 'Price']]\n",
        "\n",
        "# Xóa cột 'Arrival_Time_new'\n",
        "merged_data = merged_data.drop(['Arrival_Time'], axis=1)\n",
        "\n",
        "# Hiển thị DataFrame sau khi xử lý\n",
        "merged_data.head(10)\n"
      ]
    },
    {
      "cell_type": "markdown",
      "metadata": {
        "id": "PeBuWyqdqa2s"
      },
      "source": [
        "## Xử lí outlier tại Duration: các outlier đều chấp nhận được bởi nó có 2-3 sân bay trung chuyển (total_stop), điều này có thể hiểu là chuyến bay xa, hoặc ở sân bay trung chuyển mất thời gian làm thủ tục, hoặc do các chuyến bay bị delay"
      ]
    },
    {
      "cell_type": "markdown",
      "metadata": {
        "id": "byzVuSK8wBUo"
      },
      "source": [
        "### Tìm outlier"
      ]
    },
    {
      "cell_type": "code",
      "execution_count": 11,
      "metadata": {
        "colab": {
          "base_uri": "https://localhost:8080/",
          "height": 564
        },
        "id": "NTxtr4ROrNud",
        "outputId": "a1e61182-ae83-4371-c4bd-026b41214a76"
      },
      "outputs": [
        {
          "data": {
            "image/png": "[encoded data removed]",
            "text/plain": [
              "<Figure size 1000x600 with 1 Axes>"
            ]
          },
          "metadata": {},
          "output_type": "display_data"
        }
      ],
      "source": [
        "# Vẽ boxplot để phát hiện outlier\n",
        "plt.figure(figsize=(10, 6))\n",
        "sns.boxplot(x=merged_data['Duration'])\n",
        "plt.title('Boxplot of Duration')\n",
        "plt.show()"
      ]
    },
    {
      "cell_type": "code",
      "execution_count": 12,
      "metadata": {
        "colab": {
          "base_uri": "https://localhost:8080/",
          "height": 1000
        },
        "id": "P4zZTO4prrQk",
        "outputId": "3de73943-d860-44ba-b720-238c9805da05"
      },
      "outputs": [
        {
          "data": {
            "text/html": [
              "<div>\n",
              "<style scoped>\n",
              "    .dataframe tbody tr th:only-of-type {\n",
              "        vertical-align: middle;\n",
              "    }\n",
              "\n",
              "    .dataframe tbody tr th {\n",
              "        vertical-align: top;\n",
              "    }\n",
              "\n",
              "    .dataframe thead th {\n",
              "        text-align: right;\n",
              "    }\n",
              "</style>\n",
              "<table border=\"1\" class=\"dataframe\">\n",
              "  <thead>\n",
              "    <tr style=\"text-align: right;\">\n",
              "      <th></th>\n",
              "      <th>Airline</th>\n",
              "      <th>Date_of_Journey</th>\n",
              "      <th>Month_of_Journey</th>\n",
              "      <th>Source</th>\n",
              "      <th>Destination</th>\n",
              "      <th>Route</th>\n",
              "      <th>Dep_Time</th>\n",
              "      <th>Arrival_Time_new</th>\n",
              "      <th>Arrival_Date</th>\n",
              "      <th>Duration</th>\n",
              "      <th>Total_Stops</th>\n",
              "      <th>Additional_Info</th>\n",
              "      <th>Price</th>\n",
              "    </tr>\n",
              "  </thead>\n",
              "  <tbody>\n",
              "    <tr>\n",
              "      <th>2747</th>\n",
              "      <td>Air India</td>\n",
              "      <td>2019-03-18</td>\n",
              "      <td>3</td>\n",
              "      <td>Banglore</td>\n",
              "      <td>New Delhi</td>\n",
              "      <td>BLR → BOM → UDR → DEL</td>\n",
              "      <td>06:45:00</td>\n",
              "      <td>16:30:00</td>\n",
              "      <td>2019-03-19</td>\n",
              "      <td>2025</td>\n",
              "      <td>2.0</td>\n",
              "      <td>No info</td>\n",
              "      <td>10835</td>\n",
              "    </tr>\n",
              "    <tr>\n",
              "      <th>1284</th>\n",
              "      <td>Jet Airways</td>\n",
              "      <td>2019-03-21</td>\n",
              "      <td>3</td>\n",
              "      <td>Delhi</td>\n",
              "      <td>Cochin</td>\n",
              "      <td>DEL → BDQ → BOM → COK</td>\n",
              "      <td>18:25:00</td>\n",
              "      <td>04:25:00</td>\n",
              "      <td>2019-03-23</td>\n",
              "      <td>2040</td>\n",
              "      <td>2.0</td>\n",
              "      <td>No info</td>\n",
              "      <td>12347</td>\n",
              "    </tr>\n",
              "    <tr>\n",
              "      <th>8865</th>\n",
              "      <td>Jet Airways</td>\n",
              "      <td>2019-03-21</td>\n",
              "      <td>3</td>\n",
              "      <td>Delhi</td>\n",
              "      <td>Cochin</td>\n",
              "      <td>DEL → UDR → BOM → COK</td>\n",
              "      <td>18:20:00</td>\n",
              "      <td>04:25:00</td>\n",
              "      <td>2019-03-23</td>\n",
              "      <td>2045</td>\n",
              "      <td>2.0</td>\n",
              "      <td>No info</td>\n",
              "      <td>13082</td>\n",
              "    </tr>\n",
              "    <tr>\n",
              "      <th>5758</th>\n",
              "      <td>Jet Airways</td>\n",
              "      <td>2019-03-03</td>\n",
              "      <td>3</td>\n",
              "      <td>Delhi</td>\n",
              "      <td>Cochin</td>\n",
              "      <td>DEL → UDR → BOM → COK</td>\n",
              "      <td>18:20:00</td>\n",
              "      <td>04:25:00</td>\n",
              "      <td>2019-03-05</td>\n",
              "      <td>2045</td>\n",
              "      <td>2.0</td>\n",
              "      <td>No info</td>\n",
              "      <td>20747</td>\n",
              "    </tr>\n",
              "    <tr>\n",
              "      <th>1112</th>\n",
              "      <td>Air India</td>\n",
              "      <td>2019-05-01</td>\n",
              "      <td>5</td>\n",
              "      <td>Kolkata</td>\n",
              "      <td>Banglore</td>\n",
              "      <td>CCU → IXR → DEL → BLR</td>\n",
              "      <td>05:50:00</td>\n",
              "      <td>16:15:00</td>\n",
              "      <td>2019-05-02</td>\n",
              "      <td>2065</td>\n",
              "      <td>2.0</td>\n",
              "      <td>No info</td>\n",
              "      <td>10991</td>\n",
              "    </tr>\n",
              "    <tr>\n",
              "      <th>703</th>\n",
              "      <td>Air India</td>\n",
              "      <td>2019-05-15</td>\n",
              "      <td>5</td>\n",
              "      <td>Kolkata</td>\n",
              "      <td>Banglore</td>\n",
              "      <td>CCU → IXR → DEL → BLR</td>\n",
              "      <td>05:50:00</td>\n",
              "      <td>16:15:00</td>\n",
              "      <td>2019-05-16</td>\n",
              "      <td>2065</td>\n",
              "      <td>2.0</td>\n",
              "      <td>No info</td>\n",
              "      <td>12723</td>\n",
              "    </tr>\n",
              "    <tr>\n",
              "      <th>3193</th>\n",
              "      <td>Jet Airways</td>\n",
              "      <td>2019-03-06</td>\n",
              "      <td>3</td>\n",
              "      <td>Delhi</td>\n",
              "      <td>Cochin</td>\n",
              "      <td>DEL → UDR → BOM → COK</td>\n",
              "      <td>17:55:00</td>\n",
              "      <td>04:25:00</td>\n",
              "      <td>2019-03-08</td>\n",
              "      <td>2070</td>\n",
              "      <td>2.0</td>\n",
              "      <td>In-flight meal not included</td>\n",
              "      <td>15812</td>\n",
              "    </tr>\n",
              "    <tr>\n",
              "      <th>7322</th>\n",
              "      <td>Jet Airways</td>\n",
              "      <td>2019-03-06</td>\n",
              "      <td>3</td>\n",
              "      <td>Delhi</td>\n",
              "      <td>Cochin</td>\n",
              "      <td>DEL → UDR → BOM → COK</td>\n",
              "      <td>17:55:00</td>\n",
              "      <td>04:25:00</td>\n",
              "      <td>2019-03-08</td>\n",
              "      <td>2070</td>\n",
              "      <td>2.0</td>\n",
              "      <td>No info</td>\n",
              "      <td>17072</td>\n",
              "    </tr>\n",
              "    <tr>\n",
              "      <th>2917</th>\n",
              "      <td>Air India</td>\n",
              "      <td>2019-03-03</td>\n",
              "      <td>3</td>\n",
              "      <td>Banglore</td>\n",
              "      <td>New Delhi</td>\n",
              "      <td>BLR → CCU → GAU → DEL</td>\n",
              "      <td>11:05:00</td>\n",
              "      <td>22:10:00</td>\n",
              "      <td>2019-03-04</td>\n",
              "      <td>2105</td>\n",
              "      <td>2.0</td>\n",
              "      <td>No info</td>\n",
              "      <td>11948</td>\n",
              "    </tr>\n",
              "    <tr>\n",
              "      <th>9386</th>\n",
              "      <td>Air India</td>\n",
              "      <td>2019-03-03</td>\n",
              "      <td>3</td>\n",
              "      <td>Banglore</td>\n",
              "      <td>New Delhi</td>\n",
              "      <td>BLR → CCU → GAU → DEL</td>\n",
              "      <td>11:05:00</td>\n",
              "      <td>22:10:00</td>\n",
              "      <td>2019-03-04</td>\n",
              "      <td>2105</td>\n",
              "      <td>2.0</td>\n",
              "      <td>No info</td>\n",
              "      <td>11791</td>\n",
              "    </tr>\n",
              "    <tr>\n",
              "      <th>9713</th>\n",
              "      <td>Air India</td>\n",
              "      <td>2019-03-18</td>\n",
              "      <td>3</td>\n",
              "      <td>Banglore</td>\n",
              "      <td>New Delhi</td>\n",
              "      <td>BLR → CCU → GAU → DEL</td>\n",
              "      <td>11:05:00</td>\n",
              "      <td>22:10:00</td>\n",
              "      <td>2019-03-19</td>\n",
              "      <td>2105</td>\n",
              "      <td>2.0</td>\n",
              "      <td>No info</td>\n",
              "      <td>11161</td>\n",
              "    </tr>\n",
              "    <tr>\n",
              "      <th>9314</th>\n",
              "      <td>Air India</td>\n",
              "      <td>2019-05-12</td>\n",
              "      <td>5</td>\n",
              "      <td>Kolkata</td>\n",
              "      <td>Banglore</td>\n",
              "      <td>CCU → BBI → IXR → DEL → BLR</td>\n",
              "      <td>12:00:00</td>\n",
              "      <td>23:15:00</td>\n",
              "      <td>2019-05-13</td>\n",
              "      <td>2115</td>\n",
              "      <td>3.0</td>\n",
              "      <td>No info</td>\n",
              "      <td>10991</td>\n",
              "    </tr>\n",
              "    <tr>\n",
              "      <th>5133</th>\n",
              "      <td>Air India</td>\n",
              "      <td>2019-03-24</td>\n",
              "      <td>3</td>\n",
              "      <td>Kolkata</td>\n",
              "      <td>Banglore</td>\n",
              "      <td>CCU → BBI → IXR → DEL → BLR</td>\n",
              "      <td>12:00:00</td>\n",
              "      <td>23:15:00</td>\n",
              "      <td>2019-03-25</td>\n",
              "      <td>2115</td>\n",
              "      <td>3.0</td>\n",
              "      <td>No info</td>\n",
              "      <td>14221</td>\n",
              "    </tr>\n",
              "    <tr>\n",
              "      <th>1628</th>\n",
              "      <td>Air India</td>\n",
              "      <td>2019-03-12</td>\n",
              "      <td>3</td>\n",
              "      <td>Banglore</td>\n",
              "      <td>New Delhi</td>\n",
              "      <td>BLR → BOM → IDR → GWL → DEL</td>\n",
              "      <td>06:45:00</td>\n",
              "      <td>18:05:00</td>\n",
              "      <td>2019-03-13</td>\n",
              "      <td>2120</td>\n",
              "      <td>3.0</td>\n",
              "      <td>No info</td>\n",
              "      <td>13387</td>\n",
              "    </tr>\n",
              "    <tr>\n",
              "      <th>9320</th>\n",
              "      <td>Jet Airways</td>\n",
              "      <td>2019-03-06</td>\n",
              "      <td>3</td>\n",
              "      <td>Delhi</td>\n",
              "      <td>Cochin</td>\n",
              "      <td>DEL → DED → BOM → COK</td>\n",
              "      <td>16:50:00</td>\n",
              "      <td>04:25:00</td>\n",
              "      <td>2019-03-08</td>\n",
              "      <td>2135</td>\n",
              "      <td>2.0</td>\n",
              "      <td>No info</td>\n",
              "      <td>19907</td>\n",
              "    </tr>\n",
              "    <tr>\n",
              "      <th>6830</th>\n",
              "      <td>Air India</td>\n",
              "      <td>2019-03-03</td>\n",
              "      <td>3</td>\n",
              "      <td>Delhi</td>\n",
              "      <td>Cochin</td>\n",
              "      <td>DEL → HYD → BOM → COK</td>\n",
              "      <td>07:05:00</td>\n",
              "      <td>19:15:00</td>\n",
              "      <td>2019-03-04</td>\n",
              "      <td>2170</td>\n",
              "      <td>2.0</td>\n",
              "      <td>No info</td>\n",
              "      <td>11552</td>\n",
              "    </tr>\n",
              "    <tr>\n",
              "      <th>3648</th>\n",
              "      <td>Air India</td>\n",
              "      <td>2019-03-09</td>\n",
              "      <td>3</td>\n",
              "      <td>Delhi</td>\n",
              "      <td>Cochin</td>\n",
              "      <td>DEL → HYD → BOM → COK</td>\n",
              "      <td>07:05:00</td>\n",
              "      <td>19:15:00</td>\n",
              "      <td>2019-03-10</td>\n",
              "      <td>2170</td>\n",
              "      <td>2.0</td>\n",
              "      <td>No info</td>\n",
              "      <td>11762</td>\n",
              "    </tr>\n",
              "    <tr>\n",
              "      <th>1589</th>\n",
              "      <td>Air India</td>\n",
              "      <td>2019-03-06</td>\n",
              "      <td>3</td>\n",
              "      <td>Delhi</td>\n",
              "      <td>Cochin</td>\n",
              "      <td>DEL → HYD → BOM → COK</td>\n",
              "      <td>07:05:00</td>\n",
              "      <td>19:15:00</td>\n",
              "      <td>2019-03-07</td>\n",
              "      <td>2170</td>\n",
              "      <td>2.0</td>\n",
              "      <td>No info</td>\n",
              "      <td>11552</td>\n",
              "    </tr>\n",
              "    <tr>\n",
              "      <th>3914</th>\n",
              "      <td>Air India</td>\n",
              "      <td>2019-03-03</td>\n",
              "      <td>3</td>\n",
              "      <td>Delhi</td>\n",
              "      <td>Cochin</td>\n",
              "      <td>DEL → HYD → BOM → COK</td>\n",
              "      <td>07:05:00</td>\n",
              "      <td>19:15:00</td>\n",
              "      <td>2019-03-04</td>\n",
              "      <td>2170</td>\n",
              "      <td>2.0</td>\n",
              "      <td>No info</td>\n",
              "      <td>11762</td>\n",
              "    </tr>\n",
              "    <tr>\n",
              "      <th>10186</th>\n",
              "      <td>Air India</td>\n",
              "      <td>2019-03-21</td>\n",
              "      <td>3</td>\n",
              "      <td>Delhi</td>\n",
              "      <td>Cochin</td>\n",
              "      <td>DEL → CCU → BOM → COK</td>\n",
              "      <td>06:50:00</td>\n",
              "      <td>19:15:00</td>\n",
              "      <td>2019-03-22</td>\n",
              "      <td>2185</td>\n",
              "      <td>2.0</td>\n",
              "      <td>No info</td>\n",
              "      <td>10756</td>\n",
              "    </tr>\n",
              "    <tr>\n",
              "      <th>6753</th>\n",
              "      <td>Jet Airways</td>\n",
              "      <td>2019-03-03</td>\n",
              "      <td>3</td>\n",
              "      <td>Delhi</td>\n",
              "      <td>Cochin</td>\n",
              "      <td>DEL → BHO → BOM → COK</td>\n",
              "      <td>05:40:00</td>\n",
              "      <td>18:50:00</td>\n",
              "      <td>2019-03-04</td>\n",
              "      <td>2230</td>\n",
              "      <td>2.0</td>\n",
              "      <td>No info</td>\n",
              "      <td>21314</td>\n",
              "    </tr>\n",
              "    <tr>\n",
              "      <th>4217</th>\n",
              "      <td>Jet Airways</td>\n",
              "      <td>2019-03-21</td>\n",
              "      <td>3</td>\n",
              "      <td>Delhi</td>\n",
              "      <td>Cochin</td>\n",
              "      <td>DEL → JAI → BOM → COK</td>\n",
              "      <td>05:30:00</td>\n",
              "      <td>18:50:00</td>\n",
              "      <td>2019-03-22</td>\n",
              "      <td>2240</td>\n",
              "      <td>2.0</td>\n",
              "      <td>In-flight meal not included</td>\n",
              "      <td>9328</td>\n",
              "    </tr>\n",
              "    <tr>\n",
              "      <th>5364</th>\n",
              "      <td>Jet Airways</td>\n",
              "      <td>2019-03-21</td>\n",
              "      <td>3</td>\n",
              "      <td>Delhi</td>\n",
              "      <td>Cochin</td>\n",
              "      <td>DEL → JAI → BOM → COK</td>\n",
              "      <td>05:30:00</td>\n",
              "      <td>18:50:00</td>\n",
              "      <td>2019-03-22</td>\n",
              "      <td>2240</td>\n",
              "      <td>2.0</td>\n",
              "      <td>No info</td>\n",
              "      <td>12341</td>\n",
              "    </tr>\n",
              "    <tr>\n",
              "      <th>773</th>\n",
              "      <td>Air India</td>\n",
              "      <td>2019-04-09</td>\n",
              "      <td>4</td>\n",
              "      <td>Delhi</td>\n",
              "      <td>Cochin</td>\n",
              "      <td>DEL → NAG → BOM → COK</td>\n",
              "      <td>05:55:00</td>\n",
              "      <td>19:15:00</td>\n",
              "      <td>2019-04-10</td>\n",
              "      <td>2240</td>\n",
              "      <td>2.0</td>\n",
              "      <td>No info</td>\n",
              "      <td>7711</td>\n",
              "    </tr>\n",
              "    <tr>\n",
              "      <th>9361</th>\n",
              "      <td>Air India</td>\n",
              "      <td>2019-05-21</td>\n",
              "      <td>5</td>\n",
              "      <td>Delhi</td>\n",
              "      <td>Cochin</td>\n",
              "      <td>DEL → NAG → BOM → COK</td>\n",
              "      <td>05:55:00</td>\n",
              "      <td>19:15:00</td>\n",
              "      <td>2019-05-22</td>\n",
              "      <td>2240</td>\n",
              "      <td>2.0</td>\n",
              "      <td>No info</td>\n",
              "      <td>10493</td>\n",
              "    </tr>\n",
              "    <tr>\n",
              "      <th>9741</th>\n",
              "      <td>Air India</td>\n",
              "      <td>2019-06-09</td>\n",
              "      <td>6</td>\n",
              "      <td>Delhi</td>\n",
              "      <td>Cochin</td>\n",
              "      <td>DEL → NAG → BOM → COK</td>\n",
              "      <td>05:55:00</td>\n",
              "      <td>19:15:00</td>\n",
              "      <td>2019-06-10</td>\n",
              "      <td>2240</td>\n",
              "      <td>2.0</td>\n",
              "      <td>No info</td>\n",
              "      <td>10493</td>\n",
              "    </tr>\n",
              "    <tr>\n",
              "      <th>9837</th>\n",
              "      <td>Air India</td>\n",
              "      <td>2019-03-09</td>\n",
              "      <td>3</td>\n",
              "      <td>Delhi</td>\n",
              "      <td>Cochin</td>\n",
              "      <td>DEL → BHO → BOM → COK</td>\n",
              "      <td>05:55:00</td>\n",
              "      <td>19:15:00</td>\n",
              "      <td>2019-03-10</td>\n",
              "      <td>2240</td>\n",
              "      <td>2.0</td>\n",
              "      <td>No info</td>\n",
              "      <td>14483</td>\n",
              "    </tr>\n",
              "    <tr>\n",
              "      <th>9891</th>\n",
              "      <td>Air India</td>\n",
              "      <td>2019-03-27</td>\n",
              "      <td>3</td>\n",
              "      <td>Delhi</td>\n",
              "      <td>Cochin</td>\n",
              "      <td>DEL → NAG → BOM → COK</td>\n",
              "      <td>05:55:00</td>\n",
              "      <td>19:15:00</td>\n",
              "      <td>2019-03-28</td>\n",
              "      <td>2240</td>\n",
              "      <td>2.0</td>\n",
              "      <td>No info</td>\n",
              "      <td>8446</td>\n",
              "    </tr>\n",
              "    <tr>\n",
              "      <th>7835</th>\n",
              "      <td>Air India</td>\n",
              "      <td>2019-03-03</td>\n",
              "      <td>3</td>\n",
              "      <td>Delhi</td>\n",
              "      <td>Cochin</td>\n",
              "      <td>DEL → BHO → BOM → COK</td>\n",
              "      <td>05:55:00</td>\n",
              "      <td>19:15:00</td>\n",
              "      <td>2019-03-04</td>\n",
              "      <td>2240</td>\n",
              "      <td>2.0</td>\n",
              "      <td>No info</td>\n",
              "      <td>13748</td>\n",
              "    </tr>\n",
              "    <tr>\n",
              "      <th>7528</th>\n",
              "      <td>Jet Airways</td>\n",
              "      <td>2019-03-21</td>\n",
              "      <td>3</td>\n",
              "      <td>Delhi</td>\n",
              "      <td>Cochin</td>\n",
              "      <td>DEL → IDR → BOM → COK</td>\n",
              "      <td>05:25:00</td>\n",
              "      <td>18:50:00</td>\n",
              "      <td>2019-03-22</td>\n",
              "      <td>2245</td>\n",
              "      <td>2.0</td>\n",
              "      <td>No info</td>\n",
              "      <td>12814</td>\n",
              "    </tr>\n",
              "    <tr>\n",
              "      <th>7379</th>\n",
              "      <td>Jet Airways</td>\n",
              "      <td>2019-03-03</td>\n",
              "      <td>3</td>\n",
              "      <td>Delhi</td>\n",
              "      <td>Cochin</td>\n",
              "      <td>DEL → IDR → BOM → COK</td>\n",
              "      <td>05:25:00</td>\n",
              "      <td>18:50:00</td>\n",
              "      <td>2019-03-04</td>\n",
              "      <td>2245</td>\n",
              "      <td>2.0</td>\n",
              "      <td>No info</td>\n",
              "      <td>20064</td>\n",
              "    </tr>\n",
              "    <tr>\n",
              "      <th>5685</th>\n",
              "      <td>Jet Airways</td>\n",
              "      <td>2019-03-27</td>\n",
              "      <td>3</td>\n",
              "      <td>Delhi</td>\n",
              "      <td>Cochin</td>\n",
              "      <td>DEL → IXC → BOM → COK</td>\n",
              "      <td>06:20:00</td>\n",
              "      <td>19:45:00</td>\n",
              "      <td>2019-03-28</td>\n",
              "      <td>2245</td>\n",
              "      <td>2.0</td>\n",
              "      <td>No info</td>\n",
              "      <td>12273</td>\n",
              "    </tr>\n",
              "    <tr>\n",
              "      <th>9946</th>\n",
              "      <td>Jet Airways</td>\n",
              "      <td>2019-03-27</td>\n",
              "      <td>3</td>\n",
              "      <td>Delhi</td>\n",
              "      <td>Cochin</td>\n",
              "      <td>DEL → IXC → BOM → COK</td>\n",
              "      <td>06:20:00</td>\n",
              "      <td>19:45:00</td>\n",
              "      <td>2019-03-28</td>\n",
              "      <td>2245</td>\n",
              "      <td>2.0</td>\n",
              "      <td>In-flight meal not included</td>\n",
              "      <td>9296</td>\n",
              "    </tr>\n",
              "    <tr>\n",
              "      <th>226</th>\n",
              "      <td>Jet Airways</td>\n",
              "      <td>2019-03-03</td>\n",
              "      <td>3</td>\n",
              "      <td>Delhi</td>\n",
              "      <td>Cochin</td>\n",
              "      <td>DEL → IDR → BOM → COK</td>\n",
              "      <td>05:25:00</td>\n",
              "      <td>18:50:00</td>\n",
              "      <td>2019-03-04</td>\n",
              "      <td>2245</td>\n",
              "      <td>2.0</td>\n",
              "      <td>No info</td>\n",
              "      <td>18799</td>\n",
              "    </tr>\n",
              "    <tr>\n",
              "      <th>3843</th>\n",
              "      <td>Air India</td>\n",
              "      <td>2019-03-06</td>\n",
              "      <td>3</td>\n",
              "      <td>Mumbai</td>\n",
              "      <td>Hyderabad</td>\n",
              "      <td>BOM → BHO → DEL → HYD</td>\n",
              "      <td>06:00:00</td>\n",
              "      <td>19:25:00</td>\n",
              "      <td>2019-03-07</td>\n",
              "      <td>2245</td>\n",
              "      <td>2.0</td>\n",
              "      <td>No info</td>\n",
              "      <td>13904</td>\n",
              "    </tr>\n",
              "    <tr>\n",
              "      <th>5321</th>\n",
              "      <td>Air India</td>\n",
              "      <td>2019-03-12</td>\n",
              "      <td>3</td>\n",
              "      <td>Mumbai</td>\n",
              "      <td>Hyderabad</td>\n",
              "      <td>BOM → BHO → DEL → HYD</td>\n",
              "      <td>06:00:00</td>\n",
              "      <td>19:25:00</td>\n",
              "      <td>2019-03-13</td>\n",
              "      <td>2245</td>\n",
              "      <td>2.0</td>\n",
              "      <td>No info</td>\n",
              "      <td>12119</td>\n",
              "    </tr>\n",
              "    <tr>\n",
              "      <th>685</th>\n",
              "      <td>Air India</td>\n",
              "      <td>2019-03-24</td>\n",
              "      <td>3</td>\n",
              "      <td>Kolkata</td>\n",
              "      <td>Banglore</td>\n",
              "      <td>CCU → GAU → DEL → BLR</td>\n",
              "      <td>09:50:00</td>\n",
              "      <td>23:15:00</td>\n",
              "      <td>2019-03-25</td>\n",
              "      <td>2245</td>\n",
              "      <td>2.0</td>\n",
              "      <td>No info</td>\n",
              "      <td>14410</td>\n",
              "    </tr>\n",
              "    <tr>\n",
              "      <th>8771</th>\n",
              "      <td>Air India</td>\n",
              "      <td>2019-06-03</td>\n",
              "      <td>6</td>\n",
              "      <td>Delhi</td>\n",
              "      <td>Cochin</td>\n",
              "      <td>DEL → RPR → NAG → BOM → COK</td>\n",
              "      <td>05:15:00</td>\n",
              "      <td>19:15:00</td>\n",
              "      <td>2019-06-04</td>\n",
              "      <td>2280</td>\n",
              "      <td>3.0</td>\n",
              "      <td>No info</td>\n",
              "      <td>10493</td>\n",
              "    </tr>\n",
              "    <tr>\n",
              "      <th>2787</th>\n",
              "      <td>Air India</td>\n",
              "      <td>2019-06-27</td>\n",
              "      <td>6</td>\n",
              "      <td>Delhi</td>\n",
              "      <td>Cochin</td>\n",
              "      <td>DEL → RPR → NAG → BOM → COK</td>\n",
              "      <td>05:15:00</td>\n",
              "      <td>19:15:00</td>\n",
              "      <td>2019-06-28</td>\n",
              "      <td>2280</td>\n",
              "      <td>3.0</td>\n",
              "      <td>No info</td>\n",
              "      <td>10703</td>\n",
              "    </tr>\n",
              "    <tr>\n",
              "      <th>2595</th>\n",
              "      <td>Air India</td>\n",
              "      <td>2019-06-01</td>\n",
              "      <td>6</td>\n",
              "      <td>Delhi</td>\n",
              "      <td>Cochin</td>\n",
              "      <td>DEL → RPR → NAG → BOM → COK</td>\n",
              "      <td>05:15:00</td>\n",
              "      <td>19:15:00</td>\n",
              "      <td>2019-06-02</td>\n",
              "      <td>2280</td>\n",
              "      <td>3.0</td>\n",
              "      <td>No info</td>\n",
              "      <td>10703</td>\n",
              "    </tr>\n",
              "    <tr>\n",
              "      <th>6861</th>\n",
              "      <td>Air India</td>\n",
              "      <td>2019-06-24</td>\n",
              "      <td>6</td>\n",
              "      <td>Delhi</td>\n",
              "      <td>Cochin</td>\n",
              "      <td>DEL → RPR → NAG → BOM → COK</td>\n",
              "      <td>05:15:00</td>\n",
              "      <td>19:15:00</td>\n",
              "      <td>2019-06-25</td>\n",
              "      <td>2280</td>\n",
              "      <td>3.0</td>\n",
              "      <td>No info</td>\n",
              "      <td>10493</td>\n",
              "    </tr>\n",
              "    <tr>\n",
              "      <th>2250</th>\n",
              "      <td>Air India</td>\n",
              "      <td>2019-06-15</td>\n",
              "      <td>6</td>\n",
              "      <td>Delhi</td>\n",
              "      <td>Cochin</td>\n",
              "      <td>DEL → RPR → NAG → BOM → COK</td>\n",
              "      <td>05:15:00</td>\n",
              "      <td>19:15:00</td>\n",
              "      <td>2019-06-16</td>\n",
              "      <td>2280</td>\n",
              "      <td>3.0</td>\n",
              "      <td>No info</td>\n",
              "      <td>10703</td>\n",
              "    </tr>\n",
              "    <tr>\n",
              "      <th>6733</th>\n",
              "      <td>Air India</td>\n",
              "      <td>2019-05-27</td>\n",
              "      <td>5</td>\n",
              "      <td>Delhi</td>\n",
              "      <td>Cochin</td>\n",
              "      <td>DEL → RPR → NAG → BOM → COK</td>\n",
              "      <td>05:15:00</td>\n",
              "      <td>19:15:00</td>\n",
              "      <td>2019-05-28</td>\n",
              "      <td>2280</td>\n",
              "      <td>3.0</td>\n",
              "      <td>No info</td>\n",
              "      <td>10493</td>\n",
              "    </tr>\n",
              "    <tr>\n",
              "      <th>10567</th>\n",
              "      <td>Air India</td>\n",
              "      <td>2019-05-18</td>\n",
              "      <td>5</td>\n",
              "      <td>Delhi</td>\n",
              "      <td>Cochin</td>\n",
              "      <td>DEL → RPR → NAG → BOM → COK</td>\n",
              "      <td>05:15:00</td>\n",
              "      <td>19:15:00</td>\n",
              "      <td>2019-05-19</td>\n",
              "      <td>2280</td>\n",
              "      <td>3.0</td>\n",
              "      <td>No info</td>\n",
              "      <td>10703</td>\n",
              "    </tr>\n",
              "    <tr>\n",
              "      <th>1947</th>\n",
              "      <td>Air India</td>\n",
              "      <td>2019-03-21</td>\n",
              "      <td>3</td>\n",
              "      <td>Delhi</td>\n",
              "      <td>Cochin</td>\n",
              "      <td>DEL → RPR → NAG → BOM → COK</td>\n",
              "      <td>05:15:00</td>\n",
              "      <td>19:15:00</td>\n",
              "      <td>2019-03-22</td>\n",
              "      <td>2280</td>\n",
              "      <td>3.0</td>\n",
              "      <td>No info</td>\n",
              "      <td>9128</td>\n",
              "    </tr>\n",
              "    <tr>\n",
              "      <th>6285</th>\n",
              "      <td>Air India</td>\n",
              "      <td>2019-05-09</td>\n",
              "      <td>5</td>\n",
              "      <td>Delhi</td>\n",
              "      <td>Cochin</td>\n",
              "      <td>DEL → RPR → NAG → BOM → COK</td>\n",
              "      <td>05:15:00</td>\n",
              "      <td>19:15:00</td>\n",
              "      <td>2019-05-10</td>\n",
              "      <td>2280</td>\n",
              "      <td>3.0</td>\n",
              "      <td>No info</td>\n",
              "      <td>10703</td>\n",
              "    </tr>\n",
              "    <tr>\n",
              "      <th>850</th>\n",
              "      <td>Air India</td>\n",
              "      <td>2019-03-09</td>\n",
              "      <td>3</td>\n",
              "      <td>Delhi</td>\n",
              "      <td>Cochin</td>\n",
              "      <td>DEL → RPR → NAG → BOM → COK</td>\n",
              "      <td>05:15:00</td>\n",
              "      <td>19:15:00</td>\n",
              "      <td>2019-03-10</td>\n",
              "      <td>2280</td>\n",
              "      <td>3.0</td>\n",
              "      <td>No info</td>\n",
              "      <td>15586</td>\n",
              "    </tr>\n",
              "    <tr>\n",
              "      <th>6008</th>\n",
              "      <td>Air India</td>\n",
              "      <td>2019-06-06</td>\n",
              "      <td>6</td>\n",
              "      <td>Delhi</td>\n",
              "      <td>Cochin</td>\n",
              "      <td>DEL → RPR → NAG → BOM → COK</td>\n",
              "      <td>05:15:00</td>\n",
              "      <td>19:15:00</td>\n",
              "      <td>2019-06-07</td>\n",
              "      <td>2280</td>\n",
              "      <td>3.0</td>\n",
              "      <td>No info</td>\n",
              "      <td>10703</td>\n",
              "    </tr>\n",
              "    <tr>\n",
              "      <th>2179</th>\n",
              "      <td>Air India</td>\n",
              "      <td>2019-05-15</td>\n",
              "      <td>5</td>\n",
              "      <td>Delhi</td>\n",
              "      <td>Cochin</td>\n",
              "      <td>DEL → AMD → BOM → COK</td>\n",
              "      <td>05:00:00</td>\n",
              "      <td>19:15:00</td>\n",
              "      <td>2019-05-16</td>\n",
              "      <td>2295</td>\n",
              "      <td>2.0</td>\n",
              "      <td>No info</td>\n",
              "      <td>10493</td>\n",
              "    </tr>\n",
              "    <tr>\n",
              "      <th>786</th>\n",
              "      <td>Jet Airways</td>\n",
              "      <td>2019-03-06</td>\n",
              "      <td>3</td>\n",
              "      <td>Delhi</td>\n",
              "      <td>Cochin</td>\n",
              "      <td>DEL → JAI → BOM → COK</td>\n",
              "      <td>05:30:00</td>\n",
              "      <td>19:45:00</td>\n",
              "      <td>2019-03-07</td>\n",
              "      <td>2295</td>\n",
              "      <td>2.0</td>\n",
              "      <td>In-flight meal not included</td>\n",
              "      <td>15864</td>\n",
              "    </tr>\n",
              "  </tbody>\n",
              "</table>\n",
              "</div>"
            ],
            "text/plain": [
              "           Airline Date_of_Journey  Month_of_Journey    Source Destination  \\\n",
              "2747     Air India      2019-03-18                 3  Banglore   New Delhi   \n",
              "1284   Jet Airways      2019-03-21                 3     Delhi      Cochin   \n",
              "8865   Jet Airways      2019-03-21                 3     Delhi      Cochin   \n",
              "5758   Jet Airways      2019-03-03                 3     Delhi      Cochin   \n",
              "1112     Air India      2019-05-01                 5   Kolkata    Banglore   \n",
              "703      Air India      2019-05-15                 5   Kolkata    Banglore   \n",
              "3193   Jet Airways      2019-03-06                 3     Delhi      Cochin   \n",
              "7322   Jet Airways      2019-03-06                 3     Delhi      Cochin   \n",
              "2917     Air India      2019-03-03                 3  Banglore   New Delhi   \n",
              "9386     Air India      2019-03-03                 3  Banglore   New Delhi   \n",
              "9713     Air India      2019-03-18                 3  Banglore   New Delhi   \n",
              "9314     Air India      2019-05-12                 5   Kolkata    Banglore   \n",
              "5133     Air India      2019-03-24                 3   Kolkata    Banglore   \n",
              "1628     Air India      2019-03-12                 3  Banglore   New Delhi   \n",
              "9320   Jet Airways      2019-03-06                 3     Delhi      Cochin   \n",
              "6830     Air India      2019-03-03                 3     Delhi      Cochin   \n",
              "3648     Air India      2019-03-09                 3     Delhi      Cochin   \n",
              "1589     Air India      2019-03-06                 3     Delhi      Cochin   \n",
              "3914     Air India      2019-03-03                 3     Delhi      Cochin   \n",
              "10186    Air India      2019-03-21                 3     Delhi      Cochin   \n",
              "6753   Jet Airways      2019-03-03                 3     Delhi      Cochin   \n",
              "4217   Jet Airways      2019-03-21                 3     Delhi      Cochin   \n",
              "5364   Jet Airways      2019-03-21                 3     Delhi      Cochin   \n",
              "773      Air India      2019-04-09                 4     Delhi      Cochin   \n",
              "9361     Air India      2019-05-21                 5     Delhi      Cochin   \n",
              "9741     Air India      2019-06-09                 6     Delhi      Cochin   \n",
              "9837     Air India      2019-03-09                 3     Delhi      Cochin   \n",
              "9891     Air India      2019-03-27                 3     Delhi      Cochin   \n",
              "7835     Air India      2019-03-03                 3     Delhi      Cochin   \n",
              "7528   Jet Airways      2019-03-21                 3     Delhi      Cochin   \n",
              "7379   Jet Airways      2019-03-03                 3     Delhi      Cochin   \n",
              "5685   Jet Airways      2019-03-27                 3     Delhi      Cochin   \n",
              "9946   Jet Airways      2019-03-27                 3     Delhi      Cochin   \n",
              "226    Jet Airways      2019-03-03                 3     Delhi      Cochin   \n",
              "3843     Air India      2019-03-06                 3    Mumbai   Hyderabad   \n",
              "5321     Air India      2019-03-12                 3    Mumbai   Hyderabad   \n",
              "685      Air India      2019-03-24                 3   Kolkata    Banglore   \n",
              "8771     Air India      2019-06-03                 6     Delhi      Cochin   \n",
              "2787     Air India      2019-06-27                 6     Delhi      Cochin   \n",
              "2595     Air India      2019-06-01                 6     Delhi      Cochin   \n",
              "6861     Air India      2019-06-24                 6     Delhi      Cochin   \n",
              "2250     Air India      2019-06-15                 6     Delhi      Cochin   \n",
              "6733     Air India      2019-05-27                 5     Delhi      Cochin   \n",
              "10567    Air India      2019-05-18                 5     Delhi      Cochin   \n",
              "1947     Air India      2019-03-21                 3     Delhi      Cochin   \n",
              "6285     Air India      2019-05-09                 5     Delhi      Cochin   \n",
              "850      Air India      2019-03-09                 3     Delhi      Cochin   \n",
              "6008     Air India      2019-06-06                 6     Delhi      Cochin   \n",
              "2179     Air India      2019-05-15                 5     Delhi      Cochin   \n",
              "786    Jet Airways      2019-03-06                 3     Delhi      Cochin   \n",
              "\n",
              "                             Route  Dep_Time Arrival_Time_new Arrival_Date  \\\n",
              "2747         BLR → BOM → UDR → DEL  06:45:00         16:30:00   2019-03-19   \n",
              "1284         DEL → BDQ → BOM → COK  18:25:00         04:25:00   2019-03-23   \n",
              "8865         DEL → UDR → BOM → COK  18:20:00         04:25:00   2019-03-23   \n",
              "5758         DEL → UDR → BOM → COK  18:20:00         04:25:00   2019-03-05   \n",
              "1112         CCU → IXR → DEL → BLR  05:50:00         16:15:00   2019-05-02   \n",
              "703          CCU → IXR → DEL → BLR  05:50:00         16:15:00   2019-05-16   \n",
              "3193         DEL → UDR → BOM → COK  17:55:00         04:25:00   2019-03-08   \n",
              "7322         DEL → UDR → BOM → COK  17:55:00         04:25:00   2019-03-08   \n",
              "2917         BLR → CCU → GAU → DEL  11:05:00         22:10:00   2019-03-04   \n",
              "9386         BLR → CCU → GAU → DEL  11:05:00         22:10:00   2019-03-04   \n",
              "9713         BLR → CCU → GAU → DEL  11:05:00         22:10:00   2019-03-19   \n",
              "9314   CCU → BBI → IXR → DEL → BLR  12:00:00         23:15:00   2019-05-13   \n",
              "5133   CCU → BBI → IXR → DEL → BLR  12:00:00         23:15:00   2019-03-25   \n",
              "1628   BLR → BOM → IDR → GWL → DEL  06:45:00         18:05:00   2019-03-13   \n",
              "9320         DEL → DED → BOM → COK  16:50:00         04:25:00   2019-03-08   \n",
              "6830         DEL → HYD → BOM → COK  07:05:00         19:15:00   2019-03-04   \n",
              "3648         DEL → HYD → BOM → COK  07:05:00         19:15:00   2019-03-10   \n",
              "1589         DEL → HYD → BOM → COK  07:05:00         19:15:00   2019-03-07   \n",
              "3914         DEL → HYD → BOM → COK  07:05:00         19:15:00   2019-03-04   \n",
              "10186        DEL → CCU → BOM → COK  06:50:00         19:15:00   2019-03-22   \n",
              "6753         DEL → BHO → BOM → COK  05:40:00         18:50:00   2019-03-04   \n",
              "4217         DEL → JAI → BOM → COK  05:30:00         18:50:00   2019-03-22   \n",
              "5364         DEL → JAI → BOM → COK  05:30:00         18:50:00   2019-03-22   \n",
              "773          DEL → NAG → BOM → COK  05:55:00         19:15:00   2019-04-10   \n",
              "9361         DEL → NAG → BOM → COK  05:55:00         19:15:00   2019-05-22   \n",
              "9741         DEL → NAG → BOM → COK  05:55:00         19:15:00   2019-06-10   \n",
              "9837         DEL → BHO → BOM → COK  05:55:00         19:15:00   2019-03-10   \n",
              "9891         DEL → NAG → BOM → COK  05:55:00         19:15:00   2019-03-28   \n",
              "7835         DEL → BHO → BOM → COK  05:55:00         19:15:00   2019-03-04   \n",
              "7528         DEL → IDR → BOM → COK  05:25:00         18:50:00   2019-03-22   \n",
              "7379         DEL → IDR → BOM → COK  05:25:00         18:50:00   2019-03-04   \n",
              "5685         DEL → IXC → BOM → COK  06:20:00         19:45:00   2019-03-28   \n",
              "9946         DEL → IXC → BOM → COK  06:20:00         19:45:00   2019-03-28   \n",
              "226          DEL → IDR → BOM → COK  05:25:00         18:50:00   2019-03-04   \n",
              "3843         BOM → BHO → DEL → HYD  06:00:00         19:25:00   2019-03-07   \n",
              "5321         BOM → BHO → DEL → HYD  06:00:00         19:25:00   2019-03-13   \n",
              "685          CCU → GAU → DEL → BLR  09:50:00         23:15:00   2019-03-25   \n",
              "8771   DEL → RPR → NAG → BOM → COK  05:15:00         19:15:00   2019-06-04   \n",
              "2787   DEL → RPR → NAG → BOM → COK  05:15:00         19:15:00   2019-06-28   \n",
              "2595   DEL → RPR → NAG → BOM → COK  05:15:00         19:15:00   2019-06-02   \n",
              "6861   DEL → RPR → NAG → BOM → COK  05:15:00         19:15:00   2019-06-25   \n",
              "2250   DEL → RPR → NAG → BOM → COK  05:15:00         19:15:00   2019-06-16   \n",
              "6733   DEL → RPR → NAG → BOM → COK  05:15:00         19:15:00   2019-05-28   \n",
              "10567  DEL → RPR → NAG → BOM → COK  05:15:00         19:15:00   2019-05-19   \n",
              "1947   DEL → RPR → NAG → BOM → COK  05:15:00         19:15:00   2019-03-22   \n",
              "6285   DEL → RPR → NAG → BOM → COK  05:15:00         19:15:00   2019-05-10   \n",
              "850    DEL → RPR → NAG → BOM → COK  05:15:00         19:15:00   2019-03-10   \n",
              "6008   DEL → RPR → NAG → BOM → COK  05:15:00         19:15:00   2019-06-07   \n",
              "2179         DEL → AMD → BOM → COK  05:00:00         19:15:00   2019-05-16   \n",
              "786          DEL → JAI → BOM → COK  05:30:00         19:45:00   2019-03-07   \n",
              "\n",
              "       Duration Total_Stops              Additional_Info  Price  \n",
              "2747       2025         2.0                      No info  10835  \n",
              "1284       2040         2.0                      No info  12347  \n",
              "8865       2045         2.0                      No info  13082  \n",
              "5758       2045         2.0                      No info  20747  \n",
              "1112       2065         2.0                      No info  10991  \n",
              "703        2065         2.0                      No info  12723  \n",
              "3193       2070         2.0  In-flight meal not included  15812  \n",
              "7322       2070         2.0                      No info  17072  \n",
              "2917       2105         2.0                      No info  11948  \n",
              "9386       2105         2.0                      No info  11791  \n",
              "9713       2105         2.0                      No info  11161  \n",
              "9314       2115         3.0                      No info  10991  \n",
              "5133       2115         3.0                      No info  14221  \n",
              "1628       2120         3.0                      No info  13387  \n",
              "9320       2135         2.0                      No info  19907  \n",
              "6830       2170         2.0                      No info  11552  \n",
              "3648       2170         2.0                      No info  11762  \n",
              "1589       2170         2.0                      No info  11552  \n",
              "3914       2170         2.0                      No info  11762  \n",
              "10186      2185         2.0                      No info  10756  \n",
              "6753       2230         2.0                      No info  21314  \n",
              "4217       2240         2.0  In-flight meal not included   9328  \n",
              "5364       2240         2.0                      No info  12341  \n",
              "773        2240         2.0                      No info   7711  \n",
              "9361       2240         2.0                      No info  10493  \n",
              "9741       2240         2.0                      No info  10493  \n",
              "9837       2240         2.0                      No info  14483  \n",
              "9891       2240         2.0                      No info   8446  \n",
              "7835       2240         2.0                      No info  13748  \n",
              "7528       2245         2.0                      No info  12814  \n",
              "7379       2245         2.0                      No info  20064  \n",
              "5685       2245         2.0                      No info  12273  \n",
              "9946       2245         2.0  In-flight meal not included   9296  \n",
              "226        2245         2.0                      No info  18799  \n",
              "3843       2245         2.0                      No info  13904  \n",
              "5321       2245         2.0                      No info  12119  \n",
              "685        2245         2.0                      No info  14410  \n",
              "8771       2280         3.0                      No info  10493  \n",
              "2787       2280         3.0                      No info  10703  \n",
              "2595       2280         3.0                      No info  10703  \n",
              "6861       2280         3.0                      No info  10493  \n",
              "2250       2280         3.0                      No info  10703  \n",
              "6733       2280         3.0                      No info  10493  \n",
              "10567      2280         3.0                      No info  10703  \n",
              "1947       2280         3.0                      No info   9128  \n",
              "6285       2280         3.0                      No info  10703  \n",
              "850        2280         3.0                      No info  15586  \n",
              "6008       2280         3.0                      No info  10703  \n",
              "2179       2295         2.0                      No info  10493  \n",
              "786        2295         2.0  In-flight meal not included  15864  "
            ]
          },
          "execution_count": 12,
          "metadata": {},
          "output_type": "execute_result"
        }
      ],
      "source": [
        "# Tìm giá trị Q1, Q3 và IQR của cột 'Duration'\n",
        "Q1_duration = merged_data['Duration'].quantile(0.25)\n",
        "Q3_duration = merged_data['Duration'].quantile(0.75)\n",
        "IQR_duration = Q3_duration - Q1_duration\n",
        "\n",
        "# Xác định ngưỡng cho outlier\n",
        "lower_bound_duration = Q1_duration - 1.5 * IQR_duration\n",
        "upper_bound_duration = Q3_duration + 1.5 * IQR_duration\n",
        "\n",
        "# Lọc ra các dòng có giá trị 'Duration' là outlier\n",
        "outliers_duration = merged_data[(merged_data['Duration'] < lower_bound_duration) | (merged_data['Duration'] > upper_bound_duration)]\n",
        "\n",
        "# Sắp xếp các dòng outlier theo cột 'Duration' từ bé đến lớn\n",
        "sorted_outliers_duration = outliers_duration.sort_values(by='Duration')\n",
        "\n",
        "# Hiển thị DataFrame sau khi sắp xếp\n",
        "sorted_outliers_duration.head(50)\n"
      ]
    },
    {
      "cell_type": "markdown",
      "metadata": {
        "id": "0_qFfeeYwGMF"
      },
      "source": [
        "### Xóa dòng đặc biệt ở Duration: có 1 dòng Duration = 5 phút, 1 chuyến bay thì không thể kéo dài 5p được -> xóa."
      ]
    },
    {
      "cell_type": "code",
      "execution_count": 13,
      "metadata": {
        "id": "AP08Bp0fwhre"
      },
      "outputs": [],
      "source": [
        "# Xóa các dòng có giá trị 'Duration' bằng 5\n",
        "merged_data = merged_data[merged_data['Duration'] != 5]\n",
        "\n",
        "\n"
      ]
    },
    {
      "cell_type": "markdown",
      "metadata": {
        "id": "bu1MvQZViMbq"
      },
      "source": [
        "# **Quan sát và phân tích tập dữ liệu (EDA)**\n"
      ]
    },
    {
      "cell_type": "markdown",
      "metadata": {
        "id": "Jxj0fMjVjPkx"
      },
      "source": [
        "## 1. Cho biết kiểu dữ liệu của các thuộc tính\n"
      ]
    },
    {
      "cell_type": "code",
      "execution_count": 14,
      "metadata": {
        "colab": {
          "base_uri": "https://localhost:8080/"
        },
        "id": "vmISeFXniMNF",
        "outputId": "7da817c9-e5fb-4cad-fdaf-c44629234be4"
      },
      "outputs": [
        {
          "name": "stdout",
          "output_type": "stream",
          "text": [
            "<class 'pandas.core.frame.DataFrame'>\n",
            "Index: 10462 entries, 0 to 10682\n",
            "Data columns (total 13 columns):\n",
            " #   Column            Non-Null Count  Dtype         \n",
            "---  ------            --------------  -----         \n",
            " 0   Airline           10462 non-null  object        \n",
            " 1   Date_of_Journey   10462 non-null  datetime64[ns]\n",
            " 2   Month_of_Journey  10462 non-null  int64         \n",
            " 3   Source            10462 non-null  object        \n",
            " 4   Destination       10462 non-null  object        \n",
            " 5   Route             10461 non-null  object        \n",
            " 6   Dep_Time          10462 non-null  object        \n",
            " 7   Arrival_Time_new  10462 non-null  object        \n",
            " 8   Arrival_Date      10462 non-null  object        \n",
            " 9   Duration          10462 non-null  int64         \n",
            " 10  Total_Stops       10462 non-null  object        \n",
            " 11  Additional_Info   10462 non-null  object        \n",
            " 12  Price             10462 non-null  int64         \n",
            "dtypes: datetime64[ns](1), int64(3), object(9)\n",
            "memory usage: 1.1+ MB\n"
          ]
        }
      ],
      "source": [
        "# Hiển thị thông tin về DataFrame\n",
        "merged_data.info()"
      ]
    },
    {
      "cell_type": "markdown",
      "metadata": {
        "id": "w7cO6qzbjRjD"
      },
      "source": [
        "## 2. Đối với cột Price, cho biết:\n",
        "\n",
        "\n",
        "*   Giá cao nhất, thấp nhất, giá trung bình, mức giá xuất hiện nhiều\n",
        "*   Độ lệch chuẩn của cột price?\n",
        "*   Cho biết giá phân phối xung quanh trung tâm hay cách xa trung tâm?\n",
        "Nhận xét về giá trị mean và median của tập dữ liệu.\n",
        "*   Vẽ đồ thị histogram để nhận xét dữ liệu có bị lệch không?\n",
        "List item\n",
        "\n",
        "\n",
        "\n"
      ]
    },
    {
      "cell_type": "markdown",
      "metadata": {
        "id": "r-YWeNb7m663"
      },
      "source": [
        "### 2.1 Code"
      ]
    },
    {
      "cell_type": "code",
      "execution_count": 15,
      "metadata": {
        "colab": {
          "base_uri": "https://localhost:8080/",
          "height": 712
        },
        "id": "WQVwrfsjhSCt",
        "outputId": "5fa6b9c9-4ab6-4918-97bc-be987f850b9b"
      },
      "outputs": [
        {
          "name": "stdout",
          "output_type": "stream",
          "text": [
            "Giá cao nhất: 79512\n",
            "Giá thấp nhất: 1759\n",
            "Giá trung bình: 9025.849072835023\n",
            "Mức giá xuất hiện nhiều nhất: 10262\n",
            "Số lần xuất hiện của mức giá: 258\n",
            "Độ lệch chuẩn của cột Price: 4624.162124562484\n",
            "Mean: 9025.849072835023, Median: 8266.0\n",
            "Giá trị mean lớn hơn median, dữ liệu lệch về bên phải.\n"
          ]
        },
        {
          "data": {
            "image/png": "[encoded data removed]",
            "text/plain": [
              "<Figure size 1000x600 with 1 Axes>"
            ]
          },
          "metadata": {},
          "output_type": "display_data"
        }
      ],
      "source": [
        "# 1. Giá cao nhất, thấp nhất, giá trung bình, mức giá xuất hiện nhiều\n",
        "max_price = merged_data['Price'].max()\n",
        "min_price = merged_data['Price'].min()\n",
        "mean_price = merged_data['Price'].mean()\n",
        "# Đếm số lần xuất hiện của từng giá trị\n",
        "price_counts = merged_data['Price'].value_counts()\n",
        "# Lấy giá trị mode (xuất hiện nhiều nhất)\n",
        "mode_price = price_counts.idxmax()\n",
        "# Số lần xuất hiện của giá trị mode\n",
        "mode_count = price_counts.max()\n",
        "\n",
        "\n",
        "print(f\"Giá cao nhất: {max_price}\")\n",
        "print(f\"Giá thấp nhất: {min_price}\")\n",
        "print(f\"Giá trung bình: {mean_price}\")\n",
        "print(f\"Mức giá xuất hiện nhiều nhất: {mode_price}\")\n",
        "print(f\"Số lần xuất hiện của mức giá: {mode_count}\")\n",
        "\n",
        "# 2. Độ lệch chuẩn của cột Price\n",
        "std_price = merged_data['Price'].std()\n",
        "print(f\"Độ lệch chuẩn của cột Price: {std_price}\")\n",
        "\n",
        "# 3. Nhận xét về giá trị mean và median của tập dữ liệu\n",
        "median_price = merged_data['Price'].median()\n",
        "print(f\"Mean: {mean_price}, Median: {median_price}\")\n",
        "if mean_price > median_price:\n",
        "    print(\"Giá trị mean lớn hơn median, dữ liệu lệch về bên phải.\")\n",
        "elif mean_price < median_price:\n",
        "    print(\"Giá trị mean nhỏ hơn median, dữ liệu lệch về bên trái.\")\n",
        "else:\n",
        "    print(\"Giá trị mean bằng median, phân phối đối xứng.\")\n",
        "\n",
        "# 4. Vẽ đồ thị histogram để nhận xét dữ liệu có bị lệch không\n",
        "plt.figure(figsize=(10, 6))\n",
        "plt.hist(merged_data['Price'], bins=20, color='skyblue', edgecolor='black')\n",
        "plt.title('Phân phối giá')\n",
        "plt.xlabel('Giá')\n",
        "plt.ylabel('Số lượng chuyến bay')\n",
        "plt.show()"
      ]
    },
    {
      "cell_type": "markdown",
      "metadata": {
        "id": "-ilhvQ05nAwe"
      },
      "source": [
        "### 2.2. Kết luận\n",
        "#### - Giá cao nhất, thấp nhất, giá trung bình, mức giá xuất hiện nhiều\n",
        "- Giá cao nhất: 79512\n",
        "- Giá thấp nhất: 1759\n",
        "- Giá trung bình: 9025.849072835023\n",
        "- Mức giá xuất hiện nhiều nhất: 10262, Số lần xuất hiện của mức giá: 258\n",
        "#### - Độ lệch chuẩn của cột price?\n",
        "Độ lệch chuẩn của cột Price: 4624.162124562484\n",
        "\n",
        "#### - Cho biết giá phân phối xung quanh trung tâm hay cách xa trung tâm? Nhận xét về giá trị mean và median của tập dữ liệu.\n",
        "Giá trị mean lớn hơn median, dữ liệu lệch về bên phải. Điều này chứng tỏ có một số giá trị lớn ở phía bên phải của phân phối nghĩa là có các chuyến bay có giá vé cao.\n",
        "#### - Vẽ đồ thị histogram để nhận xét dữ liệu có bị lệch không?\n",
        "- Phần lớn chuyến bay có giá vé tập trung ở mức giá thấp: Có thể có một số lượng lớn chuyến bay có giá vé thấp, và đây là một đặc điểm chính của dữ liệu.\n",
        "- Có một số chuyến bay có giá vé cao: Tuy nhiên, cũng có một số chuyến bay có giá vé cao hơn so với giá trung bình, nhưng chúng là ít hơn và tập trung ở khoảng giá trị cao hơn.\n",
        "- Dữ liệu có độ biến động lớn: Sự chênh lệch giữa giá vé thấp và giá vé cao có thể làm cho phương sai (variance) của dữ liệu lớn.\n",
        "- Phân phối lệch phải: Nếu phần lớn giá trị tập trung ở giá vé thấp, trong khi một số giá trị cao hơn được giữ lại, thì dữ liệu có thể có sự lệch phải.\n",
        "- Ưu điểm: Các chuyến bay giá rẻ thường chiếm số lượng lớn, trong khi một số chuyến bay đắt tiền có thể là những trường hợp đặc biệt."
      ]
    },
    {
      "cell_type": "markdown",
      "metadata": {
        "id": "DKUyi_sejbzM"
      },
      "source": [
        "## 3. Mô tả số lượng missing value của mỗi thuộc tính\n"
      ]
    },
    {
      "cell_type": "code",
      "execution_count": 16,
      "metadata": {
        "colab": {
          "base_uri": "https://localhost:8080/"
        },
        "id": "usdDtNQJjiw4",
        "outputId": "03d9ad6b-8274-4e91-abce-3f00953b5b64"
      },
      "outputs": [
        {
          "name": "stdout",
          "output_type": "stream",
          "text": [
            "Số lượng missing value của mỗi thuộc tính:\n",
            "Airline             0\n",
            "Date_of_Journey     0\n",
            "Month_of_Journey    0\n",
            "Source              0\n",
            "Destination         0\n",
            "Route               1\n",
            "Dep_Time            0\n",
            "Arrival_Time_new    0\n",
            "Arrival_Date        0\n",
            "Duration            0\n",
            "Total_Stops         0\n",
            "Additional_Info     0\n",
            "Price               0\n",
            "dtype: int64\n"
          ]
        }
      ],
      "source": [
        "# 3. Mô tả số lượng missing value của mỗi thuộc tính\n",
        "missing_values = merged_data.isnull().sum()\n",
        "print(\"Số lượng missing value của mỗi thuộc tính:\")\n",
        "print(missing_values)"
      ]
    },
    {
      "cell_type": "markdown",
      "metadata": {
        "id": "2PSCkjffjiql"
      },
      "source": [
        "## 4. Tính tỷ lệ % missing value của mỗi thuộc tính\n"
      ]
    },
    {
      "cell_type": "code",
      "execution_count": 17,
      "metadata": {
        "colab": {
          "base_uri": "https://localhost:8080/"
        },
        "id": "7O1Hxw_Ujilf",
        "outputId": "959a3b95-0538-4f8b-b079-50cdf95098ae"
      },
      "outputs": [
        {
          "name": "stdout",
          "output_type": "stream",
          "text": [
            "Tỷ lệ % missing value của mỗi thuộc tính:\n",
            "Airline             0.000000\n",
            "Date_of_Journey     0.000000\n",
            "Month_of_Journey    0.000000\n",
            "Source              0.000000\n",
            "Destination         0.000000\n",
            "Route               0.009558\n",
            "Dep_Time            0.000000\n",
            "Arrival_Time_new    0.000000\n",
            "Arrival_Date        0.000000\n",
            "Duration            0.000000\n",
            "Total_Stops         0.000000\n",
            "Additional_Info     0.000000\n",
            "Price               0.000000\n",
            "dtype: float64\n"
          ]
        }
      ],
      "source": [
        "# 4. Tính tỷ lệ % missing value của mỗi thuộc tính\n",
        "missing_percentage = (missing_values / len(merged_data)) * 100\n",
        "print(\"Tỷ lệ % missing value của mỗi thuộc tính:\")\n",
        "print(missing_percentage)"
      ]
    },
    {
      "cell_type": "markdown",
      "metadata": {
        "id": "6IGs1CNxjiey"
      },
      "source": [
        "## 5. Xử lý dữ liệu missing\n"
      ]
    },
    {
      "cell_type": "code",
      "execution_count": 18,
      "metadata": {
        "id": "O0Q-3ptmjjve"
      },
      "outputs": [],
      "source": [
        "# 5. Xử lý dữ liệu missing ( xóa các dòng có missing value)\n",
        "merged_data.dropna(subset=['Total_Stops'], inplace=True)"
      ]
    },
    {
      "cell_type": "markdown",
      "metadata": {
        "id": "sx0Rpg49jfu_"
      },
      "source": [
        "## 6. Outlier: sử dụng đồ thị boxplot để quan sát cột Price có tồn tại outlier không?"
      ]
    },
    {
      "cell_type": "markdown",
      "metadata": {
        "id": "RDGqNy1tlM2i"
      },
      "source": [
        "### Đồ thị"
      ]
    },
    {
      "cell_type": "code",
      "execution_count": 19,
      "metadata": {
        "colab": {
          "base_uri": "https://localhost:8080/",
          "height": 565
        },
        "id": "cTZ1IeMWjgKM",
        "outputId": "ecfa17e5-5010-430a-9ef6-17f535eca29f"
      },
      "outputs": [
        {
          "data": {
            "image/png": "[encoded data removed]",
            "text/plain": [
              "<Figure size 800x600 with 1 Axes>"
            ]
          },
          "metadata": {},
          "output_type": "display_data"
        }
      ],
      "source": [
        "# Vẽ boxplot cho cột Price trong merged_data\n",
        "plt.figure(figsize=(8, 6))\n",
        "sns.boxplot(x=merged_data['Price'])\n",
        "plt.title('Boxplot của cột Price')\n",
        "plt.xlabel('Price (Rupee)')  # Thêm đơn vị cho trục x\n",
        "plt.show()"
      ]
    },
    {
      "cell_type": "markdown",
      "metadata": {
        "id": "23g6nvkVlRCY"
      },
      "source": [
        "### Các giá trị outlier: các giá trị outlier là có tồn tại, tuy nhiên có các chuyến bay giá cao như vậy có thể là do thời gian bay dài (Duration), hạng vé business/premium (Airline)\n",
        "\n",
        "\n"
      ]
    },
    {
      "cell_type": "code",
      "execution_count": 20,
      "metadata": {
        "colab": {
          "base_uri": "https://localhost:8080/",
          "height": 442
        },
        "id": "F7z-JA9rlVli",
        "outputId": "9d0e8da2-1d53-487a-a717-0571f51ce344"
      },
      "outputs": [
        {
          "name": "stdout",
          "output_type": "stream",
          "text": [
            "Các dòng có giá 'Price' là outlier:\n"
          ]
        },
        {
          "data": {
            "text/html": [
              "<div>\n",
              "<style scoped>\n",
              "    .dataframe tbody tr th:only-of-type {\n",
              "        vertical-align: middle;\n",
              "    }\n",
              "\n",
              "    .dataframe tbody tr th {\n",
              "        vertical-align: top;\n",
              "    }\n",
              "\n",
              "    .dataframe thead th {\n",
              "        text-align: right;\n",
              "    }\n",
              "</style>\n",
              "<table border=\"1\" class=\"dataframe\">\n",
              "  <thead>\n",
              "    <tr style=\"text-align: right;\">\n",
              "      <th></th>\n",
              "      <th>Airline</th>\n",
              "      <th>Date_of_Journey</th>\n",
              "      <th>Month_of_Journey</th>\n",
              "      <th>Source</th>\n",
              "      <th>Destination</th>\n",
              "      <th>Route</th>\n",
              "      <th>Dep_Time</th>\n",
              "      <th>Arrival_Time_new</th>\n",
              "      <th>Arrival_Date</th>\n",
              "      <th>Duration</th>\n",
              "      <th>Total_Stops</th>\n",
              "      <th>Additional_Info</th>\n",
              "      <th>Price</th>\n",
              "    </tr>\n",
              "  </thead>\n",
              "  <tbody>\n",
              "    <tr>\n",
              "      <th>123</th>\n",
              "      <td>Air India</td>\n",
              "      <td>2019-03-01</td>\n",
              "      <td>3</td>\n",
              "      <td>Delhi</td>\n",
              "      <td>Cochin</td>\n",
              "      <td>DEL → BOM → COK</td>\n",
              "      <td>23:00:00</td>\n",
              "      <td>19:15:00</td>\n",
              "      <td>2019-03-02</td>\n",
              "      <td>1215</td>\n",
              "      <td>1.0</td>\n",
              "      <td>No info</td>\n",
              "      <td>27430</td>\n",
              "    </tr>\n",
              "    <tr>\n",
              "      <th>396</th>\n",
              "      <td>Multiple carriers</td>\n",
              "      <td>2019-03-01</td>\n",
              "      <td>3</td>\n",
              "      <td>Delhi</td>\n",
              "      <td>Cochin</td>\n",
              "      <td>DEL → BOM → COK</td>\n",
              "      <td>12:50:00</td>\n",
              "      <td>19:15:00</td>\n",
              "      <td>2019-03-01</td>\n",
              "      <td>385</td>\n",
              "      <td>1.0</td>\n",
              "      <td>No info</td>\n",
              "      <td>36983</td>\n",
              "    </tr>\n",
              "    <tr>\n",
              "      <th>627</th>\n",
              "      <td>Jet Airways</td>\n",
              "      <td>2019-03-01</td>\n",
              "      <td>3</td>\n",
              "      <td>Banglore</td>\n",
              "      <td>New Delhi</td>\n",
              "      <td>BLR → BOM → DEL</td>\n",
              "      <td>16:55:00</td>\n",
              "      <td>07:40:00</td>\n",
              "      <td>2019-03-02</td>\n",
              "      <td>885</td>\n",
              "      <td>1.0</td>\n",
              "      <td>1 Long layover</td>\n",
              "      <td>26890</td>\n",
              "    </tr>\n",
              "    <tr>\n",
              "      <th>688</th>\n",
              "      <td>Jet Airways</td>\n",
              "      <td>2019-03-01</td>\n",
              "      <td>3</td>\n",
              "      <td>Banglore</td>\n",
              "      <td>New Delhi</td>\n",
              "      <td>BLR → BOM → DEL</td>\n",
              "      <td>16:55:00</td>\n",
              "      <td>10:25:00</td>\n",
              "      <td>2019-03-02</td>\n",
              "      <td>1050</td>\n",
              "      <td>1.0</td>\n",
              "      <td>1 Long layover</td>\n",
              "      <td>25735</td>\n",
              "    </tr>\n",
              "    <tr>\n",
              "      <th>750</th>\n",
              "      <td>Jet Airways</td>\n",
              "      <td>2019-03-18</td>\n",
              "      <td>3</td>\n",
              "      <td>Banglore</td>\n",
              "      <td>New Delhi</td>\n",
              "      <td>BLR → BOM → DEL</td>\n",
              "      <td>22:50:00</td>\n",
              "      <td>05:05:00</td>\n",
              "      <td>2019-03-19</td>\n",
              "      <td>375</td>\n",
              "      <td>1.0</td>\n",
              "      <td>No info</td>\n",
              "      <td>54826</td>\n",
              "    </tr>\n",
              "    <tr>\n",
              "      <th>...</th>\n",
              "      <td>...</td>\n",
              "      <td>...</td>\n",
              "      <td>...</td>\n",
              "      <td>...</td>\n",
              "      <td>...</td>\n",
              "      <td>...</td>\n",
              "      <td>...</td>\n",
              "      <td>...</td>\n",
              "      <td>...</td>\n",
              "      <td>...</td>\n",
              "      <td>...</td>\n",
              "      <td>...</td>\n",
              "      <td>...</td>\n",
              "    </tr>\n",
              "    <tr>\n",
              "      <th>10180</th>\n",
              "      <td>Jet Airways</td>\n",
              "      <td>2019-03-01</td>\n",
              "      <td>3</td>\n",
              "      <td>Banglore</td>\n",
              "      <td>New Delhi</td>\n",
              "      <td>BLR → BOM → DEL</td>\n",
              "      <td>11:40:00</td>\n",
              "      <td>18:25:00</td>\n",
              "      <td>2019-03-01</td>\n",
              "      <td>405</td>\n",
              "      <td>1.0</td>\n",
              "      <td>No info</td>\n",
              "      <td>26890</td>\n",
              "    </tr>\n",
              "    <tr>\n",
              "      <th>10313</th>\n",
              "      <td>Jet Airways</td>\n",
              "      <td>2019-03-01</td>\n",
              "      <td>3</td>\n",
              "      <td>Banglore</td>\n",
              "      <td>New Delhi</td>\n",
              "      <td>BLR → BOM → DEL</td>\n",
              "      <td>16:55:00</td>\n",
              "      <td>08:15:00</td>\n",
              "      <td>2019-03-02</td>\n",
              "      <td>920</td>\n",
              "      <td>1.0</td>\n",
              "      <td>No info</td>\n",
              "      <td>26890</td>\n",
              "    </tr>\n",
              "    <tr>\n",
              "      <th>10450</th>\n",
              "      <td>Air India</td>\n",
              "      <td>2019-03-01</td>\n",
              "      <td>3</td>\n",
              "      <td>Banglore</td>\n",
              "      <td>New Delhi</td>\n",
              "      <td>BLR → BOM → BHO → DEL</td>\n",
              "      <td>08:50:00</td>\n",
              "      <td>09:25:00</td>\n",
              "      <td>2019-03-02</td>\n",
              "      <td>1475</td>\n",
              "      <td>2.0</td>\n",
              "      <td>No info</td>\n",
              "      <td>25430</td>\n",
              "    </tr>\n",
              "    <tr>\n",
              "      <th>10494</th>\n",
              "      <td>Jet Airways</td>\n",
              "      <td>2019-03-01</td>\n",
              "      <td>3</td>\n",
              "      <td>Banglore</td>\n",
              "      <td>New Delhi</td>\n",
              "      <td>BLR → BOM → DEL</td>\n",
              "      <td>14:05:00</td>\n",
              "      <td>19:10:00</td>\n",
              "      <td>2019-03-01</td>\n",
              "      <td>305</td>\n",
              "      <td>1.0</td>\n",
              "      <td>No info</td>\n",
              "      <td>36235</td>\n",
              "    </tr>\n",
              "    <tr>\n",
              "      <th>10503</th>\n",
              "      <td>Jet Airways</td>\n",
              "      <td>2019-03-15</td>\n",
              "      <td>3</td>\n",
              "      <td>Banglore</td>\n",
              "      <td>New Delhi</td>\n",
              "      <td>BLR → BOM → DEL</td>\n",
              "      <td>21:25:00</td>\n",
              "      <td>05:05:00</td>\n",
              "      <td>2019-03-16</td>\n",
              "      <td>460</td>\n",
              "      <td>1.0</td>\n",
              "      <td>No info</td>\n",
              "      <td>27210</td>\n",
              "    </tr>\n",
              "  </tbody>\n",
              "</table>\n",
              "<p>94 rows × 13 columns</p>\n",
              "</div>"
            ],
            "text/plain": [
              "                 Airline Date_of_Journey  Month_of_Journey    Source  \\\n",
              "123            Air India      2019-03-01                 3     Delhi   \n",
              "396    Multiple carriers      2019-03-01                 3     Delhi   \n",
              "627          Jet Airways      2019-03-01                 3  Banglore   \n",
              "688          Jet Airways      2019-03-01                 3  Banglore   \n",
              "750          Jet Airways      2019-03-18                 3  Banglore   \n",
              "...                  ...             ...               ...       ...   \n",
              "10180        Jet Airways      2019-03-01                 3  Banglore   \n",
              "10313        Jet Airways      2019-03-01                 3  Banglore   \n",
              "10450          Air India      2019-03-01                 3  Banglore   \n",
              "10494        Jet Airways      2019-03-01                 3  Banglore   \n",
              "10503        Jet Airways      2019-03-15                 3  Banglore   \n",
              "\n",
              "      Destination                  Route  Dep_Time Arrival_Time_new  \\\n",
              "123        Cochin        DEL → BOM → COK  23:00:00         19:15:00   \n",
              "396        Cochin        DEL → BOM → COK  12:50:00         19:15:00   \n",
              "627     New Delhi        BLR → BOM → DEL  16:55:00         07:40:00   \n",
              "688     New Delhi        BLR → BOM → DEL  16:55:00         10:25:00   \n",
              "750     New Delhi        BLR → BOM → DEL  22:50:00         05:05:00   \n",
              "...           ...                    ...       ...              ...   \n",
              "10180   New Delhi        BLR → BOM → DEL  11:40:00         18:25:00   \n",
              "10313   New Delhi        BLR → BOM → DEL  16:55:00         08:15:00   \n",
              "10450   New Delhi  BLR → BOM → BHO → DEL  08:50:00         09:25:00   \n",
              "10494   New Delhi        BLR → BOM → DEL  14:05:00         19:10:00   \n",
              "10503   New Delhi        BLR → BOM → DEL  21:25:00         05:05:00   \n",
              "\n",
              "      Arrival_Date  Duration Total_Stops Additional_Info  Price  \n",
              "123     2019-03-02      1215         1.0         No info  27430  \n",
              "396     2019-03-01       385         1.0         No info  36983  \n",
              "627     2019-03-02       885         1.0  1 Long layover  26890  \n",
              "688     2019-03-02      1050         1.0  1 Long layover  25735  \n",
              "750     2019-03-19       375         1.0         No info  54826  \n",
              "...            ...       ...         ...             ...    ...  \n",
              "10180   2019-03-01       405         1.0         No info  26890  \n",
              "10313   2019-03-02       920         1.0         No info  26890  \n",
              "10450   2019-03-02      1475         2.0         No info  25430  \n",
              "10494   2019-03-01       305         1.0         No info  36235  \n",
              "10503   2019-03-16       460         1.0         No info  27210  \n",
              "\n",
              "[94 rows x 13 columns]"
            ]
          },
          "execution_count": 20,
          "metadata": {},
          "output_type": "execute_result"
        }
      ],
      "source": [
        "# Xác định giá trị Q1, Q3 và IQR\n",
        "Q1 = merged_data['Price'].quantile(0.25)\n",
        "Q3 = merged_data['Price'].quantile(0.75)\n",
        "IQR = Q3 - Q1\n",
        "\n",
        "# Xác định ngưỡng cho outlier\n",
        "lower_bound = Q1 - 1.5 * IQR\n",
        "upper_bound = Q3 + 1.5 * IQR\n",
        "\n",
        "# Lọc ra các dòng có giá trị 'Price' là outlier\n",
        "outliers = merged_data[(merged_data['Price'] < lower_bound) | (merged_data['Price'] > upper_bound)]\n",
        "\n",
        "# Hiển thị các dòng có giá 'Price' là outlier\n",
        "print(\"Các dòng có giá 'Price' là outlier:\")\n",
        "outliers\n"
      ]
    },
    {
      "cell_type": "markdown",
      "metadata": {
        "id": "CKid8wx1jh5i"
      },
      "source": [
        "# **Visualize dữ liệu dạng bảng hoặc đồ thị**"
      ]
    },
    {
      "cell_type": "markdown",
      "metadata": {
        "id": "U_J3L4lhj3uA"
      },
      "source": [
        "## 1. Giá vé tăng khi nào?"
      ]
    },
    {
      "cell_type": "markdown",
      "metadata": {
        "id": "ZptJ2bgsrsVx"
      },
      "source": [
        "### Giá vé tăng khi hãng thay đổi: khi chọn Jet Airways Business thì giá vé sẽ cao hơn so với các hãng khác"
      ]
    },
    {
      "cell_type": "code",
      "execution_count": 21,
      "metadata": {
        "colab": {
          "base_uri": "https://localhost:8080/",
          "height": 889
        },
        "id": "qtZwzjbljg7v",
        "outputId": "b6bc6465-3f42-473e-8e11-881e47509bc2"
      },
      "outputs": [
        {
          "data": {
            "image/png": "[encoded data removed]",
            "text/plain": [
              "<Figure size 1400x800 with 1 Axes>"
            ]
          },
          "metadata": {},
          "output_type": "display_data"
        }
      ],
      "source": [
        "# Vẽ đồ thị so sánh giá vé theo hãng máy bay\n",
        "plt.figure(figsize=(14, 8))\n",
        "sns.boxplot(x='Airline', y='Price', data=merged_data)\n",
        "plt.title('So sánh giá vé máy bay theo hãng')\n",
        "plt.xlabel('Hãng máy bay')\n",
        "plt.ylabel('Giá vé (Rupee)')\n",
        "plt.xticks(rotation=45, ha='right')  # Để xác định định dạng các nhãn trên trục x\n",
        "plt.show()"
      ]
    },
    {
      "cell_type": "markdown",
      "metadata": {
        "id": "Bh9xEu8gjg2S"
      },
      "source": [
        "\n",
        "## 2. So sánh tỷ lệ các chuyến bay thẳng và trung chuyển (có dừng)"
      ]
    },
    {
      "cell_type": "code",
      "execution_count": null,
      "metadata": {
        "id": "jd35QbgAj4g1"
      },
      "outputs": [],
      "source": []
    },
    {
      "cell_type": "markdown",
      "metadata": {
        "id": "nEHNxMrMj6eh"
      },
      "source": [
        "\n",
        "## 3. Nước nào có lượng chuyến bay nhiều nhất?"
      ]
    },
    {
      "cell_type": "code",
      "execution_count": null,
      "metadata": {
        "id": "kCxj2oSUjgwq"
      },
      "outputs": [],
      "source": []
    },
    {
      "cell_type": "markdown",
      "metadata": {
        "id": "0H-Bz7iyjgqn"
      },
      "source": [
        "\n",
        "## 4. Hãng máy bay nào được khách đặt vé nhiều/thấp nhất?"
      ]
    },
    {
      "cell_type": "markdown",
      "metadata": {
        "id": "kUtQZ9c6TKpx"
      },
      "source": [
        "### 4.1 Visualize: Bởi vì cần đưa ra sự so sánh giữa các nhóm (các hãng mới bay) nên chọn biểu đồ là trực quan hơn, giúp người xem dễ hiểu hơn. Và để so sánh các giá trị giữa các nhóm khác nhau thì chọn biểu đồ cột là hợp lý. Trên mỗi cột có hiển thị số lượng chuyến bay vì có những hãng có số chuyến bay quá nhỏ ví dụ 1, 3, hoặc 6 so với những hãng lên đến cả nghìn chuyến bay thì rất khó để biết số lượng."
      ]
    },
    {
      "cell_type": "code",
      "execution_count": 22,
      "metadata": {
        "colab": {
          "base_uri": "https://localhost:8080/",
          "height": 737
        },
        "id": "L8UDHg72Omjg",
        "outputId": "f751eff5-3408-4a62-8300-c58ce5bc5a6a"
      },
      "outputs": [
        {
          "data": {
            "image/png": "[encoded data removed]",
            "text/plain": [
              "<Figure size 1000x600 with 1 Axes>"
            ]
          },
          "metadata": {},
          "output_type": "display_data"
        }
      ],
      "source": [
        "# Đếm số lượng chuyến bay của từng hãng hàng không\n",
        "airline_counts = merged_data['Airline'].value_counts()\n",
        "\n",
        "# Vẽ đồ thị cột\n",
        "plt.figure(figsize=(10, 6))\n",
        "ax = airline_counts.plot(kind='bar', color='skyblue')\n",
        "\n",
        "# Thêm số lượng chuyến bay trên đầu mỗi cột\n",
        "for p in ax.patches:\n",
        "    ax.annotate(str(p.get_height()), (p.get_x() + p.get_width() / 2., p.get_height()),\n",
        "                ha='center', va='baseline', xytext=(0, 10), textcoords='offset points')\n",
        "\n",
        "# Đặt tên hãng máy bay chéo 45 độ\n",
        "plt.xticks(rotation=45, ha='right')\n",
        "\n",
        "plt.title('Số lượng chuyến bay của mỗi hãng hàng không')\n",
        "plt.xlabel('Hãng hàng không')\n",
        "plt.ylabel('Số lượng chuyến bay')\n",
        "plt.show()"
      ]
    },
    {
      "cell_type": "markdown",
      "metadata": {
        "id": "jzRiCbRvTIA4"
      },
      "source": [
        "### 4.2. Kết luận\n",
        "#### - Dựa vào thông tin datasets cung cấp thì không thể biết được hãng nào được khách đặt nhiều nhất, hay ít nhất; ví dụ: Hãng Jet Airways có 3700 chuyến nhưng mỗi chuyến chỉ có 50 khách đặt-> tổng là 185.000, còn hãng IndiGo có 2043 nhưng mỗi chuyến có 100 khách đăt -> tổng là 204300 lượt khách, mà 204300> 185000, nên IndiGo có lượng khách đặt nhiều hơn Jet Airways dù IndiGo có ít chuyến bay hơn. **Như vậy, với datasets được cung cấp và qua số lượng chuyến bay của mỗi hãng, thì không thể kết luận được hãng nào nhiều/ít khách đặt nhất. Cần có thêm 1 cột Số lượng hành khách mỗi chuyến bay thì ta mới có thể xác định được.**\n",
        "#### -  Với trường hợp, số lượng khách đặt mỗi chuyến là như nhau (hay chênh lệch không đáng kể), thì hãng Jet Airways có nhiều khách đặt nhất và Trujet có ít khách đặt nhất"
      ]
    },
    {
      "cell_type": "markdown",
      "metadata": {
        "id": "-fyOynarjgWd"
      },
      "source": [
        "\n",
        "## 5. Tháng nào là tháng cao điểm"
      ]
    },
    {
      "cell_type": "markdown",
      "metadata": {
        "id": "--LM8FWtf0Gs"
      },
      "source": [
        "### 5.1. Visualize: Bởi vì cần đưa ra sự so sánh giữa các nhóm (các tháng) nên chọn biểu đồ là trực quan hơn, giúp người xem dễ hiểu hơn. Vì dữ liệu có ít nhóm (chỉ có số liệu của 4 tháng trong năm 2019) và để so sánh các giá trị giữa các nhóm khác nhau thì chọn biểu đồ cột là hợp lý."
      ]
    },
    {
      "cell_type": "code",
      "execution_count": 23,
      "metadata": {
        "colab": {
          "base_uri": "https://localhost:8080/",
          "height": 566
        },
        "id": "v9qoLUX-j9tQ",
        "outputId": "863e1aaa-fb06-40bf-ded4-0f066dbc2268"
      },
      "outputs": [
        {
          "data": {
            "image/png": "[encoded data removed]",
            "text/plain": [
              "<Figure size 1000x600 with 1 Axes>"
            ]
          },
          "metadata": {},
          "output_type": "display_data"
        }
      ],
      "source": [
        "# Đếm số lượng chuyến bay của từng tháng\n",
        "monthly_flight_counts = merged_data['Month_of_Journey'].value_counts().sort_index()\n",
        "\n",
        "# Vẽ đồ thị cột\n",
        "plt.figure(figsize=(10, 6))\n",
        "bars = plt.bar(monthly_flight_counts.index, monthly_flight_counts, color='skyblue')\n",
        "\n",
        "# Thêm chú thích (annotation) trên đỉnh mỗi cột\n",
        "for bar in bars:\n",
        "    yval = bar.get_height()\n",
        "    plt.text(bar.get_x() + bar.get_width()/2, int(yval), int(yval), ha='center', va='bottom')\n",
        "\n",
        "# Xoay số tháng thẳng lên\n",
        "plt.xticks(rotation=0)\n",
        "\n",
        "# Chỉ hiển thị các tháng duy nhất trên trục x\n",
        "plt.xticks(monthly_flight_counts.index)\n",
        "\n",
        "plt.title('Số lượng chuyến bay theo từng tháng (2019)')\n",
        "plt.xlabel('Tháng')\n",
        "plt.ylabel('Số lượng chuyến bay')\n",
        "plt.show()"
      ]
    },
    {
      "cell_type": "markdown",
      "metadata": {
        "id": "7eObQ44QgZu7"
      },
      "source": [
        "### 5.2. Kết luận\n",
        "#### Tháng 5 và tháng 6 là 2 tháng số lượng chuyến bay nhiều nhất (số lượng tháng 6 xấp xỉ tháng tháng 5). Như vậy có thể đưa ra kết luận, tháng 5 là tháng cao điểm."
      ]
    },
    {
      "cell_type": "markdown",
      "metadata": {
        "id": "H2UC1q6gjrw8"
      },
      "source": [
        "\n",
        "## 6. Giá có thay đổi tùy theo hãng hàng không hay không?"
      ]
    },
    {
      "cell_type": "code",
      "execution_count": 25,
      "metadata": {
        "id": "AoZ7njXTj-Id"
      },
      "outputs": [
        {
          "data": {
            "image/png": "[encoded data removed]",
            "text/plain": [
              "<Figure size 1400x600 with 1 Axes>"
            ]
          },
          "metadata": {},
          "output_type": "display_data"
        }
      ],
      "source": [
        "avg_price_by_airline = merged_data.groupby('Airline')['Price'].mean().sort_values()\n",
        "plt.figure(figsize=(14, 6))\n",
        "sns.barplot(x='Airline', y='Price', data=merged_data)\n",
        "plt.xticks(rotation=45, ha='right')\n",
        "plt.title('Giá vé trung bình theo hãng hàng không')\n",
        "plt.show()"
      ]
    },
    {
      "cell_type": "markdown",
      "metadata": {
        "id": "Cam1c1NEjs7f"
      },
      "source": [
        "\n",
        "## 7. Giá vé bị ảnh hưởng như thế nào khi mua vé chỉ 1 hoặc 2 ngày trước ngày khởi hành?"
      ]
    },
    {
      "cell_type": "code",
      "execution_count": null,
      "metadata": {
        "id": "OVEYqVmIkAv7"
      },
      "outputs": [],
      "source": []
    },
    {
      "cell_type": "markdown",
      "metadata": {
        "id": "lTSJgekIkBK5"
      },
      "source": [
        "\n",
        "## 8. Giá vé có thay đổi theo thời gian đi và đến không?"
      ]
    },
    {
      "cell_type": "code",
      "execution_count": null,
      "metadata": {
        "id": "MKMro1MXkDSn"
      },
      "outputs": [],
      "source": []
    },
    {
      "cell_type": "markdown",
      "metadata": {
        "id": "OFsEYbJKkCt-"
      },
      "source": [
        "\n",
        "## 9. Giá thay đổi như thế nào khi thay đổi Nguồn và Điểm đến?"
      ]
    },
    {
      "cell_type": "code",
      "execution_count": null,
      "metadata": {
        "id": "sjUEr8N0kD2G"
      },
      "outputs": [],
      "source": []
    },
    {
      "cell_type": "markdown",
      "metadata": {
        "id": "81TSM4H2kRd_"
      },
      "source": [
        "# Kết luận các điểm chính quan sát được từ dữ liệu từ các gợi ý trên\n"
      ]
    },
    {
      "cell_type": "code",
      "execution_count": null,
      "metadata": {
        "id": "TRszty31kUaU"
      },
      "outputs": [],
      "source": []
    },
    {
      "cell_type": "markdown",
      "metadata": {
        "id": "1EcepcBgkUrV"
      },
      "source": [
        "# Ngoài các đặc trưng trong tập dữ liệu, các yếu tố nào có khả năng ảnh hưởng đến giá vé chuyến bay?\n",
        "\n"
      ]
    },
    {
      "cell_type": "markdown",
      "metadata": {
        "id": "okje49idkdyy"
      },
      "source": []
    },
    {
      "cell_type": "markdown",
      "metadata": {
        "id": "SG774ceGkWfN"
      },
      "source": [
        "# Dự đoán giá vé"
      ]
    },
    {
      "cell_type": "markdown",
      "metadata": {
        "id": "u6zxfmMrkebS"
      },
      "source": []
    }
  ],
  "metadata": {
    "colab": {
      "provenance": []
    },
    "kernelspec": {
      "display_name": "Python 3",
      "name": "python3"
    },
    "language_info": {
      "codemirror_mode": {
        "name": "ipython",
        "version": 3
      },
      "file_extension": ".py",
      "mimetype": "text/x-python",
      "name": "python",
      "nbconvert_exporter": "python",
      "pygments_lexer": "ipython3",
      "version": "3.9.0"
    }
  },
  "nbformat": 4,
  "nbformat_minor": 0
}
