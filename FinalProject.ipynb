{
  "cells": [
    {
      "cell_type": "markdown",
      "metadata": {
        "id": "sJPyJasjhvPu"
      },
      "source": [
        "# **Thông tin nhóm**\n",
        "## Mã nhóm: 20CQ.PTDL.05\n",
        "## Danh sách thành viên:\n",
        "*   20120466 - Trần Thị Thu Hà\n",
        "*   20120592 - Lê Minh Tiến\n",
        "*   20120595 - Phạm Minh Tiến\n",
        "*   20120624 - Mai Quyết Vang\n",
        "\n"
      ]
    },
    {
      "cell_type": "markdown",
      "metadata": {
        "id": "xmmwOqTqiUsP"
      },
      "source": [
        "# Thêm thư viện cần thiết"
      ]
    },
    {
      "cell_type": "code",
      "execution_count": null,
      "metadata": {
        "id": "Yn648mWciUV3"
      },
      "outputs": [],
      "source": [
        "import pandas as pd\n",
        "import numpy as np\n",
        "import seaborn as sns\n",
        "import matplotlib.pyplot as plt\n",
        "from datetime import datetime, timedelta"
      ]
    },
    {
      "cell_type": "markdown",
      "metadata": {
        "id": "aQfzbAAYiaFa"
      },
      "source": [
        "Load dữ liệu"
      ]
    },
    {
      "cell_type": "code",
      "execution_count": null,
      "metadata": {
        "id": "2x-m0OgQiZYZ"
      },
      "outputs": [],
      "source": [
        "link_p1 = \"https://raw.githubusercontent.com/Vanniee007/ADA-Final-Project-20CQ.PTDL.05/main/data/Data_Train_p1.xlsx\"\n",
        "link_p2 = \"https://raw.githubusercontent.com/Vanniee007/ADA-Final-Project-20CQ.PTDL.05/main/data/Data_Train_p2.xlsx\"\n"
      ]
    },
    {
      "cell_type": "code",
      "execution_count": null,
      "metadata": {
        "id": "ExOwxc46ijXC"
      },
      "outputs": [],
      "source": [
        "# Đọc dữ liệu từ file Excel\n",
        "Data_Train_p1 = pd.read_excel(link_p1)\n",
        "Data_Train_p2 = pd.read_excel(link_p2)\n",
        "\n",
        "# Ghép nối hai DataFrame\n",
        "merged_data = pd.concat([Data_Train_p1, Data_Train_p2], ignore_index=True)\n"
      ]
    },
    {
      "cell_type": "markdown",
      "metadata": {
        "id": "UKfhR5bNC5-A"
      },
      "source": [
        "# **Preprocessing**"
      ]
    },
    {
      "cell_type": "markdown",
      "metadata": {
        "id": "2sa5ZzQcDMAX"
      },
      "source": [
        "## Xử lí duplicate: Xóa các dòng bị trùng lặp"
      ]
    },
    {
      "cell_type": "code",
      "execution_count": null,
      "metadata": {
        "colab": {
          "base_uri": "https://localhost:8080/"
        },
        "id": "twpaR6CGDN8l",
        "outputId": "37f3a3ff-e449-4f30-9f94-5e1085c4f2f5"
      },
      "outputs": [],
      "source": [
        "# Kiểm tra duplicate data và sắp xếp theo cột để dòng trùng lặp gần nhau\n",
        "duplicates = merged_data[merged_data.duplicated(keep=False)].sort_values(by=merged_data.columns.tolist())\n",
        "\n",
        "if len(duplicates) > 0:\n",
        "    print(\"Có {} dòng dữ liệu bị trùng lặp.\".format(len(duplicates)))\n",
        "    duplicates.to_excel('duplicate_data.xlsx', index=False)\n",
        "else:\n",
        "    print(\"Không có dòng dữ liệu trùng lặp.\")\n",
        "print(\"Số dòng dữ liệu trước khi xóa các dòng trùng lặp:\")\n",
        "print(merged_data.shape[0])\n",
        "\n",
        "\n",
        "# Xóa các dòng dữ liệu bị trùng, chỉ giữ lại dòng có index nhỏ hơn (bên trên)\n",
        "merged_data = merged_data.drop_duplicates(keep='first')\n",
        "print(\"Số dòng dữ liệu sau khi xóa các dòng trùng lặp:\")\n",
        "print(merged_data.shape[0])"
      ]
    },
    {
      "cell_type": "markdown",
      "metadata": {
        "id": "fhFIimn6Drlq"
      },
      "source": [
        "## Chuyển Duration thành phút (int): Chuyển đổi từ kiểu giờ-phút về kiểu int để tiện cho các tính toán bên dưới.\n"
      ]
    },
    {
      "cell_type": "code",
      "execution_count": null,
      "metadata": {
        "colab": {
          "base_uri": "https://localhost:8080/"
        },
        "id": "wN6tf8bjDxH5",
        "outputId": "8ea56dae-7bb3-4a7c-d3d3-4305e14b8ddc"
      },
      "outputs": [],
      "source": [
        "# Chuyển đổi cột 'Duration' về đơn vị phút\n",
        "def convert_duration(duration):\n",
        "    if 'h' in duration and 'm' in duration:\n",
        "        return int(duration.split('h')[0]) * 60 + int(duration.split('h')[1].split('m')[0])\n",
        "    elif 'h' in duration:\n",
        "        return int(duration.split('h')[0]) * 60\n",
        "    elif 'm' in duration:\n",
        "        return int(duration.split('m')[0])\n",
        "    else:\n",
        "        return 0\n",
        "\n",
        "merged_data['Duration'] = merged_data['Duration'].apply(convert_duration)\n"
      ]
    },
    {
      "cell_type": "markdown",
      "metadata": {
        "id": "0IuR86_dD9ib"
      },
      "source": [
        "## Chuyển Total_stop thành kiểu int"
      ]
    },
    {
      "cell_type": "code",
      "execution_count": null,
      "metadata": {
        "colab": {
          "base_uri": "https://localhost:8080/"
        },
        "id": "7kvUhg9YEDJu",
        "outputId": "52f5225c-a219-496d-92bc-7be31e7d50ec"
      },
      "outputs": [],
      "source": [
        "# Chuyển Total_Stops về kiểu int, giữ lại giá trị null\n",
        "merged_data['Total_Stops'] = merged_data['Total_Stops'].replace({'non-stop': 0, '1 stop': 1, '2 stops': 2, '3 stops': 3, '4 stops': 4, '': np.nan}).fillna('Blanks')"
      ]
    },
    {
      "cell_type": "markdown",
      "metadata": {
        "id": "H7qx5m_aERBX"
      },
      "source": [
        "## Tính lại Arrival_Time, do có một vài Arrival_Time chưa chính xác, vì Arrival_Time phải bằng Dep_Time+ Duration (và còn phụ thuộc vào Date of Journey), nên tính lại Arrival_Time dựa vào 3 cột đó"
      ]
    },
    {
      "cell_type": "code",
      "execution_count": null,
      "metadata": {
        "colab": {
          "base_uri": "https://localhost:8080/",
          "height": 691
        },
        "id": "6TEPs-_5ET6Y",
        "outputId": "4a13a1c8-f787-44e0-e25e-ca38a96058f5"
      },
      "outputs": [],
      "source": [
        "# Chuyển đổi kiểu dữ liệu của cột 'Date_of_Journey'\n",
        "merged_data['Date_of_Journey'] = pd.to_datetime(merged_data['Date_of_Journey'], format='%d/%m/%Y')\n",
        "\n",
        "# Chuyển đổi cột 'Dep_Time' thành kiểu datetime chỉ chứa giờ và phút\n",
        "merged_data['Dep_Time'] = pd.to_datetime(merged_data['Dep_Time'], format='%H:%M').dt.time\n",
        "\n",
        "# Kiểm tra và chuyển đổi giá trị trong cột 'Duration'\n",
        "merged_data['Duration'] = merged_data['Duration'].apply(lambda x: int(x.split('h')[0]) * 60 + int(x.split(' ')[-1][0]) if isinstance(x, str) else x)\n",
        "\n",
        "# Tính cột 'Arrival_Time' dựa trên 'Date_of_Journey', 'Dep_Time', và 'Duration'\n",
        "merged_data['Arrival_Time'] = merged_data.apply(lambda row: datetime.combine(row['Date_of_Journey'].date(), row['Dep_Time']) + timedelta(minutes=row['Duration']), axis=1)\n",
        "\n",
        "# Chuyển đổi kiểu dữ liệu của cột 'Arrival_Time' thành kiểu datetime\n",
        "merged_data['Arrival_Time'] = pd.to_datetime(merged_data['Arrival_Time'])\n",
        "\n",
        "# Tách thành cột 'Arrival_Hour' (chỉ chứa giờ:phút:giây) và 'Arrival_Date' (chứa ngày-tháng-năm)\n",
        "merged_data['Arrival_Time_new'] = merged_data['Arrival_Time'].dt.time\n",
        "merged_data['Arrival_Date'] = merged_data['Arrival_Time'].dt.date\n",
        "\n",
        "# Thêm cột 'Month_of_Journey' là tháng từ 'Date_of_Journey'\n",
        "merged_data['Month_of_Journey'] = merged_data['Date_of_Journey'].apply(lambda x: x.month)\n",
        "\n",
        "# Di chuyển cột mới lên đứng ngay sau cột 'Arrival_Time'\n",
        "merged_data = merged_data[['Airline', 'Date_of_Journey', 'Month_of_Journey', 'Source', 'Destination', 'Route', 'Dep_Time', 'Arrival_Time', 'Arrival_Time_new', 'Arrival_Date', 'Duration', 'Total_Stops', 'Additional_Info', 'Price']]\n",
        "\n",
        "# Xóa cột 'Arrival_Time_new'\n",
        "merged_data = merged_data.drop(['Arrival_Time'], axis=1)\n",
        "\n",
        "# Hiển thị DataFrame sau khi xử lý\n",
        "merged_data.head(10)\n"
      ]
    },
    {
      "cell_type": "markdown",
      "metadata": {
        "id": "PeBuWyqdqa2s"
      },
      "source": [
        "## Xử lí outlier tại Duration: các outlier đều chấp nhận được bởi nó có 2-3 sân bay trung chuyển (total_stop), điều này có thể hiểu là chuyến bay xa, hoặc ở sân bay trung chuyển mất thời gian làm thủ tục, hoặc do các chuyến bay bị delay"
      ]
    },
    {
      "cell_type": "markdown",
      "metadata": {
        "id": "byzVuSK8wBUo"
      },
      "source": [
        "### Tìm outlier"
      ]
    },
    {
      "cell_type": "code",
      "execution_count": null,
      "metadata": {
        "colab": {
          "base_uri": "https://localhost:8080/",
          "height": 564
        },
        "id": "NTxtr4ROrNud",
        "outputId": "a1e61182-ae83-4371-c4bd-026b41214a76"
      },
      "outputs": [],
      "source": [
        "# Vẽ boxplot để phát hiện outlier\n",
        "plt.figure(figsize=(10, 6))\n",
        "sns.boxplot(x=merged_data['Duration'])\n",
        "plt.title('Boxplot of Duration')\n",
        "plt.show()"
      ]
    },
    {
      "cell_type": "code",
      "execution_count": null,
      "metadata": {
        "colab": {
          "base_uri": "https://localhost:8080/",
          "height": 1000
        },
        "id": "P4zZTO4prrQk",
        "outputId": "3de73943-d860-44ba-b720-238c9805da05"
      },
      "outputs": [],
      "source": [
        "# Tìm giá trị Q1, Q3 và IQR của cột 'Duration'\n",
        "Q1_duration = merged_data['Duration'].quantile(0.25)\n",
        "Q3_duration = merged_data['Duration'].quantile(0.75)\n",
        "IQR_duration = Q3_duration - Q1_duration\n",
        "\n",
        "# Xác định ngưỡng cho outlier\n",
        "lower_bound_duration = Q1_duration - 1.5 * IQR_duration\n",
        "upper_bound_duration = Q3_duration + 1.5 * IQR_duration\n",
        "\n",
        "# Lọc ra các dòng có giá trị 'Duration' là outlier\n",
        "outliers_duration = merged_data[(merged_data['Duration'] < lower_bound_duration) | (merged_data['Duration'] > upper_bound_duration)]\n",
        "\n",
        "# Sắp xếp các dòng outlier theo cột 'Duration' từ bé đến lớn\n",
        "sorted_outliers_duration = outliers_duration.sort_values(by='Duration')\n",
        "\n",
        "# Hiển thị DataFrame sau khi sắp xếp\n",
        "sorted_outliers_duration.head(50)\n"
      ]
    },
    {
      "cell_type": "markdown",
      "metadata": {
        "id": "0_qFfeeYwGMF"
      },
      "source": [
        "### Xóa dòng đặc biệt ở Duration: có 1 dòng Duration = 5 phút, 1 chuyến bay thì không thể kéo dài 5p được -> xóa."
      ]
    },
    {
      "cell_type": "code",
      "execution_count": null,
      "metadata": {
        "id": "AP08Bp0fwhre"
      },
      "outputs": [],
      "source": [
        "# Xóa các dòng có giá trị 'Duration' bằng 5\n",
        "merged_data = merged_data[merged_data['Duration'] != 5]\n",
        "\n",
        "\n"
      ]
    },
    {
      "cell_type": "markdown",
      "metadata": {
        "id": "bu1MvQZViMbq"
      },
      "source": [
        "# **Quan sát và phân tích tập dữ liệu (EDA)**\n"
      ]
    },
    {
      "cell_type": "markdown",
      "metadata": {
        "id": "Jxj0fMjVjPkx"
      },
      "source": [
        "## 1. Cho biết kiểu dữ liệu của các thuộc tính\n"
      ]
    },
    {
      "cell_type": "code",
      "execution_count": null,
      "metadata": {
        "colab": {
          "base_uri": "https://localhost:8080/"
        },
        "id": "vmISeFXniMNF",
        "outputId": "7da817c9-e5fb-4cad-fdaf-c44629234be4"
      },
      "outputs": [],
      "source": [
        "# Hiển thị thông tin về DataFrame\n",
        "merged_data.info()"
      ]
    },
    {
      "cell_type": "markdown",
      "metadata": {
        "id": "w7cO6qzbjRjD"
      },
      "source": [
        "## 2. Đối với cột Price, cho biết:\n",
        "\n",
        "\n",
        "*   Giá cao nhất, thấp nhất, giá trung bình, mức giá xuất hiện nhiều\n",
        "*   Độ lệch chuẩn của cột price?\n",
        "*   Cho biết giá phân phối xung quanh trung tâm hay cách xa trung tâm?\n",
        "Nhận xét về giá trị mean và median của tập dữ liệu.\n",
        "*   Vẽ đồ thị histogram để nhận xét dữ liệu có bị lệch không?\n",
        "List item\n",
        "\n",
        "\n",
        "\n"
      ]
    },
    {
      "cell_type": "markdown",
      "metadata": {
        "id": "r-YWeNb7m663"
      },
      "source": [
        "### 2.1 Code"
      ]
    },
    {
      "cell_type": "code",
      "execution_count": null,
      "metadata": {
        "colab": {
          "base_uri": "https://localhost:8080/",
          "height": 712
        },
        "id": "WQVwrfsjhSCt",
        "outputId": "5fa6b9c9-4ab6-4918-97bc-be987f850b9b"
      },
      "outputs": [],
      "source": [
        "# 1. Giá cao nhất, thấp nhất, giá trung bình, mức giá xuất hiện nhiều\n",
        "max_price = merged_data['Price'].max()\n",
        "min_price = merged_data['Price'].min()\n",
        "mean_price = merged_data['Price'].mean()\n",
        "# Đếm số lần xuất hiện của từng giá trị\n",
        "price_counts = merged_data['Price'].value_counts()\n",
        "# Lấy giá trị mode (xuất hiện nhiều nhất)\n",
        "mode_price = price_counts.idxmax()\n",
        "# Số lần xuất hiện của giá trị mode\n",
        "mode_count = price_counts.max()\n",
        "\n",
        "\n",
        "print(f\"Giá cao nhất: {max_price}\")\n",
        "print(f\"Giá thấp nhất: {min_price}\")\n",
        "print(f\"Giá trung bình: {mean_price}\")\n",
        "print(f\"Mức giá xuất hiện nhiều nhất: {mode_price}\")\n",
        "print(f\"Số lần xuất hiện của mức giá: {mode_count}\")\n",
        "\n",
        "# 2. Độ lệch chuẩn của cột Price\n",
        "std_price = merged_data['Price'].std()\n",
        "print(f\"Độ lệch chuẩn của cột Price: {std_price}\")\n",
        "\n",
        "# 3. Nhận xét về giá trị mean và median của tập dữ liệu\n",
        "median_price = merged_data['Price'].median()\n",
        "print(f\"Mean: {mean_price}, Median: {median_price}\")\n",
        "if mean_price > median_price:\n",
        "    print(\"Giá trị mean lớn hơn median, dữ liệu lệch về bên phải.\")\n",
        "elif mean_price < median_price:\n",
        "    print(\"Giá trị mean nhỏ hơn median, dữ liệu lệch về bên trái.\")\n",
        "else:\n",
        "    print(\"Giá trị mean bằng median, phân phối đối xứng.\")\n",
        "\n",
        "# 4. Vẽ đồ thị histogram để nhận xét dữ liệu có bị lệch không\n",
        "plt.figure(figsize=(10, 6))\n",
        "plt.hist(merged_data['Price'], bins=20, color='skyblue', edgecolor='black')\n",
        "plt.title('Phân phối giá')\n",
        "plt.xlabel('Giá')\n",
        "plt.ylabel('Số lượng chuyến bay')\n",
        "plt.show()"
      ]
    },
    {
      "cell_type": "markdown",
      "metadata": {
        "id": "-ilhvQ05nAwe"
      },
      "source": [
        "### 2.2. Kết luận\n",
        "#### - Giá cao nhất, thấp nhất, giá trung bình, mức giá xuất hiện nhiều\n",
        "- Giá cao nhất: 79512\n",
        "- Giá thấp nhất: 1759\n",
        "- Giá trung bình: 9025.849072835023\n",
        "- Mức giá xuất hiện nhiều nhất: 10262, Số lần xuất hiện của mức giá: 258\n",
        "#### - Độ lệch chuẩn của cột price?\n",
        "Độ lệch chuẩn của cột Price: 4624.162124562484\n",
        "\n",
        "#### - Cho biết giá phân phối xung quanh trung tâm hay cách xa trung tâm? Nhận xét về giá trị mean và median của tập dữ liệu.\n",
        "Giá trị mean lớn hơn median, dữ liệu lệch về bên phải. Điều này chứng tỏ có một số giá trị lớn ở phía bên phải của phân phối nghĩa là có các chuyến bay có giá vé cao.\n",
        "#### - Vẽ đồ thị histogram để nhận xét dữ liệu có bị lệch không?\n",
        "- Phần lớn chuyến bay có giá vé tập trung ở mức giá thấp: Có thể có một số lượng lớn chuyến bay có giá vé thấp, và đây là một đặc điểm chính của dữ liệu.\n",
        "- Có một số chuyến bay có giá vé cao: Tuy nhiên, cũng có một số chuyến bay có giá vé cao hơn so với giá trung bình, nhưng chúng là ít hơn và tập trung ở khoảng giá trị cao hơn.\n",
        "- Dữ liệu có độ biến động lớn: Sự chênh lệch giữa giá vé thấp và giá vé cao có thể làm cho phương sai (variance) của dữ liệu lớn.\n",
        "- Phân phối lệch phải: Nếu phần lớn giá trị tập trung ở giá vé thấp, trong khi một số giá trị cao hơn được giữ lại, thì dữ liệu có thể có sự lệch phải.\n",
        "- Ưu điểm: Các chuyến bay giá rẻ thường chiếm số lượng lớn, trong khi một số chuyến bay đắt tiền có thể là những trường hợp đặc biệt."
      ]
    },
    {
      "cell_type": "markdown",
      "metadata": {
        "id": "DKUyi_sejbzM"
      },
      "source": [
        "## 3. Mô tả số lượng missing value của mỗi thuộc tính\n"
      ]
    },
    {
      "cell_type": "code",
      "execution_count": null,
      "metadata": {
        "colab": {
          "base_uri": "https://localhost:8080/"
        },
        "id": "usdDtNQJjiw4",
        "outputId": "03d9ad6b-8274-4e91-abce-3f00953b5b64"
      },
      "outputs": [],
      "source": [
        "# 3. Mô tả số lượng missing value của mỗi thuộc tính\n",
        "missing_values = merged_data.isnull().sum()\n",
        "print(\"Số lượng missing value của mỗi thuộc tính:\")\n",
        "print(missing_values)"
      ]
    },
    {
      "cell_type": "markdown",
      "metadata": {
        "id": "2PSCkjffjiql"
      },
      "source": [
        "## 4. Tính tỷ lệ % missing value của mỗi thuộc tính\n"
      ]
    },
    {
      "cell_type": "code",
      "execution_count": null,
      "metadata": {
        "colab": {
          "base_uri": "https://localhost:8080/"
        },
        "id": "7O1Hxw_Ujilf",
        "outputId": "959a3b95-0538-4f8b-b079-50cdf95098ae"
      },
      "outputs": [],
      "source": [
        "# 4. Tính tỷ lệ % missing value của mỗi thuộc tính\n",
        "missing_percentage = (missing_values / len(merged_data)) * 100\n",
        "print(\"Tỷ lệ % missing value của mỗi thuộc tính:\")\n",
        "print(missing_percentage)"
      ]
    },
    {
      "cell_type": "markdown",
      "metadata": {
        "id": "6IGs1CNxjiey"
      },
      "source": [
        "## 5. Xử lý dữ liệu missing\n"
      ]
    },
    {
      "cell_type": "code",
      "execution_count": null,
      "metadata": {
        "id": "O0Q-3ptmjjve"
      },
      "outputs": [],
      "source": [
        "# 5. Xử lý dữ liệu missing ( xóa các dòng có missing value)\n",
        "merged_data.dropna(subset=['Total_Stops'], inplace=True)"
      ]
    },
    {
      "cell_type": "markdown",
      "metadata": {
        "id": "sx0Rpg49jfu_"
      },
      "source": [
        "## 6. Outlier: sử dụng đồ thị boxplot để quan sát cột Price có tồn tại outlier không?"
      ]
    },
    {
      "cell_type": "markdown",
      "metadata": {
        "id": "RDGqNy1tlM2i"
      },
      "source": [
        "### Đồ thị"
      ]
    },
    {
      "cell_type": "code",
      "execution_count": null,
      "metadata": {
        "colab": {
          "base_uri": "https://localhost:8080/",
          "height": 565
        },
        "id": "cTZ1IeMWjgKM",
        "outputId": "ecfa17e5-5010-430a-9ef6-17f535eca29f"
      },
      "outputs": [],
      "source": [
        "# Vẽ boxplot cho cột Price trong merged_data\n",
        "plt.figure(figsize=(8, 6))\n",
        "sns.boxplot(x=merged_data['Price'])\n",
        "plt.title('Boxplot của cột Price')\n",
        "plt.xlabel('Price (Rupee)')  # Thêm đơn vị cho trục x\n",
        "plt.show()"
      ]
    },
    {
      "cell_type": "markdown",
      "metadata": {
        "id": "23g6nvkVlRCY"
      },
      "source": [
        "### Các giá trị outlier: các giá trị outlier là có tồn tại, tuy nhiên có các chuyến bay giá cao như vậy có thể là do thời gian bay dài (Duration), hạng vé business/premium (Airline)\n",
        "\n",
        "\n"
      ]
    },
    {
      "cell_type": "code",
      "execution_count": null,
      "metadata": {
        "colab": {
          "base_uri": "https://localhost:8080/",
          "height": 442
        },
        "id": "F7z-JA9rlVli",
        "outputId": "9d0e8da2-1d53-487a-a717-0571f51ce344"
      },
      "outputs": [],
      "source": [
        "# Xác định giá trị Q1, Q3 và IQR\n",
        "Q1 = merged_data['Price'].quantile(0.25)\n",
        "Q3 = merged_data['Price'].quantile(0.75)\n",
        "IQR = Q3 - Q1\n",
        "\n",
        "# Xác định ngưỡng cho outlier\n",
        "lower_bound = Q1 - 1.5 * IQR\n",
        "upper_bound = Q3 + 1.5 * IQR\n",
        "\n",
        "# Lọc ra các dòng có giá trị 'Price' là outlier\n",
        "outliers = merged_data[(merged_data['Price'] < lower_bound) | (merged_data['Price'] > upper_bound)]\n",
        "\n",
        "# Hiển thị các dòng có giá 'Price' là outlier\n",
        "print(\"Các dòng có giá 'Price' là outlier:\")\n",
        "outliers\n"
      ]
    },
    {
      "cell_type": "markdown",
      "metadata": {
        "id": "CKid8wx1jh5i"
      },
      "source": [
        "# **Visualize dữ liệu dạng bảng hoặc đồ thị**"
      ]
    },
    {
      "cell_type": "markdown",
      "metadata": {
        "id": "U_J3L4lhj3uA"
      },
      "source": [
        "## 1. Giá vé tăng khi nào?"
      ]
    },
    {
      "cell_type": "markdown",
      "metadata": {
        "id": "ZptJ2bgsrsVx"
      },
      "source": [
        "### Giá vé tăng khi hãng thay đổi: khi chọn Jet Airways Business thì giá vé sẽ cao hơn so với các hãng khác"
      ]
    },
    {
      "cell_type": "code",
      "execution_count": null,
      "metadata": {
        "colab": {
          "base_uri": "https://localhost:8080/",
          "height": 889
        },
        "id": "qtZwzjbljg7v",
        "outputId": "b6bc6465-3f42-473e-8e11-881e47509bc2"
      },
      "outputs": [],
      "source": [
        "# Vẽ đồ thị so sánh giá vé theo hãng máy bay\n",
        "plt.figure(figsize=(14, 8))\n",
        "sns.boxplot(x='Airline', y='Price', data=merged_data)\n",
        "plt.title('So sánh giá vé máy bay theo hãng')\n",
        "plt.xlabel('Hãng máy bay')\n",
        "plt.ylabel('Giá vé (Rupee)')\n",
        "plt.xticks(rotation=45, ha='right')  # Để xác định định dạng các nhãn trên trục x\n",
        "plt.show()"
      ]
    },
    {
      "cell_type": "markdown",
      "metadata": {
        "id": "Bh9xEu8gjg2S"
      },
      "source": [
        "\n",
        "## 2. So sánh tỷ lệ các chuyến bay thẳng và trung chuyển (có dừng)"
      ]
    },
    {
      "cell_type": "code",
      "execution_count": null,
      "metadata": {
        "id": "jd35QbgAj4g1"
      },
      "outputs": [],
      "source": []
    },
    {
      "cell_type": "markdown",
      "metadata": {
        "id": "nEHNxMrMj6eh"
      },
      "source": [
        "\n",
        "## 3. Nước nào có lượng chuyến bay nhiều nhất?"
      ]
    },
    {
      "cell_type": "code",
      "execution_count": null,
      "metadata": {
        "id": "kCxj2oSUjgwq"
      },
      "outputs": [],
      "source": []
    },
    {
      "cell_type": "markdown",
      "metadata": {
        "id": "0H-Bz7iyjgqn"
      },
      "source": [
        "\n",
        "## 4. Hãng máy bay nào được khách đặt vé nhiều/thấp nhất?"
      ]
    },
    {
      "cell_type": "markdown",
      "metadata": {
        "id": "kUtQZ9c6TKpx"
      },
      "source": [
        "### 4.1 Visualize: Bởi vì cần đưa ra sự so sánh giữa các nhóm (các hãng mới bay) nên chọn biểu đồ là trực quan hơn, giúp người xem dễ hiểu hơn. Và để so sánh các giá trị giữa các nhóm khác nhau thì chọn biểu đồ cột là hợp lý. Trên mỗi cột có hiển thị số lượng chuyến bay vì có những hãng có số chuyến bay quá nhỏ ví dụ 1, 3, hoặc 6 so với những hãng lên đến cả nghìn chuyến bay thì rất khó để biết số lượng."
      ]
    },
    {
      "cell_type": "code",
      "execution_count": null,
      "metadata": {
        "colab": {
          "base_uri": "https://localhost:8080/",
          "height": 737
        },
        "id": "L8UDHg72Omjg",
        "outputId": "f751eff5-3408-4a62-8300-c58ce5bc5a6a"
      },
      "outputs": [],
      "source": [
        "# Đếm số lượng chuyến bay của từng hãng hàng không\n",
        "airline_counts = merged_data['Airline'].value_counts()\n",
        "\n",
        "# Vẽ đồ thị cột\n",
        "plt.figure(figsize=(10, 6))\n",
        "ax = airline_counts.plot(kind='bar', color='skyblue')\n",
        "\n",
        "# Thêm số lượng chuyến bay trên đầu mỗi cột\n",
        "for p in ax.patches:\n",
        "    ax.annotate(str(p.get_height()), (p.get_x() + p.get_width() / 2., p.get_height()),\n",
        "                ha='center', va='baseline', xytext=(0, 10), textcoords='offset points')\n",
        "\n",
        "# Đặt tên hãng máy bay chéo 45 độ\n",
        "plt.xticks(rotation=45, ha='right')\n",
        "\n",
        "plt.title('Số lượng chuyến bay của mỗi hãng hàng không')\n",
        "plt.xlabel('Hãng hàng không')\n",
        "plt.ylabel('Số lượng chuyến bay')\n",
        "plt.show()"
      ]
    },
    {
      "cell_type": "markdown",
      "metadata": {
        "id": "jzRiCbRvTIA4"
      },
      "source": [
        "### 4.2. Kết luận\n",
        "#### - Dựa vào thông tin datasets cung cấp thì không thể biết được hãng nào được khách đặt nhiều nhất, hay ít nhất; ví dụ: Hãng Jet Airways có 3700 chuyến nhưng mỗi chuyến chỉ có 50 khách đặt-> tổng là 185.000, còn hãng IndiGo có 2043 nhưng mỗi chuyến có 100 khách đăt -> tổng là 204300 lượt khách, mà 204300> 185000, nên IndiGo có lượng khách đặt nhiều hơn Jet Airways dù IndiGo có ít chuyến bay hơn. **Như vậy, với datasets được cung cấp và qua số lượng chuyến bay của mỗi hãng, thì không thể kết luận được hãng nào nhiều/ít khách đặt nhất. Cần có thêm 1 cột Số lượng hành khách mỗi chuyến bay thì ta mới có thể xác định được.**\n",
        "#### -  Với trường hợp, số lượng khách đặt mỗi chuyến là như nhau (hay chênh lệch không đáng kể), thì hãng Jet Airways có nhiều khách đặt nhất và Trujet có ít khách đặt nhất"
      ]
    },
    {
      "cell_type": "markdown",
      "metadata": {
        "id": "-fyOynarjgWd"
      },
      "source": [
        "\n",
        "## 5. Tháng nào là tháng cao điểm"
      ]
    },
    {
      "cell_type": "markdown",
      "metadata": {
        "id": "--LM8FWtf0Gs"
      },
      "source": [
        "### 5.1. Visualize: Bởi vì cần đưa ra sự so sánh giữa các nhóm (các tháng) nên chọn biểu đồ là trực quan hơn, giúp người xem dễ hiểu hơn. Vì dữ liệu có ít nhóm (chỉ có số liệu của 4 tháng trong năm 2019) và để so sánh các giá trị giữa các nhóm khác nhau thì chọn biểu đồ cột là hợp lý."
      ]
    },
    {
      "cell_type": "code",
      "execution_count": null,
      "metadata": {
        "colab": {
          "base_uri": "https://localhost:8080/",
          "height": 566
        },
        "id": "v9qoLUX-j9tQ",
        "outputId": "863e1aaa-fb06-40bf-ded4-0f066dbc2268"
      },
      "outputs": [],
      "source": [
        "# Đếm số lượng chuyến bay của từng tháng\n",
        "monthly_flight_counts = merged_data['Month_of_Journey'].value_counts().sort_index()\n",
        "\n",
        "# Vẽ đồ thị cột\n",
        "plt.figure(figsize=(10, 6))\n",
        "bars = plt.bar(monthly_flight_counts.index, monthly_flight_counts, color='skyblue')\n",
        "\n",
        "# Thêm chú thích (annotation) trên đỉnh mỗi cột\n",
        "for bar in bars:\n",
        "    yval = bar.get_height()\n",
        "    plt.text(bar.get_x() + bar.get_width()/2, int(yval), int(yval), ha='center', va='bottom')\n",
        "\n",
        "# Xoay số tháng thẳng lên\n",
        "plt.xticks(rotation=0)\n",
        "\n",
        "# Chỉ hiển thị các tháng duy nhất trên trục x\n",
        "plt.xticks(monthly_flight_counts.index)\n",
        "\n",
        "plt.title('Số lượng chuyến bay theo từng tháng (2019)')\n",
        "plt.xlabel('Tháng')\n",
        "plt.ylabel('Số lượng chuyến bay')\n",
        "plt.show()"
      ]
    },
    {
      "cell_type": "markdown",
      "metadata": {
        "id": "7eObQ44QgZu7"
      },
      "source": [
        "### 5.2. Kết luận\n",
        "#### Tháng 5 và tháng 6 là 2 tháng số lượng chuyến bay nhiều nhất (số lượng tháng 6 xấp xỉ tháng tháng 5). Như vậy có thể đưa ra kết luận, tháng 5 là tháng cao điểm."
      ]
    },
    {
      "cell_type": "markdown",
      "metadata": {
        "id": "H2UC1q6gjrw8"
      },
      "source": [
        "\n",
        "## 6. Giá có thay đổi tùy theo hãng hàng không hay không?"
      ]
    },
    {
      "cell_type": "code",
      "execution_count": null,
      "metadata": {
        "id": "AoZ7njXTj-Id"
      },
      "outputs": [],
      "source": [
        "avg_price_by_airline = merged_data.groupby('Airline')['Price'].mean().sort_values()\n",
        "plt.figure(figsize=(14, 6))\n",
        "sns.barplot(x='Airline', y='Price', data=merged_data)\n",
        "plt.xticks(rotation=45, ha='right')\n",
        "plt.title('Giá vé trung bình theo hãng hàng không')\n",
        "plt.show()"
      ]
    },
    {
      "cell_type": "markdown",
      "metadata": {
        "id": "Cam1c1NEjs7f"
      },
      "source": [
        "\n",
        "## 7. Giá vé bị ảnh hưởng như thế nào khi mua vé chỉ 1 hoặc 2 ngày trước ngày khởi hành?"
      ]
    },
    {
      "cell_type": "code",
      "execution_count": null,
      "metadata": {
        "id": "OVEYqVmIkAv7"
      },
      "outputs": [],
      "source": []
    },
    {
      "cell_type": "markdown",
      "metadata": {
        "id": "lTSJgekIkBK5"
      },
      "source": [
        "\n",
        "## 8. Giá vé có thay đổi theo thời gian đi và đến không?"
      ]
    },
    {
      "cell_type": "code",
      "execution_count": null,
      "metadata": {
        "id": "MKMro1MXkDSn"
      },
      "outputs": [],
      "source": []
    },
    {
      "cell_type": "markdown",
      "metadata": {
        "id": "OFsEYbJKkCt-"
      },
      "source": [
        "\n",
        "## 9. Giá thay đổi như thế nào khi thay đổi Nguồn và Điểm đến?"
      ]
    },
    {
      "cell_type": "code",
      "execution_count": null,
      "metadata": {
        "id": "sjUEr8N0kD2G"
      },
      "outputs": [],
      "source": []
    },
    {
      "cell_type": "markdown",
      "metadata": {
        "id": "81TSM4H2kRd_"
      },
      "source": [
        "# Kết luận các điểm chính quan sát được từ dữ liệu từ các gợi ý trên\n"
      ]
    },
    {
      "cell_type": "code",
      "execution_count": null,
      "metadata": {
        "id": "TRszty31kUaU"
      },
      "outputs": [],
      "source": []
    },
    {
      "cell_type": "markdown",
      "metadata": {
        "id": "1EcepcBgkUrV"
      },
      "source": [
        "# Ngoài các đặc trưng trong tập dữ liệu, các yếu tố nào có khả năng ảnh hưởng đến giá vé chuyến bay?\n",
        "\n"
      ]
    },
    {
      "cell_type": "markdown",
      "metadata": {
        "id": "okje49idkdyy"
      },
      "source": []
    },
    {
      "cell_type": "markdown",
      "metadata": {
        "id": "SG774ceGkWfN"
      },
      "source": [
        "# Dự đoán giá vé"
      ]
    },
    {
      "cell_type": "markdown",
      "metadata": {
        "id": "u6zxfmMrkebS"
      },
      "source": []
    }
  ],
  "metadata": {
    "colab": {
      "provenance": []
    },
    "kernelspec": {
      "display_name": "Python 3",
      "name": "python3"
    },
    "language_info": {
      "codemirror_mode": {
        "name": "ipython",
        "version": 3
      },
      "file_extension": ".py",
      "mimetype": "text/x-python",
      "name": "python",
      "nbconvert_exporter": "python",
      "pygments_lexer": "ipython3",
      "version": "3.9.0"
    }
  },
  "nbformat": 4,
  "nbformat_minor": 0
}
