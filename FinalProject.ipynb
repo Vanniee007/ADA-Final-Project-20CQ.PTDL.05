{
  "nbformat": 4,
  "nbformat_minor": 0,
  "metadata": {
    "colab": {
      "provenance": []
    },
    "kernelspec": {
      "name": "python3",
      "display_name": "Python 3"
    },
    "language_info": {
      "name": "python"
    }
  },
  "cells": [
    {
      "cell_type": "markdown",
      "source": [
        "#**Thông tin nhóm**\n",
        "##Mã nhóm: 20CQ.PTDL.05\n",
        "##Danh sách thành viên:\n",
        "*   20120466 - Trần Thị Thu Hà\n",
        "*   20120592 - Lê Minh Tiến\n",
        "*   20120595 - Phạm Minh Tiến\n",
        "*   20120624 - Mai Quyết Vang\n",
        "\n"
      ],
      "metadata": {
        "id": "sJPyJasjhvPu"
      }
    },
    {
      "cell_type": "markdown",
      "source": [
        "#Thêm thư viện cần thiết"
      ],
      "metadata": {
        "id": "xmmwOqTqiUsP"
      }
    },
    {
      "cell_type": "code",
      "source": [
        "import pandas as pd\n",
        "import seaborn as sns\n",
        "import matplotlib.pyplot as plt\n",
        "from datetime import datetime, timedelta"
      ],
      "metadata": {
        "id": "Yn648mWciUV3"
      },
      "execution_count": 104,
      "outputs": []
    },
    {
      "cell_type": "markdown",
      "source": [
        "Load dữ liệu"
      ],
      "metadata": {
        "id": "aQfzbAAYiaFa"
      }
    },
    {
      "cell_type": "code",
      "source": [
        "link_p1 = \"https://raw.githubusercontent.com/Vanniee007/ADA-Final-Project-20CQ.PTDL.05/main/data/Data_Train_p1.xlsx\"\n",
        "link_p2 = \"https://raw.githubusercontent.com/Vanniee007/ADA-Final-Project-20CQ.PTDL.05/main/data/Data_Train_p2.xlsx\"\n"
      ],
      "metadata": {
        "id": "2x-m0OgQiZYZ"
      },
      "execution_count": 105,
      "outputs": []
    },
    {
      "cell_type": "code",
      "source": [
        "# Đọc dữ liệu từ file Excel\n",
        "Data_Train_p1 = pd.read_excel(link_p1)\n",
        "Data_Train_p2 = pd.read_excel(link_p2)\n",
        "\n",
        "# Ghép nối hai DataFrame\n",
        "merged_data = pd.concat([Data_Train_p1, Data_Train_p2], ignore_index=True)\n"
      ],
      "metadata": {
        "id": "ExOwxc46ijXC"
      },
      "execution_count": 106,
      "outputs": []
    },
    {
      "cell_type": "markdown",
      "source": [
        "#Quan sát và phân tích tập dữ liệu (EDA)\n"
      ],
      "metadata": {
        "id": "bu1MvQZViMbq"
      }
    },
    {
      "cell_type": "markdown",
      "source": [
        "##1. Cho biết kiểu dữ liệu của các thuộc tính\n"
      ],
      "metadata": {
        "id": "Jxj0fMjVjPkx"
      }
    },
    {
      "cell_type": "code",
      "source": [
        "# Hiển thị thông tin về DataFrame\n",
        "merged_data.info()"
      ],
      "metadata": {
        "colab": {
          "base_uri": "https://localhost:8080/"
        },
        "id": "vmISeFXniMNF",
        "outputId": "d6eba3ec-92a4-4bfd-f77a-8ebc3555df8e"
      },
      "execution_count": 107,
      "outputs": [
        {
          "output_type": "stream",
          "name": "stdout",
          "text": [
            "<class 'pandas.core.frame.DataFrame'>\n",
            "RangeIndex: 10684 entries, 0 to 10683\n",
            "Data columns (total 11 columns):\n",
            " #   Column           Non-Null Count  Dtype \n",
            "---  ------           --------------  ----- \n",
            " 0   Airline          10684 non-null  object\n",
            " 1   Date_of_Journey  10684 non-null  object\n",
            " 2   Source           10684 non-null  object\n",
            " 3   Destination      10684 non-null  object\n",
            " 4   Route            10683 non-null  object\n",
            " 5   Dep_Time         10684 non-null  object\n",
            " 6   Arrival_Time     10684 non-null  object\n",
            " 7   Duration         10684 non-null  object\n",
            " 8   Total_Stops      10683 non-null  object\n",
            " 9   Additional_Info  10684 non-null  object\n",
            " 10  Price            10684 non-null  int64 \n",
            "dtypes: int64(1), object(10)\n",
            "memory usage: 918.3+ KB\n"
          ]
        }
      ]
    },
    {
      "cell_type": "markdown",
      "source": [
        "##2. Đối với cột Price, cho biết:\n",
        "\n",
        "\n",
        "*   Giá cao nhất, thấp nhất, giá trung bình, mức giá xuất hiện nhiều\n",
        "*   Độ lệch chuẩn của cột price?\n",
        "*   Cho biết giá phân phối xung quanh trung tâm hay cách xa trung tâm?\n",
        "Nhận xét về giá trị mean và median của tập dữ liệu.\n",
        "*   Vẽ đồ thị histogram để nhận xét dữ liệu có bị lệch không?\n",
        "List item\n",
        "\n",
        "\n",
        "\n"
      ],
      "metadata": {
        "id": "w7cO6qzbjRjD"
      }
    },
    {
      "cell_type": "code",
      "execution_count": 108,
      "metadata": {
        "id": "WQVwrfsjhSCt",
        "colab": {
          "base_uri": "https://localhost:8080/",
          "height": 705
        },
        "outputId": "82374eb9-2941-4319-9322-6e2de0e14633"
      },
      "outputs": [
        {
          "output_type": "stream",
          "name": "stdout",
          "text": [
            "Giá cao nhất: 79512\n",
            "Giá thấp nhất: 1759\n",
            "Giá trung bình: 9087.545582178958\n",
            "Mức giá xuất hiện nhiều nhất: 10262\n",
            "Số lần xuất hiện của mức giá: 258\n",
            "Độ lệch chuẩn của cột Price: 4611.411872913706\n",
            "Mean: 9087.545582178958, Median: 8372.0\n",
            "Giá trị mean lớn hơn median, dữ liệu lệch về bên phải.\n"
          ]
        },
        {
          "output_type": "display_data",
          "data": {
            "text/plain": [
              "<Figure size 1000x600 with 1 Axes>"
            ],
            "image/png": "[encoded data removed]"
          },
          "metadata": {}
        }
      ],
      "source": [
        "# 1. Giá cao nhất, thấp nhất, giá trung bình, mức giá xuất hiện nhiều\n",
        "max_price = merged_data['Price'].max()\n",
        "min_price = merged_data['Price'].min()\n",
        "mean_price = merged_data['Price'].mean()\n",
        "# Đếm số lần xuất hiện của từng giá trị\n",
        "price_counts = merged_data['Price'].value_counts()\n",
        "# Lấy giá trị mode (xuất hiện nhiều nhất)\n",
        "mode_price = price_counts.idxmax()\n",
        "# Số lần xuất hiện của giá trị mode\n",
        "mode_count = price_counts.max()\n",
        "\n",
        "\n",
        "print(f\"Giá cao nhất: {max_price}\")\n",
        "print(f\"Giá thấp nhất: {min_price}\")\n",
        "print(f\"Giá trung bình: {mean_price}\")\n",
        "print(f\"Mức giá xuất hiện nhiều nhất: {mode_price}\")\n",
        "print(f\"Số lần xuất hiện của mức giá: {mode_count}\")\n",
        "\n",
        "# 2. Độ lệch chuẩn của cột Price\n",
        "std_price = merged_data['Price'].std()\n",
        "print(f\"Độ lệch chuẩn của cột Price: {std_price}\")\n",
        "\n",
        "# 3. Nhận xét về giá trị mean và median của tập dữ liệu\n",
        "median_price = merged_data['Price'].median()\n",
        "print(f\"Mean: {mean_price}, Median: {median_price}\")\n",
        "if mean_price > median_price:\n",
        "    print(\"Giá trị mean lớn hơn median, dữ liệu lệch về bên phải.\")\n",
        "elif mean_price < median_price:\n",
        "    print(\"Giá trị mean nhỏ hơn median, dữ liệu lệch về bên trái.\")\n",
        "else:\n",
        "    print(\"Giá trị mean bằng median, phân phối đối xứng.\")\n",
        "\n",
        "# 4. Vẽ đồ thị histogram để nhận xét dữ liệu có bị lệch không\n",
        "plt.figure(figsize=(10, 6))\n",
        "plt.hist(merged_data['Price'], bins=20, color='skyblue', edgecolor='black')\n",
        "plt.title('Phân phối giá')\n",
        "plt.xlabel('Giá')\n",
        "plt.ylabel('Số lượng chuyến bay')\n",
        "plt.show()"
      ]
    },
    {
      "cell_type": "markdown",
      "source": [
        "##3. Mô tả số lượng missing value của mỗi thuộc tính\n"
      ],
      "metadata": {
        "id": "DKUyi_sejbzM"
      }
    },
    {
      "cell_type": "code",
      "source": [
        "# 3. Mô tả số lượng missing value của mỗi thuộc tính\n",
        "missing_values = merged_data.isnull().sum()\n",
        "print(\"Số lượng missing value của mỗi thuộc tính:\")\n",
        "print(missing_values)"
      ],
      "metadata": {
        "id": "usdDtNQJjiw4",
        "outputId": "0b141751-9863-42d7-97fa-ee46cb19ae45",
        "colab": {
          "base_uri": "https://localhost:8080/"
        }
      },
      "execution_count": 109,
      "outputs": [
        {
          "output_type": "stream",
          "name": "stdout",
          "text": [
            "Số lượng missing value của mỗi thuộc tính:\n",
            "Airline            0\n",
            "Date_of_Journey    0\n",
            "Source             0\n",
            "Destination        0\n",
            "Route              1\n",
            "Dep_Time           0\n",
            "Arrival_Time       0\n",
            "Duration           0\n",
            "Total_Stops        1\n",
            "Additional_Info    0\n",
            "Price              0\n",
            "dtype: int64\n"
          ]
        }
      ]
    },
    {
      "cell_type": "markdown",
      "source": [
        "##4. Tính tỷ lệ % missing value của mỗi thuộc tính\n"
      ],
      "metadata": {
        "id": "2PSCkjffjiql"
      }
    },
    {
      "cell_type": "code",
      "source": [
        "# 4. Tính tỷ lệ % missing value của mỗi thuộc tính\n",
        "missing_percentage = (missing_values / len(merged_data)) * 100\n",
        "print(\"Tỷ lệ % missing value của mỗi thuộc tính:\")\n",
        "print(missing_percentage)"
      ],
      "metadata": {
        "id": "7O1Hxw_Ujilf",
        "outputId": "c93e27b7-e0d6-4044-c59d-0007db683979",
        "colab": {
          "base_uri": "https://localhost:8080/"
        }
      },
      "execution_count": 110,
      "outputs": [
        {
          "output_type": "stream",
          "name": "stdout",
          "text": [
            "Tỷ lệ % missing value của mỗi thuộc tính:\n",
            "Airline            0.00000\n",
            "Date_of_Journey    0.00000\n",
            "Source             0.00000\n",
            "Destination        0.00000\n",
            "Route              0.00936\n",
            "Dep_Time           0.00000\n",
            "Arrival_Time       0.00000\n",
            "Duration           0.00000\n",
            "Total_Stops        0.00936\n",
            "Additional_Info    0.00000\n",
            "Price              0.00000\n",
            "dtype: float64\n"
          ]
        }
      ]
    },
    {
      "cell_type": "markdown",
      "source": [
        "##5. Xử lý dữ liệu missing\n"
      ],
      "metadata": {
        "id": "6IGs1CNxjiey"
      }
    },
    {
      "cell_type": "code",
      "source": [
        "# 5. Xử lý dữ liệu missing ( xóa các dòng có missing value)\n",
        "merged_data.dropna(subset=['Total_Stops'], inplace=True)"
      ],
      "metadata": {
        "id": "O0Q-3ptmjjve"
      },
      "execution_count": 111,
      "outputs": []
    },
    {
      "cell_type": "markdown",
      "source": [
        "##6. Outlier: sử dụng đồ thị boxplot để quan sát cột Price có tồn tại outlier không?"
      ],
      "metadata": {
        "id": "sx0Rpg49jfu_"
      }
    },
    {
      "cell_type": "markdown",
      "source": [
        "### Đồ thị"
      ],
      "metadata": {
        "id": "RDGqNy1tlM2i"
      }
    },
    {
      "cell_type": "code",
      "source": [
        "# Vẽ boxplot cho cột Price trong merged_data\n",
        "plt.figure(figsize=(8, 6))\n",
        "sns.boxplot(x=merged_data['Price'])\n",
        "plt.title('Boxplot của cột Price')\n",
        "plt.xlabel('Price (Rupee)')  # Thêm đơn vị cho trục x\n",
        "plt.show()"
      ],
      "metadata": {
        "id": "cTZ1IeMWjgKM",
        "colab": {
          "base_uri": "https://localhost:8080/",
          "height": 565
        },
        "outputId": "70675e12-604d-40c4-848f-8595ea7ca314"
      },
      "execution_count": 112,
      "outputs": [
        {
          "output_type": "display_data",
          "data": {
            "text/plain": [
              "<Figure size 800x600 with 1 Axes>"
            ],
            "image/png": "[encoded data removed]"
          },
          "metadata": {}
        }
      ]
    },
    {
      "cell_type": "markdown",
      "source": [
        "### Các giá trị outlier: các giá trị outlier là có tồn tại, tuy nhiên có các chuyến bay giá cao như vậy là do thời gian bay dài, hạng vé business/premium\n",
        "\n",
        "\n"
      ],
      "metadata": {
        "id": "23g6nvkVlRCY"
      }
    },
    {
      "cell_type": "code",
      "source": [
        "# Xác định giá trị Q1, Q3 và IQR\n",
        "Q1 = merged_data['Price'].quantile(0.25)\n",
        "Q3 = merged_data['Price'].quantile(0.75)\n",
        "IQR = Q3 - Q1\n",
        "\n",
        "# Xác định ngưỡng cho outlier\n",
        "lower_bound = Q1 - 1.5 * IQR\n",
        "upper_bound = Q3 + 1.5 * IQR\n",
        "\n",
        "# Lọc ra các dòng có giá trị 'Price' là outlier\n",
        "outliers = merged_data[(merged_data['Price'] < lower_bound) | (merged_data['Price'] > upper_bound)]\n",
        "\n",
        "# Hiển thị các dòng có giá 'Price' là outlier\n",
        "print(\"Các dòng có giá 'Price' là outlier:\")\n",
        "outliers"
      ],
      "metadata": {
        "colab": {
          "base_uri": "https://localhost:8080/",
          "height": 441
        },
        "id": "F7z-JA9rlVli",
        "outputId": "0e7c330b-726d-4da4-ea56-c7fd5d4f773c"
      },
      "execution_count": 113,
      "outputs": [
        {
          "output_type": "stream",
          "name": "stdout",
          "text": [
            "Các dòng có giá 'Price' là outlier:\n"
          ]
        },
        {
          "output_type": "execute_result",
          "data": {
            "text/plain": [
              "                 Airline Date_of_Journey    Source Destination  \\\n",
              "123            Air India       1/03/2019     Delhi      Cochin   \n",
              "396    Multiple carriers       1/03/2019     Delhi      Cochin   \n",
              "627          Jet Airways      01/03/2019  Banglore   New Delhi   \n",
              "688          Jet Airways      01/03/2019  Banglore   New Delhi   \n",
              "750          Jet Airways      18/03/2019  Banglore   New Delhi   \n",
              "...                  ...             ...       ...         ...   \n",
              "10180        Jet Airways      01/03/2019  Banglore   New Delhi   \n",
              "10313        Jet Airways      01/03/2019  Banglore   New Delhi   \n",
              "10450          Air India      01/03/2019  Banglore   New Delhi   \n",
              "10494        Jet Airways      01/03/2019  Banglore   New Delhi   \n",
              "10503        Jet Airways      15/03/2019  Banglore   New Delhi   \n",
              "\n",
              "                       Route Dep_Time  Arrival_Time Duration Total_Stops  \\\n",
              "123          DEL → BOM → COK    23:00  19:15 02 Mar  20h 15m      1 stop   \n",
              "396          DEL → BOM → COK    12:50         19:15   6h 25m      1 stop   \n",
              "627          BLR → BOM → DEL    16:55  07:40 02 Mar  14h 45m      1 stop   \n",
              "688          BLR → BOM → DEL    16:55  10:25 02 Mar  17h 30m      1 stop   \n",
              "750          BLR → BOM → DEL    22:50  05:05 16 Mar   6h 15m      1 stop   \n",
              "...                      ...      ...           ...      ...         ...   \n",
              "10180        BLR → BOM → DEL    11:40         18:25   6h 45m      1 stop   \n",
              "10313        BLR → BOM → DEL    16:55  08:15 02 Mar  15h 20m      1 stop   \n",
              "10450  BLR → BOM → BHO → DEL    08:50  09:25 02 Mar  24h 35m     2 stops   \n",
              "10494        BLR → BOM → DEL    14:05         19:10    5h 5m      1 stop   \n",
              "10503        BLR → BOM → DEL    21:25  05:05 13 Mar   7h 40m      1 stop   \n",
              "\n",
              "      Additional_Info  Price  \n",
              "123           No info  27430  \n",
              "396           No info  36983  \n",
              "627    1 Long layover  26890  \n",
              "688    1 Long layover  25735  \n",
              "750           No info  54826  \n",
              "...               ...    ...  \n",
              "10180         No info  26890  \n",
              "10313         No info  26890  \n",
              "10450         No info  25430  \n",
              "10494         No info  36235  \n",
              "10503         No info  27210  \n",
              "\n",
              "[94 rows x 11 columns]"
            ],
            "text/html": [
              "\n",
              "  <div id=\"df-1043933d-0749-448a-ae1b-428b2b4825d1\" class=\"colab-df-container\">\n",
              "    <div>\n",
              "<style scoped>\n",
              "    .dataframe tbody tr th:only-of-type {\n",
              "        vertical-align: middle;\n",
              "    }\n",
              "\n",
              "    .dataframe tbody tr th {\n",
              "        vertical-align: top;\n",
              "    }\n",
              "\n",
              "    .dataframe thead th {\n",
              "        text-align: right;\n",
              "    }\n",
              "</style>\n",
              "<table border=\"1\" class=\"dataframe\">\n",
              "  <thead>\n",
              "    <tr style=\"text-align: right;\">\n",
              "      <th></th>\n",
              "      <th>Airline</th>\n",
              "      <th>Date_of_Journey</th>\n",
              "      <th>Source</th>\n",
              "      <th>Destination</th>\n",
              "      <th>Route</th>\n",
              "      <th>Dep_Time</th>\n",
              "      <th>Arrival_Time</th>\n",
              "      <th>Duration</th>\n",
              "      <th>Total_Stops</th>\n",
              "      <th>Additional_Info</th>\n",
              "      <th>Price</th>\n",
              "    </tr>\n",
              "  </thead>\n",
              "  <tbody>\n",
              "    <tr>\n",
              "      <th>123</th>\n",
              "      <td>Air India</td>\n",
              "      <td>1/03/2019</td>\n",
              "      <td>Delhi</td>\n",
              "      <td>Cochin</td>\n",
              "      <td>DEL → BOM → COK</td>\n",
              "      <td>23:00</td>\n",
              "      <td>19:15 02 Mar</td>\n",
              "      <td>20h 15m</td>\n",
              "      <td>1 stop</td>\n",
              "      <td>No info</td>\n",
              "      <td>27430</td>\n",
              "    </tr>\n",
              "    <tr>\n",
              "      <th>396</th>\n",
              "      <td>Multiple carriers</td>\n",
              "      <td>1/03/2019</td>\n",
              "      <td>Delhi</td>\n",
              "      <td>Cochin</td>\n",
              "      <td>DEL → BOM → COK</td>\n",
              "      <td>12:50</td>\n",
              "      <td>19:15</td>\n",
              "      <td>6h 25m</td>\n",
              "      <td>1 stop</td>\n",
              "      <td>No info</td>\n",
              "      <td>36983</td>\n",
              "    </tr>\n",
              "    <tr>\n",
              "      <th>627</th>\n",
              "      <td>Jet Airways</td>\n",
              "      <td>01/03/2019</td>\n",
              "      <td>Banglore</td>\n",
              "      <td>New Delhi</td>\n",
              "      <td>BLR → BOM → DEL</td>\n",
              "      <td>16:55</td>\n",
              "      <td>07:40 02 Mar</td>\n",
              "      <td>14h 45m</td>\n",
              "      <td>1 stop</td>\n",
              "      <td>1 Long layover</td>\n",
              "      <td>26890</td>\n",
              "    </tr>\n",
              "    <tr>\n",
              "      <th>688</th>\n",
              "      <td>Jet Airways</td>\n",
              "      <td>01/03/2019</td>\n",
              "      <td>Banglore</td>\n",
              "      <td>New Delhi</td>\n",
              "      <td>BLR → BOM → DEL</td>\n",
              "      <td>16:55</td>\n",
              "      <td>10:25 02 Mar</td>\n",
              "      <td>17h 30m</td>\n",
              "      <td>1 stop</td>\n",
              "      <td>1 Long layover</td>\n",
              "      <td>25735</td>\n",
              "    </tr>\n",
              "    <tr>\n",
              "      <th>750</th>\n",
              "      <td>Jet Airways</td>\n",
              "      <td>18/03/2019</td>\n",
              "      <td>Banglore</td>\n",
              "      <td>New Delhi</td>\n",
              "      <td>BLR → BOM → DEL</td>\n",
              "      <td>22:50</td>\n",
              "      <td>05:05 16 Mar</td>\n",
              "      <td>6h 15m</td>\n",
              "      <td>1 stop</td>\n",
              "      <td>No info</td>\n",
              "      <td>54826</td>\n",
              "    </tr>\n",
              "    <tr>\n",
              "      <th>...</th>\n",
              "      <td>...</td>\n",
              "      <td>...</td>\n",
              "      <td>...</td>\n",
              "      <td>...</td>\n",
              "      <td>...</td>\n",
              "      <td>...</td>\n",
              "      <td>...</td>\n",
              "      <td>...</td>\n",
              "      <td>...</td>\n",
              "      <td>...</td>\n",
              "      <td>...</td>\n",
              "    </tr>\n",
              "    <tr>\n",
              "      <th>10180</th>\n",
              "      <td>Jet Airways</td>\n",
              "      <td>01/03/2019</td>\n",
              "      <td>Banglore</td>\n",
              "      <td>New Delhi</td>\n",
              "      <td>BLR → BOM → DEL</td>\n",
              "      <td>11:40</td>\n",
              "      <td>18:25</td>\n",
              "      <td>6h 45m</td>\n",
              "      <td>1 stop</td>\n",
              "      <td>No info</td>\n",
              "      <td>26890</td>\n",
              "    </tr>\n",
              "    <tr>\n",
              "      <th>10313</th>\n",
              "      <td>Jet Airways</td>\n",
              "      <td>01/03/2019</td>\n",
              "      <td>Banglore</td>\n",
              "      <td>New Delhi</td>\n",
              "      <td>BLR → BOM → DEL</td>\n",
              "      <td>16:55</td>\n",
              "      <td>08:15 02 Mar</td>\n",
              "      <td>15h 20m</td>\n",
              "      <td>1 stop</td>\n",
              "      <td>No info</td>\n",
              "      <td>26890</td>\n",
              "    </tr>\n",
              "    <tr>\n",
              "      <th>10450</th>\n",
              "      <td>Air India</td>\n",
              "      <td>01/03/2019</td>\n",
              "      <td>Banglore</td>\n",
              "      <td>New Delhi</td>\n",
              "      <td>BLR → BOM → BHO → DEL</td>\n",
              "      <td>08:50</td>\n",
              "      <td>09:25 02 Mar</td>\n",
              "      <td>24h 35m</td>\n",
              "      <td>2 stops</td>\n",
              "      <td>No info</td>\n",
              "      <td>25430</td>\n",
              "    </tr>\n",
              "    <tr>\n",
              "      <th>10494</th>\n",
              "      <td>Jet Airways</td>\n",
              "      <td>01/03/2019</td>\n",
              "      <td>Banglore</td>\n",
              "      <td>New Delhi</td>\n",
              "      <td>BLR → BOM → DEL</td>\n",
              "      <td>14:05</td>\n",
              "      <td>19:10</td>\n",
              "      <td>5h 5m</td>\n",
              "      <td>1 stop</td>\n",
              "      <td>No info</td>\n",
              "      <td>36235</td>\n",
              "    </tr>\n",
              "    <tr>\n",
              "      <th>10503</th>\n",
              "      <td>Jet Airways</td>\n",
              "      <td>15/03/2019</td>\n",
              "      <td>Banglore</td>\n",
              "      <td>New Delhi</td>\n",
              "      <td>BLR → BOM → DEL</td>\n",
              "      <td>21:25</td>\n",
              "      <td>05:05 13 Mar</td>\n",
              "      <td>7h 40m</td>\n",
              "      <td>1 stop</td>\n",
              "      <td>No info</td>\n",
              "      <td>27210</td>\n",
              "    </tr>\n",
              "  </tbody>\n",
              "</table>\n",
              "<p>94 rows × 11 columns</p>\n",
              "</div>\n",
              "    <div class=\"colab-df-buttons\">\n",
              "\n",
              "  <div class=\"colab-df-container\">\n",
              "    <button class=\"colab-df-convert\" onclick=\"convertToInteractive('df-1043933d-0749-448a-ae1b-428b2b4825d1')\"\n",
              "            title=\"Convert this dataframe to an interactive table.\"\n",
              "            style=\"display:none;\">\n",
              "\n",
              "  <svg xmlns=\"http://www.w3.org/2000/svg\" height=\"24px\" viewBox=\"0 -960 960 960\">\n",
              "    <path d=\"M120-120v-720h720v720H120Zm60-500h600v-160H180v160Zm220 220h160v-160H400v160Zm0 220h160v-160H400v160ZM180-400h160v-160H180v160Zm440 0h160v-160H620v160ZM180-180h160v-160H180v160Zm440 0h160v-160H620v160Z\"/>\n",
              "  </svg>\n",
              "    </button>\n",
              "\n",
              "  <style>\n",
              "    .colab-df-container {\n",
              "      display:flex;\n",
              "      gap: 12px;\n",
              "    }\n",
              "\n",
              "    .colab-df-convert {\n",
              "      background-color: #E8F0FE;\n",
              "      border: none;\n",
              "      border-radius: 50%;\n",
              "      cursor: pointer;\n",
              "      display: none;\n",
              "      fill: #1967D2;\n",
              "      height: 32px;\n",
              "      padding: 0 0 0 0;\n",
              "      width: 32px;\n",
              "    }\n",
              "\n",
              "    .colab-df-convert:hover {\n",
              "      background-color: #E2EBFA;\n",
              "      box-shadow: 0px 1px 2px rgba(60, 64, 67, 0.3), 0px 1px 3px 1px rgba(60, 64, 67, 0.15);\n",
              "      fill: #174EA6;\n",
              "    }\n",
              "\n",
              "    .colab-df-buttons div {\n",
              "      margin-bottom: 4px;\n",
              "    }\n",
              "\n",
              "    [theme=dark] .colab-df-convert {\n",
              "      background-color: #3B4455;\n",
              "      fill: #D2E3FC;\n",
              "    }\n",
              "\n",
              "    [theme=dark] .colab-df-convert:hover {\n",
              "      background-color: #434B5C;\n",
              "      box-shadow: 0px 1px 3px 1px rgba(0, 0, 0, 0.15);\n",
              "      filter: drop-shadow(0px 1px 2px rgba(0, 0, 0, 0.3));\n",
              "      fill: #FFFFFF;\n",
              "    }\n",
              "  </style>\n",
              "\n",
              "    <script>\n",
              "      const buttonEl =\n",
              "        document.querySelector('#df-1043933d-0749-448a-ae1b-428b2b4825d1 button.colab-df-convert');\n",
              "      buttonEl.style.display =\n",
              "        google.colab.kernel.accessAllowed ? 'block' : 'none';\n",
              "\n",
              "      async function convertToInteractive(key) {\n",
              "        const element = document.querySelector('#df-1043933d-0749-448a-ae1b-428b2b4825d1');\n",
              "        const dataTable =\n",
              "          await google.colab.kernel.invokeFunction('convertToInteractive',\n",
              "                                                    [key], {});\n",
              "        if (!dataTable) return;\n",
              "\n",
              "        const docLinkHtml = 'Like what you see? Visit the ' +\n",
              "          '<a target=\"_blank\" href=https://colab.research.google.com/notebooks/data_table.ipynb>data table notebook</a>'\n",
              "          + ' to learn more about interactive tables.';\n",
              "        element.innerHTML = '';\n",
              "        dataTable['output_type'] = 'display_data';\n",
              "        await google.colab.output.renderOutput(dataTable, element);\n",
              "        const docLink = document.createElement('div');\n",
              "        docLink.innerHTML = docLinkHtml;\n",
              "        element.appendChild(docLink);\n",
              "      }\n",
              "    </script>\n",
              "  </div>\n",
              "\n",
              "\n",
              "<div id=\"df-294ee7c1-40f2-41ba-8a2c-3c8ca3dc199d\">\n",
              "  <button class=\"colab-df-quickchart\" onclick=\"quickchart('df-294ee7c1-40f2-41ba-8a2c-3c8ca3dc199d')\"\n",
              "            title=\"Suggest charts\"\n",
              "            style=\"display:none;\">\n",
              "\n",
              "<svg xmlns=\"http://www.w3.org/2000/svg\" height=\"24px\"viewBox=\"0 0 24 24\"\n",
              "     width=\"24px\">\n",
              "    <g>\n",
              "        <path d=\"M19 3H5c-1.1 0-2 .9-2 2v14c0 1.1.9 2 2 2h14c1.1 0 2-.9 2-2V5c0-1.1-.9-2-2-2zM9 17H7v-7h2v7zm4 0h-2V7h2v10zm4 0h-2v-4h2v4z\"/>\n",
              "    </g>\n",
              "</svg>\n",
              "  </button>\n",
              "\n",
              "<style>\n",
              "  .colab-df-quickchart {\n",
              "      --bg-color: #E8F0FE;\n",
              "      --fill-color: #1967D2;\n",
              "      --hover-bg-color: #E2EBFA;\n",
              "      --hover-fill-color: #174EA6;\n",
              "      --disabled-fill-color: #AAA;\n",
              "      --disabled-bg-color: #DDD;\n",
              "  }\n",
              "\n",
              "  [theme=dark] .colab-df-quickchart {\n",
              "      --bg-color: #3B4455;\n",
              "      --fill-color: #D2E3FC;\n",
              "      --hover-bg-color: #434B5C;\n",
              "      --hover-fill-color: #FFFFFF;\n",
              "      --disabled-bg-color: #3B4455;\n",
              "      --disabled-fill-color: #666;\n",
              "  }\n",
              "\n",
              "  .colab-df-quickchart {\n",
              "    background-color: var(--bg-color);\n",
              "    border: none;\n",
              "    border-radius: 50%;\n",
              "    cursor: pointer;\n",
              "    display: none;\n",
              "    fill: var(--fill-color);\n",
              "    height: 32px;\n",
              "    padding: 0;\n",
              "    width: 32px;\n",
              "  }\n",
              "\n",
              "  .colab-df-quickchart:hover {\n",
              "    background-color: var(--hover-bg-color);\n",
              "    box-shadow: 0 1px 2px rgba(60, 64, 67, 0.3), 0 1px 3px 1px rgba(60, 64, 67, 0.15);\n",
              "    fill: var(--button-hover-fill-color);\n",
              "  }\n",
              "\n",
              "  .colab-df-quickchart-complete:disabled,\n",
              "  .colab-df-quickchart-complete:disabled:hover {\n",
              "    background-color: var(--disabled-bg-color);\n",
              "    fill: var(--disabled-fill-color);\n",
              "    box-shadow: none;\n",
              "  }\n",
              "\n",
              "  .colab-df-spinner {\n",
              "    border: 2px solid var(--fill-color);\n",
              "    border-color: transparent;\n",
              "    border-bottom-color: var(--fill-color);\n",
              "    animation:\n",
              "      spin 1s steps(1) infinite;\n",
              "  }\n",
              "\n",
              "  @keyframes spin {\n",
              "    0% {\n",
              "      border-color: transparent;\n",
              "      border-bottom-color: var(--fill-color);\n",
              "      border-left-color: var(--fill-color);\n",
              "    }\n",
              "    20% {\n",
              "      border-color: transparent;\n",
              "      border-left-color: var(--fill-color);\n",
              "      border-top-color: var(--fill-color);\n",
              "    }\n",
              "    30% {\n",
              "      border-color: transparent;\n",
              "      border-left-color: var(--fill-color);\n",
              "      border-top-color: var(--fill-color);\n",
              "      border-right-color: var(--fill-color);\n",
              "    }\n",
              "    40% {\n",
              "      border-color: transparent;\n",
              "      border-right-color: var(--fill-color);\n",
              "      border-top-color: var(--fill-color);\n",
              "    }\n",
              "    60% {\n",
              "      border-color: transparent;\n",
              "      border-right-color: var(--fill-color);\n",
              "    }\n",
              "    80% {\n",
              "      border-color: transparent;\n",
              "      border-right-color: var(--fill-color);\n",
              "      border-bottom-color: var(--fill-color);\n",
              "    }\n",
              "    90% {\n",
              "      border-color: transparent;\n",
              "      border-bottom-color: var(--fill-color);\n",
              "    }\n",
              "  }\n",
              "</style>\n",
              "\n",
              "  <script>\n",
              "    async function quickchart(key) {\n",
              "      const quickchartButtonEl =\n",
              "        document.querySelector('#' + key + ' button');\n",
              "      quickchartButtonEl.disabled = true;  // To prevent multiple clicks.\n",
              "      quickchartButtonEl.classList.add('colab-df-spinner');\n",
              "      try {\n",
              "        const charts = await google.colab.kernel.invokeFunction(\n",
              "            'suggestCharts', [key], {});\n",
              "      } catch (error) {\n",
              "        console.error('Error during call to suggestCharts:', error);\n",
              "      }\n",
              "      quickchartButtonEl.classList.remove('colab-df-spinner');\n",
              "      quickchartButtonEl.classList.add('colab-df-quickchart-complete');\n",
              "    }\n",
              "    (() => {\n",
              "      let quickchartButtonEl =\n",
              "        document.querySelector('#df-294ee7c1-40f2-41ba-8a2c-3c8ca3dc199d button');\n",
              "      quickchartButtonEl.style.display =\n",
              "        google.colab.kernel.accessAllowed ? 'block' : 'none';\n",
              "    })();\n",
              "  </script>\n",
              "</div>\n",
              "\n",
              "  <div id=\"id_f06df276-0563-4900-b384-552e49571e12\">\n",
              "    <style>\n",
              "      .colab-df-generate {\n",
              "        background-color: #E8F0FE;\n",
              "        border: none;\n",
              "        border-radius: 50%;\n",
              "        cursor: pointer;\n",
              "        display: none;\n",
              "        fill: #1967D2;\n",
              "        height: 32px;\n",
              "        padding: 0 0 0 0;\n",
              "        width: 32px;\n",
              "      }\n",
              "\n",
              "      .colab-df-generate:hover {\n",
              "        background-color: #E2EBFA;\n",
              "        box-shadow: 0px 1px 2px rgba(60, 64, 67, 0.3), 0px 1px 3px 1px rgba(60, 64, 67, 0.15);\n",
              "        fill: #174EA6;\n",
              "      }\n",
              "\n",
              "      [theme=dark] .colab-df-generate {\n",
              "        background-color: #3B4455;\n",
              "        fill: #D2E3FC;\n",
              "      }\n",
              "\n",
              "      [theme=dark] .colab-df-generate:hover {\n",
              "        background-color: #434B5C;\n",
              "        box-shadow: 0px 1px 3px 1px rgba(0, 0, 0, 0.15);\n",
              "        filter: drop-shadow(0px 1px 2px rgba(0, 0, 0, 0.3));\n",
              "        fill: #FFFFFF;\n",
              "      }\n",
              "    </style>\n",
              "    <button class=\"colab-df-generate\" onclick=\"generateWithVariable('outliers')\"\n",
              "            title=\"Generate code using this dataframe.\"\n",
              "            style=\"display:none;\">\n",
              "\n",
              "  <svg xmlns=\"http://www.w3.org/2000/svg\" height=\"24px\"viewBox=\"0 0 24 24\"\n",
              "       width=\"24px\">\n",
              "    <path d=\"M7,19H8.4L18.45,9,17,7.55,7,17.6ZM5,21V16.75L18.45,3.32a2,2,0,0,1,2.83,0l1.4,1.43a1.91,1.91,0,0,1,.58,1.4,1.91,1.91,0,0,1-.58,1.4L9.25,21ZM18.45,9,17,7.55Zm-12,3A5.31,5.31,0,0,0,4.9,8.1,5.31,5.31,0,0,0,1,6.5,5.31,5.31,0,0,0,4.9,4.9,5.31,5.31,0,0,0,6.5,1,5.31,5.31,0,0,0,8.1,4.9,5.31,5.31,0,0,0,12,6.5,5.46,5.46,0,0,0,6.5,12Z\"/>\n",
              "  </svg>\n",
              "    </button>\n",
              "    <script>\n",
              "      (() => {\n",
              "      const buttonEl =\n",
              "        document.querySelector('#id_f06df276-0563-4900-b384-552e49571e12 button.colab-df-generate');\n",
              "      buttonEl.style.display =\n",
              "        google.colab.kernel.accessAllowed ? 'block' : 'none';\n",
              "\n",
              "      buttonEl.onclick = () => {\n",
              "        google.colab.notebook.generateWithVariable('outliers');\n",
              "      }\n",
              "      })();\n",
              "    </script>\n",
              "  </div>\n",
              "\n",
              "    </div>\n",
              "  </div>\n"
            ]
          },
          "metadata": {},
          "execution_count": 113
        }
      ]
    },
    {
      "cell_type": "markdown",
      "source": [
        "## Preprocessing"
      ],
      "metadata": {
        "id": "5_wC1XyXWWCG"
      }
    },
    {
      "cell_type": "markdown",
      "source": [
        "### Chuyển Duration thành phút (int)\n"
      ],
      "metadata": {
        "id": "LPau0L2noTb-"
      }
    },
    {
      "cell_type": "code",
      "source": [
        "# Chuyển đổi cột 'Duration' về đơn vị phút\n",
        "def convert_duration(duration):\n",
        "    if 'h' in duration and 'm' in duration:\n",
        "        return int(duration.split('h')[0]) * 60 + int(duration.split('h')[1].split('m')[0])\n",
        "    elif 'h' in duration:\n",
        "        return int(duration.split('h')[0]) * 60\n",
        "    elif 'm' in duration:\n",
        "        return int(duration.split('m')[0])\n",
        "    else:\n",
        "        return 0\n",
        "\n",
        "merged_data['Duration'] = merged_data['Duration'].apply(convert_duration)\n"
      ],
      "metadata": {
        "id": "OBoHdT2yonCF"
      },
      "execution_count": 114,
      "outputs": []
    },
    {
      "cell_type": "markdown",
      "source": [
        "### Chuyển Total_stop thành kiểu int"
      ],
      "metadata": {
        "id": "blCnFOsOZY4e"
      }
    },
    {
      "cell_type": "code",
      "source": [
        "# Chuyển Total_Stops về kiểu int\n",
        "merged_data['Total_Stops'] = merged_data['Total_Stops'].replace({'non-stop': 0, '1 stop': 1, '2 stops': 2, '3 stops': 3, '4 stops': 4}).astype(int)"
      ],
      "metadata": {
        "id": "5wmmEWsHZooI"
      },
      "execution_count": 115,
      "outputs": []
    },
    {
      "cell_type": "markdown",
      "source": [
        "### Tính lại Arrival_Time, do có một vài Arrival_Time chưa chính xác, vì Arrival_Time phải bằng Dep_Time+ Duration (và còn phụ thuộc vào Date of Journey), nên tính lại Arrival_Time dựa vào 3 cột đó"
      ],
      "metadata": {
        "id": "BbeW51Tio1pr"
      }
    },
    {
      "cell_type": "code",
      "source": [
        "# Chuyển đổi kiểu dữ liệu của cột 'Date_of_Journey'\n",
        "merged_data['Date_of_Journey'] = pd.to_datetime(merged_data['Date_of_Journey'], format='%d/%m/%Y')\n",
        "\n",
        "# Chuyển đổi cột 'Dep_Time' thành kiểu datetime chỉ chứa giờ và phút\n",
        "merged_data['Dep_Time'] = pd.to_datetime(merged_data['Dep_Time'], format='%H:%M').dt.time\n",
        "\n",
        "\n",
        "# Kiểm tra và chuyển đổi giá trị trong cột 'Duration'\n",
        "merged_data['Duration'] = merged_data['Duration'].apply(lambda x: int(x.split('h')[0]) * 60 + int(x.split(' ')[-1][0]) if isinstance(x, str) else x)\n",
        "\n",
        "# Tính cột 'Arrival_Time' dựa trên 'Date_of_Journey', 'Dep_Time', và 'Duration'\n",
        "merged_data['Arrival_Time'] = merged_data.apply(lambda row: datetime.combine(row['Date_of_Journey'].date(), row['Dep_Time']) + timedelta(minutes=row['Duration']), axis=1)\n",
        "\n",
        "# Chuyển đổi kiểu dữ liệu của cột 'Arrival_Time' thành kiểu datetime\n",
        "merged_data['Arrival_Time'] = pd.to_datetime(merged_data['Arrival_Time'])\n",
        "\n",
        "# Tách thành cột 'Arrival_Hour' (chỉ chứa giờ:phút:giây) và 'Arrival_Date' (chứa ngày-tháng-năm)\n",
        "merged_data['Arrival_Time_new'] = merged_data['Arrival_Time'].dt.time\n",
        "merged_data['Arrival_Date'] = merged_data['Arrival_Time'].dt.date\n",
        "\n",
        "# Thêm cột 'Month_of_Journey' là tháng từ 'Date_of_Journey'\n",
        "merged_data['Month_of_Journey'] = merged_data['Date_of_Journey'].apply(lambda x: x.month)\n",
        "\n",
        "\n",
        "# Di chuyển cột mới lên đứng ngay sau cột 'Arrival_Time'\n",
        "merged_data = merged_data[['Airline', 'Date_of_Journey','Month_of_Journey', 'Source', 'Destination', 'Route', 'Dep_Time', 'Arrival_Time', 'Arrival_Time_new', 'Arrival_Date', 'Duration', 'Total_Stops', 'Additional_Info', 'Price']]\n",
        "\n",
        "# Xóa cột 'Arrival_Time_new'\n",
        "merged_data = merged_data.drop(['Arrival_Time'], axis=1)\n",
        "\n",
        "\n",
        "merged_data.head(10)"
      ],
      "metadata": {
        "id": "bCclsGIIo8-8",
        "outputId": "b24ba9df-1090-4923-be52-266cb271418f",
        "colab": {
          "base_uri": "https://localhost:8080/",
          "height": 501
        }
      },
      "execution_count": 116,
      "outputs": [
        {
          "output_type": "execute_result",
          "data": {
            "text/plain": [
              "             Airline Date_of_Journey  Month_of_Journey    Source Destination  \\\n",
              "0             IndiGo      2019-03-24                 3  Banglore   New Delhi   \n",
              "1          Air India      2019-05-01                 5   Kolkata    Banglore   \n",
              "2        Jet Airways      2019-06-09                 6     Delhi      Cochin   \n",
              "3             IndiGo      2019-05-12                 5   Kolkata    Banglore   \n",
              "4             IndiGo      2019-03-01                 3  Banglore   New Delhi   \n",
              "5           SpiceJet      2019-06-24                 6   Kolkata    Banglore   \n",
              "6        Jet Airways      2019-03-12                 3  Banglore   New Delhi   \n",
              "7        Jet Airways      2019-03-01                 3  Banglore   New Delhi   \n",
              "8        Jet Airways      2019-03-12                 3  Banglore   New Delhi   \n",
              "9  Multiple carriers      2019-05-27                 5     Delhi      Cochin   \n",
              "\n",
              "                   Route  Dep_Time Arrival_Time_new Arrival_Date  Duration  \\\n",
              "0              BLR → DEL  22:20:00         01:10:00   2019-03-25       170   \n",
              "1  CCU → IXR → BBI → BLR  05:50:00         13:15:00   2019-05-01       445   \n",
              "2  DEL → LKO → BOM → COK  09:25:00         04:25:00   2019-06-10      1140   \n",
              "3        CCU → NAG → BLR  18:05:00         23:30:00   2019-05-12       325   \n",
              "4        BLR → NAG → DEL  16:50:00         21:35:00   2019-03-01       285   \n",
              "5              CCU → BLR  09:00:00         11:25:00   2019-06-24       145   \n",
              "6        BLR → BOM → DEL  18:55:00         10:25:00   2019-03-13       930   \n",
              "7        BLR → BOM → DEL  08:00:00         05:05:00   2019-03-02      1265   \n",
              "8        BLR → BOM → DEL  08:55:00         10:25:00   2019-03-13      1530   \n",
              "9        DEL → BOM → COK  11:25:00         19:15:00   2019-05-27       470   \n",
              "\n",
              "   Total_Stops              Additional_Info  Price  \n",
              "0            0                      No info   3897  \n",
              "1            2                      No info   7662  \n",
              "2            2                      No info  13882  \n",
              "3            1                      No info   6218  \n",
              "4            1                      No info  13302  \n",
              "5            0                      No info   3873  \n",
              "6            1  In-flight meal not included  11087  \n",
              "7            1                      No info  22270  \n",
              "8            1  In-flight meal not included  11087  \n",
              "9            1                      No info   8625  "
            ],
            "text/html": [
              "\n",
              "  <div id=\"df-66396931-dbd9-4504-8cf0-bc57da562d45\" class=\"colab-df-container\">\n",
              "    <div>\n",
              "<style scoped>\n",
              "    .dataframe tbody tr th:only-of-type {\n",
              "        vertical-align: middle;\n",
              "    }\n",
              "\n",
              "    .dataframe tbody tr th {\n",
              "        vertical-align: top;\n",
              "    }\n",
              "\n",
              "    .dataframe thead th {\n",
              "        text-align: right;\n",
              "    }\n",
              "</style>\n",
              "<table border=\"1\" class=\"dataframe\">\n",
              "  <thead>\n",
              "    <tr style=\"text-align: right;\">\n",
              "      <th></th>\n",
              "      <th>Airline</th>\n",
              "      <th>Date_of_Journey</th>\n",
              "      <th>Month_of_Journey</th>\n",
              "      <th>Source</th>\n",
              "      <th>Destination</th>\n",
              "      <th>Route</th>\n",
              "      <th>Dep_Time</th>\n",
              "      <th>Arrival_Time_new</th>\n",
              "      <th>Arrival_Date</th>\n",
              "      <th>Duration</th>\n",
              "      <th>Total_Stops</th>\n",
              "      <th>Additional_Info</th>\n",
              "      <th>Price</th>\n",
              "    </tr>\n",
              "  </thead>\n",
              "  <tbody>\n",
              "    <tr>\n",
              "      <th>0</th>\n",
              "      <td>IndiGo</td>\n",
              "      <td>2019-03-24</td>\n",
              "      <td>3</td>\n",
              "      <td>Banglore</td>\n",
              "      <td>New Delhi</td>\n",
              "      <td>BLR → DEL</td>\n",
              "      <td>22:20:00</td>\n",
              "      <td>01:10:00</td>\n",
              "      <td>2019-03-25</td>\n",
              "      <td>170</td>\n",
              "      <td>0</td>\n",
              "      <td>No info</td>\n",
              "      <td>3897</td>\n",
              "    </tr>\n",
              "    <tr>\n",
              "      <th>1</th>\n",
              "      <td>Air India</td>\n",
              "      <td>2019-05-01</td>\n",
              "      <td>5</td>\n",
              "      <td>Kolkata</td>\n",
              "      <td>Banglore</td>\n",
              "      <td>CCU → IXR → BBI → BLR</td>\n",
              "      <td>05:50:00</td>\n",
              "      <td>13:15:00</td>\n",
              "      <td>2019-05-01</td>\n",
              "      <td>445</td>\n",
              "      <td>2</td>\n",
              "      <td>No info</td>\n",
              "      <td>7662</td>\n",
              "    </tr>\n",
              "    <tr>\n",
              "      <th>2</th>\n",
              "      <td>Jet Airways</td>\n",
              "      <td>2019-06-09</td>\n",
              "      <td>6</td>\n",
              "      <td>Delhi</td>\n",
              "      <td>Cochin</td>\n",
              "      <td>DEL → LKO → BOM → COK</td>\n",
              "      <td>09:25:00</td>\n",
              "      <td>04:25:00</td>\n",
              "      <td>2019-06-10</td>\n",
              "      <td>1140</td>\n",
              "      <td>2</td>\n",
              "      <td>No info</td>\n",
              "      <td>13882</td>\n",
              "    </tr>\n",
              "    <tr>\n",
              "      <th>3</th>\n",
              "      <td>IndiGo</td>\n",
              "      <td>2019-05-12</td>\n",
              "      <td>5</td>\n",
              "      <td>Kolkata</td>\n",
              "      <td>Banglore</td>\n",
              "      <td>CCU → NAG → BLR</td>\n",
              "      <td>18:05:00</td>\n",
              "      <td>23:30:00</td>\n",
              "      <td>2019-05-12</td>\n",
              "      <td>325</td>\n",
              "      <td>1</td>\n",
              "      <td>No info</td>\n",
              "      <td>6218</td>\n",
              "    </tr>\n",
              "    <tr>\n",
              "      <th>4</th>\n",
              "      <td>IndiGo</td>\n",
              "      <td>2019-03-01</td>\n",
              "      <td>3</td>\n",
              "      <td>Banglore</td>\n",
              "      <td>New Delhi</td>\n",
              "      <td>BLR → NAG → DEL</td>\n",
              "      <td>16:50:00</td>\n",
              "      <td>21:35:00</td>\n",
              "      <td>2019-03-01</td>\n",
              "      <td>285</td>\n",
              "      <td>1</td>\n",
              "      <td>No info</td>\n",
              "      <td>13302</td>\n",
              "    </tr>\n",
              "    <tr>\n",
              "      <th>5</th>\n",
              "      <td>SpiceJet</td>\n",
              "      <td>2019-06-24</td>\n",
              "      <td>6</td>\n",
              "      <td>Kolkata</td>\n",
              "      <td>Banglore</td>\n",
              "      <td>CCU → BLR</td>\n",
              "      <td>09:00:00</td>\n",
              "      <td>11:25:00</td>\n",
              "      <td>2019-06-24</td>\n",
              "      <td>145</td>\n",
              "      <td>0</td>\n",
              "      <td>No info</td>\n",
              "      <td>3873</td>\n",
              "    </tr>\n",
              "    <tr>\n",
              "      <th>6</th>\n",
              "      <td>Jet Airways</td>\n",
              "      <td>2019-03-12</td>\n",
              "      <td>3</td>\n",
              "      <td>Banglore</td>\n",
              "      <td>New Delhi</td>\n",
              "      <td>BLR → BOM → DEL</td>\n",
              "      <td>18:55:00</td>\n",
              "      <td>10:25:00</td>\n",
              "      <td>2019-03-13</td>\n",
              "      <td>930</td>\n",
              "      <td>1</td>\n",
              "      <td>In-flight meal not included</td>\n",
              "      <td>11087</td>\n",
              "    </tr>\n",
              "    <tr>\n",
              "      <th>7</th>\n",
              "      <td>Jet Airways</td>\n",
              "      <td>2019-03-01</td>\n",
              "      <td>3</td>\n",
              "      <td>Banglore</td>\n",
              "      <td>New Delhi</td>\n",
              "      <td>BLR → BOM → DEL</td>\n",
              "      <td>08:00:00</td>\n",
              "      <td>05:05:00</td>\n",
              "      <td>2019-03-02</td>\n",
              "      <td>1265</td>\n",
              "      <td>1</td>\n",
              "      <td>No info</td>\n",
              "      <td>22270</td>\n",
              "    </tr>\n",
              "    <tr>\n",
              "      <th>8</th>\n",
              "      <td>Jet Airways</td>\n",
              "      <td>2019-03-12</td>\n",
              "      <td>3</td>\n",
              "      <td>Banglore</td>\n",
              "      <td>New Delhi</td>\n",
              "      <td>BLR → BOM → DEL</td>\n",
              "      <td>08:55:00</td>\n",
              "      <td>10:25:00</td>\n",
              "      <td>2019-03-13</td>\n",
              "      <td>1530</td>\n",
              "      <td>1</td>\n",
              "      <td>In-flight meal not included</td>\n",
              "      <td>11087</td>\n",
              "    </tr>\n",
              "    <tr>\n",
              "      <th>9</th>\n",
              "      <td>Multiple carriers</td>\n",
              "      <td>2019-05-27</td>\n",
              "      <td>5</td>\n",
              "      <td>Delhi</td>\n",
              "      <td>Cochin</td>\n",
              "      <td>DEL → BOM → COK</td>\n",
              "      <td>11:25:00</td>\n",
              "      <td>19:15:00</td>\n",
              "      <td>2019-05-27</td>\n",
              "      <td>470</td>\n",
              "      <td>1</td>\n",
              "      <td>No info</td>\n",
              "      <td>8625</td>\n",
              "    </tr>\n",
              "  </tbody>\n",
              "</table>\n",
              "</div>\n",
              "    <div class=\"colab-df-buttons\">\n",
              "\n",
              "  <div class=\"colab-df-container\">\n",
              "    <button class=\"colab-df-convert\" onclick=\"convertToInteractive('df-66396931-dbd9-4504-8cf0-bc57da562d45')\"\n",
              "            title=\"Convert this dataframe to an interactive table.\"\n",
              "            style=\"display:none;\">\n",
              "\n",
              "  <svg xmlns=\"http://www.w3.org/2000/svg\" height=\"24px\" viewBox=\"0 -960 960 960\">\n",
              "    <path d=\"M120-120v-720h720v720H120Zm60-500h600v-160H180v160Zm220 220h160v-160H400v160Zm0 220h160v-160H400v160ZM180-400h160v-160H180v160Zm440 0h160v-160H620v160ZM180-180h160v-160H180v160Zm440 0h160v-160H620v160Z\"/>\n",
              "  </svg>\n",
              "    </button>\n",
              "\n",
              "  <style>\n",
              "    .colab-df-container {\n",
              "      display:flex;\n",
              "      gap: 12px;\n",
              "    }\n",
              "\n",
              "    .colab-df-convert {\n",
              "      background-color: #E8F0FE;\n",
              "      border: none;\n",
              "      border-radius: 50%;\n",
              "      cursor: pointer;\n",
              "      display: none;\n",
              "      fill: #1967D2;\n",
              "      height: 32px;\n",
              "      padding: 0 0 0 0;\n",
              "      width: 32px;\n",
              "    }\n",
              "\n",
              "    .colab-df-convert:hover {\n",
              "      background-color: #E2EBFA;\n",
              "      box-shadow: 0px 1px 2px rgba(60, 64, 67, 0.3), 0px 1px 3px 1px rgba(60, 64, 67, 0.15);\n",
              "      fill: #174EA6;\n",
              "    }\n",
              "\n",
              "    .colab-df-buttons div {\n",
              "      margin-bottom: 4px;\n",
              "    }\n",
              "\n",
              "    [theme=dark] .colab-df-convert {\n",
              "      background-color: #3B4455;\n",
              "      fill: #D2E3FC;\n",
              "    }\n",
              "\n",
              "    [theme=dark] .colab-df-convert:hover {\n",
              "      background-color: #434B5C;\n",
              "      box-shadow: 0px 1px 3px 1px rgba(0, 0, 0, 0.15);\n",
              "      filter: drop-shadow(0px 1px 2px rgba(0, 0, 0, 0.3));\n",
              "      fill: #FFFFFF;\n",
              "    }\n",
              "  </style>\n",
              "\n",
              "    <script>\n",
              "      const buttonEl =\n",
              "        document.querySelector('#df-66396931-dbd9-4504-8cf0-bc57da562d45 button.colab-df-convert');\n",
              "      buttonEl.style.display =\n",
              "        google.colab.kernel.accessAllowed ? 'block' : 'none';\n",
              "\n",
              "      async function convertToInteractive(key) {\n",
              "        const element = document.querySelector('#df-66396931-dbd9-4504-8cf0-bc57da562d45');\n",
              "        const dataTable =\n",
              "          await google.colab.kernel.invokeFunction('convertToInteractive',\n",
              "                                                    [key], {});\n",
              "        if (!dataTable) return;\n",
              "\n",
              "        const docLinkHtml = 'Like what you see? Visit the ' +\n",
              "          '<a target=\"_blank\" href=https://colab.research.google.com/notebooks/data_table.ipynb>data table notebook</a>'\n",
              "          + ' to learn more about interactive tables.';\n",
              "        element.innerHTML = '';\n",
              "        dataTable['output_type'] = 'display_data';\n",
              "        await google.colab.output.renderOutput(dataTable, element);\n",
              "        const docLink = document.createElement('div');\n",
              "        docLink.innerHTML = docLinkHtml;\n",
              "        element.appendChild(docLink);\n",
              "      }\n",
              "    </script>\n",
              "  </div>\n",
              "\n",
              "\n",
              "<div id=\"df-d40d6ec7-eb26-4e87-a1db-56d589caa5e5\">\n",
              "  <button class=\"colab-df-quickchart\" onclick=\"quickchart('df-d40d6ec7-eb26-4e87-a1db-56d589caa5e5')\"\n",
              "            title=\"Suggest charts\"\n",
              "            style=\"display:none;\">\n",
              "\n",
              "<svg xmlns=\"http://www.w3.org/2000/svg\" height=\"24px\"viewBox=\"0 0 24 24\"\n",
              "     width=\"24px\">\n",
              "    <g>\n",
              "        <path d=\"M19 3H5c-1.1 0-2 .9-2 2v14c0 1.1.9 2 2 2h14c1.1 0 2-.9 2-2V5c0-1.1-.9-2-2-2zM9 17H7v-7h2v7zm4 0h-2V7h2v10zm4 0h-2v-4h2v4z\"/>\n",
              "    </g>\n",
              "</svg>\n",
              "  </button>\n",
              "\n",
              "<style>\n",
              "  .colab-df-quickchart {\n",
              "      --bg-color: #E8F0FE;\n",
              "      --fill-color: #1967D2;\n",
              "      --hover-bg-color: #E2EBFA;\n",
              "      --hover-fill-color: #174EA6;\n",
              "      --disabled-fill-color: #AAA;\n",
              "      --disabled-bg-color: #DDD;\n",
              "  }\n",
              "\n",
              "  [theme=dark] .colab-df-quickchart {\n",
              "      --bg-color: #3B4455;\n",
              "      --fill-color: #D2E3FC;\n",
              "      --hover-bg-color: #434B5C;\n",
              "      --hover-fill-color: #FFFFFF;\n",
              "      --disabled-bg-color: #3B4455;\n",
              "      --disabled-fill-color: #666;\n",
              "  }\n",
              "\n",
              "  .colab-df-quickchart {\n",
              "    background-color: var(--bg-color);\n",
              "    border: none;\n",
              "    border-radius: 50%;\n",
              "    cursor: pointer;\n",
              "    display: none;\n",
              "    fill: var(--fill-color);\n",
              "    height: 32px;\n",
              "    padding: 0;\n",
              "    width: 32px;\n",
              "  }\n",
              "\n",
              "  .colab-df-quickchart:hover {\n",
              "    background-color: var(--hover-bg-color);\n",
              "    box-shadow: 0 1px 2px rgba(60, 64, 67, 0.3), 0 1px 3px 1px rgba(60, 64, 67, 0.15);\n",
              "    fill: var(--button-hover-fill-color);\n",
              "  }\n",
              "\n",
              "  .colab-df-quickchart-complete:disabled,\n",
              "  .colab-df-quickchart-complete:disabled:hover {\n",
              "    background-color: var(--disabled-bg-color);\n",
              "    fill: var(--disabled-fill-color);\n",
              "    box-shadow: none;\n",
              "  }\n",
              "\n",
              "  .colab-df-spinner {\n",
              "    border: 2px solid var(--fill-color);\n",
              "    border-color: transparent;\n",
              "    border-bottom-color: var(--fill-color);\n",
              "    animation:\n",
              "      spin 1s steps(1) infinite;\n",
              "  }\n",
              "\n",
              "  @keyframes spin {\n",
              "    0% {\n",
              "      border-color: transparent;\n",
              "      border-bottom-color: var(--fill-color);\n",
              "      border-left-color: var(--fill-color);\n",
              "    }\n",
              "    20% {\n",
              "      border-color: transparent;\n",
              "      border-left-color: var(--fill-color);\n",
              "      border-top-color: var(--fill-color);\n",
              "    }\n",
              "    30% {\n",
              "      border-color: transparent;\n",
              "      border-left-color: var(--fill-color);\n",
              "      border-top-color: var(--fill-color);\n",
              "      border-right-color: var(--fill-color);\n",
              "    }\n",
              "    40% {\n",
              "      border-color: transparent;\n",
              "      border-right-color: var(--fill-color);\n",
              "      border-top-color: var(--fill-color);\n",
              "    }\n",
              "    60% {\n",
              "      border-color: transparent;\n",
              "      border-right-color: var(--fill-color);\n",
              "    }\n",
              "    80% {\n",
              "      border-color: transparent;\n",
              "      border-right-color: var(--fill-color);\n",
              "      border-bottom-color: var(--fill-color);\n",
              "    }\n",
              "    90% {\n",
              "      border-color: transparent;\n",
              "      border-bottom-color: var(--fill-color);\n",
              "    }\n",
              "  }\n",
              "</style>\n",
              "\n",
              "  <script>\n",
              "    async function quickchart(key) {\n",
              "      const quickchartButtonEl =\n",
              "        document.querySelector('#' + key + ' button');\n",
              "      quickchartButtonEl.disabled = true;  // To prevent multiple clicks.\n",
              "      quickchartButtonEl.classList.add('colab-df-spinner');\n",
              "      try {\n",
              "        const charts = await google.colab.kernel.invokeFunction(\n",
              "            'suggestCharts', [key], {});\n",
              "      } catch (error) {\n",
              "        console.error('Error during call to suggestCharts:', error);\n",
              "      }\n",
              "      quickchartButtonEl.classList.remove('colab-df-spinner');\n",
              "      quickchartButtonEl.classList.add('colab-df-quickchart-complete');\n",
              "    }\n",
              "    (() => {\n",
              "      let quickchartButtonEl =\n",
              "        document.querySelector('#df-d40d6ec7-eb26-4e87-a1db-56d589caa5e5 button');\n",
              "      quickchartButtonEl.style.display =\n",
              "        google.colab.kernel.accessAllowed ? 'block' : 'none';\n",
              "    })();\n",
              "  </script>\n",
              "</div>\n",
              "\n",
              "    </div>\n",
              "  </div>\n"
            ]
          },
          "metadata": {},
          "execution_count": 116
        }
      ]
    },
    {
      "cell_type": "markdown",
      "source": [
        "#Visualize dữ liệu dạng bảng hoặc đồ thị:"
      ],
      "metadata": {
        "id": "CKid8wx1jh5i"
      }
    },
    {
      "cell_type": "markdown",
      "source": [
        "##1. Giá vé tăng khi nào?"
      ],
      "metadata": {
        "id": "U_J3L4lhj3uA"
      }
    },
    {
      "cell_type": "markdown",
      "source": [
        "### Giá vé tăng khi hãng thay đổi: khi chọn Jet Airways Business thì giá vé sẽ cao hơn so với các hãng khác"
      ],
      "metadata": {
        "id": "ZptJ2bgsrsVx"
      }
    },
    {
      "cell_type": "code",
      "source": [
        "# Vẽ đồ thị so sánh giá vé theo hãng máy bay\n",
        "plt.figure(figsize=(14, 8))\n",
        "sns.boxplot(x='Airline', y='Price', data=merged_data)\n",
        "plt.title('So sánh giá vé máy bay theo hãng')\n",
        "plt.xlabel('Hãng máy bay')\n",
        "plt.ylabel('Giá vé (Rupee)')\n",
        "plt.xticks(rotation=45, ha='right')  # Để xác định định dạng các nhãn trên trục x\n",
        "plt.show()"
      ],
      "metadata": {
        "id": "qtZwzjbljg7v",
        "colab": {
          "base_uri": "https://localhost:8080/",
          "height": 889
        },
        "outputId": "22880da3-ed97-4d8b-ab2d-dc6f3e17a897"
      },
      "execution_count": 117,
      "outputs": [
        {
          "output_type": "display_data",
          "data": {
            "text/plain": [
              "<Figure size 1400x800 with 1 Axes>"
            ],
            "image/png": "[encoded data removed]"
          },
          "metadata": {}
        }
      ]
    },
    {
      "cell_type": "markdown",
      "source": [
        "\n",
        "##2. So sánh tỷ lệ các chuyến bay thẳng và trung chuyển (có dừng)"
      ],
      "metadata": {
        "id": "Bh9xEu8gjg2S"
      }
    },
    {
      "cell_type": "code",
      "source": [],
      "metadata": {
        "id": "jd35QbgAj4g1"
      },
      "execution_count": 117,
      "outputs": []
    },
    {
      "cell_type": "markdown",
      "source": [
        "\n",
        "##3. Nước nào có lượng chuyến bay nhiều nhất?"
      ],
      "metadata": {
        "id": "nEHNxMrMj6eh"
      }
    },
    {
      "cell_type": "code",
      "source": [],
      "metadata": {
        "id": "kCxj2oSUjgwq"
      },
      "execution_count": 117,
      "outputs": []
    },
    {
      "cell_type": "markdown",
      "source": [
        "\n",
        "##4. Hãng máy bay nào được khách đặt vé nhiều/thấp nhất?"
      ],
      "metadata": {
        "id": "0H-Bz7iyjgqn"
      }
    },
    {
      "cell_type": "code",
      "source": [],
      "metadata": {
        "id": "oS3tS04fjgfu"
      },
      "execution_count": 117,
      "outputs": []
    },
    {
      "cell_type": "markdown",
      "source": [
        "\n",
        "##5. Tháng nào là tháng cao điểm"
      ],
      "metadata": {
        "id": "-fyOynarjgWd"
      }
    },
    {
      "cell_type": "code",
      "source": [],
      "metadata": {
        "id": "v9qoLUX-j9tQ"
      },
      "execution_count": 117,
      "outputs": []
    },
    {
      "cell_type": "markdown",
      "source": [
        "\n",
        "##6. Giá có thay đổi tùy theo hãng hàng không hay không?"
      ],
      "metadata": {
        "id": "H2UC1q6gjrw8"
      }
    },
    {
      "cell_type": "code",
      "source": [],
      "metadata": {
        "id": "AoZ7njXTj-Id"
      },
      "execution_count": 117,
      "outputs": []
    },
    {
      "cell_type": "markdown",
      "source": [
        "\n",
        "##7. Giá vé bị ảnh hưởng như thế nào khi mua vé chỉ 1 hoặc 2 ngày trước ngày khởi hành?"
      ],
      "metadata": {
        "id": "Cam1c1NEjs7f"
      }
    },
    {
      "cell_type": "code",
      "source": [],
      "metadata": {
        "id": "OVEYqVmIkAv7"
      },
      "execution_count": 117,
      "outputs": []
    },
    {
      "cell_type": "markdown",
      "source": [
        "\n",
        "##8. Giá vé có thay đổi theo thời gian đi và đến không?"
      ],
      "metadata": {
        "id": "lTSJgekIkBK5"
      }
    },
    {
      "cell_type": "code",
      "source": [],
      "metadata": {
        "id": "MKMro1MXkDSn"
      },
      "execution_count": 117,
      "outputs": []
    },
    {
      "cell_type": "markdown",
      "source": [
        "\n",
        "##9. Giá thay đổi như thế nào khi thay đổi Nguồn và Điểm đến?"
      ],
      "metadata": {
        "id": "OFsEYbJKkCt-"
      }
    },
    {
      "cell_type": "code",
      "source": [],
      "metadata": {
        "id": "sjUEr8N0kD2G"
      },
      "execution_count": 117,
      "outputs": []
    },
    {
      "cell_type": "markdown",
      "source": [
        "#Kết luận các điểm chính quan sát được từ dữ liệu từ các gợi ý trên\n"
      ],
      "metadata": {
        "id": "81TSM4H2kRd_"
      }
    },
    {
      "cell_type": "code",
      "source": [],
      "metadata": {
        "id": "TRszty31kUaU"
      },
      "execution_count": 117,
      "outputs": []
    },
    {
      "cell_type": "markdown",
      "source": [
        "#Ngoài các đặc trưng trong tập dữ liệu, các yếu tố nào có khả năng ảnh hưởng đến giá vé chuyến bay?\n",
        "\n"
      ],
      "metadata": {
        "id": "1EcepcBgkUrV"
      }
    },
    {
      "cell_type": "markdown",
      "source": [],
      "metadata": {
        "id": "okje49idkdyy"
      }
    },
    {
      "cell_type": "markdown",
      "source": [
        "#Dự đoán giá vé"
      ],
      "metadata": {
        "id": "SG774ceGkWfN"
      }
    },
    {
      "cell_type": "markdown",
      "source": [],
      "metadata": {
        "id": "u6zxfmMrkebS"
      }
    }
  ]
}