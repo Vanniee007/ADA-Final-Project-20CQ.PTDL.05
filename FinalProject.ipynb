{
  "cells": [
    {
      "cell_type": "markdown",
      "metadata": {
        "id": "sJPyJasjhvPu"
      },
      "source": [
        "#**Thông tin nhóm**\n",
        "##Mã nhóm: 20CQ.PTDL.05\n",
        "##Danh sách thành viên:\n",
        "*   20120466 - Trần Thị Thu Hà\n",
        "*   20120592 - Lê Minh Tiến\n",
        "*   20120595 - Phạm Minh Tiến\n",
        "*   20120624 - Mai Quyết Vang\n",
        "\n"
      ]
    },
    {
      "cell_type": "markdown",
      "metadata": {
        "id": "xmmwOqTqiUsP"
      },
      "source": [
        "#Thêm thư viện cần thiết"
      ]
    },
    {
      "cell_type": "code",
      "execution_count": 19,
      "metadata": {
        "id": "Yn648mWciUV3"
      },
      "outputs": [],
      "source": [
        "import pandas as pd\n",
        "import matplotlib.pyplot as plt\n",
        "import seaborn as sns"
      ]
    },
    {
      "cell_type": "markdown",
      "metadata": {
        "id": "aQfzbAAYiaFa"
      },
      "source": [
        "Load dữ liệu"
      ]
    },
    {
      "cell_type": "code",
      "execution_count": 20,
      "metadata": {
        "id": "2x-m0OgQiZYZ"
      },
      "outputs": [],
      "source": [
        "link_p1 = \"https://raw.githubusercontent.com/Vanniee007/ADA-Final-Project-20CQ.PTDL.05/main/data/Data_Train_p1.xlsx\"\n",
        "link_p2 = \"https://raw.githubusercontent.com/Vanniee007/ADA-Final-Project-20CQ.PTDL.05/main/data/Data_Train_p2.xlsx\"\n"
      ]
    },
    {
      "cell_type": "code",
      "execution_count": 21,
      "metadata": {
        "id": "ExOwxc46ijXC"
      },
      "outputs": [],
      "source": [
        "# Đọc dữ liệu từ file Excel\n",
        "Data_Train_p1 = pd.read_excel(link_p1)\n",
        "Data_Train_p2 = pd.read_excel(link_p2)\n",
        "\n",
        "# Ghép nối hai DataFrame\n",
        "merged_data = pd.concat([Data_Train_p1, Data_Train_p2], ignore_index=True)"
      ]
    },
    {
      "cell_type": "markdown",
      "metadata": {
        "id": "bu1MvQZViMbq"
      },
      "source": [
        "#Quan sát và phân tích tập dữ liệu (EDA)\n"
      ]
    },
    {
      "cell_type": "markdown",
      "metadata": {
        "id": "Jxj0fMjVjPkx"
      },
      "source": [
        "##1. Cho biết kiểu dữ liệu của các thuộc tính\n"
      ]
    },
    {
      "cell_type": "code",
      "execution_count": 22,
      "metadata": {
        "colab": {
          "base_uri": "https://localhost:8080/"
        },
        "id": "vmISeFXniMNF",
        "outputId": "d0d9d5bf-9e70-47a8-928e-66b2930d2d41"
      },
      "outputs": [
        {
          "name": "stdout",
          "output_type": "stream",
          "text": [
            "<class 'pandas.core.frame.DataFrame'>\n",
            "RangeIndex: 10684 entries, 0 to 10683\n",
            "Data columns (total 11 columns):\n",
            " #   Column           Non-Null Count  Dtype \n",
            "---  ------           --------------  ----- \n",
            " 0   Airline          10684 non-null  object\n",
            " 1   Date_of_Journey  10684 non-null  object\n",
            " 2   Source           10684 non-null  object\n",
            " 3   Destination      10684 non-null  object\n",
            " 4   Route            10683 non-null  object\n",
            " 5   Dep_Time         10684 non-null  object\n",
            " 6   Arrival_Time     10684 non-null  object\n",
            " 7   Duration         10684 non-null  object\n",
            " 8   Total_Stops      10683 non-null  object\n",
            " 9   Additional_Info  10684 non-null  object\n",
            " 10  Price            10684 non-null  int64 \n",
            "dtypes: int64(1), object(10)\n",
            "memory usage: 918.3+ KB\n"
          ]
        }
      ],
      "source": [
        "# Hiển thị thông tin về DataFrame\n",
        "merged_data.info()"
      ]
    },
    {
      "cell_type": "markdown",
      "metadata": {
        "id": "w7cO6qzbjRjD"
      },
      "source": [
        "##2. Đối với cột Price, cho biết:\n",
        "\n",
        "\n",
        "*   Giá cao nhất, thấp nhất, giá trung bình, mức giá xuất hiện nhiều\n",
        "*   Độ lệch chuẩn của cột price?\n",
        "*   Cho biết giá phân phối xung quanh trung tâm hay cách xa trung tâm?\n",
        "Nhận xét về giá trị mean và median của tập dữ liệu.\n",
        "*   Vẽ đồ thị histogram để nhận xét dữ liệu có bị lệch không?\n",
        "List item\n",
        "\n",
        "\n",
        "\n"
      ]
    },
    {
      "cell_type": "code",
      "execution_count": null,
      "metadata": {
        "id": "WQVwrfsjhSCt"
      },
      "outputs": [],
      "source": []
    },
    {
      "cell_type": "markdown",
      "metadata": {
        "id": "DKUyi_sejbzM"
      },
      "source": [
        "##3. Mô tả số lượng missing value của mỗi thuộc tính\n"
      ]
    },
    {
      "cell_type": "code",
      "execution_count": 23,
      "metadata": {
        "colab": {
          "base_uri": "https://localhost:8080/"
        },
        "id": "usdDtNQJjiw4",
        "outputId": "f1c11cf9-007e-47e5-abeb-360cb7a1a6b9"
      },
      "outputs": [
        {
          "name": "stdout",
          "output_type": "stream",
          "text": [
            "Số lượng missing value của mỗi thuộc tính:\n",
            "Airline            0\n",
            "Date_of_Journey    0\n",
            "Source             0\n",
            "Destination        0\n",
            "Route              1\n",
            "Dep_Time           0\n",
            "Arrival_Time       0\n",
            "Duration           0\n",
            "Total_Stops        1\n",
            "Additional_Info    0\n",
            "Price              0\n",
            "dtype: int64\n"
          ]
        }
      ],
      "source": [
        "# 3. Mô tả số lượng missing value của mỗi thuộc tính\n",
        "missing_values = merged_data.isnull().sum()\n",
        "print(\"Số lượng missing value của mỗi thuộc tính:\")\n",
        "print(missing_values)"
      ]
    },
    {
      "cell_type": "markdown",
      "metadata": {
        "id": "2PSCkjffjiql"
      },
      "source": [
        "##4. Tính tỷ lệ % missing value của mỗi thuộc tính\n"
      ]
    },
    {
      "cell_type": "code",
      "execution_count": 24,
      "metadata": {
        "colab": {
          "base_uri": "https://localhost:8080/"
        },
        "id": "7O1Hxw_Ujilf",
        "outputId": "5832ea74-ccdf-4d50-8d40-042e5707019e"
      },
      "outputs": [
        {
          "name": "stdout",
          "output_type": "stream",
          "text": [
            "Tỷ lệ % missing value của mỗi thuộc tính:\n",
            "Airline            0.00000\n",
            "Date_of_Journey    0.00000\n",
            "Source             0.00000\n",
            "Destination        0.00000\n",
            "Route              0.00936\n",
            "Dep_Time           0.00000\n",
            "Arrival_Time       0.00000\n",
            "Duration           0.00000\n",
            "Total_Stops        0.00936\n",
            "Additional_Info    0.00000\n",
            "Price              0.00000\n",
            "dtype: float64\n"
          ]
        }
      ],
      "source": [
        "# 4. Tính tỷ lệ % missing value của mỗi thuộc tính\n",
        "missing_percentage = (missing_values / len(merged_data)) * 100\n",
        "print(\"Tỷ lệ % missing value của mỗi thuộc tính:\")\n",
        "print(missing_percentage)"
      ]
    },
    {
      "cell_type": "markdown",
      "metadata": {
        "id": "6IGs1CNxjiey"
      },
      "source": [
        "##5. Xử lý dữ liệu missing\n"
      ]
    },
    {
      "cell_type": "code",
      "execution_count": 25,
      "metadata": {
        "id": "O0Q-3ptmjjve"
      },
      "outputs": [],
      "source": [
        "# 5. Xử lý dữ liệu missing ( xóa các dòng có missing value)\n",
        "merged_data.dropna(subset=['Total_Stops'], inplace=True)"
      ]
    },
    {
      "cell_type": "markdown",
      "metadata": {
        "id": "sx0Rpg49jfu_"
      },
      "source": [
        "##6. Outlier: sử dụng đồ thị boxplot để quan sát cột Price có tồn tại outlier không?"
      ]
    },
    {
      "cell_type": "code",
      "execution_count": null,
      "metadata": {
        "id": "cTZ1IeMWjgKM"
      },
      "outputs": [],
      "source": []
    },
    {
      "cell_type": "markdown",
      "metadata": {
        "id": "LPau0L2noTb-"
      },
      "source": [
        "## Xử lí cột Duration: xử lí thành phút (int)\n"
      ]
    },
    {
      "cell_type": "code",
      "execution_count": 26,
      "metadata": {
        "id": "OBoHdT2yonCF"
      },
      "outputs": [],
      "source": [
        "# Chuyển đổi cột 'Duration' về đơn vị phút\n",
        "def convert_duration(duration):\n",
        "    if 'h' in duration and 'm' in duration:\n",
        "        return int(duration.split('h')[0]) * 60 + int(duration.split('h')[1].split('m')[0])\n",
        "    elif 'h' in duration:\n",
        "        return int(duration.split('h')[0]) * 60\n",
        "    elif 'm' in duration:\n",
        "        return int(duration.split('m')[0])\n",
        "    else:\n",
        "        return 0\n",
        "\n",
        "merged_data['Duration'] = merged_data['Duration'].apply(convert_duration)\n"
      ]
    },
    {
      "cell_type": "markdown",
      "metadata": {
        "id": "BbeW51Tio1pr"
      },
      "source": [
        "## Xử lí Arival-Time thành Arival-Time (định dạng giờ)"
      ]
    },
    {
      "cell_type": "code",
      "execution_count": 27,
      "metadata": {
        "colab": {
          "base_uri": "https://localhost:8080/",
          "height": 206
        },
        "id": "bCclsGIIo8-8",
        "outputId": "90894ac5-416e-4021-9433-437df1c1ae94"
      },
      "outputs": [
        {
          "name": "stderr",
          "output_type": "stream",
          "text": [
            "C:\\Users\\Ha\\AppData\\Local\\Temp\\ipykernel_2636\\1920617473.py:1: UserWarning: Could not infer format, so each element will be parsed individually, falling back to `dateutil`. To ensure parsing is consistent and as-expected, please specify a format.\n",
            "  merged_data['Arrival_Time'] = pd.to_datetime(merged_data['Arrival_Time']).dt.strftime('%I:%M')\n"
          ]
        },
        {
          "data": {
            "text/html": [
              "<div>\n",
              "<style scoped>\n",
              "    .dataframe tbody tr th:only-of-type {\n",
              "        vertical-align: middle;\n",
              "    }\n",
              "\n",
              "    .dataframe tbody tr th {\n",
              "        vertical-align: top;\n",
              "    }\n",
              "\n",
              "    .dataframe thead th {\n",
              "        text-align: right;\n",
              "    }\n",
              "</style>\n",
              "<table border=\"1\" class=\"dataframe\">\n",
              "  <thead>\n",
              "    <tr style=\"text-align: right;\">\n",
              "      <th></th>\n",
              "      <th>Airline</th>\n",
              "      <th>Date_of_Journey</th>\n",
              "      <th>Source</th>\n",
              "      <th>Destination</th>\n",
              "      <th>Route</th>\n",
              "      <th>Dep_Time</th>\n",
              "      <th>Arrival_Time</th>\n",
              "      <th>Duration</th>\n",
              "      <th>Total_Stops</th>\n",
              "      <th>Additional_Info</th>\n",
              "      <th>Price</th>\n",
              "    </tr>\n",
              "  </thead>\n",
              "  <tbody>\n",
              "    <tr>\n",
              "      <th>0</th>\n",
              "      <td>IndiGo</td>\n",
              "      <td>24/03/2019</td>\n",
              "      <td>Banglore</td>\n",
              "      <td>New Delhi</td>\n",
              "      <td>BLR → DEL</td>\n",
              "      <td>22:20</td>\n",
              "      <td>01:10</td>\n",
              "      <td>170</td>\n",
              "      <td>non-stop</td>\n",
              "      <td>No info</td>\n",
              "      <td>3897</td>\n",
              "    </tr>\n",
              "    <tr>\n",
              "      <th>1</th>\n",
              "      <td>Air India</td>\n",
              "      <td>1/05/2019</td>\n",
              "      <td>Kolkata</td>\n",
              "      <td>Banglore</td>\n",
              "      <td>CCU → IXR → BBI → BLR</td>\n",
              "      <td>05:50</td>\n",
              "      <td>01:15</td>\n",
              "      <td>445</td>\n",
              "      <td>2 stops</td>\n",
              "      <td>No info</td>\n",
              "      <td>7662</td>\n",
              "    </tr>\n",
              "    <tr>\n",
              "      <th>2</th>\n",
              "      <td>Jet Airways</td>\n",
              "      <td>9/06/2019</td>\n",
              "      <td>Delhi</td>\n",
              "      <td>Cochin</td>\n",
              "      <td>DEL → LKO → BOM → COK</td>\n",
              "      <td>09:25</td>\n",
              "      <td>04:25</td>\n",
              "      <td>1140</td>\n",
              "      <td>2 stops</td>\n",
              "      <td>No info</td>\n",
              "      <td>13882</td>\n",
              "    </tr>\n",
              "    <tr>\n",
              "      <th>3</th>\n",
              "      <td>IndiGo</td>\n",
              "      <td>12/05/2019</td>\n",
              "      <td>Kolkata</td>\n",
              "      <td>Banglore</td>\n",
              "      <td>CCU → NAG → BLR</td>\n",
              "      <td>18:05</td>\n",
              "      <td>11:30</td>\n",
              "      <td>325</td>\n",
              "      <td>1 stop</td>\n",
              "      <td>No info</td>\n",
              "      <td>6218</td>\n",
              "    </tr>\n",
              "    <tr>\n",
              "      <th>4</th>\n",
              "      <td>IndiGo</td>\n",
              "      <td>01/03/2019</td>\n",
              "      <td>Banglore</td>\n",
              "      <td>New Delhi</td>\n",
              "      <td>BLR → NAG → DEL</td>\n",
              "      <td>16:50</td>\n",
              "      <td>09:35</td>\n",
              "      <td>285</td>\n",
              "      <td>1 stop</td>\n",
              "      <td>No info</td>\n",
              "      <td>13302</td>\n",
              "    </tr>\n",
              "  </tbody>\n",
              "</table>\n",
              "</div>"
            ],
            "text/plain": [
              "       Airline Date_of_Journey    Source Destination                  Route  \\\n",
              "0       IndiGo      24/03/2019  Banglore   New Delhi              BLR → DEL   \n",
              "1    Air India       1/05/2019   Kolkata    Banglore  CCU → IXR → BBI → BLR   \n",
              "2  Jet Airways       9/06/2019     Delhi      Cochin  DEL → LKO → BOM → COK   \n",
              "3       IndiGo      12/05/2019   Kolkata    Banglore        CCU → NAG → BLR   \n",
              "4       IndiGo      01/03/2019  Banglore   New Delhi        BLR → NAG → DEL   \n",
              "\n",
              "  Dep_Time Arrival_Time  Duration Total_Stops Additional_Info  Price  \n",
              "0    22:20        01:10       170    non-stop         No info   3897  \n",
              "1    05:50        01:15       445     2 stops         No info   7662  \n",
              "2    09:25        04:25      1140     2 stops         No info  13882  \n",
              "3    18:05        11:30       325      1 stop         No info   6218  \n",
              "4    16:50        09:35       285      1 stop         No info  13302  "
            ]
          },
          "execution_count": 27,
          "metadata": {},
          "output_type": "execute_result"
        }
      ],
      "source": [
        "merged_data['Arrival_Time'] = pd.to_datetime(merged_data['Arrival_Time']).dt.strftime('%I:%M')\n",
        "merged_data.head()"
      ]
    },
    {
      "cell_type": "markdown",
      "metadata": {
        "id": "CKid8wx1jh5i"
      },
      "source": [
        "#Visualize dữ liệu dạng bảng hoặc đồ thị:"
      ]
    },
    {
      "cell_type": "markdown",
      "metadata": {
        "id": "U_J3L4lhj3uA"
      },
      "source": [
        "##1. Giá vé tăng khi nào?"
      ]
    },
    {
      "cell_type": "code",
      "execution_count": null,
      "metadata": {
        "id": "qtZwzjbljg7v"
      },
      "outputs": [],
      "source": []
    },
    {
      "cell_type": "markdown",
      "metadata": {
        "id": "Bh9xEu8gjg2S"
      },
      "source": [
        "\n",
        "##2. So sánh tỷ lệ các chuyến bay thẳng và trung chuyển (có dừng)"
      ]
    },
    {
      "cell_type": "code",
      "execution_count": 28,
      "metadata": {
        "id": "jd35QbgAj4g1"
      },
      "outputs": [
        {
          "data": {
            "image/png": "[encoded data removed]",
            "text/plain": [
              "<Figure size 1500x600 with 2 Axes>"
            ]
          },
          "metadata": {},
          "output_type": "display_data"
        }
      ],
      "source": [
        "# Tạo DataFrame\n",
        "data = pd.DataFrame(merged_data)\n",
        "\n",
        "# Tính tỷ lệ giữa chuyến bay non-stop và chuyến bay có stops\n",
        "stops_counts = data['Total_Stops'].value_counts()\n",
        "\n",
        "# Tạo DataFrame mới chỉ chứa thông tin non-stop và stops\n",
        "stops_data = pd.DataFrame({\n",
        "    'Bay thẳng': stops_counts['non-stop'],\n",
        "    'Trung chuyển': stops_counts.sum() - stops_counts['non-stop']\n",
        "}, index=[0])\n",
        "\n",
        "# Vẽ biểu đồ\n",
        "fig, axes = plt.subplots(nrows=1, ncols=2, figsize=(15, 6))\n",
        "\n",
        "# Biểu đồ cho tỷ lệ stops\n",
        "stops_data.plot(kind='bar', color=['blue', 'green'], ax=axes[0])\n",
        "axes[0].set_title('Tỷ lệ giữa chuyến bay bay thẳng và trung chuyển')\n",
        "axes[0].set_xlabel('Loại chuyến bay')\n",
        "axes[0].set_ylabel('Số lượng chuyến bay')\n",
        "\n",
        "# Biểu đồ cho tỷ lệ stops_counts\n",
        "stops_counts.plot(kind='bar', alpha=0.3, ax=axes[1])\n",
        "axes[1].set_title('Số lượng chuyến bay theo loại stops')\n",
        "axes[1].set_xlabel('Loại chuyến bay')\n",
        "axes[1].set_ylabel('Số lượng chuyến bay')\n",
        "\n",
        "plt.tight_layout()\n",
        "plt.show()"
      ]
    },
    {
      "cell_type": "markdown",
      "metadata": {},
      "source": [
        "**Nhận xét:**\n",
        "- Các chuyến bay trung chuyển nhiều gấp đôi những chuyến bay thẳng, đa số là một điểm dừng và ít hơn là 2 điểm dừng, từ 3 tới 4 là rất ít"
      ]
    },
    {
      "cell_type": "markdown",
      "metadata": {
        "id": "nEHNxMrMj6eh"
      },
      "source": [
        "\n",
        "##3. Nước nào có lượng chuyến bay nhiều nhất?"
      ]
    },
    {
      "cell_type": "code",
      "execution_count": 29,
      "metadata": {
        "id": "kCxj2oSUjgwq"
      },
      "outputs": [
        {
          "data": {
            "image/png": "[encoded data removed]",
            "text/plain": [
              "<Figure size 1500x600 with 2 Axes>"
            ]
          },
          "metadata": {},
          "output_type": "display_data"
        }
      ],
      "source": [
        "# Tạo DataFrame\n",
        "data = pd.DataFrame(data)\n",
        "\n",
        "# Tạo subplot\n",
        "fig, axes = plt.subplots(nrows=1, ncols=2, figsize=(15, 6))\n",
        "\n",
        "# Biểu đồ theo nơi khởi hành\n",
        "flight_count_by_source = data['Source'].value_counts()\n",
        "flight_count_by_source.plot(kind='bar', color='blue', ax=axes[0])\n",
        "axes[0].set_title('Lượng chuyến bay theo nơi khởi hành')\n",
        "axes[0].set_xlabel('Nơi khởi hành')\n",
        "axes[0].set_ylabel('Số lượng chuyến bay')\n",
        "\n",
        "# Biểu đồ theo nơi đáp\n",
        "flight_count_by_destination = data['Destination'].value_counts()\n",
        "flight_count_by_destination.plot(kind='bar', color='green', ax=axes[1])\n",
        "axes[1].set_title('Lượng chuyến bay theo nơi đáp')\n",
        "axes[1].set_xlabel('Nơi đáp')\n",
        "axes[1].set_ylabel('Số lượng chuyến bay')\n",
        "\n",
        "plt.tight_layout()\n",
        "plt.show()"
      ]
    },
    {
      "cell_type": "markdown",
      "metadata": {},
      "source": [
        "**Nhận xét:**\n",
        "- Xét theo nơi khởi hành thì Delhi là thành phố có nhiều chuyến bay đi nhất.\n",
        "- Xét theo nơi đáp thì Cochin là thành phố có nhiều chuyến bay đáp đến nhất."
      ]
    },
    {
      "cell_type": "markdown",
      "metadata": {
        "id": "0H-Bz7iyjgqn"
      },
      "source": [
        "\n",
        "##4. Hãng máy bay nào được khách đặt vé nhiều/thấp nhất?"
      ]
    },
    {
      "cell_type": "code",
      "execution_count": null,
      "metadata": {
        "id": "oS3tS04fjgfu"
      },
      "outputs": [],
      "source": []
    },
    {
      "cell_type": "markdown",
      "metadata": {
        "id": "-fyOynarjgWd"
      },
      "source": [
        "\n",
        "##5. Tháng nào là tháng cao điểm"
      ]
    },
    {
      "cell_type": "code",
      "execution_count": null,
      "metadata": {
        "id": "v9qoLUX-j9tQ"
      },
      "outputs": [],
      "source": []
    },
    {
      "cell_type": "markdown",
      "metadata": {
        "id": "H2UC1q6gjrw8"
      },
      "source": [
        "\n",
        "##6. Giá có thay đổi tùy theo hãng hàng không hay không?"
      ]
    },
    {
      "cell_type": "code",
      "execution_count": null,
      "metadata": {
        "id": "AoZ7njXTj-Id"
      },
      "outputs": [],
      "source": []
    },
    {
      "cell_type": "markdown",
      "metadata": {
        "id": "Cam1c1NEjs7f"
      },
      "source": [
        "\n",
        "##7. Giá vé bị ảnh hưởng như thế nào khi mua vé chỉ 1 hoặc 2 ngày trước ngày khởi hành?"
      ]
    },
    {
      "cell_type": "code",
      "execution_count": null,
      "metadata": {
        "id": "OVEYqVmIkAv7"
      },
      "outputs": [],
      "source": []
    },
    {
      "cell_type": "markdown",
      "metadata": {
        "id": "lTSJgekIkBK5"
      },
      "source": [
        "\n",
        "##8. Giá vé có thay đổi theo thời gian đi và đến không?"
      ]
    },
    {
      "cell_type": "code",
      "execution_count": 30,
      "metadata": {
        "id": "MKMro1MXkDSn"
      },
      "outputs": [
        {
          "data": {
            "image/png": "[encoded data removed]",
            "text/plain": [
              "<Figure size 1200x600 with 1 Axes>"
            ]
          },
          "metadata": {},
          "output_type": "display_data"
        }
      ],
      "source": [
        "# Replace 'Jet Airways' with the desired airline\n",
        "airline = 'Air Asia'\n",
        "# Replace '01/05/2019' with the specific date you want to filter\n",
        "specific_date = '01/03/2019'\n",
        "specific_date = pd.to_datetime(specific_date, format='%d/%m/%Y')\n",
        "\n",
        "source = 'Banglore'\n",
        "des = 'New Delhi'\n",
        "data['Departure_Hour'] = pd.to_datetime(data['Dep_Time'], format='%H:%M').dt.hour\n",
        "data['Date_of_Journey'] = pd.to_datetime(data['Date_of_Journey'], format='%d/%m/%Y')\n",
        "# Create a new column for the time of day\n",
        "data['Departure_TimeOfDay'] = pd.cut(data['Departure_Hour'], bins=[0, 6, 12, 18, 24], labels=['Night', 'Morning', 'Afternoon', 'Evening'])\n",
        "# Filter data for the specific airline and specific date\n",
        "filtered_data = data[(data['Airline'] == airline) & (data['Date_of_Journey'] == specific_date) & (data['Source'] == source)\n",
        "                     & (data['Destination'] == des)]\n",
        "\n",
        "# Biểu đồ giá vé trung bình theo khung giờ khởi hành\n",
        "plt.figure(figsize=(12, 6))\n",
        "sns.barplot(x='Departure_TimeOfDay', y='Price', data=filtered_data)\n",
        "plt.title(f'Giá vé trung bình theo khung giờ khởi hành cho {airline}')\n",
        "plt.show()"
      ]
    },
    {
      "cell_type": "markdown",
      "metadata": {
        "id": "OFsEYbJKkCt-"
      },
      "source": [
        "\n",
        "##9. Giá thay đổi như thế nào khi thay đổi Nguồn và Điểm đến?"
      ]
    },
    {
      "cell_type": "code",
      "execution_count": null,
      "metadata": {
        "id": "sjUEr8N0kD2G"
      },
      "outputs": [],
      "source": []
    },
    {
      "cell_type": "markdown",
      "metadata": {
        "id": "81TSM4H2kRd_"
      },
      "source": [
        "#Kết luận các điểm chính quan sát được từ dữ liệu từ các gợi ý trên\n"
      ]
    },
    {
      "cell_type": "code",
      "execution_count": null,
      "metadata": {
        "id": "TRszty31kUaU"
      },
      "outputs": [],
      "source": []
    },
    {
      "cell_type": "markdown",
      "metadata": {
        "id": "1EcepcBgkUrV"
      },
      "source": [
        "#Ngoài các đặc trưng trong tập dữ liệu, các yếu tố nào có khả năng ảnh hưởng đến giá vé chuyến bay?\n",
        "\n"
      ]
    },
    {
      "cell_type": "markdown",
      "metadata": {
        "id": "okje49idkdyy"
      },
      "source": []
    },
    {
      "cell_type": "markdown",
      "metadata": {
        "id": "SG774ceGkWfN"
      },
      "source": [
        "#Dự đoán giá vé"
      ]
    },
    {
      "cell_type": "markdown",
      "metadata": {
        "id": "u6zxfmMrkebS"
      },
      "source": []
    }
  ],
  "metadata": {
    "colab": {
      "provenance": []
    },
    "kernelspec": {
      "display_name": "Python 3",
      "name": "python3"
    },
    "language_info": {
      "name": "python"
    }
  },
  "nbformat": 4,
  "nbformat_minor": 0
}
