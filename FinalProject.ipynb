{
  "cells": [
    {
      "cell_type": "markdown",
      "metadata": {
        "id": "sJPyJasjhvPu"
      },
      "source": [
        "# **Thông tin nhóm**\n",
        "## Mã nhóm: 20CQ.PTDL.05\n",
        "## Danh sách thành viên:\n",
        "*   20120466 - Trần Thị Thu Hà\n",
        "*   20120592 - Lê Minh Tiến\n",
        "*   20120595 - Phạm Minh Tiến\n",
        "*   20120624 - Mai Quyết Vang\n",
        "\n"
      ]
    },
    {
      "cell_type": "markdown",
      "metadata": {
        "id": "xmmwOqTqiUsP"
      },
      "source": [
        "# Thêm thư viện cần thiết"
      ]
    },
    {
      "cell_type": "code",
      "execution_count": null,
      "metadata": {
        "id": "Yn648mWciUV3"
      },
      "outputs": [],
      "source": [
        "import pandas as pd\n",
        "import numpy as np\n",
        "import seaborn as sns\n",
        "import matplotlib.pyplot as plt\n",
        "from datetime import datetime, timedelta"
      ]
    },
    {
      "cell_type": "markdown",
      "metadata": {
        "id": "aQfzbAAYiaFa"
      },
      "source": [
        "Load dữ liệu"
      ]
    },
    {
      "cell_type": "code",
      "execution_count": null,
      "metadata": {
        "id": "2x-m0OgQiZYZ"
      },
      "outputs": [],
      "source": [
        "link_p1 = \"https://raw.githubusercontent.com/Vanniee007/ADA-Final-Project-20CQ.PTDL.05/main/data/Data_Train_p1.xlsx\"\n",
        "link_p2 = \"https://raw.githubusercontent.com/Vanniee007/ADA-Final-Project-20CQ.PTDL.05/main/data/Data_Train_p2.xlsx\"\n"
      ]
    },
    {
      "cell_type": "code",
      "execution_count": null,
      "metadata": {
        "id": "ExOwxc46ijXC"
      },
      "outputs": [],
      "source": [
        "# Đọc dữ liệu từ file Excel\n",
        "Data_Train_p1 = pd.read_excel(link_p1)\n",
        "Data_Train_p2 = pd.read_excel(link_p2)\n",
        "\n",
        "# Ghép nối hai DataFrame\n",
        "merged_data = pd.concat([Data_Train_p1, Data_Train_p2], ignore_index=True)\n"
      ]
    },
    {
      "cell_type": "markdown",
      "metadata": {
        "id": "UKfhR5bNC5-A"
      },
      "source": [
        "# **Preprocessing**"
      ]
    },
    {
      "cell_type": "markdown",
      "metadata": {
        "id": "2sa5ZzQcDMAX"
      },
      "source": [
        "## Xử lí duplicate: Xóa các dòng bị trùng lặp"
      ]
    },
    {
      "cell_type": "code",
      "execution_count": null,
      "metadata": {
        "colab": {
          "base_uri": "https://localhost:8080/"
        },
        "id": "twpaR6CGDN8l",
        "outputId": "42895009-3537-469b-e4b4-38f523f56dd3"
      },
      "outputs": [],
      "source": [
        "# Kiểm tra duplicate data và sắp xếp theo cột để dòng trùng lặp gần nhau\n",
        "duplicates = merged_data[merged_data.duplicated(keep=False)].sort_values(by=merged_data.columns.tolist())\n",
        "\n",
        "if len(duplicates) > 0:\n",
        "    print(\"Có {} dòng dữ liệu bị trùng lặp.\".format(len(duplicates)))\n",
        "    duplicates.to_excel('duplicate_data.xlsx', index=False)\n",
        "else:\n",
        "    print(\"Không có dòng dữ liệu trùng lặp.\")\n",
        "print(\"Số dòng dữ liệu trước khi xóa các dòng trùng lặp:\")\n",
        "print(merged_data.shape[0])\n",
        "\n",
        "\n",
        "# Xóa các dòng dữ liệu bị trùng, chỉ giữ lại dòng có index nhỏ hơn (bên trên)\n",
        "merged_data = merged_data.drop_duplicates(keep='first')\n",
        "print(\"Số dòng dữ liệu sau khi xóa các dòng trùng lặp:\")\n",
        "print(merged_data.shape[0])"
      ]
    },
    {
      "cell_type": "markdown",
      "metadata": {},
      "source": [
        "## Unique dữ liệu cột additional_info"
      ]
    },
    {
      "cell_type": "code",
      "execution_count": null,
      "metadata": {},
      "outputs": [],
      "source": [
        "\n",
        "#df.info()\n",
        "def to_lower(df):\n",
        "  string_cols = ['Additional_Info']\n",
        "  for i in string_cols:\n",
        "    df[i] = df[i].apply(lambda s: s.lower())\n",
        "  return df\n",
        "\n",
        "merged_data = to_lower(merged_data)\n",
        "merged_data['Additional_Info'].unique()"
      ]
    },
    {
      "cell_type": "markdown",
      "metadata": {},
      "source": [
        "## Thêm cột Day"
      ]
    },
    {
      "cell_type": "code",
      "execution_count": null,
      "metadata": {},
      "outputs": [],
      "source": [
        "#Vì có sẵn month nên thêm day để bỏ date_of_journey\n",
        "#merged_data['Date_of_Journey'] = pd.to_datetime(merged_data['Date_of_Journey'])\n",
        "merged_data['Date_of_Journey'] = pd.to_datetime(merged_data['Date_of_Journey'], dayfirst=True)\n",
        "\n",
        "# Extract day and create a new column\n",
        "merged_data['Day'] = merged_data['Date_of_Journey'].dt.day"
      ]
    },
    {
      "cell_type": "markdown",
      "metadata": {
        "id": "fhFIimn6Drlq"
      },
      "source": [
        "## Chuyển Duration thành phút (int): Chuyển đổi từ kiểu giờ-phút về kiểu int để tiện cho các tính toán bên dưới.\n"
      ]
    },
    {
      "cell_type": "code",
      "execution_count": null,
      "metadata": {
        "colab": {
          "base_uri": "https://localhost:8080/"
        },
        "id": "wN6tf8bjDxH5",
        "outputId": "8d1ad804-5427-4a06-e7cd-fa0f8752ab2d"
      },
      "outputs": [],
      "source": [
        "# Chuyển đổi cột 'Duration' về đơn vị phút\n",
        "def convert_duration(duration):\n",
        "    if 'h' in duration and 'm' in duration:\n",
        "        return int(duration.split('h')[0]) * 60 + int(duration.split('h')[1].split('m')[0])\n",
        "    elif 'h' in duration:\n",
        "        return int(duration.split('h')[0]) * 60\n",
        "    elif 'm' in duration:\n",
        "        return int(duration.split('m')[0])\n",
        "    else:\n",
        "        return 0\n",
        "\n",
        "merged_data['Duration'] = merged_data['Duration'].apply(convert_duration)\n"
      ]
    },
    {
      "cell_type": "markdown",
      "metadata": {
        "id": "0IuR86_dD9ib"
      },
      "source": [
        "## Chuyển Total_stop thành kiểu int"
      ]
    },
    {
      "cell_type": "code",
      "execution_count": null,
      "metadata": {
        "colab": {
          "base_uri": "https://localhost:8080/"
        },
        "id": "7kvUhg9YEDJu",
        "outputId": "81a3ecea-3c5e-4359-a527-4aa94ca98f71"
      },
      "outputs": [],
      "source": [
        "# Chuyển Total_Stops về kiểu int, giữ lại giá trị null\n",
        "merged_data['Total_Stops'] = merged_data['Total_Stops'].replace({'non-stop': 0, '1 stop': 1, '2 stops': 2, '3 stops': 3, '4 stops': 4, '': np.nan}).fillna('Blanks')"
      ]
    },
    {
      "cell_type": "markdown",
      "metadata": {
        "id": "lYhC6_G8UiZf"
      },
      "source": [
        "## Xử lí cột Date_of_Journey: xử lí thành cùng định dạng (dd/mm/yyyy)"
      ]
    },
    {
      "cell_type": "code",
      "execution_count": null,
      "metadata": {
        "colab": {
          "base_uri": "https://localhost:8080/",
          "height": 206
        },
        "id": "RHZwKzIdUiZf",
        "outputId": "2ac3c8f8-c1b6-455f-a15a-0491755b7739"
      },
      "outputs": [],
      "source": [
        "merged_data['Date_of_Journey'] = pd.to_datetime(merged_data['Date_of_Journey'], format='%d/%m/%Y', errors='coerce')\n",
        "merged_data['Month'] = merged_data['Date_of_Journey'].dt.month\n",
        "merged_data['WeekDay'] = merged_data['Date_of_Journey'].dt.day_name()\n",
        "#Appending weekend column\n",
        "merged_data['Weekend'] = merged_data['WeekDay'].apply(lambda day: 1 if day == 'Sunday' else 0)\n",
        "merged_data.head()"
      ]
    },
    {
      "cell_type": "markdown",
      "metadata": {
        "id": "H7qx5m_aERBX"
      },
      "source": [
        "## Tính lại Arrival_Time, do có một vài Arrival_Time chưa chính xác, vì Arrival_Time phải bằng Dep_Time+ Duration (và còn phụ thuộc vào Date of Journey), nên tính lại Arrival_Time dựa vào 3 cột đó"
      ]
    },
    {
      "cell_type": "code",
      "execution_count": null,
      "metadata": {
        "colab": {
          "base_uri": "https://localhost:8080/",
          "height": 206
        },
        "id": "6TEPs-_5ET6Y",
        "outputId": "61dd124b-d52d-465a-ab5b-ad9e7b4cf2d8"
      },
      "outputs": [],
      "source": [
        "# Hàm tùy chỉnh để xử lý ngày trong 'Arrival_Time'\n",
        "def extract_arrival_day(row):\n",
        "    date_of_journey = row['Date_of_Journey'].strftime('%Y-%m-%d')\n",
        "    dep_time = row['Dep_Time'].strip()  # Strip extra spaces\n",
        "\n",
        "    # Chuyển đổi Departure Time thành đối tượng datetime\n",
        "    dep_datetime = datetime.strptime(str(date_of_journey) + ' ' + dep_time, '%Y-%m-%d %H:%M')\n",
        "\n",
        "    # Tính thời gian di chuyển thành đối tượng timedelta\n",
        "    duration_minutes =  row['Duration']\n",
        "    travel_duration = timedelta(minutes=duration_minutes)\n",
        "\n",
        "    # Tính thời gian đến (Arrival Time) bằng cách cộng thêm thời gian di chuyển vào Departure Time\n",
        "    arrival_datetime = dep_datetime + travel_duration\n",
        "\n",
        "    #Trả về ngày đến dưới dạng chuỗi 'dd/mm/yyyy'\n",
        "    return arrival_datetime.strftime('%d/%m/%Y')\n",
        "\n",
        "\n",
        "# Áp dụng hàm cho cột 'Arrival_Day'\n",
        "merged_data['Arrival_Date'] = pd.to_datetime(merged_data.apply(extract_arrival_day, axis=1), format='%d/%m/%Y', errors='coerce')\n",
        "\n",
        "merged_data['Arrival_Time'] = pd.to_datetime(merged_data['Arrival_Time']).dt.strftime('%H:%M')\n",
        "\n",
        "merged_data.head()"
      ]
    },
    {
      "cell_type": "markdown",
      "metadata": {
        "id": "PeBuWyqdqa2s"
      },
      "source": [
        "## Xử lí outlier tại Duration: các outlier đều chấp nhận được bởi nó có 2-3 sân bay trung chuyển (total_stop), điều này có thể hiểu là chuyến bay xa, hoặc ở sân bay trung chuyển mất thời gian làm thủ tục, hoặc do các chuyến bay bị delay"
      ]
    },
    {
      "cell_type": "markdown",
      "metadata": {
        "id": "byzVuSK8wBUo"
      },
      "source": [
        "### Tìm outlier"
      ]
    },
    {
      "cell_type": "code",
      "execution_count": null,
      "metadata": {
        "colab": {
          "base_uri": "https://localhost:8080/",
          "height": 564
        },
        "id": "NTxtr4ROrNud",
        "outputId": "8fe91231-2bf1-46d4-f230-0f9ec73d604b"
      },
      "outputs": [],
      "source": [
        "# Vẽ boxplot để phát hiện outlier\n",
        "plt.figure(figsize=(10, 6))\n",
        "sns.boxplot(x=merged_data['Duration'])\n",
        "plt.title('Boxplot of Duration')\n",
        "plt.show()"
      ]
    },
    {
      "cell_type": "code",
      "execution_count": null,
      "metadata": {
        "colab": {
          "base_uri": "https://localhost:8080/",
          "height": 1000
        },
        "id": "P4zZTO4prrQk",
        "outputId": "1dabfdf4-6acf-4c3e-b398-28d06ee56906"
      },
      "outputs": [],
      "source": [
        "# Tìm giá trị Q1, Q3 và IQR của cột 'Duration'\n",
        "Q1_duration = merged_data['Duration'].quantile(0.25)\n",
        "Q3_duration = merged_data['Duration'].quantile(0.75)\n",
        "IQR_duration = Q3_duration - Q1_duration\n",
        "\n",
        "# Xác định ngưỡng cho outlier\n",
        "lower_bound_duration = Q1_duration - 1.5 * IQR_duration\n",
        "upper_bound_duration = Q3_duration + 1.5 * IQR_duration\n",
        "\n",
        "# Lọc ra các dòng có giá trị 'Duration' là outlier\n",
        "outliers_duration = merged_data[(merged_data['Duration'] < lower_bound_duration) | (merged_data['Duration'] > upper_bound_duration)]\n",
        "\n",
        "# Sắp xếp các dòng outlier theo cột 'Duration' từ bé đến lớn\n",
        "sorted_outliers_duration = outliers_duration.sort_values(by='Duration')\n",
        "\n",
        "# Hiển thị DataFrame sau khi sắp xếp\n",
        "sorted_outliers_duration.head(50)\n"
      ]
    },
    {
      "cell_type": "markdown",
      "metadata": {
        "id": "0_qFfeeYwGMF"
      },
      "source": [
        "### Xóa dòng đặc biệt ở Duration: có 1 dòng Duration = 5 phút, 1 chuyến bay thì không thể kéo dài 5p được -> xóa."
      ]
    },
    {
      "cell_type": "code",
      "execution_count": null,
      "metadata": {
        "id": "AP08Bp0fwhre"
      },
      "outputs": [],
      "source": [
        "# Xóa các dòng có giá trị 'Duration' bằng 5\n",
        "merged_data = merged_data[merged_data['Duration'] != 5]\n",
        "\n",
        "\n"
      ]
    },
    {
      "cell_type": "markdown",
      "metadata": {
        "id": "bu1MvQZViMbq"
      },
      "source": [
        "# **Quan sát và phân tích tập dữ liệu (EDA)**\n"
      ]
    },
    {
      "cell_type": "markdown",
      "metadata": {
        "id": "Jxj0fMjVjPkx"
      },
      "source": [
        "## 1. Cho biết kiểu dữ liệu của các thuộc tính\n"
      ]
    },
    {
      "cell_type": "code",
      "execution_count": null,
      "metadata": {
        "colab": {
          "base_uri": "https://localhost:8080/"
        },
        "id": "vmISeFXniMNF",
        "outputId": "204da564-4f61-4352-9df6-ee57dc1a9191"
      },
      "outputs": [],
      "source": [
        "# Hiển thị thông tin về DataFrame\n",
        "merged_data.info()"
      ]
    },
    {
      "cell_type": "markdown",
      "metadata": {
        "id": "w7cO6qzbjRjD"
      },
      "source": [
        "## 2. Đối với cột Price, cho biết:\n",
        "\n",
        "\n",
        "*   Giá cao nhất, thấp nhất, giá trung bình, mức giá xuất hiện nhiều\n",
        "*   Độ lệch chuẩn của cột price?\n",
        "*   Cho biết giá phân phối xung quanh trung tâm hay cách xa trung tâm?\n",
        "Nhận xét về giá trị mean và median của tập dữ liệu.\n",
        "*   Vẽ đồ thị histogram để nhận xét dữ liệu có bị lệch không?\n",
        "List item\n",
        "\n",
        "\n",
        "\n"
      ]
    },
    {
      "cell_type": "markdown",
      "metadata": {
        "id": "r-YWeNb7m663"
      },
      "source": [
        "### 2.1 Code"
      ]
    },
    {
      "cell_type": "code",
      "execution_count": null,
      "metadata": {
        "colab": {
          "base_uri": "https://localhost:8080/",
          "height": 712
        },
        "id": "WQVwrfsjhSCt",
        "outputId": "7c9dcfc4-a38a-4c72-f0e1-9f52bdd69691"
      },
      "outputs": [],
      "source": [
        "# 1. Giá cao nhất, thấp nhất, giá trung bình, mức giá xuất hiện nhiều\n",
        "max_price = merged_data['Price'].max()\n",
        "min_price = merged_data['Price'].min()\n",
        "mean_price = merged_data['Price'].mean()\n",
        "# Đếm số lần xuất hiện của từng giá trị\n",
        "price_counts = merged_data['Price'].value_counts()\n",
        "# Lấy giá trị mode (xuất hiện nhiều nhất)\n",
        "mode_price = price_counts.idxmax()\n",
        "# Số lần xuất hiện của giá trị mode\n",
        "mode_count = price_counts.max()\n",
        "\n",
        "\n",
        "print(f\"Giá cao nhất: {max_price}\")\n",
        "print(f\"Giá thấp nhất: {min_price}\")\n",
        "print(f\"Giá trung bình: {mean_price}\")\n",
        "print(f\"Mức giá xuất hiện nhiều nhất: {mode_price}\")\n",
        "print(f\"Số lần xuất hiện của mức giá: {mode_count}\")\n",
        "\n",
        "# 2. Độ lệch chuẩn của cột Price\n",
        "std_price = merged_data['Price'].std()\n",
        "print(f\"Độ lệch chuẩn của cột Price: {std_price}\")\n",
        "\n",
        "# 3. Nhận xét về giá trị mean và median của tập dữ liệu\n",
        "median_price = merged_data['Price'].median()\n",
        "print(f\"Mean: {mean_price}, Median: {median_price}\")\n",
        "if mean_price > median_price:\n",
        "    print(\"Giá trị mean lớn hơn median, dữ liệu lệch về bên phải.\")\n",
        "elif mean_price < median_price:\n",
        "    print(\"Giá trị mean nhỏ hơn median, dữ liệu lệch về bên trái.\")\n",
        "else:\n",
        "    print(\"Giá trị mean bằng median, phân phối đối xứng.\")\n",
        "\n",
        "# 4. Vẽ đồ thị histogram để nhận xét dữ liệu có bị lệch không\n",
        "plt.figure(figsize=(10, 6))\n",
        "plt.hist(merged_data['Price'], bins=20, color='skyblue', edgecolor='black')\n",
        "plt.title('Phân phối giá')\n",
        "plt.xlabel('Giá')\n",
        "plt.ylabel('Số lượng chuyến bay')\n",
        "plt.show()"
      ]
    },
    {
      "cell_type": "markdown",
      "metadata": {
        "id": "-ilhvQ05nAwe"
      },
      "source": [
        "### 2.2. Kết luận\n",
        "#### - Giá cao nhất, thấp nhất, giá trung bình, mức giá xuất hiện nhiều\n",
        "- Giá cao nhất: 79512\n",
        "- Giá thấp nhất: 1759\n",
        "- Giá trung bình: 9025.849072835023\n",
        "- Mức giá xuất hiện nhiều nhất: 10262, Số lần xuất hiện của mức giá: 258\n",
        "#### - Độ lệch chuẩn của cột price?\n",
        "Độ lệch chuẩn của cột Price: 4624.162124562484\n",
        "\n",
        "#### - Cho biết giá phân phối xung quanh trung tâm hay cách xa trung tâm? Nhận xét về giá trị mean và median của tập dữ liệu.\n",
        "Giá trị mean lớn hơn median, dữ liệu lệch về bên phải. Điều này chứng tỏ có một số giá trị lớn ở phía bên phải của phân phối nghĩa là có các chuyến bay có giá vé cao.\n",
        "#### - Vẽ đồ thị histogram để nhận xét dữ liệu có bị lệch không?\n",
        "- Phần lớn chuyến bay có giá vé tập trung ở mức giá thấp: Có thể có một số lượng lớn chuyến bay có giá vé thấp, và đây là một đặc điểm chính của dữ liệu.\n",
        "- Có một số chuyến bay có giá vé cao: Tuy nhiên, cũng có một số chuyến bay có giá vé cao hơn so với giá trung bình, nhưng chúng là ít hơn và tập trung ở khoảng giá trị cao hơn.\n",
        "- Dữ liệu có độ biến động lớn: Sự chênh lệch giữa giá vé thấp và giá vé cao có thể làm cho phương sai (variance) của dữ liệu lớn.\n",
        "- Phân phối lệch phải: Nếu phần lớn giá trị tập trung ở giá vé thấp, trong khi một số giá trị cao hơn được giữ lại, thì dữ liệu có thể có sự lệch phải.\n",
        "- Ưu điểm: Các chuyến bay giá rẻ thường chiếm số lượng lớn, trong khi một số chuyến bay đắt tiền có thể là những trường hợp đặc biệt."
      ]
    },
    {
      "cell_type": "markdown",
      "metadata": {
        "id": "DKUyi_sejbzM"
      },
      "source": [
        "## 3. Mô tả số lượng missing value của mỗi thuộc tính\n"
      ]
    },
    {
      "cell_type": "code",
      "execution_count": null,
      "metadata": {
        "colab": {
          "base_uri": "https://localhost:8080/"
        },
        "id": "usdDtNQJjiw4",
        "outputId": "1e19186c-450d-4ab3-a5e9-e1c48adfee87"
      },
      "outputs": [],
      "source": [
        "# 3. Mô tả số lượng missing value của mỗi thuộc tính\n",
        "missing_values = merged_data.isnull().sum()\n",
        "print(\"Số lượng missing value của mỗi thuộc tính:\")\n",
        "print(missing_values)"
      ]
    },
    {
      "cell_type": "markdown",
      "metadata": {
        "id": "2PSCkjffjiql"
      },
      "source": [
        "## 4. Tính tỷ lệ % missing value của mỗi thuộc tính\n"
      ]
    },
    {
      "cell_type": "code",
      "execution_count": null,
      "metadata": {
        "colab": {
          "base_uri": "https://localhost:8080/"
        },
        "id": "7O1Hxw_Ujilf",
        "outputId": "fd2fcad5-831e-4862-c703-0a7bfda7b04c"
      },
      "outputs": [],
      "source": [
        "# 4. Tính tỷ lệ % missing value của mỗi thuộc tính\n",
        "missing_percentage = (missing_values / len(merged_data)) * 100\n",
        "print(\"Tỷ lệ % missing value của mỗi thuộc tính:\")\n",
        "print(missing_percentage)"
      ]
    },
    {
      "cell_type": "markdown",
      "metadata": {
        "id": "6IGs1CNxjiey"
      },
      "source": [
        "## 5. Xử lý dữ liệu missing\n"
      ]
    },
    {
      "cell_type": "code",
      "execution_count": null,
      "metadata": {
        "id": "O0Q-3ptmjjve"
      },
      "outputs": [],
      "source": [
        "# 5. Xử lý dữ liệu missing ( xóa các dòng có missing value)\n",
        "merged_data.dropna(subset=['Total_Stops'], inplace=True)\n",
        "# drop null values\n",
        "merged_data.dropna(axis=0, subset=['Total_Stops', 'Route'], inplace=True)\n",
        "# reset indexes\n",
        "merged_data.reset_index(inplace=True)\n",
        "merged_data.drop(['index'], axis=1, inplace=True)"
      ]
    },
    {
      "cell_type": "markdown",
      "metadata": {
        "id": "sx0Rpg49jfu_"
      },
      "source": [
        "## 6. Outlier: sử dụng đồ thị boxplot để quan sát cột Price có tồn tại outlier không?"
      ]
    },
    {
      "cell_type": "markdown",
      "metadata": {
        "id": "RDGqNy1tlM2i"
      },
      "source": [
        "### Đồ thị"
      ]
    },
    {
      "cell_type": "code",
      "execution_count": null,
      "metadata": {
        "colab": {
          "base_uri": "https://localhost:8080/",
          "height": 565
        },
        "id": "cTZ1IeMWjgKM",
        "outputId": "8750afbc-2705-490d-f5c2-0d00a0f15cb3"
      },
      "outputs": [],
      "source": [
        "# Vẽ boxplot cho cột Price trong merged_data\n",
        "plt.figure(figsize=(8, 6))\n",
        "sns.boxplot(x=merged_data['Price'])\n",
        "plt.title('Boxplot của cột Price')\n",
        "plt.xlabel('Price (Rupee)')  # Thêm đơn vị cho trục x\n",
        "plt.show()"
      ]
    },
    {
      "cell_type": "markdown",
      "metadata": {
        "id": "23g6nvkVlRCY"
      },
      "source": [
        "### Các giá trị outlier: các giá trị outlier là có tồn tại, tuy nhiên có các chuyến bay giá cao như vậy có thể là do thời gian bay dài (Duration), hạng vé business/premium (Airline)\n",
        "\n",
        "\n"
      ]
    },
    {
      "cell_type": "code",
      "execution_count": null,
      "metadata": {
        "colab": {
          "base_uri": "https://localhost:8080/",
          "height": 442
        },
        "id": "F7z-JA9rlVli",
        "outputId": "7b843e92-b3ef-4e0c-94c3-bdcf445282e2"
      },
      "outputs": [],
      "source": [
        "# Xác định giá trị Q1, Q3 và IQR\n",
        "Q1 = merged_data['Price'].quantile(0.25)\n",
        "Q3 = merged_data['Price'].quantile(0.75)\n",
        "IQR = Q3 - Q1\n",
        "\n",
        "# Xác định ngưỡng cho outlier\n",
        "lower_bound = Q1 - 1.5 * IQR\n",
        "upper_bound = Q3 + 1.5 * IQR\n",
        "\n",
        "# Lọc ra các dòng có giá trị 'Price' là outlier\n",
        "outliers = merged_data[(merged_data['Price'] < lower_bound) | (merged_data['Price'] > upper_bound)]\n",
        "\n",
        "# Hiển thị các dòng có giá 'Price' là outlier\n",
        "print(\"Các dòng có giá 'Price' là outlier:\")\n",
        "outliers\n"
      ]
    },
    {
      "cell_type": "markdown",
      "metadata": {
        "id": "CKid8wx1jh5i"
      },
      "source": [
        "# **Visualize dữ liệu dạng bảng hoặc đồ thị**"
      ]
    },
    {
      "cell_type": "markdown",
      "metadata": {
        "id": "U_J3L4lhj3uA"
      },
      "source": [
        "## 1. Giá vé tăng khi nào?"
      ]
    },
    {
      "cell_type": "markdown",
      "metadata": {
        "id": "ZptJ2bgsrsVx"
      },
      "source": [
        "### Giá vé tăng khi hãng thay đổi: khi chọn Jet Airways Business thì giá vé sẽ cao hơn so với các hãng khác"
      ]
    },
    {
      "cell_type": "code",
      "execution_count": null,
      "metadata": {
        "colab": {
          "base_uri": "https://localhost:8080/",
          "height": 889
        },
        "id": "qtZwzjbljg7v",
        "outputId": "8c53be89-3d90-4f18-d4e1-6cf1a17f71a0"
      },
      "outputs": [],
      "source": [
        "# Vẽ đồ thị so sánh giá vé theo hãng máy bay\n",
        "plt.figure(figsize=(14, 8))\n",
        "sns.boxplot(x='Airline', y='Price', data=merged_data)\n",
        "plt.title('So sánh giá vé máy bay theo hãng')\n",
        "plt.xlabel('Hãng máy bay')\n",
        "plt.ylabel('Giá vé (Rupee)')\n",
        "plt.xticks(rotation=45, ha='right')  # Để xác định định dạng các nhãn trên trục x\n",
        "plt.show()"
      ]
    },
    {
      "cell_type": "markdown",
      "metadata": {
        "id": "Bh9xEu8gjg2S"
      },
      "source": [
        "\n",
        "## 2. So sánh tỷ lệ các chuyến bay thẳng và trung chuyển (có dừng)"
      ]
    },
    {
      "cell_type": "code",
      "execution_count": null,
      "metadata": {
        "colab": {
          "base_uri": "https://localhost:8080/",
          "height": 607
        },
        "id": "jd35QbgAj4g1",
        "outputId": "9611f677-a784-4b28-edb5-92beb5698b1a"
      },
      "outputs": [],
      "source": [
        "# Tạo DataFrame\n",
        "data = pd.DataFrame(merged_data)\n",
        "\n",
        "# Tính tỷ lệ giữa chuyến bay non-stop và chuyến bay có stops\n",
        "stops_counts = data['Total_Stops'].value_counts()\n",
        "\n",
        "# Tạo DataFrame mới chỉ chứa thông tin non-stop và stops\n",
        "stops_data = pd.DataFrame({\n",
        "    'Bay thẳng': stops_counts[0],\n",
        "    'Trung chuyển': stops_counts.sum() - stops_counts[0]\n",
        "}, index=[0])\n",
        "\n",
        "# Vẽ biểu đồ\n",
        "fig, axes = plt.subplots(nrows=1, ncols=2, figsize=(15, 6))\n",
        "\n",
        "# Biểu đồ tròn cho tỷ lệ stops\n",
        "colors_pie = ['#ff9999', '#66b3ff']  # Đổi màu ở đây\n",
        "axes[0].pie(stops_data.iloc[0], labels=stops_data.columns, autopct='%1.1f%%', colors=colors_pie)\n",
        "axes[0].set_title('Tỷ lệ giữa chuyến bay bay thẳng và trung chuyển')\n",
        "\n",
        "# Biểu đồ cho tỷ lệ stops_counts\n",
        "stops_counts.plot(kind='bar', alpha=0.3, ax=axes[1])\n",
        "axes[1].set_title('Số lượng chuyến bay theo loại stops')\n",
        "axes[1].set_xlabel('Loại chuyến bay')\n",
        "axes[1].set_ylabel('Số lượng chuyến bay')\n",
        "\n",
        "plt.tight_layout()\n",
        "plt.show()"
      ]
    },
    {
      "cell_type": "markdown",
      "metadata": {
        "id": "-fMJc5wnUiaB"
      },
      "source": [
        "**Nhận xét:**\n",
        "- Các chuyến bay trung chuyển nhiều gấp đôi những chuyến bay thẳng, đa số là một điểm dừng và ít hơn là 2 điểm dừng, từ 3 tới 4 là rất ít"
      ]
    },
    {
      "cell_type": "markdown",
      "metadata": {
        "id": "nEHNxMrMj6eh"
      },
      "source": [
        "\n",
        "## 3. Nước nào có lượng chuyến bay nhiều nhất?"
      ]
    },
    {
      "cell_type": "code",
      "execution_count": null,
      "metadata": {
        "colab": {
          "base_uri": "https://localhost:8080/",
          "height": 607
        },
        "id": "kCxj2oSUjgwq",
        "outputId": "02e8f57d-b783-41f6-bf34-4bd3f9dcd544"
      },
      "outputs": [],
      "source": [
        "# Tạo DataFrame\n",
        "data = pd.DataFrame(merged_data)\n",
        "\n",
        "# Tạo subplot\n",
        "fig, axes = plt.subplots(nrows=1, ncols=2, figsize=(15, 6))\n",
        "\n",
        "# Biểu đồ theo nơi khởi hành\n",
        "flight_count_by_source = data['Source'].value_counts()\n",
        "flight_count_by_source.plot(kind='bar', color='blue', ax=axes[0])\n",
        "axes[0].set_title('Lượng chuyến bay theo nơi khởi hành')\n",
        "axes[0].set_xlabel('Nơi khởi hành')\n",
        "axes[0].set_ylabel('Số lượng chuyến bay')\n",
        "\n",
        "# Biểu đồ theo nơi đáp\n",
        "flight_count_by_destination = data['Destination'].value_counts()\n",
        "flight_count_by_destination.plot(kind='bar', color='green', ax=axes[1])\n",
        "axes[1].set_title('Lượng chuyến bay theo nơi đáp')\n",
        "axes[1].set_xlabel('Nơi đáp')\n",
        "axes[1].set_ylabel('Số lượng chuyến bay')\n",
        "\n",
        "plt.tight_layout()\n",
        "plt.show()"
      ]
    },
    {
      "cell_type": "markdown",
      "metadata": {
        "id": "Xxq_kUe-UiaE"
      },
      "source": [
        "**Nhận xét:**\n",
        "- Xét theo nơi khởi hành thì Delhi là thành phố có nhiều chuyến bay đi nhất.\n",
        "- Xét theo nơi đáp thì Cochin là thành phố có nhiều chuyến bay đáp đến nhất."
      ]
    },
    {
      "cell_type": "markdown",
      "metadata": {
        "id": "0H-Bz7iyjgqn"
      },
      "source": [
        "\n",
        "## 4. Hãng máy bay nào được khách đặt vé nhiều/thấp nhất?"
      ]
    },
    {
      "cell_type": "markdown",
      "metadata": {
        "id": "kUtQZ9c6TKpx"
      },
      "source": [
        "### 4.1 Visualize: Bởi vì cần đưa ra sự so sánh giữa các nhóm (các hãng mới bay) nên chọn biểu đồ là trực quan hơn, giúp người xem dễ hiểu hơn. Và để so sánh các giá trị giữa các nhóm khác nhau thì chọn biểu đồ cột là hợp lý. Trên mỗi cột có hiển thị số lượng chuyến bay vì có những hãng có số chuyến bay quá nhỏ ví dụ 1, 3, hoặc 6 so với những hãng lên đến cả nghìn chuyến bay thì rất khó để biết số lượng."
      ]
    },
    {
      "cell_type": "code",
      "execution_count": null,
      "metadata": {
        "colab": {
          "base_uri": "https://localhost:8080/",
          "height": 737
        },
        "id": "L8UDHg72Omjg",
        "outputId": "a8bd992f-4dd3-41cc-b907-a7d575af2beb"
      },
      "outputs": [],
      "source": [
        "# Đếm số lượng chuyến bay của từng hãng hàng không\n",
        "airline_counts = merged_data['Airline'].value_counts()\n",
        "\n",
        "# Vẽ đồ thị cột\n",
        "plt.figure(figsize=(10, 6))\n",
        "ax = airline_counts.plot(kind='bar', color='skyblue')\n",
        "\n",
        "# Thêm số lượng chuyến bay trên đầu mỗi cột\n",
        "for p in ax.patches:\n",
        "    ax.annotate(str(p.get_height()), (p.get_x() + p.get_width() / 2., p.get_height()),\n",
        "                ha='center', va='baseline', xytext=(0, 10), textcoords='offset points')\n",
        "\n",
        "# Đặt tên hãng máy bay chéo 45 độ\n",
        "plt.xticks(rotation=45, ha='right')\n",
        "\n",
        "plt.title('Số lượng chuyến bay của mỗi hãng hàng không')\n",
        "plt.xlabel('Hãng hàng không')\n",
        "plt.ylabel('Số lượng chuyến bay')\n",
        "plt.show()"
      ]
    },
    {
      "cell_type": "markdown",
      "metadata": {
        "id": "jzRiCbRvTIA4"
      },
      "source": [
        "### 4.2. Kết luận\n",
        "#### - Dựa vào thông tin datasets cung cấp thì không thể biết được hãng nào được khách đặt nhiều nhất, hay ít nhất; ví dụ: Hãng Jet Airways có 3700 chuyến nhưng mỗi chuyến chỉ có 50 khách đặt-> tổng là 185.000, còn hãng IndiGo có 2043 nhưng mỗi chuyến có 100 khách đăt -> tổng là 204300 lượt khách, mà 204300> 185000, nên IndiGo có lượng khách đặt nhiều hơn Jet Airways dù IndiGo có ít chuyến bay hơn. **Như vậy, với datasets được cung cấp và qua số lượng chuyến bay của mỗi hãng, thì không thể kết luận được hãng nào nhiều/ít khách đặt nhất. Cần có thêm 1 cột Số lượng hành khách mỗi chuyến bay thì ta mới có thể xác định được.**\n",
        "#### -  Với trường hợp, số lượng khách đặt mỗi chuyến là như nhau (hay chênh lệch không đáng kể), thì hãng Jet Airways có nhiều khách đặt nhất và Trujet có ít khách đặt nhất"
      ]
    },
    {
      "cell_type": "markdown",
      "metadata": {
        "id": "-fyOynarjgWd"
      },
      "source": [
        "\n",
        "## 5. Tháng nào là tháng cao điểm"
      ]
    },
    {
      "cell_type": "markdown",
      "metadata": {
        "id": "--LM8FWtf0Gs"
      },
      "source": [
        "### 5.1. Visualize: Bởi vì cần đưa ra sự so sánh giữa các nhóm (các tháng) nên chọn biểu đồ là trực quan hơn, giúp người xem dễ hiểu hơn. Vì dữ liệu có ít nhóm (chỉ có số liệu của 4 tháng trong năm 2019) và để so sánh các giá trị giữa các nhóm khác nhau thì chọn biểu đồ cột là hợp lý."
      ]
    },
    {
      "cell_type": "code",
      "execution_count": null,
      "metadata": {
        "colab": {
          "base_uri": "https://localhost:8080/",
          "height": 566
        },
        "id": "v9qoLUX-j9tQ",
        "outputId": "a20b97ab-8dce-4681-b7eb-1e355813be1d"
      },
      "outputs": [],
      "source": [
        "# Đếm số lượng chuyến bay của từng tháng\n",
        "monthly_flight_counts = merged_data['Month'].value_counts().sort_index()\n",
        "\n",
        "# Vẽ đồ thị cột\n",
        "plt.figure(figsize=(10, 6))\n",
        "bars = plt.bar(monthly_flight_counts.index, monthly_flight_counts, color='skyblue')\n",
        "\n",
        "# Thêm chú thích (annotation) trên đỉnh mỗi cột\n",
        "for bar in bars:\n",
        "    yval = bar.get_height()\n",
        "    plt.text(bar.get_x() + bar.get_width()/2, int(yval), int(yval), ha='center', va='bottom')\n",
        "\n",
        "# Xoay số tháng thẳng lên\n",
        "plt.xticks(rotation=0)\n",
        "\n",
        "# Chỉ hiển thị các tháng duy nhất trên trục x\n",
        "plt.xticks(monthly_flight_counts.index)\n",
        "\n",
        "plt.title('Số lượng chuyến bay theo từng tháng (2019)')\n",
        "plt.xlabel('Tháng')\n",
        "plt.ylabel('Số lượng chuyến bay')\n",
        "plt.show()"
      ]
    },
    {
      "cell_type": "markdown",
      "metadata": {
        "id": "7eObQ44QgZu7"
      },
      "source": [
        "### 5.2. Kết luận\n",
        "#### Tháng 5 và tháng 6 là 2 tháng số lượng chuyến bay nhiều nhất (số lượng tháng 6 xấp xỉ tháng tháng 5). Như vậy có thể đưa ra kết luận, tháng 5 là tháng cao điểm."
      ]
    },
    {
      "cell_type": "markdown",
      "metadata": {
        "id": "H2UC1q6gjrw8"
      },
      "source": [
        "\n",
        "## 6. Giá có thay đổi tùy theo hãng hàng không hay không?"
      ]
    },
    {
      "cell_type": "code",
      "execution_count": null,
      "metadata": {
        "colab": {
          "base_uri": "https://localhost:8080/",
          "height": 735
        },
        "id": "AoZ7njXTj-Id",
        "outputId": "cee236e8-54f6-432c-ff64-47f60ee4a502"
      },
      "outputs": [],
      "source": [
        "avg_price_by_airline = merged_data.groupby('Airline')['Price'].mean().sort_values()\n",
        "plt.figure(figsize=(14, 6))\n",
        "sns.barplot(x='Airline', y='Price', data=merged_data)\n",
        "plt.xticks(rotation=45, ha='right')\n",
        "plt.title('Giá vé trung bình theo hãng hàng không')\n",
        "plt.show()"
      ]
    },
    {
      "cell_type": "code",
      "execution_count": null,
      "metadata": {},
      "outputs": [],
      "source": [
        "# Tính toán thông số thống kê cho giá vé theo từng hãng hàng không\n",
        "average_price_by_airline = merged_data.groupby('Airline')['Price'].mean()\n",
        "median_price_by_airline = merged_data.groupby('Airline')['Price'].median()\n",
        "std_price_by_airline = merged_data.groupby('Airline')['Price'].std()\n",
        "\n",
        "# Tạo DataFrame từ các Series thống kê\n",
        "stats_df = pd.DataFrame({\n",
        "    'Trung bình': average_price_by_airline,\n",
        "    'Trung vị': median_price_by_airline,\n",
        "    'Độ lệch chuẩn': std_price_by_airline\n",
        "})\n",
        "\n",
        "# In bảng thống kê\n",
        "print(\"Thống kê giá vé theo hãng hàng không:\")\n",
        "print(stats_df)\n"
      ]
    },
    {
      "cell_type": "markdown",
      "metadata": {},
      "source": [
        "### Kết luận: \n",
        "Dựa trên thống kê giá vé trung bình theo từng hãng hàng không, có thể rút ra kết luận rằng giá vé thực sự có sự chênh lệch tùy thuộc vào hãng hàng không:\n",
        "- Có sự chênh lệch đáng kể giữa các hãng hàng không.\n",
        "- Jet Airways Business có giá vé trung bình cao nhất, trong khi SpiceJet có giá thấp nhất.\n"
      ]
    },
    {
      "cell_type": "markdown",
      "metadata": {
        "id": "Cam1c1NEjs7f"
      },
      "source": [
        "\n",
        "## 7. Giá vé bị ảnh hưởng như thế nào khi mua vé chỉ 1 hoặc 2 ngày trước ngày khởi hành?"
      ]
    },
    {
      "cell_type": "code",
      "execution_count": null,
      "metadata": {
        "id": "OVEYqVmIkAv7"
      },
      "outputs": [],
      "source": []
    },
    {
      "cell_type": "markdown",
      "metadata": {
        "id": "lTSJgekIkBK5"
      },
      "source": [
        "\n",
        "## 8. Giá vé có thay đổi theo thời gian đi và đến không?"
      ]
    },
    {
      "cell_type": "code",
      "execution_count": null,
      "metadata": {
        "colab": {
          "base_uri": "https://localhost:8080/",
          "height": 1000
        },
        "id": "MKMro1MXkDSn",
        "outputId": "86157700-4bf1-4c15-ab3a-075a62b450a2"
      },
      "outputs": [],
      "source": [
        "merged_data['Departure_Hour'] = pd.to_datetime(merged_data['Dep_Time'], format='%H:%M').dt.hour\n",
        "# Convert Arrival_Time to datetime\n",
        "merged_data['Arrival_Hour'] = pd.to_datetime(merged_data['Arrival_Time'], format='%H:%M').dt.hour\n",
        "# Concatenate 'Departure_Hour' and 'Arrival_Hour' columns\n",
        "all_hours = pd.concat([merged_data['Departure_Hour'], merged_data['Arrival_Hour']])\n",
        "\n",
        "# Create a new figure with Matplotlib\n",
        "plt.figure(figsize=(12, 8))\n",
        "\n",
        "# Use Seaborn to plot the line for Departure_Hour\n",
        "sns.lineplot(x='Departure_Hour', y='Price', data=merged_data, marker='o', label='Giờ khởi hành', errorbar=None)\n",
        "# Use Seaborn to plot the line for Arrival_Hour\n",
        "sns.lineplot(x='Arrival_Hour', y='Price', data=merged_data, marker='o', label='Giờ đến', errorbar=None)\n",
        "# Set labels and title\n",
        "plt.xlabel('Giờ')\n",
        "plt.ylabel('Giá')\n",
        "plt.title('Giá vé theo khung giờ trong ngày')\n",
        "plt.legend()  # Show legend with labels for each line\n",
        "\n",
        "# Customize x-axis ticks\n",
        "plt.xticks(sorted(all_hours.unique()))  # Use unique hours for ticks and sort them\n",
        "\n",
        "# Show the plot\n",
        "plt.show()"
      ]
    },
    {
      "cell_type": "markdown",
      "metadata": {},
      "source": [
        "**Nhận xét:**\n",
        "\n",
        "- Giá vé có sự chênh lệch giữa thời gian đi và đến trong ngày.\n",
        "    + Với thời gian đi: Lúc 1h sáng giá rớt rất thấp sau tăng vọt và có sự chênh lệch nhẹ với các khung giờ còn lại.\n",
        "    + Với thời gian đến: Giá thấp nhất rơi vào khoảng 2h, 3h sáng và cao nhất lúc 5h sáng, các khung giờ còn lại có sự chênh lệch."
      ]
    },
    {
      "cell_type": "code",
      "execution_count": null,
      "metadata": {},
      "outputs": [],
      "source": [
        "# ReplReplace 'Jet Airways' with the desired airline\n",
        "airline = 'Jet Airways'\n",
        "# Replace '01/05/2019' with the specific date you want to filter\n",
        "specific_date = '01/03/2019'\n",
        "specific_date = pd.to_datetime(specific_date, format='%d/%m/%Y')\n",
        "day = specific_date.strftime('%d/%m/%Y')\n",
        "source = 'Banglore'\n",
        "des = 'New Delhi'\n",
        "# Filter data for the specific airline and specific date\n",
        "filtered_data = merged_data[\n",
        "    (merged_data['Airline'] == airline) & \n",
        "                            (merged_data['Date_of_Journey'] == specific_date) \n",
        "                            & (merged_data['Source'] == source)\n",
        "                     & (merged_data['Destination'] == des)\n",
        "                            ]\n",
        "# Concatenate 'Departure_Hour' and 'Arrival_Hour' columns\n",
        "all_hours = pd.concat([merged_data['Departure_Hour'], merged_data['Arrival_Hour']])\n",
        "\n",
        "# Create a new figure with Matplotlib\n",
        "plt.figure(figsize=(12, 8))\n",
        "\n",
        "# Use Seaborn to plot the line for Departure_Hour\n",
        "sns.lineplot(x='Departure_Hour', y='Price', data=filtered_data, marker='o', label='Giờ khởi hành', errorbar=None)\n",
        "# Use Seaborn to plot the line for Arrival_Hour\n",
        "sns.lineplot(x='Arrival_Hour', y='Price', data=filtered_data, marker='o', label='Giờ đến', errorbar=None)\n",
        "# Set labels and title\n",
        "plt.xlabel('Giờ')\n",
        "plt.ylabel('Giá')\n",
        "plt.title(f'Thống kê giá vé trung bình các khung giờ của hãng {airline} đi từ {source} đến {des} trong ngày {day}')\n",
        "plt.legend()  # Show legend with labels for each line\n",
        "\n",
        "# Customize x-axis ticks\n",
        "plt.xticks(sorted(all_hours.unique()))  # Use unique hours for ticks and sort them\n",
        "\n",
        "# Show the plot\n",
        "plt.show()"
      ]
    },
    {
      "cell_type": "markdown",
      "metadata": {},
      "source": [
        "**Nhận xét:**\n",
        "\n",
        "- Giá vé theo thời gian đi và đến cho chi tiết của hãng Jet Airways đi từ 'Banglore' đến 'New Delhi' trong ngày '01/03/2019' có sự chênh lệch."
      ]
    },
    {
      "cell_type": "markdown",
      "metadata": {
        "id": "OFsEYbJKkCt-"
      },
      "source": [
        "\n",
        "## 9. Giá thay đổi như thế nào khi thay đổi Nguồn và Điểm đến?"
      ]
    },
    {
      "cell_type": "code",
      "execution_count": null,
      "metadata": {
        "id": "sjUEr8N0kD2G"
      },
      "outputs": [],
      "source": [
        "import seaborn as sns\n",
        "import matplotlib.pyplot as plt\n",
        "\n",
        "plt.figure(figsize=(16, 8))\n",
        "sns.boxplot(x='Source', y='Price', hue='Destination', data=merged_data)\n",
        "plt.xlabel('Nguồn')\n",
        "plt.ylabel('Giá vé')\n",
        "plt.title('Phân phối giá vé theo Nguồn và Điểm đến')\n",
        "plt.show()\n"
      ]
    },
    {
      "cell_type": "code",
      "execution_count": null,
      "metadata": {},
      "outputs": [],
      "source": [
        "average_price_by_route = merged_data.groupby(['Source', 'Destination'])['Price'].mean()\n",
        "std_price_by_route = merged_data.groupby(['Source', 'Destination'])['Price'].std()\n",
        "\n",
        "# Tạo DataFrame từ các Series thống kê\n",
        "stats_by_route_df = pd.DataFrame({\n",
        "    'Trung bình giá vé': average_price_by_route,\n",
        "    'Độ lệch chuẩn giá vé': std_price_by_route\n",
        "})\n",
        "\n",
        "# In bảng thống kê\n",
        "print(\"Thống kê giá vé theo Nguồn và Điểm đến:\")\n",
        "print(stats_by_route_df)\n"
      ]
    },
    {
      "cell_type": "code",
      "execution_count": null,
      "metadata": {},
      "outputs": [],
      "source": [
        "from scipy.stats import f_oneway\n",
        "\n",
        "# Thực hiện kiểm định ANOVA\n",
        "source_destination_groups = [group['Price'] for name, group in merged_data.groupby(['Source', 'Destination'])]\n",
        "f_statistic, p_value = f_oneway(*source_destination_groups)\n",
        "\n",
        "# In kết quả kiểm định\n",
        "print(\"\\nKiểm định ANOVA giữa giá vé của các cặp Nguồn và Điểm đến:\")\n",
        "print(\"F-statistic:\", f_statistic)\n",
        "print(\"P-value:\", p_value)\n"
      ]
    },
    {
      "cell_type": "code",
      "execution_count": null,
      "metadata": {},
      "outputs": [],
      "source": [
        "import matplotlib.pyplot as plt\n",
        "import seaborn as sns\n",
        "\n",
        "# Tạo biểu đồ cột so sánh giá vé trung bình giữa các cặp Nguồn và Điểm đến\n",
        "plt.figure(figsize=(14, 8))\n",
        "sns.barplot(x=merged_data['Source'] + ' - ' + merged_data['Destination'], y=merged_data['Price'])\n",
        "plt.xlabel('Nguồn - Điểm đến')\n",
        "plt.ylabel('Giá vé')\n",
        "plt.title('So sánh giá vé giữa các cặp Nguồn và Điểm đến')\n",
        "plt.xticks(rotation=45, ha='right')\n",
        "plt.show()\n"
      ]
    },
    {
      "cell_type": "markdown",
      "metadata": {},
      "source": [
        "### Kết luận:\n",
        "Dựa trên các quan sát và nhận xét từ dữ liệu, có thể kết luận rằng giá vé thay đổi đáng kể khi thay đổi Nguồn và Điểm đến. \n",
        "\n",
        "1. **Sự Chênh Lệch Giá:**\n",
        "   - Giá vé có sự chênh lệch đáng kể giữa các cặp Nguồn và Điểm đến.\n",
        "   - Các cặp có giá vé trung bình cao nhất thường là Banglore - New Delhi, trong khi các cặp khác như Mumbai - Hyderabad có giá thấp hơn.\n",
        "\n",
        "2. **Biến Động Lớn:**\n",
        "   - Có sự biến động lớn trong giá vé cho nhiều cặp Nguồn và Điểm đến.\n",
        "   - Cặp Banglore - New Delhi và Delhi - Cochin thường có sự biến động cao nhất."
      ]
    },
    {
      "cell_type": "markdown",
      "metadata": {
        "id": "1yuJx-g4UiaS"
      },
      "source": [
        "## 10. So sánh giá, số chuyến bay, số điểm dừng giữa weekend và weekday của các hãng máy bay"
      ]
    },
    {
      "cell_type": "code",
      "execution_count": null,
      "metadata": {
        "colab": {
          "base_uri": "https://localhost:8080/",
          "height": 892
        },
        "id": "ezbZr6mAUiaS",
        "outputId": "0b869ed8-fb83-4269-99c0-bb2cd4d64488"
      },
      "outputs": [],
      "source": [
        "# Tạo biến mới \"DayType\" để xác định ngày thuộc weekend hay ngày thường\n",
        "day_type = merged_data['Weekend'].apply(lambda x: 'Weekend' if x == 1 else 'Weekday')\n",
        "\n",
        "# Thiết lập kích thước đồ thị\n",
        "plt.figure(figsize=(18, 10))\n",
        "\n",
        "# Vẽ biểu đồ giá trung bình theo hãng và ngày\n",
        "plt.subplot(2, 1, 1)\n",
        "sns.barplot(x='Airline', y='Price', hue=day_type, data=merged_data)\n",
        "plt.title('Average Price Comparison - Weekend vs Weekday')\n",
        "plt.ylabel('Average Price')\n",
        "plt.xticks(rotation=45, ha='right')\n",
        "\n",
        "# Vẽ biểu đồ số điểm dừng theo hãng và ngày\n",
        "# plt.subplot(2, 1, 2)\n",
        "# sns.barplot(x='Airline', y='Total_Stops', hue=day_type, data=merged_data, estimator=sum)\n",
        "# plt.title('Total Stops Comparison - Weekend vs Weekday')\n",
        "# plt.ylabel('Total Stops')\n",
        "# plt.xticks(rotation=45, ha='right')\n",
        "\n",
        "# Vẽ biểu đồ số chuyến bay theo hãng và ngày\n",
        "plt.subplot(2, 1, 2)\n",
        "\n",
        "sns.countplot(x='Airline', hue=day_type, data=merged_data)\n",
        "plt.title('Total Flights Comparison - Weekend vs Weekday')\n",
        "plt.ylabel('Total Flights')\n",
        "plt.xticks(rotation=45, ha='right')\n",
        "\n",
        "# Tăng khoảng cách giữa các đồ thị\n",
        "plt.tight_layout()\n",
        "\n",
        "# Hiển thị đồ thị\n",
        "plt.show()"
      ]
    },
    {
      "cell_type": "markdown",
      "metadata": {
        "id": "R-8q_OXVUiaT"
      },
      "source": [
        "## 11. So sánh giá, số chuyến bay và số điểm dừng giữa các tháng theo hãng"
      ]
    },
    {
      "cell_type": "code",
      "execution_count": null,
      "metadata": {
        "colab": {
          "base_uri": "https://localhost:8080/",
          "height": 892
        },
        "id": "rfkGZST9UiaU",
        "outputId": "44745012-7801-4a39-dfe5-bf306ddef3a6"
      },
      "outputs": [],
      "source": [
        "# Thiết lập kích thước đồ thị\n",
        "plt.figure(figsize=(18, 10))\n",
        "\n",
        "# Vẽ biểu đồ giá trung bình theo hãng và tháng\n",
        "\n",
        "plt.subplot(2, 1, 1)\n",
        "sns.barplot(x='Airline', y='Price', hue='Month', data=merged_data)\n",
        "plt.title('Average Price Comparison - Weekend vs Weekday')\n",
        "plt.ylabel('Average Price')\n",
        "plt.xticks(rotation=45, ha='right')\n",
        "\n",
        "# Vẽ biểu đồ số điểm dừng theo hãng và tháng\n",
        "# plt.subplot(2, 1, 2)\n",
        "# sns.barplot(x='Airline', y='Total_Stops', hue='Month', data=merged_data, estimator=sum)\n",
        "# plt.title('Total Stops Comparison Across Airlines - Monthly')\n",
        "# plt.ylabel('Total Stops')\n",
        "# plt.xticks(rotation=45, ha='right')\n",
        "\n",
        "# Vẽ biểu đồ số chuyến bay theo hãng và tháng\n",
        "plt.subplot(2, 1, 2)\n",
        "\n",
        "sns.countplot(x='Airline', hue='Month', data=merged_data)\n",
        "plt.title('Total Flights Comparison Across Airlines - Monthly')\n",
        "plt.ylabel('Total Flights')\n",
        "plt.xticks(rotation=45, ha='right')\n",
        "# Tăng khoảng cách giữa các đồ thị\n",
        "plt.tight_layout()\n",
        "\n",
        "# Hiển thị đồ thị\n",
        "plt.show()"
      ]
    },
    {
      "cell_type": "markdown",
      "metadata": {
        "id": "9_emAiv7UiaU"
      },
      "source": [
        "## 12. Giá theo info tổng quát"
      ]
    },
    {
      "cell_type": "code",
      "execution_count": null,
      "metadata": {
        "colab": {
          "base_uri": "https://localhost:8080/",
          "height": 863
        },
        "id": "E_mXBwMhUiaV",
        "outputId": "92d9a99d-3e45-490a-d6c2-59ac649f47d0"
      },
      "outputs": [],
      "source": [
        "# Thiết lập kích thước đồ thị\n",
        "plt.figure(figsize=(16, 8))\n",
        "\n",
        "# Vẽ biểu đồ giá trung bình theo Additional_info và hãng\n",
        "sns.barplot(x='Additional_Info', y='Price', hue='Airline', data=merged_data)\n",
        "plt.title('Average Price Comparison Across Airlines - Additional Info')\n",
        "plt.ylabel('Average Price')\n",
        "plt.xticks(rotation=45, ha='right')\n",
        "\n",
        "# Hiển thị đồ thị\n",
        "plt.show()"
      ]
    },
    {
      "cell_type": "markdown",
      "metadata": {
        "id": "nJUM6V-iUiaW"
      },
      "source": [
        "Theo ngày, điểm đi, điểm đến"
      ]
    },
    {
      "cell_type": "code",
      "execution_count": null,
      "metadata": {
        "colab": {
          "base_uri": "https://localhost:8080/",
          "height": 633
        },
        "id": "8JSCLiOlUiaX",
        "outputId": "2a2564b8-dd1d-48e5-afd4-341e61d84dad"
      },
      "outputs": [],
      "source": [
        "# Chọn một ngày, một điểm đi và một điểm đến cụ thể\n",
        "selected_date = '01/03/2019'  # Đổi thành ngày mong muốn\n",
        "selected_source = 'Banglore'     # Đổi thành điểm đi mong muốn\n",
        "selected_destination = 'New Delhi'  # Đổi thành điểm đến mong muốn\n",
        "selected_date=pd.to_datetime(selected_date, format='%d/%m/%Y')\n",
        "selected_airline = 'Jet Airways'\n",
        "# Lọc dữ liệu cho các điều kiện được chọn\n",
        "selected_data = merged_data[(merged_data['Date_of_Journey'] == selected_date) &\n",
        "                   (merged_data['Source'] == selected_source) &\n",
        "                   (merged_data['Destination'] == selected_destination)&\n",
        "                   (merged_data['Airline'] == selected_airline)]\n",
        "\n",
        "# Kiểm tra xem DataFrame có trống không\n",
        "if not selected_data.empty:\n",
        "    # Thiết lập kích thước đồ thị\n",
        "    plt.figure(figsize=(12, 6))\n",
        "\n",
        "    # Vẽ biểu đồ giá trung bình theo Additional_Info\n",
        "    sns.barplot(x='Additional_Info', y='Price', data=selected_data)\n",
        "    plt.title(f'Average Price Comparison Across Additional Info for {selected_source} to {selected_destination} on {selected_date} with {selected_airline}')\n",
        "    plt.ylabel('Average Price')\n",
        "    plt.xticks(rotation=45, ha='right')\n",
        "\n",
        "    # Hiển thị đồ thị\n",
        "    plt.show()\n",
        "else:\n",
        "    print(\"No data found for the selected conditions.\")"
      ]
    },
    {
      "cell_type": "markdown",
      "metadata": {},
      "source": [
        "# 14. Với một Source và Destination thì mức giá giữa các Route thay đổi thế nào?"
      ]
    },
    {
      "cell_type": "code",
      "execution_count": null,
      "metadata": {},
      "outputs": [],
      "source": [
        "# Các cặp Source và Destination: Delhi-Cochin, Kolkata-Banglore,Banglore-Delhi, Banglore-New Delhi, Mumbai-Hyderabab, Chennai-Kolkata\n",
        "# Xác định source và destination cố định\n",
        "source = 'Banglore'\n",
        "destination = 'New Delhi'\n",
        "\n",
        "# Lọc dữ liệu cho source và destination cụ thể\n",
        "filtered_data = merged_data[(merged_data['Source'] == source) & (merged_data['Destination'] == destination)]\n",
        "\n",
        "\n",
        "# Tính giá trung bình cho mỗi route\n",
        "average_prices = filtered_data.groupby('Route')['Price'].mean().reset_index()\n",
        "\n",
        "# Sắp xếp theo giá trung bình tăng dần\n",
        "average_prices = average_prices.sort_values(by='Price')\n",
        "\n",
        "# Vẽ đồ thị\n",
        "plt.figure(figsize=(12, 6))\n",
        "sns.barplot(x='Price', y='Route', data=average_prices, color='skyblue')\n",
        "plt.title('Giá trung bình theo Route từ Delhi đến Cochin')\n",
        "plt.xlabel('Giá trung bình (Rupee)')\n",
        "plt.ylabel('Route')\n",
        "plt.show()"
      ]
    },
    {
      "cell_type": "markdown",
      "metadata": {
        "id": "81TSM4H2kRd_"
      },
      "source": [
        "# Kết luận các điểm chính quan sát được từ dữ liệu từ các gợi ý trên\n"
      ]
    },
    {
      "cell_type": "code",
      "execution_count": null,
      "metadata": {
        "id": "TRszty31kUaU"
      },
      "outputs": [],
      "source": []
    },
    {
      "cell_type": "markdown",
      "metadata": {
        "id": "1EcepcBgkUrV"
      },
      "source": [
        "# Ngoài các đặc trưng trong tập dữ liệu, các yếu tố nào có khả năng ảnh hưởng đến giá vé chuyến bay?\n",
        "\n"
      ]
    },
    {
      "cell_type": "markdown",
      "metadata": {
        "id": "okje49idkdyy"
      },
      "source": []
    },
    {
      "cell_type": "markdown",
      "metadata": {
        "id": "SG774ceGkWfN"
      },
      "source": [
        "# Dự đoán giá vé"
      ]
    },
    {
      "cell_type": "code",
      "execution_count": null,
      "metadata": {},
      "outputs": [],
      "source": [
        "from sklearn.preprocessing import LabelEncoder\n",
        "from sklearn.model_selection import train_test_split\n",
        "from sklearn.preprocessing import MinMaxScaler\n",
        "from sklearn.preprocessing import StandardScaler\n",
        "# Build the Regression / Regressor models\n",
        "from sklearn.linear_model import LinearRegression\n",
        "from sklearn.linear_model import Ridge\n",
        "from sklearn import linear_model\n",
        "from sklearn.tree import DecisionTreeRegressor\n",
        "from sklearn.ensemble import RandomForestRegressor\n",
        "from sklearn.svm import SVR\n",
        "import xgboost as xgb\n",
        "from sklearn.neighbors import KNeighborsRegressor\n",
        "from sklearn.ensemble import ExtraTreesRegressor\n",
        "from sklearn.ensemble import BaggingRegressor\n",
        "from sklearn.ensemble import GradientBoostingRegressor\n",
        "from sklearn import metrics\n",
        "import statsmodels.api as sm"
      ]
    },
    {
      "cell_type": "code",
      "execution_count": null,
      "metadata": {},
      "outputs": [],
      "source": [
        "# Tạo DataFrame\n",
        "df = pd.DataFrame(merged_data)"
      ]
    },
    {
      "cell_type": "code",
      "execution_count": null,
      "metadata": {},
      "outputs": [],
      "source": [
        "def drop_useless_col(df, cols):\n",
        "    df.drop(columns=cols, axis=1, inplace=True)\n",
        "    return df\n",
        "#Bỏ Duration vì đã có arrival_time\n",
        "#Bỏ date_of journey vì đã có day, month, year là 2019 nên không tính\n",
        "#\n",
        "df = drop_useless_col(df, [ 'Route', 'Duration', 'Date_of_Journey', 'Arrival_Date', 'Departure_Hour','Arrival_Hour'])\n",
        "df_bk=df.copy()\n",
        "df.head()"
      ]
    },
    {
      "cell_type": "code",
      "execution_count": null,
      "metadata": {},
      "outputs": [],
      "source": [
        "# Coverting the labels into a numeric form using Label Encoder\n",
        "le=LabelEncoder()\n",
        "for col in df.columns:\n",
        "    if df[col].dtype=='object':\n",
        "        df[col]=le.fit_transform(df[col])\n",
        "\n",
        "df.head()"
      ]
    },
    {
      "cell_type": "code",
      "execution_count": null,
      "metadata": {},
      "outputs": [],
      "source": [
        "# storing the Dependent Variables in X and Independent Variable in Y\n",
        "x = df.drop(axis=1, columns=['Price'])\n",
        "y = df['Price']"
      ]
    },
    {
      "cell_type": "code",
      "execution_count": null,
      "metadata": {},
      "outputs": [],
      "source": [
        "x_train,x_test,y_train,y_test=train_test_split(x,y,test_size=0.20,random_state=42)\n",
        "x_train.shape,x_test.shape,y_train.shape,y_test.shape"
      ]
    },
    {
      "cell_type": "markdown",
      "metadata": {},
      "source": [
        "- Sử dụng OLS Linear Regression được học ở lý thuyết để dự đoán.\n",
        "- Sau khi thử thêm bớt các biến độc lập thì nhận thấy chỉ khi bỏ giá trị constant mới thay đổi từ 43% lên 87%."
      ]
    },
    {
      "cell_type": "code",
      "execution_count": null,
      "metadata": {},
      "outputs": [],
      "source": [
        "\n",
        "#X = sm.add_constant(x_train)  # Thêm hạng mục hằng số (intercept)\n",
        "result_model = sm.OLS(y_train, x_train).fit()\n",
        "print(result_model.summary())"
      ]
    },
    {
      "cell_type": "code",
      "execution_count": null,
      "metadata": {},
      "outputs": [],
      "source": [
        "#Plotting the results\n",
        "plt.figure(figsize=(10,5))\n",
        "y_pred_ln=result_model.predict(x_test)\n",
        "plt.scatter(y_pred_ln,y_test,c='blue',marker='o',s=25)\n",
        "plt.plot([y_test.min(),y_test.max()],[y_test.min(),y_test.max()],c='black',lw=2)\n",
        "plt.xlabel('Predicted Data',c='red')\n",
        "plt.ylabel('Actual Data',c='red')\n",
        "plt.title('Predicted Data VS Actual Data',c='red')\n",
        "plt.show()"
      ]
    },
    {
      "cell_type": "markdown",
      "metadata": {},
      "source": [
        "- R2 Score: 0.875 gần 1 cho thấy mô hình có độ chính xác cao."
      ]
    },
    {
      "cell_type": "markdown",
      "metadata": {},
      "source": [
        "- Thử áp dụng 10 model phổ biến:"
      ]
    },
    {
      "cell_type": "code",
      "execution_count": null,
      "metadata": {},
      "outputs": [],
      "source": [
        "# Create objects of Regression / Regressor models with default hyper-parameters\n",
        "\n",
        "modelmlg = LinearRegression()\n",
        "modeldcr = DecisionTreeRegressor()\n",
        "modelbag = BaggingRegressor()\n",
        "modelrfr = RandomForestRegressor()\n",
        "modelSVR = SVR()\n",
        "modelXGR = xgb.XGBRegressor()\n",
        "modelKNN = KNeighborsRegressor(n_neighbors=5)\n",
        "modelETR = ExtraTreesRegressor()\n",
        "modelRE=Ridge()\n",
        "modelLO=linear_model.Lasso(alpha=0.1)\n",
        "\n",
        "modelGBR = GradientBoostingRegressor(loss='squared_error', learning_rate=0.1, n_estimators=100, subsample=1.0,\n",
        "                                     criterion='friedman_mse', min_samples_split=2, min_samples_leaf=1,\n",
        "                                     min_weight_fraction_leaf=0.0, max_depth=3, min_impurity_decrease=0.0,\n",
        "                                     init=None, random_state=None, max_features=None,\n",
        "                                     alpha=0.9, verbose=0, max_leaf_nodes=None, warm_start=False,\n",
        "                                     validation_fraction=0.1, n_iter_no_change=None, tol=0.0001, ccp_alpha=0.0)\n",
        "\n",
        "# Evalution matrix for all the algorithms\n",
        "\n",
        "MM = [modelmlg, modeldcr, modelrfr, modelKNN, modelETR, modelGBR, modelXGR, modelbag,modelRE,modelLO]\n",
        "\n",
        "# Initialize an empty DataFrame\n",
        "a = {'Model Name': [], 'Mean_Absolute_Error_MAE': [], 'Adj_R_Square': [],\n",
        "     'Root_Mean_Squared_Error_RMSE': [], 'Mean_Absolute_Percentage_Error_MAPE': [],\n",
        "     'Mean_Squared_Error_MSE': [], 'Root_Mean_Squared_Log_Error_RMSLE': [], 'R2_score': []}\n",
        "Results = pd.DataFrame(a)\n",
        "results_list = []\n",
        "for model in MM:\n",
        "    # Fit the model with train data\n",
        "    model.fit(x_train, y_train)\n",
        "\n",
        "    # Predict the model with test data\n",
        "    y_pred = model.predict(x_test)\n",
        "    # Print the model name\n",
        "    print('Model Name:', type(model).__name__)\n",
        "\n",
        "    # Evaluation metrics for Regression analysis\n",
        "    print('Mean Absolute Error (MAE):', round(metrics.mean_absolute_error(y_test, y_pred), 3))\n",
        "    print('Mean Squared Error (MSE):', round(metrics.mean_squared_error(y_test, y_pred), 3))\n",
        "    print('Root Mean Squared Error (RMSE):', round(np.sqrt(metrics.mean_squared_error(y_test, y_pred)), 3))\n",
        "    print('R2_score:', round(metrics.r2_score(y_test, y_pred), 6))\n",
        "\n",
        "    # Calculate Adjusted R squared values\n",
        "    r_squared = round(metrics.r2_score(y_test, y_pred), 6)\n",
        "    adjusted_r_squared = round(1 - (1 - r_squared) * (len(y_test) - 1) / (len(y_test) - x_test.shape[1] - 1), 6)\n",
        "    print('Adj R Square:', adjusted_r_squared)\n",
        "    print('------------------------------------------------------------------------------------------------------------')\n",
        "\n",
        "    # Append results to the Results DataFrame\n",
        "    new_row = {'Model Name': type(model).__name__,\n",
        "               'Mean_Absolute_Error_MAE': round(metrics.mean_absolute_error(y_test, y_pred), 3),\n",
        "               'Adj_R_Square': adjusted_r_squared,\n",
        "               'Root_Mean_Squared_Error_RMSE': round(np.sqrt(metrics.mean_squared_error(y_test, y_pred)), 3),\n",
        "               'Mean_Squared_Error_MSE': round(metrics.mean_squared_error(y_test, y_pred), 3),\n",
        "               'R2_score': round(metrics.r2_score(y_test, y_pred), 6)}\n",
        "\n",
        "    results_list.append(new_row)\n",
        "\n",
        "# Create a DataFrame from the results_list\n",
        "Results = pd.DataFrame(results_list)\n"
      ]
    },
    {
      "cell_type": "code",
      "execution_count": null,
      "metadata": {},
      "outputs": [],
      "source": [
        "models=['LinearRegression','DecisionTreeRegressor','RandomForestRegressor','KNeighborsRegressor','ExtraTreesRegressor','GradientBoostingRegressor','XGBRegressor','BaggingRegressor','Ridge Regression','Lasso Regression']\n",
        "result=pd.DataFrame({'Model_Name':models})\n",
        "result['Adj_R_Square']=Results['Adj_R_Square']\n",
        "#sai số tuyệt đối trung bình giữa giá trị dự đoán và giá trị thực tế.\n",
        "result['Mean_Absolute_Error_MAE']=Results['Mean_Absolute_Error_MAE']\n",
        "#căn bậc hai của mức trung bình của chênh lệch bình phương giữa giá trị dự đoán và giá trị thực tế.\n",
        "#RMSE thấp hơn cho thấy độ chính xác tốt hơn.\n",
        "result['Root_Mean_Squared_Error_RMSE']=Results['Root_Mean_Squared_Error_RMSE']\n",
        "#trung bình của chênh lệch bình phương giữa giá trị dự đoán và giá trị thực tế.\n",
        "result['Mean_Squared_Error_MSE']=Results['Mean_Squared_Error_MSE']\n",
        "result['R2_score']=Results['R2_score']\n",
        "result=result.sort_values(by='Adj_R_Square',ascending=False).reset_index(drop=True)\n",
        "result"
      ]
    },
    {
      "cell_type": "markdown",
      "metadata": {},
      "source": [
        "- Nhận thấy top3 model là RandomForestRegressor, BaggingRegressor, XGBRegressor.\n",
        "- Dự đoán thử giá trị price ở tập test với model RandomForestRegressor."
      ]
    },
    {
      "cell_type": "markdown",
      "metadata": {},
      "source": [
        "- Model RandomForestRegressor"
      ]
    },
    {
      "cell_type": "code",
      "execution_count": null,
      "metadata": {},
      "outputs": [],
      "source": [
        "#Trainig the model with\n",
        "model_rfr = modelrfr.fit(x_train, y_train)\n",
        "# Predict the model with test data\n",
        "y_pred = model_rfr.predict(x_test)\n",
        "out=pd.DataFrame({'Price_actual':y_test,'Price_pred':y_pred})\n",
        "#Thêm giá dự đoán vào df\n",
        "result=df_bk.merge(out,left_index=True,right_index=True)\n",
        "#Thêm giá trị chênh lệch tuyệt đối giữa giá vé thực tế và dự đoán \n",
        "result['|actual-pred|'] = abs(result['Price_actual'] - result['Price_pred'])\n",
        "result_sorted = result.sort_values(by='|actual-pred|', ascending=False)\n",
        "print(\"Giá trị chênh lệch tuyệt đối lớn nhất là: \",result_sorted['|actual-pred|'].iloc[0])\n",
        "result.sample(10)"
      ]
    },
    {
      "cell_type": "code",
      "execution_count": null,
      "metadata": {},
      "outputs": [],
      "source": [
        "plt.figure(figsize=(10,5))\n",
        "sns.regplot(x='Price_actual',y='Price_pred',data=result,color='cyan')\n",
        "plt.title('Actual Price  Vs  Predicted Price using RandomForestRegressor ',fontsize=20)\n",
        "plt.xlabel('Actual Price',fontsize=15)\n",
        "plt.ylabel('Predicted Price',fontsize=15)\n",
        "plt.show()"
      ]
    },
    {
      "cell_type": "code",
      "execution_count": null,
      "metadata": {},
      "outputs": [],
      "source": [
        "#Plotting the results\n",
        "plt.figure(figsize=(10,5))\n",
        "plt.scatter(y_pred,y_test,c='blue',marker='o',s=25)\n",
        "plt.plot([y_test.min(),y_test.max()],[y_test.min(),y_test.max()],c='black',lw=2)\n",
        "plt.xlabel('Predicted Data',c='red')\n",
        "plt.ylabel('Actual Data',c='red')\n",
        "plt.title('Predicted Data VS Actual RandomForestRegressor',c='red')\n",
        "plt.show()"
      ]
    },
    {
      "cell_type": "code",
      "execution_count": null,
      "metadata": {},
      "outputs": [],
      "source": [
        "print(\"R2 của RandomForestRegressor:\", model_rfr.score(x_test, y_test))"
      ]
    },
    {
      "cell_type": "markdown",
      "metadata": {},
      "source": [
        "- Mô hình cho độ chính xác cao."
      ]
    }
  ],
  "metadata": {
    "colab": {
      "provenance": []
    },
    "kernelspec": {
      "display_name": "Python 3",
      "name": "python3"
    },
    "language_info": {
      "codemirror_mode": {
        "name": "ipython",
        "version": 3
      },
      "file_extension": ".py",
      "mimetype": "text/x-python",
      "name": "python",
      "nbconvert_exporter": "python",
      "pygments_lexer": "ipython3",
      "version": "3.9.0"
    }
  },
  "nbformat": 4,
  "nbformat_minor": 0
}
