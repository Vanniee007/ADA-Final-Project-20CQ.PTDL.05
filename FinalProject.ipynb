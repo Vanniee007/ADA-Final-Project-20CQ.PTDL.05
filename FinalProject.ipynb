{
  "cells": [
    {
      "cell_type": "markdown",
      "metadata": {
        "id": "sJPyJasjhvPu"
      },
      "source": [
        "#**Thông tin nhóm**\n",
        "##Mã nhóm: 20CQ.PTDL.05\n",
        "##Danh sách thành viên:\n",
        "*   20120466 - Trần Thị Thu Hà\n",
        "*   20120592 - Lê Minh Tiến\n",
        "*   20120595 - Phạm Minh Tiến\n",
        "*   20120624 - Mai Quyết Vang\n",
        "\n"
      ]
    },
    {
      "cell_type": "markdown",
      "metadata": {
        "id": "xmmwOqTqiUsP"
      },
      "source": [
        "#Thêm thư viện cần thiết"
      ]
    },
    {
      "cell_type": "code",
      "execution_count": 54,
      "metadata": {
        "id": "Yn648mWciUV3"
      },
      "outputs": [],
      "source": [
        "import pandas as pd\n",
        "import matplotlib.pyplot as plt"
      ]
    },
    {
      "cell_type": "markdown",
      "metadata": {
        "id": "aQfzbAAYiaFa"
      },
      "source": [
        "Load dữ liệu"
      ]
    },
    {
      "cell_type": "code",
      "execution_count": 55,
      "metadata": {
        "id": "2x-m0OgQiZYZ"
      },
      "outputs": [],
      "source": [
        "link_p1 = \"https://raw.githubusercontent.com/Vanniee007/ADA-Final-Project-20CQ.PTDL.05/main/data/Data_Train_p1.xlsx\"\n",
        "link_p2 = \"https://raw.githubusercontent.com/Vanniee007/ADA-Final-Project-20CQ.PTDL.05/main/data/Data_Train_p2.xlsx\"\n"
      ]
    },
    {
      "cell_type": "code",
      "execution_count": 56,
      "metadata": {
        "id": "ExOwxc46ijXC"
      },
      "outputs": [
        {
          "data": {
            "text/html": [
              "<div>\n",
              "<style scoped>\n",
              "    .dataframe tbody tr th:only-of-type {\n",
              "        vertical-align: middle;\n",
              "    }\n",
              "\n",
              "    .dataframe tbody tr th {\n",
              "        vertical-align: top;\n",
              "    }\n",
              "\n",
              "    .dataframe thead th {\n",
              "        text-align: right;\n",
              "    }\n",
              "</style>\n",
              "<table border=\"1\" class=\"dataframe\">\n",
              "  <thead>\n",
              "    <tr style=\"text-align: right;\">\n",
              "      <th></th>\n",
              "      <th>Airline</th>\n",
              "      <th>Date_of_Journey</th>\n",
              "      <th>Source</th>\n",
              "      <th>Destination</th>\n",
              "      <th>Route</th>\n",
              "      <th>Dep_Time</th>\n",
              "      <th>Arrival_Time</th>\n",
              "      <th>Duration</th>\n",
              "      <th>Total_Stops</th>\n",
              "      <th>Additional_Info</th>\n",
              "      <th>Price</th>\n",
              "    </tr>\n",
              "  </thead>\n",
              "  <tbody>\n",
              "    <tr>\n",
              "      <th>0</th>\n",
              "      <td>IndiGo</td>\n",
              "      <td>24/03/2019</td>\n",
              "      <td>Banglore</td>\n",
              "      <td>New Delhi</td>\n",
              "      <td>BLR → DEL</td>\n",
              "      <td>22:20</td>\n",
              "      <td>01:10 22 Mar</td>\n",
              "      <td>2h 50m</td>\n",
              "      <td>non-stop</td>\n",
              "      <td>No info</td>\n",
              "      <td>3897</td>\n",
              "    </tr>\n",
              "    <tr>\n",
              "      <th>1</th>\n",
              "      <td>Air India</td>\n",
              "      <td>1/05/2019</td>\n",
              "      <td>Kolkata</td>\n",
              "      <td>Banglore</td>\n",
              "      <td>CCU → IXR → BBI → BLR</td>\n",
              "      <td>05:50</td>\n",
              "      <td>13:15</td>\n",
              "      <td>7h 25m</td>\n",
              "      <td>2 stops</td>\n",
              "      <td>No info</td>\n",
              "      <td>7662</td>\n",
              "    </tr>\n",
              "    <tr>\n",
              "      <th>2</th>\n",
              "      <td>Jet Airways</td>\n",
              "      <td>9/06/2019</td>\n",
              "      <td>Delhi</td>\n",
              "      <td>Cochin</td>\n",
              "      <td>DEL → LKO → BOM → COK</td>\n",
              "      <td>09:25</td>\n",
              "      <td>04:25 10 Jun</td>\n",
              "      <td>19h</td>\n",
              "      <td>2 stops</td>\n",
              "      <td>No info</td>\n",
              "      <td>13882</td>\n",
              "    </tr>\n",
              "    <tr>\n",
              "      <th>3</th>\n",
              "      <td>IndiGo</td>\n",
              "      <td>12/05/2019</td>\n",
              "      <td>Kolkata</td>\n",
              "      <td>Banglore</td>\n",
              "      <td>CCU → NAG → BLR</td>\n",
              "      <td>18:05</td>\n",
              "      <td>23:30</td>\n",
              "      <td>5h 25m</td>\n",
              "      <td>1 stop</td>\n",
              "      <td>No info</td>\n",
              "      <td>6218</td>\n",
              "    </tr>\n",
              "    <tr>\n",
              "      <th>4</th>\n",
              "      <td>IndiGo</td>\n",
              "      <td>01/03/2019</td>\n",
              "      <td>Banglore</td>\n",
              "      <td>New Delhi</td>\n",
              "      <td>BLR → NAG → DEL</td>\n",
              "      <td>16:50</td>\n",
              "      <td>21:35</td>\n",
              "      <td>4h 45m</td>\n",
              "      <td>1 stop</td>\n",
              "      <td>No info</td>\n",
              "      <td>13302</td>\n",
              "    </tr>\n",
              "  </tbody>\n",
              "</table>\n",
              "</div>"
            ],
            "text/plain": [
              "       Airline Date_of_Journey    Source Destination                  Route  \\\n",
              "0       IndiGo      24/03/2019  Banglore   New Delhi              BLR → DEL   \n",
              "1    Air India       1/05/2019   Kolkata    Banglore  CCU → IXR → BBI → BLR   \n",
              "2  Jet Airways       9/06/2019     Delhi      Cochin  DEL → LKO → BOM → COK   \n",
              "3       IndiGo      12/05/2019   Kolkata    Banglore        CCU → NAG → BLR   \n",
              "4       IndiGo      01/03/2019  Banglore   New Delhi        BLR → NAG → DEL   \n",
              "\n",
              "  Dep_Time  Arrival_Time Duration Total_Stops Additional_Info  Price  \n",
              "0    22:20  01:10 22 Mar   2h 50m    non-stop         No info   3897  \n",
              "1    05:50         13:15   7h 25m     2 stops         No info   7662  \n",
              "2    09:25  04:25 10 Jun      19h     2 stops         No info  13882  \n",
              "3    18:05         23:30   5h 25m      1 stop         No info   6218  \n",
              "4    16:50         21:35   4h 45m      1 stop         No info  13302  "
            ]
          },
          "execution_count": 56,
          "metadata": {},
          "output_type": "execute_result"
        }
      ],
      "source": [
        "# Đọc dữ liệu từ file Excel\n",
        "Data_Train_p1 = pd.read_excel(link_p1)\n",
        "Data_Train_p2 = pd.read_excel(link_p2)\n",
        "\n",
        "# Ghép nối hai DataFrame\n",
        "df = pd.concat([Data_Train_p1, Data_Train_p2], ignore_index=True)\n",
        "\n",
        "df.head()"
      ]
    },
    {
      "cell_type": "markdown",
      "metadata": {
        "id": "bu1MvQZViMbq"
      },
      "source": [
        "#Quan sát và phân tích tập dữ liệu (EDA)\n"
      ]
    },
    {
      "cell_type": "markdown",
      "metadata": {
        "id": "Jxj0fMjVjPkx"
      },
      "source": [
        "##1. Cho biết kiểu dữ liệu của các thuộc tính\n"
      ]
    },
    {
      "cell_type": "code",
      "execution_count": null,
      "metadata": {
        "colab": {
          "base_uri": "https://localhost:8080/"
        },
        "id": "vmISeFXniMNF",
        "outputId": "d0d9d5bf-9e70-47a8-928e-66b2930d2d41"
      },
      "outputs": [
        {
          "name": "stdout",
          "output_type": "stream",
          "text": [
            "<class 'pandas.core.frame.DataFrame'>\n",
            "RangeIndex: 10684 entries, 0 to 10683\n",
            "Data columns (total 11 columns):\n",
            " #   Column           Non-Null Count  Dtype \n",
            "---  ------           --------------  ----- \n",
            " 0   Airline          10684 non-null  object\n",
            " 1   Date_of_Journey  10684 non-null  object\n",
            " 2   Source           10684 non-null  object\n",
            " 3   Destination      10684 non-null  object\n",
            " 4   Route            10683 non-null  object\n",
            " 5   Dep_Time         10684 non-null  object\n",
            " 6   Arrival_Time     10684 non-null  object\n",
            " 7   Duration         10684 non-null  object\n",
            " 8   Total_Stops      10683 non-null  object\n",
            " 9   Additional_Info  10684 non-null  object\n",
            " 10  Price            10684 non-null  int64 \n",
            "dtypes: int64(1), object(10)\n",
            "memory usage: 918.3+ KB\n"
          ]
        }
      ],
      "source": [
        "# Hiển thị thông tin về DataFrame\n",
        "df.info()"
      ]
    },
    {
      "cell_type": "markdown",
      "metadata": {
        "id": "w7cO6qzbjRjD"
      },
      "source": [
        "##2. Đối với cột Price, cho biết:\n",
        "\n",
        "\n",
        "*   Giá cao nhất, thấp nhất, giá trung bình, mức giá xuất hiện nhiều\n",
        "*   Độ lệch chuẩn của cột price?\n",
        "*   Cho biết giá phân phối xung quanh trung tâm hay cách xa trung tâm?\n",
        "Nhận xét về giá trị mean và median của tập dữ liệu.\n",
        "*   Vẽ đồ thị histogram để nhận xét dữ liệu có bị lệch không?\n",
        "List item\n",
        "\n",
        "\n",
        "\n"
      ]
    },
    {
      "cell_type": "code",
      "execution_count": null,
      "metadata": {
        "id": "WQVwrfsjhSCt"
      },
      "outputs": [
        {
          "data": {
            "image/png": "[encoded data removed]",
            "text/plain": [
              "<Figure size 1000x600 with 1 Axes>"
            ]
          },
          "metadata": {},
          "output_type": "display_data"
        },
        {
          "name": "stdout",
          "output_type": "stream",
          "text": [
            "1. Giá cao nhất: 79512\n",
            "   Giá thấp nhất: 1759\n",
            "   Giá trung bình: 9087.696059159412\n",
            "   Mức giá xuất hiện nhiều: 10262\n",
            "2. Độ lệch chuẩn của cột Price: 4611.601485493901\n",
            "3. Phân phối đối với giá vé có vẻ lệch phải so với trung bình.\n",
            "4. Dựa trên biểu đồ histogram, ta thấy dữ liệu có dạng lệch phải. Biểu đồ có đỉnh lệch về phía phải, với nhiều giá trị dữ liệu cao hơn giá trị trung bình. Điều này có thể là do có một số chuyến bay có giá vé cao hơn đáng kể so với hầu hết các chuyến bay khác.\n"
          ]
        }
      ],
      "source": [
        "# 1. Thống kê giá\n",
        "\n",
        "max_price = df['Price'].max()\n",
        "min_price = df['Price'].min()\n",
        "mean_price = df['Price'].mean()\n",
        "mode_price = df['Price'].mode().values[0]\n",
        "\n",
        "# 2. Độ lệch chuẩn\n",
        "std_dev_price = df['Price'].std()\n",
        "\n",
        "# 3. So sánh mean và median\n",
        "mean_median_comparison = \"Phân phối đối với giá vé có vẻ {0} so với trung bình.\".format(\n",
        "    \"lệch phải\" if df['Price'].mean() > df['Price'].median() else \"lệch trái\"\n",
        ")\n",
        "\n",
        "# 4. Trực quan hóa dữ liệu bằng histogram\n",
        "plt.figure(figsize=(10, 6))\n",
        "plt.hist(df['Price'], bins=50, color='skyblue', edgecolor='black')\n",
        "plt.title('Phân phối giá vé')\n",
        "plt.xlabel('Giá vé')\n",
        "plt.ylabel('Số lượng chuyến bay')\n",
        "plt.show()\n",
        "\n",
        "\n",
        "# Hiển thị kết quả\n",
        "print(f\"1. Giá cao nhất: {max_price}\")\n",
        "print(f\"   Giá thấp nhất: {min_price}\")\n",
        "print(f\"   Giá trung bình: {mean_price}\")\n",
        "print(f\"   Mức giá xuất hiện nhiều: {mode_price}\")\n",
        "print(f\"2. Độ lệch chuẩn của cột Price: {std_dev_price}\")\n",
        "print(f\"3. {mean_median_comparison}\")\n",
        "print(\"4. Dựa trên biểu đồ histogram, ta thấy dữ liệu có dạng lệch phải. Biểu đồ có đỉnh lệch về phía phải, với nhiều giá trị dữ liệu cao hơn giá trị trung bình. Điều này có thể là do có một số chuyến bay có giá vé cao hơn đáng kể so với hầu hết các chuyến bay khác.\")"
      ]
    },
    {
      "cell_type": "markdown",
      "metadata": {
        "id": "DKUyi_sejbzM"
      },
      "source": [
        "##3. Mô tả số lượng missing value của mỗi thuộc tính\n"
      ]
    },
    {
      "cell_type": "code",
      "execution_count": null,
      "metadata": {
        "colab": {
          "base_uri": "https://localhost:8080/"
        },
        "id": "usdDtNQJjiw4",
        "outputId": "f1c11cf9-007e-47e5-abeb-360cb7a1a6b9"
      },
      "outputs": [
        {
          "name": "stdout",
          "output_type": "stream",
          "text": [
            "Số lượng missing value của mỗi thuộc tính:\n",
            "Airline            0\n",
            "Date_of_Journey    0\n",
            "Source             0\n",
            "Destination        0\n",
            "Route              1\n",
            "Dep_Time           0\n",
            "Arrival_Time       0\n",
            "Duration           0\n",
            "Total_Stops        1\n",
            "Additional_Info    0\n",
            "Price              0\n",
            "dtype: int64\n"
          ]
        }
      ],
      "source": [
        "# 3. Mô tả số lượng missing value của mỗi thuộc tính\n",
        "missing_values = df.isnull().sum()\n",
        "print(\"Số lượng missing value của mỗi thuộc tính:\")\n",
        "print(missing_values)"
      ]
    },
    {
      "cell_type": "markdown",
      "metadata": {
        "id": "2PSCkjffjiql"
      },
      "source": [
        "##4. Tính tỷ lệ % missing value của mỗi thuộc tính\n"
      ]
    },
    {
      "cell_type": "code",
      "execution_count": null,
      "metadata": {
        "colab": {
          "base_uri": "https://localhost:8080/"
        },
        "id": "7O1Hxw_Ujilf",
        "outputId": "5832ea74-ccdf-4d50-8d40-042e5707019e"
      },
      "outputs": [
        {
          "name": "stdout",
          "output_type": "stream",
          "text": [
            "Tỷ lệ % missing value của mỗi thuộc tính:\n",
            "Airline            0.00000\n",
            "Date_of_Journey    0.00000\n",
            "Source             0.00000\n",
            "Destination        0.00000\n",
            "Route              0.00936\n",
            "Dep_Time           0.00000\n",
            "Arrival_Time       0.00000\n",
            "Duration           0.00000\n",
            "Total_Stops        0.00936\n",
            "Additional_Info    0.00000\n",
            "Price              0.00000\n",
            "dtype: float64\n"
          ]
        }
      ],
      "source": [
        "# 4. Tính tỷ lệ % missing value của mỗi thuộc tính\n",
        "missing_percentage = (missing_values / len(df)) * 100\n",
        "print(\"Tỷ lệ % missing value của mỗi thuộc tính:\")\n",
        "print(missing_percentage)"
      ]
    },
    {
      "cell_type": "markdown",
      "metadata": {
        "id": "6IGs1CNxjiey"
      },
      "source": [
        "##5. Xử lý dữ liệu missing\n"
      ]
    },
    {
      "cell_type": "code",
      "execution_count": null,
      "metadata": {
        "id": "O0Q-3ptmjjve"
      },
      "outputs": [],
      "source": [
        "# 5. Xử lý dữ liệu missing ( xóa các dòng có missing value)\n",
        "df.dropna(subset=['Total_Stops'], inplace=True)"
      ]
    },
    {
      "cell_type": "markdown",
      "metadata": {
        "id": "sx0Rpg49jfu_"
      },
      "source": [
        "##6. Outlier: sử dụng đồ thị boxplot để quan sát cột Price có tồn tại outlier không?"
      ]
    },
    {
      "cell_type": "code",
      "execution_count": null,
      "metadata": {
        "id": "cTZ1IeMWjgKM"
      },
      "outputs": [],
      "source": []
    },
    {
      "cell_type": "markdown",
      "metadata": {
        "id": "LPau0L2noTb-"
      },
      "source": [
        "## Xử lí cột Duration: xử lí thành phút (int)\n"
      ]
    },
    {
      "cell_type": "code",
      "execution_count": null,
      "metadata": {
        "id": "OBoHdT2yonCF"
      },
      "outputs": [],
      "source": [
        "import pandas as pd\n",
        "\n",
        "# Tạo DataFrame mẫu\n",
        "data = {'Duration': ['2h 50m', '19h', '30m']}\n",
        "df = pd.DataFrame(data)\n",
        "\n",
        "# Hàm xử lý để chuyển đổi chuỗi thời gian thành phút\n",
        "def convert_duration_to_minutes(duration):\n",
        "    if 'h' in duration and 'm' in duration:\n",
        "        hours, minutes = map(int, duration.split('h'))\n",
        "        return hours * 60 + minutes\n",
        "    elif 'h' in duration:\n",
        "        return int(duration.replace('h', '')) * 60\n",
        "    elif 'm' in duration:\n",
        "        return int(duration.replace('m', ''))\n",
        "    else:\n",
        "        return 0\n",
        "\n",
        "# Áp dụng hàm xử lý cho cột \"Duration\"\n",
        "df['Duration_minutes'] = df['Duration'].apply(convert_duration_to_minutes)\n",
        "\n",
        "# Hiển thị kết quả\n",
        "print(df[['Duration', 'Duration_minutes']])\n"
      ]
    },
    {
      "cell_type": "markdown",
      "metadata": {
        "id": "BbeW51Tio1pr"
      },
      "source": [
        "## Xử lí Arival-Time thành Arival-Time (định dạng giờ)"
      ]
    },
    {
      "cell_type": "code",
      "execution_count": null,
      "metadata": {
        "colab": {
          "base_uri": "https://localhost:8080/",
          "height": 206
        },
        "id": "bCclsGIIo8-8",
        "outputId": "90894ac5-416e-4021-9433-437df1c1ae94"
      },
      "outputs": [
        {
          "name": "stderr",
          "output_type": "stream",
          "text": [
            "C:\\Users\\Vanniee\\AppData\\Local\\Temp\\ipykernel_1312\\1920617473.py:1: UserWarning: Could not infer format, so each element will be parsed individually, falling back to `dateutil`. To ensure parsing is consistent and as-expected, please specify a format.\n",
            "  merged_data['Arrival_Time'] = pd.to_datetime(merged_data['Arrival_Time']).dt.strftime('%I:%M')\n"
          ]
        },
        {
          "data": {
            "text/html": [
              "<div>\n",
              "<style scoped>\n",
              "    .dataframe tbody tr th:only-of-type {\n",
              "        vertical-align: middle;\n",
              "    }\n",
              "\n",
              "    .dataframe tbody tr th {\n",
              "        vertical-align: top;\n",
              "    }\n",
              "\n",
              "    .dataframe thead th {\n",
              "        text-align: right;\n",
              "    }\n",
              "</style>\n",
              "<table border=\"1\" class=\"dataframe\">\n",
              "  <thead>\n",
              "    <tr style=\"text-align: right;\">\n",
              "      <th></th>\n",
              "      <th>Airline</th>\n",
              "      <th>Date_of_Journey</th>\n",
              "      <th>Source</th>\n",
              "      <th>Destination</th>\n",
              "      <th>Route</th>\n",
              "      <th>Dep_Time</th>\n",
              "      <th>Arrival_Time</th>\n",
              "      <th>Duration</th>\n",
              "      <th>Total_Stops</th>\n",
              "      <th>Additional_Info</th>\n",
              "      <th>Price</th>\n",
              "    </tr>\n",
              "  </thead>\n",
              "  <tbody>\n",
              "    <tr>\n",
              "      <th>0</th>\n",
              "      <td>IndiGo</td>\n",
              "      <td>24/03/2019</td>\n",
              "      <td>Banglore</td>\n",
              "      <td>New Delhi</td>\n",
              "      <td>BLR → DEL</td>\n",
              "      <td>22:20</td>\n",
              "      <td>01:10</td>\n",
              "      <td>170</td>\n",
              "      <td>non-stop</td>\n",
              "      <td>No info</td>\n",
              "      <td>3897</td>\n",
              "    </tr>\n",
              "    <tr>\n",
              "      <th>1</th>\n",
              "      <td>Air India</td>\n",
              "      <td>1/05/2019</td>\n",
              "      <td>Kolkata</td>\n",
              "      <td>Banglore</td>\n",
              "      <td>CCU → IXR → BBI → BLR</td>\n",
              "      <td>05:50</td>\n",
              "      <td>01:15</td>\n",
              "      <td>445</td>\n",
              "      <td>2 stops</td>\n",
              "      <td>No info</td>\n",
              "      <td>7662</td>\n",
              "    </tr>\n",
              "    <tr>\n",
              "      <th>2</th>\n",
              "      <td>Jet Airways</td>\n",
              "      <td>9/06/2019</td>\n",
              "      <td>Delhi</td>\n",
              "      <td>Cochin</td>\n",
              "      <td>DEL → LKO → BOM → COK</td>\n",
              "      <td>09:25</td>\n",
              "      <td>04:25</td>\n",
              "      <td>1140</td>\n",
              "      <td>2 stops</td>\n",
              "      <td>No info</td>\n",
              "      <td>13882</td>\n",
              "    </tr>\n",
              "    <tr>\n",
              "      <th>3</th>\n",
              "      <td>IndiGo</td>\n",
              "      <td>12/05/2019</td>\n",
              "      <td>Kolkata</td>\n",
              "      <td>Banglore</td>\n",
              "      <td>CCU → NAG → BLR</td>\n",
              "      <td>18:05</td>\n",
              "      <td>11:30</td>\n",
              "      <td>325</td>\n",
              "      <td>1 stop</td>\n",
              "      <td>No info</td>\n",
              "      <td>6218</td>\n",
              "    </tr>\n",
              "    <tr>\n",
              "      <th>4</th>\n",
              "      <td>IndiGo</td>\n",
              "      <td>01/03/2019</td>\n",
              "      <td>Banglore</td>\n",
              "      <td>New Delhi</td>\n",
              "      <td>BLR → NAG → DEL</td>\n",
              "      <td>16:50</td>\n",
              "      <td>09:35</td>\n",
              "      <td>285</td>\n",
              "      <td>1 stop</td>\n",
              "      <td>No info</td>\n",
              "      <td>13302</td>\n",
              "    </tr>\n",
              "  </tbody>\n",
              "</table>\n",
              "</div>"
            ],
            "text/plain": [
              "       Airline Date_of_Journey    Source Destination                  Route  \\\n",
              "0       IndiGo      24/03/2019  Banglore   New Delhi              BLR → DEL   \n",
              "1    Air India       1/05/2019   Kolkata    Banglore  CCU → IXR → BBI → BLR   \n",
              "2  Jet Airways       9/06/2019     Delhi      Cochin  DEL → LKO → BOM → COK   \n",
              "3       IndiGo      12/05/2019   Kolkata    Banglore        CCU → NAG → BLR   \n",
              "4       IndiGo      01/03/2019  Banglore   New Delhi        BLR → NAG → DEL   \n",
              "\n",
              "  Dep_Time Arrival_Time  Duration Total_Stops Additional_Info  Price  \n",
              "0    22:20        01:10       170    non-stop         No info   3897  \n",
              "1    05:50        01:15       445     2 stops         No info   7662  \n",
              "2    09:25        04:25      1140     2 stops         No info  13882  \n",
              "3    18:05        11:30       325      1 stop         No info   6218  \n",
              "4    16:50        09:35       285      1 stop         No info  13302  "
            ]
          },
          "execution_count": 24,
          "metadata": {},
          "output_type": "execute_result"
        }
      ],
      "source": [
        "df['Arrival_Time'] = pd.to_datetime(df['Arrival_Time']).dt.strftime('%I:%M')\n",
        "df.head()"
      ]
    },
    {
      "cell_type": "markdown",
      "metadata": {
        "id": "CKid8wx1jh5i"
      },
      "source": [
        "#Visualize dữ liệu dạng bảng hoặc đồ thị:"
      ]
    },
    {
      "cell_type": "markdown",
      "metadata": {
        "id": "U_J3L4lhj3uA"
      },
      "source": [
        "##1. Giá vé tăng khi nào?"
      ]
    },
    {
      "cell_type": "code",
      "execution_count": null,
      "metadata": {
        "id": "qtZwzjbljg7v"
      },
      "outputs": [],
      "source": []
    },
    {
      "cell_type": "markdown",
      "metadata": {
        "id": "Bh9xEu8gjg2S"
      },
      "source": [
        "\n",
        "##2. So sánh tỷ lệ các chuyến bay thẳng và trung chuyển (có dừng)"
      ]
    },
    {
      "cell_type": "code",
      "execution_count": null,
      "metadata": {
        "id": "jd35QbgAj4g1"
      },
      "outputs": [],
      "source": []
    },
    {
      "cell_type": "markdown",
      "metadata": {
        "id": "nEHNxMrMj6eh"
      },
      "source": [
        "\n",
        "##3. Nước nào có lượng chuyến bay nhiều nhất?"
      ]
    },
    {
      "cell_type": "code",
      "execution_count": null,
      "metadata": {
        "id": "kCxj2oSUjgwq"
      },
      "outputs": [],
      "source": []
    },
    {
      "cell_type": "markdown",
      "metadata": {
        "id": "0H-Bz7iyjgqn"
      },
      "source": [
        "\n",
        "##4. Hãng máy bay nào được khách đặt vé nhiều/thấp nhất?"
      ]
    },
    {
      "cell_type": "code",
      "execution_count": null,
      "metadata": {
        "id": "oS3tS04fjgfu"
      },
      "outputs": [],
      "source": []
    },
    {
      "cell_type": "markdown",
      "metadata": {
        "id": "-fyOynarjgWd"
      },
      "source": [
        "\n",
        "##5. Tháng nào là tháng cao điểm"
      ]
    },
    {
      "cell_type": "code",
      "execution_count": null,
      "metadata": {
        "id": "v9qoLUX-j9tQ"
      },
      "outputs": [],
      "source": []
    },
    {
      "cell_type": "markdown",
      "metadata": {
        "id": "H2UC1q6gjrw8"
      },
      "source": [
        "\n",
        "##6. Giá có thay đổi tùy theo hãng hàng không hay không?"
      ]
    },
    {
      "cell_type": "code",
      "execution_count": null,
      "metadata": {
        "id": "AoZ7njXTj-Id"
      },
      "outputs": [
        {
          "name": "stdout",
          "output_type": "stream",
          "text": [
            "Airline\n",
            "Trujet                                4140.000000\n",
            "SpiceJet                              4338.284841\n",
            "Air Asia                              5590.260188\n",
            "IndiGo                                5673.682903\n",
            "GoAir                                 5861.056701\n",
            "Vistara                               7796.348643\n",
            "Vistara Premium economy               8962.333333\n",
            "Air India                             9612.427756\n",
            "Multiple carriers                    10902.678094\n",
            "Multiple carriers Premium economy    11418.846154\n",
            "Jet Airways                          11644.595325\n",
            "Jet Airways Business                 58358.666667\n",
            "Name: Price, dtype: float64\n"
          ]
        }
      ],
      "source": [
        "avg_price_by_airline = df.groupby('Airline')['Price'].mean().sort_values()\n",
        "print(avg_price_by_airline)\n"
      ]
    },
    {
      "cell_type": "code",
      "execution_count": null,
      "metadata": {},
      "outputs": [
        {
          "name": "stderr",
          "output_type": "stream",
          "text": [
            "C:\\Users\\Vanniee\\AppData\\Local\\Temp\\ipykernel_1312\\4142057488.py:6: FutureWarning: \n",
            "\n",
            "The `ci` parameter is deprecated. Use `errorbar=None` for the same effect.\n",
            "\n",
            "  sns.barplot(x='Airline', y='Price', data=df, ci=None)\n"
          ]
        },
        {
          "data": {
            "image/png": "[encoded data removed]",
            "text/plain": [
              "<Figure size 1400x600 with 1 Axes>"
            ]
          },
          "metadata": {},
          "output_type": "display_data"
        }
      ],
      "source": [
        "import matplotlib.pyplot as plt\n",
        "import seaborn as sns\n",
        "\n",
        "\n",
        "plt.figure(figsize=(14, 6))\n",
        "sns.barplot(x='Airline', y='Price', data=df, ci=None)\n",
        "plt.xticks(rotation=45, ha='right')\n",
        "plt.title('Giá vé trung bình theo hãng hàng không')\n",
        "plt.show()"
      ]
    },
    {
      "cell_type": "markdown",
      "metadata": {
        "id": "Cam1c1NEjs7f"
      },
      "source": [
        "\n",
        "##7. Giá vé bị ảnh hưởng như thế nào khi mua vé chỉ 1 hoặc 2 ngày trước ngày khởi hành?"
      ]
    },
    {
      "cell_type": "code",
      "execution_count": null,
      "metadata": {
        "id": "OVEYqVmIkAv7"
      },
      "outputs": [],
      "source": []
    },
    {
      "cell_type": "markdown",
      "metadata": {
        "id": "lTSJgekIkBK5"
      },
      "source": [
        "\n",
        "##8. Giá vé có thay đổi theo thời gian đi và đến không?"
      ]
    },
    {
      "cell_type": "code",
      "execution_count": null,
      "metadata": {
        "id": "MKMro1MXkDSn"
      },
      "outputs": [],
      "source": []
    },
    {
      "cell_type": "markdown",
      "metadata": {
        "id": "OFsEYbJKkCt-"
      },
      "source": [
        "\n",
        "##9. Giá thay đổi như thế nào khi thay đổi Nguồn và Điểm đến?"
      ]
    },
    {
      "cell_type": "code",
      "execution_count": null,
      "metadata": {
        "id": "sjUEr8N0kD2G"
      },
      "outputs": [],
      "source": []
    },
    {
      "cell_type": "markdown",
      "metadata": {
        "id": "81TSM4H2kRd_"
      },
      "source": [
        "#Kết luận các điểm chính quan sát được từ dữ liệu từ các gợi ý trên\n"
      ]
    },
    {
      "cell_type": "code",
      "execution_count": null,
      "metadata": {
        "id": "TRszty31kUaU"
      },
      "outputs": [],
      "source": []
    },
    {
      "cell_type": "markdown",
      "metadata": {
        "id": "1EcepcBgkUrV"
      },
      "source": [
        "#Ngoài các đặc trưng trong tập dữ liệu, các yếu tố nào có khả năng ảnh hưởng đến giá vé chuyến bay?\n",
        "\n"
      ]
    },
    {
      "cell_type": "code",
      "execution_count": null,
      "metadata": {},
      "outputs": [],
      "source": []
    },
    {
      "cell_type": "markdown",
      "metadata": {
        "id": "SG774ceGkWfN"
      },
      "source": [
        "#Dự đoán giá vé"
      ]
    },
    {
      "cell_type": "code",
      "execution_count": null,
      "metadata": {},
      "outputs": [],
      "source": []
    }
  ],
  "metadata": {
    "colab": {
      "provenance": []
    },
    "kernelspec": {
      "display_name": "Python 3",
      "name": "python3"
    },
    "language_info": {
      "codemirror_mode": {
        "name": "ipython",
        "version": 3
      },
      "file_extension": ".py",
      "mimetype": "text/x-python",
      "name": "python",
      "nbconvert_exporter": "python",
      "pygments_lexer": "ipython3",
      "version": "3.9.0"
    }
  },
  "nbformat": 4,
  "nbformat_minor": 0
}
