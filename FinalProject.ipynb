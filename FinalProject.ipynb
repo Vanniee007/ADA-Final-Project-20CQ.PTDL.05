{
  "nbformat": 4,
  "nbformat_minor": 0,
  "metadata": {
    "colab": {
      "provenance": [],
      "authorship_tag": "ABX9TyMwj5cU4R8/xBUxAA1OG6WE",
      "include_colab_link": true
    },
    "kernelspec": {
      "name": "python3",
      "display_name": "Python 3"
    },
    "language_info": {
      "name": "python"
    }
  },
  "cells": [
    {
      "cell_type": "markdown",
      "metadata": {
        "id": "view-in-github",
        "colab_type": "text"
      },
      "source": [
        "<a href=\"https://colab.research.google.com/github/Vanniee007/ADA-Final-Project-20CQ.PTDL.05/blob/main/FinalProject.ipynb\" target=\"_parent\"><img src=\"https://colab.research.google.com/assets/colab-badge.svg\" alt=\"Open In Colab\"/></a>"
      ]
    },
    {
      "cell_type": "markdown",
      "source": [
        "#**Thông tin nhóm**\n",
        "##Mã nhóm: 20CQ.PTDL.05\n",
        "##Danh sách thành viên:\n",
        "*   20120466 - Trần Thị Thu Hà\n",
        "*   20120592 - Lê Minh Tiến\n",
        "*   20120595 - Phạm Minh Tiến\n",
        "*   20120624 - Mai Quyết Vang\n",
        "\n"
      ],
      "metadata": {
        "id": "sJPyJasjhvPu"
      }
    },
    {
      "cell_type": "markdown",
      "source": [
        "#Thêm thư viện cần thiết"
      ],
      "metadata": {
        "id": "xmmwOqTqiUsP"
      }
    },
    {
      "cell_type": "code",
      "source": [
        "import pandas as pd"
      ],
      "metadata": {
        "id": "Yn648mWciUV3"
      },
      "execution_count": 2,
      "outputs": []
    },
    {
      "cell_type": "markdown",
      "source": [
        "Load dữ liệu"
      ],
      "metadata": {
        "id": "aQfzbAAYiaFa"
      }
    },
    {
      "cell_type": "code",
      "source": [
        "link_p1 = \"https://raw.githubusercontent.com/Vanniee007/ADA-Final-Project-20CQ.PTDL.05/main/data/Data_Train_p1.xlsx\"\n",
        "link_p2 = \"https://raw.githubusercontent.com/Vanniee007/ADA-Final-Project-20CQ.PTDL.05/main/data/Data_Train_p2.xlsx\"\n"
      ],
      "metadata": {
        "id": "2x-m0OgQiZYZ"
      },
      "execution_count": 5,
      "outputs": []
    },
    {
      "cell_type": "code",
      "source": [
        "# Đọc dữ liệu từ file Excel\n",
        "Data_Train_p1 = pd.read_excel(link_p1)\n",
        "Data_Train_p2 = pd.read_excel(link_p2)\n",
        "\n",
        "# Ghép nối hai DataFrame\n",
        "merged_data = pd.concat([Data_Train_p1, Data_Train_p2], ignore_index=True)"
      ],
      "metadata": {
        "id": "ExOwxc46ijXC"
      },
      "execution_count": 8,
      "outputs": []
    },
    {
      "cell_type": "markdown",
      "source": [
        "#Quan sát và phân tích tập dữ liệu (EDA)\n"
      ],
      "metadata": {
        "id": "bu1MvQZViMbq"
      }
    },
    {
      "cell_type": "markdown",
      "source": [
        "##1. Cho biết kiểu dữ liệu của các thuộc tính\n"
      ],
      "metadata": {
        "id": "Jxj0fMjVjPkx"
      }
    },
    {
      "cell_type": "code",
      "source": [
        "# Hiển thị thông tin về DataFrame\n",
        "merged_data.info()"
      ],
      "metadata": {
        "colab": {
          "base_uri": "https://localhost:8080/"
        },
        "id": "vmISeFXniMNF",
        "outputId": "838ee3ee-71d2-422b-deda-7e2a53a2bcd6"
      },
      "execution_count": 7,
      "outputs": [
        {
          "output_type": "stream",
          "name": "stdout",
          "text": [
            "<class 'pandas.core.frame.DataFrame'>\n",
            "RangeIndex: 10684 entries, 0 to 10683\n",
            "Data columns (total 11 columns):\n",
            " #   Column           Non-Null Count  Dtype \n",
            "---  ------           --------------  ----- \n",
            " 0   Airline          10684 non-null  object\n",
            " 1   Date_of_Journey  10684 non-null  object\n",
            " 2   Source           10684 non-null  object\n",
            " 3   Destination      10684 non-null  object\n",
            " 4   Route            10683 non-null  object\n",
            " 5   Dep_Time         10684 non-null  object\n",
            " 6   Arrival_Time     10684 non-null  object\n",
            " 7   Duration         10684 non-null  object\n",
            " 8   Total_Stops      10683 non-null  object\n",
            " 9   Additional_Info  10684 non-null  object\n",
            " 10  Price            10684 non-null  int64 \n",
            "dtypes: int64(1), object(10)\n",
            "memory usage: 918.3+ KB\n"
          ]
        }
      ]
    },
    {
      "cell_type": "markdown",
      "source": [
        "##2. Đối với cột Price, cho biết:\n",
        "\n",
        "\n",
        "*   Giá cao nhất, thấp nhất, giá trung bình, mức giá xuất hiện nhiều\n",
        "*   Độ lệch chuẩn của cột price?\n",
        "*   Cho biết giá phân phối xung quanh trung tâm hay cách xa trung tâm?\n",
        "Nhận xét về giá trị mean và median của tập dữ liệu.\n",
        "*   Vẽ đồ thị histogram để nhận xét dữ liệu có bị lệch không?\n",
        "List item\n",
        "\n",
        "\n",
        "\n"
      ],
      "metadata": {
        "id": "w7cO6qzbjRjD"
      }
    },
    {
      "cell_type": "code",
      "execution_count": null,
      "metadata": {
        "id": "WQVwrfsjhSCt"
      },
      "outputs": [],
      "source": []
    },
    {
      "cell_type": "markdown",
      "source": [
        "##3. Mô tả số lượng missing value của mỗi thuộc tính\n"
      ],
      "metadata": {
        "id": "DKUyi_sejbzM"
      }
    },
    {
      "cell_type": "code",
      "source": [],
      "metadata": {
        "id": "usdDtNQJjiw4"
      },
      "execution_count": null,
      "outputs": []
    },
    {
      "cell_type": "markdown",
      "source": [
        "##4. Tính tỷ lệ % missing value của mỗi thuộc tính\n"
      ],
      "metadata": {
        "id": "2PSCkjffjiql"
      }
    },
    {
      "cell_type": "code",
      "source": [],
      "metadata": {
        "id": "7O1Hxw_Ujilf"
      },
      "execution_count": null,
      "outputs": []
    },
    {
      "cell_type": "markdown",
      "source": [
        "##5. Xử lý dữ liệu missing\n"
      ],
      "metadata": {
        "id": "6IGs1CNxjiey"
      }
    },
    {
      "cell_type": "code",
      "source": [],
      "metadata": {
        "id": "O0Q-3ptmjjve"
      },
      "execution_count": null,
      "outputs": []
    },
    {
      "cell_type": "markdown",
      "source": [
        "##6. Outlier: sử dụng đồ thị boxplot để quan sát cột Price có tồn tại outlier không?"
      ],
      "metadata": {
        "id": "sx0Rpg49jfu_"
      }
    },
    {
      "cell_type": "code",
      "source": [],
      "metadata": {
        "id": "cTZ1IeMWjgKM"
      },
      "execution_count": null,
      "outputs": []
    },
    {
      "cell_type": "markdown",
      "source": [
        "#Visualize dữ liệu dạng bảng hoặc đồ thị:"
      ],
      "metadata": {
        "id": "CKid8wx1jh5i"
      }
    },
    {
      "cell_type": "markdown",
      "source": [
        "##1. Giá vé tăng khi nào?"
      ],
      "metadata": {
        "id": "U_J3L4lhj3uA"
      }
    },
    {
      "cell_type": "code",
      "source": [],
      "metadata": {
        "id": "qtZwzjbljg7v"
      },
      "execution_count": null,
      "outputs": []
    },
    {
      "cell_type": "markdown",
      "source": [
        "\n",
        "##2. So sánh tỷ lệ các chuyến bay thẳng và trung chuyển (có dừng)"
      ],
      "metadata": {
        "id": "Bh9xEu8gjg2S"
      }
    },
    {
      "cell_type": "code",
      "source": [],
      "metadata": {
        "id": "jd35QbgAj4g1"
      },
      "execution_count": null,
      "outputs": []
    },
    {
      "cell_type": "markdown",
      "source": [
        "\n",
        "##3. Nước nào có lượng chuyến bay nhiều nhất?"
      ],
      "metadata": {
        "id": "nEHNxMrMj6eh"
      }
    },
    {
      "cell_type": "code",
      "source": [],
      "metadata": {
        "id": "kCxj2oSUjgwq"
      },
      "execution_count": null,
      "outputs": []
    },
    {
      "cell_type": "markdown",
      "source": [
        "\n",
        "##4. Hãng máy bay nào được khách đặt vé nhiều/thấp nhất?"
      ],
      "metadata": {
        "id": "0H-Bz7iyjgqn"
      }
    },
    {
      "cell_type": "code",
      "source": [],
      "metadata": {
        "id": "oS3tS04fjgfu"
      },
      "execution_count": null,
      "outputs": []
    },
    {
      "cell_type": "markdown",
      "source": [
        "\n",
        "##5. Tháng nào là tháng cao điểm"
      ],
      "metadata": {
        "id": "-fyOynarjgWd"
      }
    },
    {
      "cell_type": "code",
      "source": [],
      "metadata": {
        "id": "v9qoLUX-j9tQ"
      },
      "execution_count": null,
      "outputs": []
    },
    {
      "cell_type": "markdown",
      "source": [
        "\n",
        "##6. Giá có thay đổi tùy theo hãng hàng không hay không?"
      ],
      "metadata": {
        "id": "H2UC1q6gjrw8"
      }
    },
    {
      "cell_type": "code",
      "source": [],
      "metadata": {
        "id": "AoZ7njXTj-Id"
      },
      "execution_count": null,
      "outputs": []
    },
    {
      "cell_type": "markdown",
      "source": [
        "\n",
        "##7. Giá vé bị ảnh hưởng như thế nào khi mua vé chỉ 1 hoặc 2 ngày trước ngày khởi hành?"
      ],
      "metadata": {
        "id": "Cam1c1NEjs7f"
      }
    },
    {
      "cell_type": "code",
      "source": [],
      "metadata": {
        "id": "OVEYqVmIkAv7"
      },
      "execution_count": null,
      "outputs": []
    },
    {
      "cell_type": "markdown",
      "source": [
        "\n",
        "##8. Giá vé có thay đổi theo thời gian đi và đến không?"
      ],
      "metadata": {
        "id": "lTSJgekIkBK5"
      }
    },
    {
      "cell_type": "code",
      "source": [],
      "metadata": {
        "id": "MKMro1MXkDSn"
      },
      "execution_count": null,
      "outputs": []
    },
    {
      "cell_type": "markdown",
      "source": [
        "\n",
        "##9. Giá thay đổi như thế nào khi thay đổi Nguồn và Điểm đến?"
      ],
      "metadata": {
        "id": "OFsEYbJKkCt-"
      }
    },
    {
      "cell_type": "code",
      "source": [],
      "metadata": {
        "id": "sjUEr8N0kD2G"
      },
      "execution_count": null,
      "outputs": []
    },
    {
      "cell_type": "markdown",
      "source": [
        "#Kết luận các điểm chính quan sát được từ dữ liệu từ các gợi ý trên\n"
      ],
      "metadata": {
        "id": "81TSM4H2kRd_"
      }
    },
    {
      "cell_type": "code",
      "source": [],
      "metadata": {
        "id": "TRszty31kUaU"
      },
      "execution_count": null,
      "outputs": []
    },
    {
      "cell_type": "markdown",
      "source": [
        "#Ngoài các đặc trưng trong tập dữ liệu, các yếu tố nào có khả năng ảnh hưởng đến giá vé chuyến bay?\n",
        "\n"
      ],
      "metadata": {
        "id": "1EcepcBgkUrV"
      }
    },
    {
      "cell_type": "markdown",
      "source": [],
      "metadata": {
        "id": "okje49idkdyy"
      }
    },
    {
      "cell_type": "markdown",
      "source": [
        "#Dự đoán giá vé"
      ],
      "metadata": {
        "id": "SG774ceGkWfN"
      }
    },
    {
      "cell_type": "markdown",
      "source": [],
      "metadata": {
        "id": "u6zxfmMrkebS"
      }
    }
  ]
}